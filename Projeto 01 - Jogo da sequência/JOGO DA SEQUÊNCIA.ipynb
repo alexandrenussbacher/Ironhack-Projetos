{
 "cells": [
  {
   "cell_type": "markdown",
   "metadata": {},
   "source": [
    "# JOGO DA SEQUÊNCIA"
   ]
  },
  {
   "cell_type": "code",
   "execution_count": 15,
   "metadata": {
    "ExecuteTime": {
     "end_time": "2020-11-04T02:51:34.629315Z",
     "start_time": "2020-11-04T02:51:34.620190Z"
    }
   },
   "outputs": [],
   "source": [
    "import random\n",
    "import time\n",
    "from IPython.display import clear_output"
   ]
  },
  {
   "cell_type": "code",
   "execution_count": 16,
   "metadata": {
    "ExecuteTime": {
     "end_time": "2020-11-04T02:51:35.090541Z",
     "start_time": "2020-11-04T02:51:35.081573Z"
    }
   },
   "outputs": [],
   "source": [
    "lista_jogo=[]"
   ]
  },
  {
   "cell_type": "code",
   "execution_count": 17,
   "metadata": {
    "ExecuteTime": {
     "end_time": "2020-11-04T02:51:35.349504Z",
     "start_time": "2020-11-04T02:51:35.344112Z"
    }
   },
   "outputs": [],
   "source": [
    "def rodada():\n",
    "    lista_jogo.append(random.choice(range(1,5)))\n",
    "    print(f\"---------------------------------------\\nSequencia:{lista_jogo}\")"
   ]
  },
  {
   "cell_type": "code",
   "execution_count": 18,
   "metadata": {
    "ExecuteTime": {
     "end_time": "2020-11-04T02:51:35.529713Z",
     "start_time": "2020-11-04T02:51:35.523951Z"
    }
   },
   "outputs": [],
   "source": [
    "def tentativa():\n",
    "    try:\n",
    "        jogada_usuario=int(input(\"Digite a sequencia de numeros sem espaço: \"))\n",
    "        return jogada_usuario\n",
    "    except:\n",
    "        print(\"\\nDigite apenas numeros!\\n\")\n",
    "        return tentativa()"
   ]
  },
  {
   "cell_type": "code",
   "execution_count": 19,
   "metadata": {
    "ExecuteTime": {
     "end_time": "2020-11-04T02:51:35.696242Z",
     "start_time": "2020-11-04T02:51:35.692994Z"
    }
   },
   "outputs": [],
   "source": [
    "lista_usuario=[]"
   ]
  },
  {
   "cell_type": "code",
   "execution_count": 20,
   "metadata": {
    "ExecuteTime": {
     "end_time": "2020-11-04T02:51:35.855234Z",
     "start_time": "2020-11-04T02:51:35.848549Z"
    }
   },
   "outputs": [],
   "source": [
    "def jogada():\n",
    "    lista_usuario.clear()\n",
    "    jogada_usuario=tentativa()\n",
    "    for i in str(jogada_usuario):\n",
    "        lista_usuario.append(int(i))\n",
    "    print(f\"\\n{lista_usuario}\")\n",
    "    if lista_jogo==lista_usuario:\n",
    "        print(\"\\nCorreto!\")\n",
    "    else:\n",
    "        print(\"\\nGame Over\")"
   ]
  },
  {
   "cell_type": "code",
   "execution_count": 21,
   "metadata": {
    "ExecuteTime": {
     "end_time": "2020-11-04T02:51:57.365399Z",
     "start_time": "2020-11-04T02:51:36.457869Z"
    }
   },
   "outputs": [
    {
     "name": "stdout",
     "output_type": "stream",
     "text": [
      "Digite a sequencia de numeros sem espaço: 1\n",
      "\n",
      "[1]\n",
      "\n",
      "Game Over\n",
      "\n",
      "Resposta correta: [3, 3, 3, 3, 2]\n",
      "\n",
      "Pontos: 4\n"
     ]
    }
   ],
   "source": [
    "t=1\n",
    "pontos=0\n",
    "print(\"Bem vindo ao jogo da sequencia!\")\n",
    "input(\"Digite qualquer caractere para jogar: \")\n",
    "while lista_jogo==lista_usuario:\n",
    "    rodada()\n",
    "    time.sleep(t+0.5)\n",
    "    clear_output()\n",
    "    jogada()\n",
    "    t+=0.5\n",
    "    pontos+=1\n",
    "    if lista_jogo==lista_usuario:\n",
    "        print(f\"\\nPontos: {pontos}\\n\")\n",
    "    else:\n",
    "        print(f\"\\nResposta correta: {lista_jogo}\")\n",
    "        print(f\"\\nPontos: {pontos-1}\")"
   ]
  },
  {
   "cell_type": "code",
   "execution_count": null,
   "metadata": {},
   "outputs": [],
   "source": []
  }
 ],
 "metadata": {
  "hide_input": false,
  "kernelspec": {
   "display_name": "Python 3",
   "language": "python",
   "name": "python3"
  },
  "language_info": {
   "codemirror_mode": {
    "name": "ipython",
    "version": 3
   },
   "file_extension": ".py",
   "mimetype": "text/x-python",
   "name": "python",
   "nbconvert_exporter": "python",
   "pygments_lexer": "ipython3",
   "version": "3.8.2"
  },
  "toc": {
   "base_numbering": 1,
   "nav_menu": {},
   "number_sections": true,
   "sideBar": true,
   "skip_h1_title": false,
   "title_cell": "Table of Contents",
   "title_sidebar": "Contents",
   "toc_cell": false,
   "toc_position": {},
   "toc_section_display": true,
   "toc_window_display": false
  },
  "varInspector": {
   "cols": {
    "lenName": 16,
    "lenType": 16,
    "lenVar": 40
   },
   "kernels_config": {
    "python": {
     "delete_cmd_postfix": "",
     "delete_cmd_prefix": "del ",
     "library": "var_list.py",
     "varRefreshCmd": "print(var_dic_list())"
    },
    "r": {
     "delete_cmd_postfix": ") ",
     "delete_cmd_prefix": "rm(",
     "library": "var_list.r",
     "varRefreshCmd": "cat(var_dic_list()) "
    }
   },
   "types_to_exclude": [
    "module",
    "function",
    "builtin_function_or_method",
    "instance",
    "_Feature"
   ],
   "window_display": false
  }
 },
 "nbformat": 4,
 "nbformat_minor": 4
}
