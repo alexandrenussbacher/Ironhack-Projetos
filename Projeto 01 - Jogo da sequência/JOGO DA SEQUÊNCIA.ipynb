{
 "cells": [
  {
   "cell_type": "markdown",
   "metadata": {},
   "source": [
    "# JOGO DA SEQUÊNCIA"
   ]
  },
  {
   "cell_type": "code",
   "execution_count": 1,
   "metadata": {
    "ExecuteTime": {
     "end_time": "2021-01-15T22:45:54.882617Z",
     "start_time": "2021-01-15T22:45:54.871499Z"
    }
   },
   "outputs": [],
   "source": [
    "# importando as bibliotecas\n",
    "import random\n",
    "import time\n",
    "from IPython.display import clear_output"
   ]
  },
  {
   "cell_type": "code",
   "execution_count": 2,
   "metadata": {
    "ExecuteTime": {
     "end_time": "2021-01-15T22:45:54.898809Z",
     "start_time": "2021-01-15T22:45:54.886914Z"
    }
   },
   "outputs": [],
   "source": [
    "# criando uma classe com funções do jogo\n",
    "class Jogo:\n",
    "    \n",
    "    # criando uma lista vazia que será preenchida com números aleatórios (de 1 a 4) conforme o usuário acerta a sequência\n",
    "    lista_jogo=[]\n",
    "    \n",
    "    # criando uma lista vazia que será preenchida pelo usuário\n",
    "    lista_usuario=[]\n",
    "    \n",
    "    def rodada():\n",
    "        \n",
    "        \"\"\"Função que mostra na tela a lista criada preenchida com os números a serem memorizados pelo usuário\n",
    "        \"\"\"        \n",
    "        \n",
    "        Jogo.lista_jogo.append(random.choice(range(1,5)))\n",
    "        print(f\"---------------------------------------\\nSequencia:{Jogo.lista_jogo}\")\n",
    "    \n",
    "    def tentativa():\n",
    "        \n",
    "        \"\"\"Função que retorna a sequência numérica digitada pelo usuário\n",
    "        \"\"\"\n",
    "        \n",
    "        # caso o usuário digite uma sequência numérica, o jogo segue\n",
    "        try:\n",
    "            jogada_usuario=int(input(\"Digite a sequência de números sem espaço: \"))\n",
    "            return jogada_usuario\n",
    "        \n",
    "        # caso contrário, o usuário deve digitar novamente\n",
    "        except:\n",
    "            print(\"\\nDigite apenas números!\\n\")\n",
    "            return Jogo.tentativa()   \n",
    "    \n",
    "    def jogada():\n",
    "        \n",
    "        \"\"\"Função que roda a jogada do usuário\n",
    "        \"\"\"\n",
    "        \n",
    "        # limpando a lista digitada pelo usuário\n",
    "        Jogo.lista_usuario.clear()\n",
    "        \n",
    "        # rodando a função em que o usuário digita a sequência de números\n",
    "        jogada_usuario=Jogo.tentativa()\n",
    "        \n",
    "        # transformando a jogada do usuário em string para poder fazer o loop\n",
    "        for i in str(jogada_usuario):\n",
    "            \n",
    "            # adicionando à lista os valores preenchidos pelo usuário, transformando-os novamente em numéricos\n",
    "            Jogo.lista_usuario.append(int(i))\n",
    "            \n",
    "        print(f\"\\n{Jogo.lista_usuario}\")\n",
    "        \n",
    "        # exibindo na tela se o usuário está correto ou não\n",
    "        if Jogo.lista_jogo==Jogo.lista_usuario:\n",
    "            print(\"\\nCorreto!\")\n",
    "        else:\n",
    "            print(\"\\nGame Over\")"
   ]
  },
  {
   "cell_type": "code",
   "execution_count": 3,
   "metadata": {
    "ExecuteTime": {
     "end_time": "2021-01-15T22:45:54.911132Z",
     "start_time": "2021-01-15T22:45:54.902508Z"
    }
   },
   "outputs": [],
   "source": [
    "# definindo uma variável para a classe criada\n",
    "jogo=Jogo"
   ]
  },
  {
   "cell_type": "code",
   "execution_count": 4,
   "metadata": {
    "ExecuteTime": {
     "end_time": "2021-01-15T22:45:54.928315Z",
     "start_time": "2021-01-15T22:45:54.917337Z"
    }
   },
   "outputs": [],
   "source": [
    "def inicio():\n",
    "    \n",
    "    # limpando as duas listas\n",
    "    jogo.lista_jogo.clear()\n",
    "    jogo.lista_usuario.clear()\n",
    "    # criando uma variável para controlar o tempo\n",
    "    t=1.5\n",
    "    \n",
    "    # criando uma variável para contar os pontos\n",
    "    pontos=0\n",
    "    \n",
    "    # iniciando o jogo\n",
    "    print(\"Bem vindo ao jogo da sequência!\")\n",
    "    input(\"Digite qualquer caractere para jogar: \")\n",
    "    \n",
    "    # loop que faz o jogo seguir enquanto as duas listas forem iguais\n",
    "    while jogo.lista_jogo==jogo.lista_usuario:\n",
    "        \n",
    "        # rodando a função que mostra na tela a lista aleatória criada pelo computador\n",
    "        jogo.rodada()\n",
    "        \n",
    "        # exibindo na tela a lista criada conforme o tempo criado anteriormente\n",
    "        time.sleep(t)\n",
    "        \n",
    "        # limpando da tela a sequência criada pelo computador\n",
    "        clear_output()\n",
    "        \n",
    "        # rodando a função que permite o usuário a digitar a sequência\n",
    "        jogo.jogada()\n",
    "        \n",
    "        # adicionando meio segundo de tempo a cada rodada\n",
    "        t+=0.5\n",
    "        \n",
    "        # adicionando um ponto para o usuário, já que a condição desse loop é as listas serem iguais\n",
    "        pontos+=1\n",
    "        \n",
    "        # exibindo na tela os pontos do usuário\n",
    "        if jogo.lista_jogo==jogo.lista_usuario:\n",
    "            print(f\"\\nPontos: {pontos}\\n\")\n",
    "        else:\n",
    "            # exibindo na tela a sequência correta caso o usuário erre\n",
    "            print(f\"\\nResposta correta: {jogo.lista_jogo}\")\n",
    "            print(f\"\\nPontos: {pontos-1}\")"
   ]
  },
  {
   "cell_type": "code",
   "execution_count": 8,
   "metadata": {
    "ExecuteTime": {
     "end_time": "2021-01-15T22:48:29.839003Z",
     "start_time": "2021-01-15T22:48:27.356950Z"
    },
    "scrolled": false
   },
   "outputs": [
    {
     "name": "stdout",
     "output_type": "stream",
     "text": [
      "Digite a sequência de números sem espaço: 1\n",
      "\n",
      "[1]\n",
      "\n",
      "Game Over\n",
      "\n",
      "Resposta correta: [3]\n",
      "\n",
      "Pontos: 0\n"
     ]
    }
   ],
   "source": [
    "# rode essa célula para iniciar o jogo\n",
    "inicio()"
   ]
  },
  {
   "cell_type": "markdown",
   "metadata": {},
   "source": []
  }
 ],
 "metadata": {
  "hide_input": false,
  "kernelspec": {
   "display_name": "Python 3",
   "language": "python",
   "name": "python3"
  },
  "language_info": {
   "codemirror_mode": {
    "name": "ipython",
    "version": 3
   },
   "file_extension": ".py",
   "mimetype": "text/x-python",
   "name": "python",
   "nbconvert_exporter": "python",
   "pygments_lexer": "ipython3",
   "version": "3.8.2"
  },
  "toc": {
   "base_numbering": 1,
   "nav_menu": {},
   "number_sections": true,
   "sideBar": true,
   "skip_h1_title": false,
   "title_cell": "Table of Contents",
   "title_sidebar": "Contents",
   "toc_cell": false,
   "toc_position": {},
   "toc_section_display": true,
   "toc_window_display": true
  },
  "varInspector": {
   "cols": {
    "lenName": 16,
    "lenType": 16,
    "lenVar": 40
   },
   "kernels_config": {
    "python": {
     "delete_cmd_postfix": "",
     "delete_cmd_prefix": "del ",
     "library": "var_list.py",
     "varRefreshCmd": "print(var_dic_list())"
    },
    "r": {
     "delete_cmd_postfix": ") ",
     "delete_cmd_prefix": "rm(",
     "library": "var_list.r",
     "varRefreshCmd": "cat(var_dic_list()) "
    }
   },
   "types_to_exclude": [
    "module",
    "function",
    "builtin_function_or_method",
    "instance",
    "_Feature"
   ],
   "window_display": false
  }
 },
 "nbformat": 4,
 "nbformat_minor": 4
}
