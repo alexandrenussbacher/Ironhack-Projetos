{
 "cells": [
  {
   "cell_type": "code",
   "execution_count": 161,
   "metadata": {
    "ExecuteTime": {
     "end_time": "2020-11-16T17:08:23.213200Z",
     "start_time": "2020-11-16T17:08:23.196112Z"
    }
   },
   "outputs": [],
   "source": [
    "import requests\n",
    "import pandas as pd\n",
    "from bs4 import BeautifulSoup\n",
    "from selenium import webdriver\n",
    "from selenium.webdriver.common.by import By\n",
    "from selenium.webdriver.support.ui import WebDriverWait\n",
    "from selenium.webdriver.support import expected_conditions as EC\n",
    "from selenium.webdriver.common.action_chains import ActionChains\n",
    "from selenium.webdriver.chrome.options import Options\n",
    "import time\n",
    "import re\n",
    "\n",
    "##usar classe (otimizar o codigo)"
   ]
  },
  {
   "cell_type": "code",
   "execution_count": 33,
   "metadata": {
    "ExecuteTime": {
     "end_time": "2020-11-16T01:08:47.397751Z",
     "start_time": "2020-11-16T01:08:47.392429Z"
    }
   },
   "outputs": [],
   "source": [
    "chrome_options = Options()"
   ]
  },
  {
   "cell_type": "code",
   "execution_count": 66,
   "metadata": {
    "ExecuteTime": {
     "end_time": "2020-11-16T01:44:58.872821Z",
     "start_time": "2020-11-16T01:44:58.862032Z"
    }
   },
   "outputs": [],
   "source": [
    "class who_scored:\n",
    "    url_2018=\"https://1xbet.whoscored.com/Regions/31/Tournaments/95/Seasons/7243/Stages/15996/PlayerStatistics/Brazil-Brasileir%C3%A3o-2018\"\n",
    "    url_2019=\"https://1xbet.whoscored.com/Regions/31/Tournaments/95/Seasons/7683/Stages/17175/PlayerStatistics/Brazil-Brasileir%C3%A3o-2019\"\n",
    "    url_2020=\"https://1xbet.whoscored.com/Regions/31/Tournaments/95/Seasons/8158/Stages/18472/PlayerStatistics/Brazil-Brasileir%C3%A3o-2020\""
   ]
  },
  {
   "cell_type": "code",
   "execution_count": 3,
   "metadata": {
    "ExecuteTime": {
     "end_time": "2020-11-16T00:42:31.355011Z",
     "start_time": "2020-11-16T00:42:31.350258Z"
    }
   },
   "outputs": [],
   "source": [
    "url=\"https://1xbet.whoscored.com/Regions/31/Tournaments/95/Seasons/7683/Stages/17175/PlayerStatistics/Brazil-Brasileir%C3%A3o-2019\""
   ]
  },
  {
   "cell_type": "code",
   "execution_count": 104,
   "metadata": {
    "ExecuteTime": {
     "end_time": "2020-11-16T02:18:39.696698Z",
     "start_time": "2020-11-16T02:18:39.685718Z"
    }
   },
   "outputs": [],
   "source": [
    "def serieA_2018():\n",
    "    \n",
    "    import time\n",
    "    \n",
    "    url=\"https://1xbet.whoscored.com/Regions/31/Tournaments/95/Seasons/7243/Stages/15996/PlayerStatistics/Brazil-Brasileir%C3%A3o-2018\"\n",
    "    chrome_path=\"../chromedriver\"\n",
    "    driver=webdriver.Chrome(executable_path=chrome_path)\n",
    "    driver.get(url)\n",
    "    \n",
    "    botao_defensive=driver.find_element_by_xpath('//*[@id=\"stage-top-player-stats-options\"]/li[2]/a')\n",
    "    botao_defensive.click()\n",
    "    \n",
    "    df=pd.DataFrame()\n",
    "    \n",
    "    for i in range(37):\n",
    "        soup=BeautifulSoup(driver.page_source, \"lxml\")\n",
    "        tabela=soup.find_all(\"table\")[0]\n",
    "        data=[data.text.strip() for data in tabela.find_all(\"td\")]\n",
    "        colunas=[i.text for i in tabela.find_all(\"th\")]\n",
    "        numero_colunas=len(colunas)\n",
    "        numero_linhas=int(len(data)/numero_colunas)\n",
    "        df_temp=pd.DataFrame(np.array(data).reshape((numero_linhas, numero_colunas)), columns=colunas)\n",
    "        df=df.append(df_temp)\n",
    "        \n",
    "        time.sleep(0.8)\n",
    "        \n",
    "        botao_next=driver.find_element_by_xpath('/html/body/div[4]/div[5]/div[3]/div[4]/div/dl[2]/dd[3]/a')\n",
    "        botao_next.click()\n",
    "\n",
    "    return df"
   ]
  },
  {
   "cell_type": "code",
   "execution_count": null,
   "metadata": {},
   "outputs": [],
   "source": []
  },
  {
   "cell_type": "code",
   "execution_count": 135,
   "metadata": {
    "ExecuteTime": {
     "end_time": "2020-11-16T02:46:27.411484Z",
     "start_time": "2020-11-16T02:46:27.400210Z"
    }
   },
   "outputs": [],
   "source": [
    "def serieA_2019():\n",
    "    \n",
    "    import time\n",
    "    \n",
    "    url=\"https://1xbet.whoscored.com/Regions/31/Tournaments/95/Seasons/7683/Stages/17175/PlayerStatistics/Brazil-Brasileir%C3%A3o-2019\"\n",
    "    chrome_path=\"../chromedriver\"\n",
    "    driver=webdriver.Chrome(executable_path=chrome_path)\n",
    "    driver.get(url)\n",
    "    \n",
    "    botao_defensive=driver.find_element_by_xpath('//*[@id=\"stage-top-player-stats-options\"]/li[2]/a')\n",
    "    botao_defensive.click()\n",
    "    \n",
    "    df=pd.DataFrame()\n",
    "    \n",
    "    for i in range(36):\n",
    "        soup=BeautifulSoup(driver.page_source, \"lxml\")\n",
    "        tabela=soup.find_all(\"table\")[0]\n",
    "        data=[data.text.strip() for data in tabela.find_all(\"td\")]\n",
    "        colunas=[i.text for i in tabela.find_all(\"th\")]\n",
    "        numero_colunas=len(colunas)\n",
    "        numero_linhas=int(len(data)/numero_colunas)\n",
    "        df_temp=pd.DataFrame(np.array(data).reshape((numero_linhas, numero_colunas)), columns=colunas)\n",
    "        df=df.append(df_temp)\n",
    "        \n",
    "        time.sleep(1)\n",
    "        \n",
    "        botao_next=driver.find_element_by_xpath('/html/body/div[4]/div[5]/div[3]/div[4]/div/dl[2]/dd[3]/a')\n",
    "        botao_next.click()\n",
    "\n",
    "    return df"
   ]
  },
  {
   "cell_type": "code",
   "execution_count": 169,
   "metadata": {
    "ExecuteTime": {
     "end_time": "2020-11-16T17:16:50.597547Z",
     "start_time": "2020-11-16T17:16:50.588551Z"
    }
   },
   "outputs": [],
   "source": [
    "def serieA_2020():\n",
    "    \n",
    "    import time\n",
    "    \n",
    "    url=\"https://1xbet.whoscored.com/Regions/31/Tournaments/95/Seasons/8158/Stages/18472/PlayerStatistics/Brazil-Brasileir%C3%A3o-2020\"\n",
    "    chrome_path=\"../chromedriver\"\n",
    "    driver=webdriver.Chrome(executable_path=chrome_path)\n",
    "    driver.get(url)\n",
    "    \n",
    "    botao_passing=driver.find_element_by_xpath('/html/body/div[4]/div[5]/ul/li[4]/a')\n",
    "    botao_passing.click()\n",
    "\n",
    "    time.sleep(2)\n",
    "    \n",
    "    df=pd.DataFrame()\n",
    "    \n",
    "    for i in range(37):\n",
    "        soup=BeautifulSoup(driver.page_source, \"lxml\")\n",
    "        tabela=soup.find_all(\"table\")[1]\n",
    "        data=[data.text.strip() for data in tabela.find_all(\"td\")]\n",
    "        colunas=[i.text for i in tabela.find_all(\"th\")]\n",
    "        numero_colunas=len(colunas)\n",
    "        numero_linhas=int(len(data)/numero_colunas)\n",
    "        df_temp=pd.DataFrame(np.array(data).reshape((numero_linhas, numero_colunas)), columns=colunas)\n",
    "        df=df.append(df_temp)\n",
    "        \n",
    "        time.sleep(1)\n",
    "        \n",
    "        botao_next=driver.find_element_by_xpath('/html/body/div[4]/div[5]/div[5]/div[4]/div/dl[2]/dd[3]/a')\n",
    "        botao_next.click()\n",
    "\n",
    "    return df"
   ]
  },
  {
   "cell_type": "code",
   "execution_count": 170,
   "metadata": {
    "ExecuteTime": {
     "end_time": "2020-11-16T17:17:56.081435Z",
     "start_time": "2020-11-16T17:16:51.380949Z"
    }
   },
   "outputs": [],
   "source": [
    "a=serieA_2020()"
   ]
  },
  {
   "cell_type": "code",
   "execution_count": 172,
   "metadata": {
    "ExecuteTime": {
     "end_time": "2020-11-16T17:18:56.476274Z",
     "start_time": "2020-11-16T17:18:56.410709Z"
    },
    "scrolled": false
   },
   "outputs": [
    {
     "data": {
      "text/html": [
       "<div>\n",
       "<style scoped>\n",
       "    .dataframe tbody tr th:only-of-type {\n",
       "        vertical-align: middle;\n",
       "    }\n",
       "\n",
       "    .dataframe tbody tr th {\n",
       "        vertical-align: top;\n",
       "    }\n",
       "\n",
       "    .dataframe thead th {\n",
       "        text-align: right;\n",
       "    }\n",
       "</style>\n",
       "<table border=\"1\" class=\"dataframe\">\n",
       "  <thead>\n",
       "    <tr style=\"text-align: right;\">\n",
       "      <th></th>\n",
       "      <th>index</th>\n",
       "      <th>Player</th>\n",
       "      <th>Player</th>\n",
       "      <th>Apps</th>\n",
       "      <th>Mins</th>\n",
       "      <th>Assists</th>\n",
       "      <th>KeyP</th>\n",
       "      <th>AvgP</th>\n",
       "      <th>PS%</th>\n",
       "      <th>Crosses</th>\n",
       "      <th>LongB</th>\n",
       "      <th>ThrB</th>\n",
       "      <th>Rating</th>\n",
       "    </tr>\n",
       "  </thead>\n",
       "  <tbody>\n",
       "    <tr>\n",
       "      <th>0</th>\n",
       "      <td>0</td>\n",
       "      <td>1MarinhoSantos FC, 30,  AM(LR)</td>\n",
       "      <td>Marinho Santos FC, 30,  AM(LR)</td>\n",
       "      <td>16(1)</td>\n",
       "      <td>1394</td>\n",
       "      <td>5</td>\n",
       "      <td>1</td>\n",
       "      <td>18.7</td>\n",
       "      <td>78.3</td>\n",
       "      <td>0.8</td>\n",
       "      <td>0.9</td>\n",
       "      <td>-</td>\n",
       "      <td>7.59</td>\n",
       "    </tr>\n",
       "    <tr>\n",
       "      <th>1</th>\n",
       "      <td>1</td>\n",
       "      <td>2KenoAtletico MG, 31,  AM(LR)</td>\n",
       "      <td>Keno Atletico MG, 31,  AM(LR)</td>\n",
       "      <td>16(3)</td>\n",
       "      <td>1419</td>\n",
       "      <td>3</td>\n",
       "      <td>1.7</td>\n",
       "      <td>24.4</td>\n",
       "      <td>72</td>\n",
       "      <td>0.8</td>\n",
       "      <td>1.1</td>\n",
       "      <td>-</td>\n",
       "      <td>7.55</td>\n",
       "    </tr>\n",
       "    <tr>\n",
       "      <th>2</th>\n",
       "      <td>2</td>\n",
       "      <td>3Giorgian de ArrascaetaFlamengo, 26,  AM(CLR)</td>\n",
       "      <td>Giorgian de Arrascaeta Flamengo, 26,  AM(CLR)</td>\n",
       "      <td>9(2)</td>\n",
       "      <td>780</td>\n",
       "      <td>3</td>\n",
       "      <td>2.8</td>\n",
       "      <td>36.4</td>\n",
       "      <td>76.8</td>\n",
       "      <td>1.4</td>\n",
       "      <td>1.2</td>\n",
       "      <td>0.2</td>\n",
       "      <td>7.39</td>\n",
       "    </tr>\n",
       "    <tr>\n",
       "      <th>3</th>\n",
       "      <td>3</td>\n",
       "      <td>4ViniciusCeara, 29,  M(C)</td>\n",
       "      <td>Vinicius Ceara, 29,  M(C)</td>\n",
       "      <td>13(1)</td>\n",
       "      <td>1098</td>\n",
       "      <td>3</td>\n",
       "      <td>2.4</td>\n",
       "      <td>31.3</td>\n",
       "      <td>81.5</td>\n",
       "      <td>2</td>\n",
       "      <td>2.4</td>\n",
       "      <td>0.1</td>\n",
       "      <td>7.32</td>\n",
       "    </tr>\n",
       "    <tr>\n",
       "      <th>4</th>\n",
       "      <td>4</td>\n",
       "      <td>5AlissonGremio, 27,  AM(CLR)</td>\n",
       "      <td>Alisson Gremio, 27,  AM(CLR)</td>\n",
       "      <td>13</td>\n",
       "      <td>1064</td>\n",
       "      <td>4</td>\n",
       "      <td>1.9</td>\n",
       "      <td>41.8</td>\n",
       "      <td>83.8</td>\n",
       "      <td>1</td>\n",
       "      <td>0.7</td>\n",
       "      <td>0.1</td>\n",
       "      <td>7.31</td>\n",
       "    </tr>\n",
       "    <tr>\n",
       "      <th>...</th>\n",
       "      <td>...</td>\n",
       "      <td>...</td>\n",
       "      <td>...</td>\n",
       "      <td>...</td>\n",
       "      <td>...</td>\n",
       "      <td>...</td>\n",
       "      <td>...</td>\n",
       "      <td>...</td>\n",
       "      <td>...</td>\n",
       "      <td>...</td>\n",
       "      <td>...</td>\n",
       "      <td>...</td>\n",
       "      <td>...</td>\n",
       "    </tr>\n",
       "    <tr>\n",
       "      <th>360</th>\n",
       "      <td>0</td>\n",
       "      <td>351Marcos LeonardoSantos FC, 17,  Forward</td>\n",
       "      <td>Marcos Leonardo Santos FC, 17,  Forward</td>\n",
       "      <td>1(8)</td>\n",
       "      <td>154</td>\n",
       "      <td>-</td>\n",
       "      <td>-</td>\n",
       "      <td>3.2</td>\n",
       "      <td>75.9</td>\n",
       "      <td>-</td>\n",
       "      <td>-</td>\n",
       "      <td>-</td>\n",
       "      <td>6.09</td>\n",
       "    </tr>\n",
       "    <tr>\n",
       "      <th>361</th>\n",
       "      <td>1</td>\n",
       "      <td>352MoratoRed Bull Bragantino, 28,  AM(L)</td>\n",
       "      <td>Morato Red Bull Bragantino, 28,  AM(L)</td>\n",
       "      <td>6(7)</td>\n",
       "      <td>538</td>\n",
       "      <td>-</td>\n",
       "      <td>0.2</td>\n",
       "      <td>15.3</td>\n",
       "      <td>74.4</td>\n",
       "      <td>0.2</td>\n",
       "      <td>0.5</td>\n",
       "      <td>-</td>\n",
       "      <td>6.07</td>\n",
       "    </tr>\n",
       "    <tr>\n",
       "      <th>362</th>\n",
       "      <td>2</td>\n",
       "      <td>353Júnior BrandãoAtletico GO, 24,  Forward</td>\n",
       "      <td>Júnior Brandão Atletico GO, 24,  Forward</td>\n",
       "      <td>0(9)</td>\n",
       "      <td>125</td>\n",
       "      <td>-</td>\n",
       "      <td>0.2</td>\n",
       "      <td>2.9</td>\n",
       "      <td>69.2</td>\n",
       "      <td>-</td>\n",
       "      <td>-</td>\n",
       "      <td>-</td>\n",
       "      <td>6.07</td>\n",
       "    </tr>\n",
       "    <tr>\n",
       "      <th>363</th>\n",
       "      <td>3</td>\n",
       "      <td>354Guilherme ParedeVasco da Gama, 25,  AM(LR)</td>\n",
       "      <td>Guilherme Parede Vasco da Gama, 25,  AM(LR)</td>\n",
       "      <td>1(10)</td>\n",
       "      <td>225</td>\n",
       "      <td>-</td>\n",
       "      <td>0.2</td>\n",
       "      <td>6.2</td>\n",
       "      <td>69.1</td>\n",
       "      <td>-</td>\n",
       "      <td>0.3</td>\n",
       "      <td>-</td>\n",
       "      <td>6.06</td>\n",
       "    </tr>\n",
       "    <tr>\n",
       "      <th>364</th>\n",
       "      <td>4</td>\n",
       "      <td>355Jan Carlos HurtadoRed Bull Bragantino, 20,  FW</td>\n",
       "      <td>Jan Carlos Hurtado Red Bull Bragantino, 20,  FW</td>\n",
       "      <td>2(9)</td>\n",
       "      <td>213</td>\n",
       "      <td>-</td>\n",
       "      <td>0.1</td>\n",
       "      <td>4</td>\n",
       "      <td>81.8</td>\n",
       "      <td>-</td>\n",
       "      <td>-</td>\n",
       "      <td>-</td>\n",
       "      <td>6.06</td>\n",
       "    </tr>\n",
       "  </tbody>\n",
       "</table>\n",
       "<p>365 rows × 13 columns</p>\n",
       "</div>"
      ],
      "text/plain": [
       "     index                                             Player  \\\n",
       "0        0                     1MarinhoSantos FC, 30,  AM(LR)   \n",
       "1        1                      2KenoAtletico MG, 31,  AM(LR)   \n",
       "2        2      3Giorgian de ArrascaetaFlamengo, 26,  AM(CLR)   \n",
       "3        3                          4ViniciusCeara, 29,  M(C)   \n",
       "4        4                       5AlissonGremio, 27,  AM(CLR)   \n",
       "..     ...                                                ...   \n",
       "360      0          351Marcos LeonardoSantos FC, 17,  Forward   \n",
       "361      1           352MoratoRed Bull Bragantino, 28,  AM(L)   \n",
       "362      2         353Júnior BrandãoAtletico GO, 24,  Forward   \n",
       "363      3      354Guilherme ParedeVasco da Gama, 25,  AM(LR)   \n",
       "364      4  355Jan Carlos HurtadoRed Bull Bragantino, 20,  FW   \n",
       "\n",
       "                                              Player   Apps  Mins Assists  \\\n",
       "0                     Marinho Santos FC, 30,  AM(LR)  16(1)  1394       5   \n",
       "1                      Keno Atletico MG, 31,  AM(LR)  16(3)  1419       3   \n",
       "2      Giorgian de Arrascaeta Flamengo, 26,  AM(CLR)   9(2)   780       3   \n",
       "3                          Vinicius Ceara, 29,  M(C)  13(1)  1098       3   \n",
       "4                       Alisson Gremio, 27,  AM(CLR)     13  1064       4   \n",
       "..                                               ...    ...   ...     ...   \n",
       "360          Marcos Leonardo Santos FC, 17,  Forward   1(8)   154       -   \n",
       "361           Morato Red Bull Bragantino, 28,  AM(L)   6(7)   538       -   \n",
       "362         Júnior Brandão Atletico GO, 24,  Forward   0(9)   125       -   \n",
       "363      Guilherme Parede Vasco da Gama, 25,  AM(LR)  1(10)   225       -   \n",
       "364  Jan Carlos Hurtado Red Bull Bragantino, 20,  FW   2(9)   213       -   \n",
       "\n",
       "    KeyP  AvgP   PS% Crosses LongB ThrB Rating  \n",
       "0      1  18.7  78.3     0.8   0.9    -   7.59  \n",
       "1    1.7  24.4    72     0.8   1.1    -   7.55  \n",
       "2    2.8  36.4  76.8     1.4   1.2  0.2   7.39  \n",
       "3    2.4  31.3  81.5       2   2.4  0.1   7.32  \n",
       "4    1.9  41.8  83.8       1   0.7  0.1   7.31  \n",
       "..   ...   ...   ...     ...   ...  ...    ...  \n",
       "360    -   3.2  75.9       -     -    -   6.09  \n",
       "361  0.2  15.3  74.4     0.2   0.5    -   6.07  \n",
       "362  0.2   2.9  69.2       -     -    -   6.07  \n",
       "363  0.2   6.2  69.1       -   0.3    -   6.06  \n",
       "364  0.1     4  81.8       -     -    -   6.06  \n",
       "\n",
       "[365 rows x 13 columns]"
      ]
     },
     "execution_count": 172,
     "metadata": {},
     "output_type": "execute_result"
    }
   ],
   "source": [
    "a.reset_index()"
   ]
  },
  {
   "cell_type": "code",
   "execution_count": null,
   "metadata": {},
   "outputs": [],
   "source": []
  },
  {
   "cell_type": "code",
   "execution_count": null,
   "metadata": {},
   "outputs": [],
   "source": []
  },
  {
   "cell_type": "code",
   "execution_count": null,
   "metadata": {},
   "outputs": [],
   "source": []
  },
  {
   "cell_type": "code",
   "execution_count": 167,
   "metadata": {
    "ExecuteTime": {
     "end_time": "2020-11-16T17:13:20.670770Z",
     "start_time": "2020-11-16T17:13:07.751985Z"
    }
   },
   "outputs": [
    {
     "name": "stdout",
     "output_type": "stream",
     "text": [
      "<table class=\"grid with-centered-columns hover\" id=\"top-player-stats-summary-grid\"><thead id=\"player-table-statistics-head\"><tr><th class=\"col12-lg-2 col12-m-3 col12-s-4 col12-xs-5 grid-abs\">Player</th><th class=\"grid-ghost-cell\">Player</th> <th class=\"global sortable ap\" data-stat-name=\"Apps\">Apps</th> <th class=\"global sortable minsPlayed\" data-stat-name=\"minsPlayed\">Mins</th> <th class=\"global sortable goal\" data-stat-name=\"goal\">Goals</th> <th class=\"global sortable assistTotal\" data-stat-name=\"assistTotal\">Assists</th> <th class=\"global sortable yellowCard\" data-stat-name=\"yellowCard\">Yel</th> <th class=\"global sortable redCard\" data-stat-name=\"redCard\">Red</th> <th class=\"global sortable shotsPerGame\" data-stat-name=\"shotsPerGame\">SpG</th> <th class=\"global sortable passSuccess\" data-stat-name=\"passSuccess\">PS%</th> <th class=\"global sortable aerialWonPerGame\" data-stat-name=\"aerialWonPerGame\">AerialsWon</th> <th class=\"global sortable manOfTheMatch\" data-stat-name=\"manOfTheMatch\">MotM</th><th class=\"global sortable rating\" data-stat-name=\"Rating\">Rating</th></tr></thead><tbody id=\"player-table-statistics-body\"><tr class=\"\"><td class=\"col12-lg-2 col12-m-3 col12-s-4 col12-xs-5 grid-abs overflow-text\"><a class=\"player-link\" href=\"/Players/284377/Show/Marinho\"><div class=\"table-ranking\">\t1</div><span class=\"iconize iconize-icon-left\">Marinho<span class=\"ui-icon country flg-br\"></span></span></a><a class=\"player-meta-data\" href=\"/Teams/1241/Show/Brazil-Santos-FC\"><span class=\"team-name\">Santos FC, </span></a><span><span class=\"player-meta-data\" style=\"padding-left: 3px;\">30</span><span class=\"player-meta-data\">,  AM(LR)  </span></span></td><td class=\"grid-ghost-cell\"><a class=\"player-link iconize iconize-icon-left\" href=\"/Players/284377/Show/Marinho\">Marinho<span class=\"ui-icon country flg-br\"></span> </a><a class=\"player-meta-data\" href=\"/Teams/1241/Show/Brazil-Santos-FC\"><span class=\"team-name\">Santos FC, </span></a><span class=\"player-meta-data\">30</span><span class=\"player-meta-data\">,  AM(LR)  </span></td> <td>16(1)</td><td class=\"minsPlayed\">1394\t</td><td class=\"goal\">12\t</td><td class=\"assistTotal\">5\t</td><td class=\"yellowCard\">3\t</td><td class=\"redCard\">-\t</td><td class=\"shotsPerGame\">2.9\t</td><td class=\"passSuccess\">78.3\t</td><td class=\"aerialWonPerGame\">0.5\t</td><td class=\"manOfTheMatch\">6\t</td><td class=\"rating sorted\">7.59</td> </tr><tr class=\"alt\"><td class=\"col12-lg-2 col12-m-3 col12-s-4 col12-xs-5 grid-abs overflow-text\"><a class=\"player-link\" href=\"/Players/284602/Show/Keno\"><div class=\"table-ranking\">\t2</div><span class=\"iconize iconize-icon-left\">Keno<span class=\"ui-icon country flg-br\"></span></span></a><a class=\"player-meta-data\" href=\"/Teams/1235/Show/Brazil-Atletico-MG\"><span class=\"team-name\">Atletico MG, </span></a><span><span class=\"player-meta-data\" style=\"padding-left: 3px;\">31</span><span class=\"player-meta-data\">,  AM(LR)  </span></span></td><td class=\"grid-ghost-cell\"><a class=\"player-link iconize iconize-icon-left\" href=\"/Players/284602/Show/Keno\">Keno<span class=\"ui-icon country flg-br\"></span> </a><a class=\"player-meta-data\" href=\"/Teams/1235/Show/Brazil-Atletico-MG\"><span class=\"team-name\">Atletico MG, </span></a><span class=\"player-meta-data\">31</span><span class=\"player-meta-data\">,  AM(LR)  </span></td> <td>16(3)</td><td class=\"minsPlayed\">1419\t</td><td class=\"goal\">9\t</td><td class=\"assistTotal\">3\t</td><td class=\"yellowCard\">4\t</td><td class=\"redCard\">-\t</td><td class=\"shotsPerGame\">3.1\t</td><td class=\"passSuccess\">72\t</td><td class=\"aerialWonPerGame\">0.4\t</td><td class=\"manOfTheMatch\">4\t</td><td class=\"rating sorted\">7.55</td> </tr><tr class=\"\"><td class=\"col12-lg-2 col12-m-3 col12-s-4 col12-xs-5 grid-abs overflow-text\"><a class=\"player-link\" href=\"/Players/128627/Show/Giorgian-de-Arrascaeta\"><div class=\"table-ranking\">\t3</div><span class=\"iconize iconize-icon-left\">Giorgian de Arrascaeta<span class=\"ui-icon country flg-uy\"></span></span></a><a class=\"player-meta-data\" href=\"/Teams/1239/Show/Brazil-Flamengo\"><span class=\"team-name\">Flamengo, </span></a><span><span class=\"player-meta-data\" style=\"padding-left: 3px;\">26</span><span class=\"player-meta-data\">,  AM(CLR)  </span></span></td><td class=\"grid-ghost-cell\"><a class=\"player-link iconize iconize-icon-left\" href=\"/Players/128627/Show/Giorgian-de-Arrascaeta\">Giorgian de Arrascaeta<span class=\"ui-icon country flg-uy\"></span> </a><a class=\"player-meta-data\" href=\"/Teams/1239/Show/Brazil-Flamengo\"><span class=\"team-name\">Flamengo, </span></a><span class=\"player-meta-data\">26</span><span class=\"player-meta-data\">,  AM(CLR)  </span></td> <td>9(2)</td><td class=\"minsPlayed\">780\t</td><td class=\"goal\">3\t</td><td class=\"assistTotal\">3\t</td><td class=\"yellowCard\">-\t</td><td class=\"redCard\">-\t</td><td class=\"shotsPerGame\">2.2\t</td><td class=\"passSuccess\">76.8\t</td><td class=\"aerialWonPerGame\">0.5\t</td><td class=\"manOfTheMatch\">3\t</td><td class=\"rating sorted\">7.39</td> </tr><tr class=\"alt\"><td class=\"col12-lg-2 col12-m-3 col12-s-4 col12-xs-5 grid-abs overflow-text\"><a class=\"player-link\" href=\"/Players/114201/Show/Vinicius\"><div class=\"table-ranking\">\t4</div><span class=\"iconize iconize-icon-left\">Vinicius<span class=\"ui-icon country flg-br\"></span></span></a><a class=\"player-meta-data\" href=\"/Teams/7334/Show/Brazil-Ceara\"><span class=\"team-name\">Ceara, </span></a><span><span class=\"player-meta-data\" style=\"padding-left: 3px;\">29</span><span class=\"player-meta-data\">,  M(C)  </span></span></td><td class=\"grid-ghost-cell\"><a class=\"player-link iconize iconize-icon-left\" href=\"/Players/114201/Show/Vinicius\">Vinicius<span class=\"ui-icon country flg-br\"></span> </a><a class=\"player-meta-data\" href=\"/Teams/7334/Show/Brazil-Ceara\"><span class=\"team-name\">Ceara, </span></a><span class=\"player-meta-data\">29</span><span class=\"player-meta-data\">,  M(C)  </span></td> <td>13(1)</td><td class=\"minsPlayed\">1098\t</td><td class=\"goal\">6\t</td><td class=\"assistTotal\">3\t</td><td class=\"yellowCard\">1\t</td><td class=\"redCard\">-\t</td><td class=\"shotsPerGame\">2.9\t</td><td class=\"passSuccess\">81.5\t</td><td class=\"aerialWonPerGame\">0.3\t</td><td class=\"manOfTheMatch\">1\t</td><td class=\"rating sorted\">7.32</td> </tr><tr class=\"\"><td class=\"col12-lg-2 col12-m-3 col12-s-4 col12-xs-5 grid-abs overflow-text\"><a class=\"player-link\" href=\"/Players/130449/Show/Alisson\"><div class=\"table-ranking\">\t5</div><span class=\"iconize iconize-icon-left\">Alisson<span class=\"ui-icon country flg-br\"></span></span></a><a class=\"player-meta-data\" href=\"/Teams/1244/Show/Brazil-Gremio\"><span class=\"team-name\">Gremio, </span></a><span><span class=\"player-meta-data\" style=\"padding-left: 3px;\">27</span><span class=\"player-meta-data\">,  AM(CLR)  </span></span></td><td class=\"grid-ghost-cell\"><a class=\"player-link iconize iconize-icon-left\" href=\"/Players/130449/Show/Alisson\">Alisson<span class=\"ui-icon country flg-br\"></span> </a><a class=\"player-meta-data\" href=\"/Teams/1244/Show/Brazil-Gremio\"><span class=\"team-name\">Gremio, </span></a><span class=\"player-meta-data\">27</span><span class=\"player-meta-data\">,  AM(CLR)  </span></td> <td>13</td><td class=\"minsPlayed\">1064\t</td><td class=\"goal\">1\t</td><td class=\"assistTotal\">4\t</td><td class=\"yellowCard\">1\t</td><td class=\"redCard\">-\t</td><td class=\"shotsPerGame\">2.8\t</td><td class=\"passSuccess\">83.8\t</td><td class=\"aerialWonPerGame\">1.2\t</td><td class=\"manOfTheMatch\">-\t</td><td class=\"rating sorted\">7.31</td> </tr><tr class=\"alt\"><td class=\"col12-lg-2 col12-m-3 col12-s-4 col12-xs-5 grid-abs overflow-text\"><a class=\"player-link\" href=\"/Players/338791/Show/Pepê\"><div class=\"table-ranking\">\t6</div><span class=\"iconize iconize-icon-left\">Pepê<span class=\"ui-icon country flg-br\"></span></span></a><a class=\"player-meta-data\" href=\"/Teams/1244/Show/Brazil-Gremio\"><span class=\"team-name\">Gremio, </span></a><span><span class=\"player-meta-data\" style=\"padding-left: 3px;\">23</span><span class=\"player-meta-data\">,  AM(L)  </span></span></td><td class=\"grid-ghost-cell\"><a class=\"player-link iconize iconize-icon-left\" href=\"/Players/338791/Show/Pepê\">Pepê<span class=\"ui-icon country flg-br\"></span> </a><a class=\"player-meta-data\" href=\"/Teams/1244/Show/Brazil-Gremio\"><span class=\"team-name\">Gremio, </span></a><span class=\"player-meta-data\">23</span><span class=\"player-meta-data\">,  AM(L)  </span></td> <td>14(2)</td><td class=\"minsPlayed\">1269\t</td><td class=\"goal\">7\t</td><td class=\"assistTotal\">3\t</td><td class=\"yellowCard\">-\t</td><td class=\"redCard\">-\t</td><td class=\"shotsPerGame\">1.9\t</td><td class=\"passSuccess\">81.9\t</td><td class=\"aerialWonPerGame\">0.8\t</td><td class=\"manOfTheMatch\">4\t</td><td class=\"rating sorted\">7.30</td> </tr><tr class=\"\"><td class=\"col12-lg-2 col12-m-3 col12-s-4 col12-xs-5 grid-abs overflow-text\"><a class=\"player-link\" href=\"/Players/280244/Show/Patrick\"><div class=\"table-ranking\">\t7</div><span class=\"iconize iconize-icon-left\">Patrick<span class=\"ui-icon country flg-\"></span></span></a><a class=\"player-meta-data\" href=\"/Teams/1219/Show/Brazil-Internacional\"><span class=\"team-name\">Internacional, </span></a><span><span class=\"player-meta-data\" style=\"padding-left: 3px;\">28</span><span class=\"player-meta-data\">,  M(CL)  </span></span></td><td class=\"grid-ghost-cell\"><a class=\"player-link iconize iconize-icon-left\" href=\"/Players/280244/Show/Patrick\">Patrick<span class=\"ui-icon country flg-\"></span> </a><a class=\"player-meta-data\" href=\"/Teams/1219/Show/Brazil-Internacional\"><span class=\"team-name\">Internacional, </span></a><span class=\"player-meta-data\">28</span><span class=\"player-meta-data\">,  M(CL)  </span></td> <td>17(1)</td><td class=\"minsPlayed\">1359\t</td><td class=\"goal\">3\t</td><td class=\"assistTotal\">2\t</td><td class=\"yellowCard\">1\t</td><td class=\"redCard\">-\t</td><td class=\"shotsPerGame\">1.2\t</td><td class=\"passSuccess\">80.7\t</td><td class=\"aerialWonPerGame\">1.8\t</td><td class=\"manOfTheMatch\">4\t</td><td class=\"rating sorted\">7.30</td> </tr><tr class=\"alt\"><td class=\"col12-lg-2 col12-m-3 col12-s-4 col12-xs-5 grid-abs overflow-text\"><a class=\"player-link\" href=\"/Players/295768/Show/Claudinho\"><div class=\"table-ranking\">\t8</div><span class=\"iconize iconize-icon-left\">Claudinho<span class=\"ui-icon country flg-br\"></span></span></a><a class=\"player-meta-data\" href=\"/Teams/5438/Show/Brazil-Red-Bull-Bragantino\"><span class=\"team-name\">Red Bull Bragantino, </span></a><span><span class=\"player-meta-data\" style=\"padding-left: 3px;\">23</span><span class=\"player-meta-data\">,  AM(C),FW  </span></span></td><td class=\"grid-ghost-cell\"><a class=\"player-link iconize iconize-icon-left\" href=\"/Players/295768/Show/Claudinho\">Claudinho<span class=\"ui-icon country flg-br\"></span> </a><a class=\"player-meta-data\" href=\"/Teams/5438/Show/Brazil-Red-Bull-Bragantino\"><span class=\"team-name\">Red Bull Bragantino, </span></a><span class=\"player-meta-data\">23</span><span class=\"player-meta-data\">,  AM(C),FW  </span></td> <td>16(1)</td><td class=\"minsPlayed\">1303\t</td><td class=\"goal\">7\t</td><td class=\"assistTotal\">1\t</td><td class=\"yellowCard\">3\t</td><td class=\"redCard\">-\t</td><td class=\"shotsPerGame\">2.5\t</td><td class=\"passSuccess\">80.2\t</td><td class=\"aerialWonPerGame\">0.3\t</td><td class=\"manOfTheMatch\">2\t</td><td class=\"rating sorted\">7.26</td> </tr><tr class=\"\"><td class=\"col12-lg-2 col12-m-3 col12-s-4 col12-xs-5 grid-abs overflow-text\"><a class=\"player-link\" href=\"/Players/146795/Show/Danilo-Barcelos\"><div class=\"table-ranking\">\t9</div><span class=\"iconize iconize-icon-left\">Danilo Barcelos<span class=\"ui-icon country flg-br\"></span></span></a><a class=\"player-meta-data\" href=\"/Teams/1232/Show/Brazil-Fluminense\"><span class=\"team-name\">Fluminense, </span></a><span><span class=\"player-meta-data\" style=\"padding-left: 3px;\">29</span><span class=\"player-meta-data\">,  D(L),M(CL)  </span></span></td><td class=\"grid-ghost-cell\"><a class=\"player-link iconize iconize-icon-left\" href=\"/Players/146795/Show/Danilo-Barcelos\">Danilo Barcelos<span class=\"ui-icon country flg-br\"></span> </a><a class=\"player-meta-data\" href=\"/Teams/1232/Show/Brazil-Fluminense\"><span class=\"team-name\">Fluminense, </span></a><span class=\"player-meta-data\">29</span><span class=\"player-meta-data\">,  D(L),M(CL)  </span></td> <td>10</td><td class=\"minsPlayed\">900\t</td><td class=\"goal\">1\t</td><td class=\"assistTotal\">1\t</td><td class=\"yellowCard\">2\t</td><td class=\"redCard\">1\t</td><td class=\"shotsPerGame\">0.6\t</td><td class=\"passSuccess\">78.4\t</td><td class=\"aerialWonPerGame\">2.3\t</td><td class=\"manOfTheMatch\">1\t</td><td class=\"rating sorted\">7.25</td> </tr><tr class=\"alt\"><td class=\"col12-lg-2 col12-m-3 col12-s-4 col12-xs-5 grid-abs overflow-text\"><a class=\"player-link\" href=\"/Players/101729/Show/Thiago-Galhardo\"><div class=\"table-ranking\">\t10</div><span class=\"iconize iconize-icon-left\">Thiago Galhardo<span class=\"ui-icon country flg-br\"></span></span></a><a class=\"player-meta-data\" href=\"/Teams/1219/Show/Brazil-Internacional\"><span class=\"team-name\">Internacional, </span></a><span><span class=\"player-meta-data\" style=\"padding-left: 3px;\">31</span><span class=\"player-meta-data\">,  AM(CL),FW  </span></span></td><td class=\"grid-ghost-cell\"><a class=\"player-link iconize iconize-icon-left\" href=\"/Players/101729/Show/Thiago-Galhardo\">Thiago Galhardo<span class=\"ui-icon country flg-br\"></span> </a><a class=\"player-meta-data\" href=\"/Teams/1219/Show/Brazil-Internacional\"><span class=\"team-name\">Internacional, </span></a><span class=\"player-meta-data\">31</span><span class=\"player-meta-data\">,  AM(CL),FW  </span></td> <td>14(5)</td><td class=\"minsPlayed\">1322\t</td><td class=\"goal\">15\t</td><td class=\"assistTotal\">5\t</td><td class=\"yellowCard\">1\t</td><td class=\"redCard\">1\t</td><td class=\"shotsPerGame\">2.5\t</td><td class=\"passSuccess\">67.5\t</td><td class=\"aerialWonPerGame\">1.5\t</td><td class=\"manOfTheMatch\">3\t</td><td class=\"rating sorted\">7.23</td> </tr></tbody></table>\n"
     ]
    }
   ],
   "source": [
    "import time\n",
    "    \n",
    "url=\"https://1xbet.whoscored.com/Regions/31/Tournaments/95/Seasons/8158/Stages/18472/PlayerStatistics/Brazil-Brasileir%C3%A3o-2020\"\n",
    "chrome_path=\"../chromedriver\"\n",
    "driver=webdriver.Chrome(executable_path=chrome_path)\n",
    "driver.get(url)\n",
    "\n",
    "botao_passing=driver.find_element_by_xpath('/html/body/div[4]/div[5]/ul/li[4]/a')\n",
    "botao_passing.click()\n",
    "\n",
    "time.sleep(2)\n",
    "\n",
    "df=pd.DataFrame()\n",
    "soup=BeautifulSoup(driver.page_source, \"lxml\")\n",
    "\n",
    "\n",
    "tabela=soup.find_all(\"table\")[0]\n",
    "print(tabela)"
   ]
  },
  {
   "cell_type": "code",
   "execution_count": 168,
   "metadata": {
    "ExecuteTime": {
     "end_time": "2020-11-16T17:14:08.660734Z",
     "start_time": "2020-11-16T17:14:08.629934Z"
    }
   },
   "outputs": [
    {
     "name": "stdout",
     "output_type": "stream",
     "text": [
      "<table class=\"grid with-centered-columns hover\" id=\"top-player-stats-summary-grid\"><thead id=\"player-table-statistics-head\"><tr><th class=\"col12-lg-2 col12-m-3 col12-s-4 col12-xs-5 grid-abs\">Player</th><th class=\"grid-ghost-cell\">Player</th> <th class=\"global sortable ap\" data-stat-name=\"Apps\">Apps</th> <th class=\"global sortable minsPlayed\" data-stat-name=\"minsPlayed\">Mins</th> <th class=\"global sortable assistTotal\" data-stat-name=\"assistTotal\">Assists</th> <th class=\"global sortable keyPassPerGame\" data-stat-name=\"keyPassPerGame\">KeyP</th> <th class=\"global sortable totalPassesPerGame\" data-stat-name=\"totalPassesPerGame\">AvgP</th> <th class=\"global sortable passSuccess\" data-stat-name=\"passSuccess\">PS%</th> <th class=\"global sortable accurateCrossesPerGame\" data-stat-name=\"accurateCrossesPerGame\">Crosses</th> <th class=\"global sortable accurateLongPassPerGame\" data-stat-name=\"accurateLongPassPerGame\">LongB</th> <th class=\"global sortable accurateThroughBallPerGame\" data-stat-name=\"accurateThroughBallPerGame\">ThrB</th><th class=\"global sortable rating\" data-stat-name=\"Rating\">Rating</th></tr></thead><tbody id=\"player-table-statistics-body\"><tr class=\"\"><td class=\"col12-lg-2 col12-m-3 col12-s-4 col12-xs-5 grid-abs overflow-text\"><a class=\"player-link\" href=\"/Players/284377/Show/Marinho\"><div class=\"table-ranking\">\t1</div><span class=\"iconize iconize-icon-left\">Marinho<span class=\"ui-icon country flg-br\"></span></span></a><a class=\"player-meta-data\" href=\"/Teams/1241/Show/Brazil-Santos-FC\"><span class=\"team-name\">Santos FC, </span></a><span><span class=\"player-meta-data\" style=\"padding-left: 3px;\">30</span><span class=\"player-meta-data\">,  AM(LR)  </span></span></td><td class=\"grid-ghost-cell\"><a class=\"player-link iconize iconize-icon-left\" href=\"/Players/284377/Show/Marinho\">Marinho<span class=\"ui-icon country flg-br\"></span> </a><a class=\"player-meta-data\" href=\"/Teams/1241/Show/Brazil-Santos-FC\"><span class=\"team-name\">Santos FC, </span></a><span class=\"player-meta-data\">30</span><span class=\"player-meta-data\">,  AM(LR)  </span></td> <td>16(1)</td><td class=\"minsPlayed\">1394\t</td><td class=\"assistTotal\">5\t</td><td class=\"keyPassPerGame\">1\t</td><td class=\"totalPassesPerGame\">18.7\t</td><td class=\"passSuccess\">78.3\t</td><td class=\"accurateCrossesPerGame\">0.8\t</td><td class=\"accurateLongPassPerGame\">0.9\t</td><td class=\"accurateThroughBallPerGame\">-\t</td><td class=\"rating sorted\">7.59</td> </tr><tr class=\"alt\"><td class=\"col12-lg-2 col12-m-3 col12-s-4 col12-xs-5 grid-abs overflow-text\"><a class=\"player-link\" href=\"/Players/284602/Show/Keno\"><div class=\"table-ranking\">\t2</div><span class=\"iconize iconize-icon-left\">Keno<span class=\"ui-icon country flg-br\"></span></span></a><a class=\"player-meta-data\" href=\"/Teams/1235/Show/Brazil-Atletico-MG\"><span class=\"team-name\">Atletico MG, </span></a><span><span class=\"player-meta-data\" style=\"padding-left: 3px;\">31</span><span class=\"player-meta-data\">,  AM(LR)  </span></span></td><td class=\"grid-ghost-cell\"><a class=\"player-link iconize iconize-icon-left\" href=\"/Players/284602/Show/Keno\">Keno<span class=\"ui-icon country flg-br\"></span> </a><a class=\"player-meta-data\" href=\"/Teams/1235/Show/Brazil-Atletico-MG\"><span class=\"team-name\">Atletico MG, </span></a><span class=\"player-meta-data\">31</span><span class=\"player-meta-data\">,  AM(LR)  </span></td> <td>16(3)</td><td class=\"minsPlayed\">1419\t</td><td class=\"assistTotal\">3\t</td><td class=\"keyPassPerGame\">1.7\t</td><td class=\"totalPassesPerGame\">24.4\t</td><td class=\"passSuccess\">72\t</td><td class=\"accurateCrossesPerGame\">0.8\t</td><td class=\"accurateLongPassPerGame\">1.1\t</td><td class=\"accurateThroughBallPerGame\">-\t</td><td class=\"rating sorted\">7.55</td> </tr><tr class=\"\"><td class=\"col12-lg-2 col12-m-3 col12-s-4 col12-xs-5 grid-abs overflow-text\"><a class=\"player-link\" href=\"/Players/128627/Show/Giorgian-de-Arrascaeta\"><div class=\"table-ranking\">\t3</div><span class=\"iconize iconize-icon-left\">Giorgian de Arrascaeta<span class=\"ui-icon country flg-uy\"></span></span></a><a class=\"player-meta-data\" href=\"/Teams/1239/Show/Brazil-Flamengo\"><span class=\"team-name\">Flamengo, </span></a><span><span class=\"player-meta-data\" style=\"padding-left: 3px;\">26</span><span class=\"player-meta-data\">,  AM(CLR)  </span></span></td><td class=\"grid-ghost-cell\"><a class=\"player-link iconize iconize-icon-left\" href=\"/Players/128627/Show/Giorgian-de-Arrascaeta\">Giorgian de Arrascaeta<span class=\"ui-icon country flg-uy\"></span> </a><a class=\"player-meta-data\" href=\"/Teams/1239/Show/Brazil-Flamengo\"><span class=\"team-name\">Flamengo, </span></a><span class=\"player-meta-data\">26</span><span class=\"player-meta-data\">,  AM(CLR)  </span></td> <td>9(2)</td><td class=\"minsPlayed\">780\t</td><td class=\"assistTotal\">3\t</td><td class=\"keyPassPerGame\">2.8\t</td><td class=\"totalPassesPerGame\">36.4\t</td><td class=\"passSuccess\">76.8\t</td><td class=\"accurateCrossesPerGame\">1.4\t</td><td class=\"accurateLongPassPerGame\">1.2\t</td><td class=\"accurateThroughBallPerGame\">0.2\t</td><td class=\"rating sorted\">7.39</td> </tr><tr class=\"alt\"><td class=\"col12-lg-2 col12-m-3 col12-s-4 col12-xs-5 grid-abs overflow-text\"><a class=\"player-link\" href=\"/Players/114201/Show/Vinicius\"><div class=\"table-ranking\">\t4</div><span class=\"iconize iconize-icon-left\">Vinicius<span class=\"ui-icon country flg-br\"></span></span></a><a class=\"player-meta-data\" href=\"/Teams/7334/Show/Brazil-Ceara\"><span class=\"team-name\">Ceara, </span></a><span><span class=\"player-meta-data\" style=\"padding-left: 3px;\">29</span><span class=\"player-meta-data\">,  M(C)  </span></span></td><td class=\"grid-ghost-cell\"><a class=\"player-link iconize iconize-icon-left\" href=\"/Players/114201/Show/Vinicius\">Vinicius<span class=\"ui-icon country flg-br\"></span> </a><a class=\"player-meta-data\" href=\"/Teams/7334/Show/Brazil-Ceara\"><span class=\"team-name\">Ceara, </span></a><span class=\"player-meta-data\">29</span><span class=\"player-meta-data\">,  M(C)  </span></td> <td>13(1)</td><td class=\"minsPlayed\">1098\t</td><td class=\"assistTotal\">3\t</td><td class=\"keyPassPerGame\">2.4\t</td><td class=\"totalPassesPerGame\">31.3\t</td><td class=\"passSuccess\">81.5\t</td><td class=\"accurateCrossesPerGame\">2\t</td><td class=\"accurateLongPassPerGame\">2.4\t</td><td class=\"accurateThroughBallPerGame\">0.1\t</td><td class=\"rating sorted\">7.32</td> </tr><tr class=\"\"><td class=\"col12-lg-2 col12-m-3 col12-s-4 col12-xs-5 grid-abs overflow-text\"><a class=\"player-link\" href=\"/Players/130449/Show/Alisson\"><div class=\"table-ranking\">\t5</div><span class=\"iconize iconize-icon-left\">Alisson<span class=\"ui-icon country flg-br\"></span></span></a><a class=\"player-meta-data\" href=\"/Teams/1244/Show/Brazil-Gremio\"><span class=\"team-name\">Gremio, </span></a><span><span class=\"player-meta-data\" style=\"padding-left: 3px;\">27</span><span class=\"player-meta-data\">,  AM(CLR)  </span></span></td><td class=\"grid-ghost-cell\"><a class=\"player-link iconize iconize-icon-left\" href=\"/Players/130449/Show/Alisson\">Alisson<span class=\"ui-icon country flg-br\"></span> </a><a class=\"player-meta-data\" href=\"/Teams/1244/Show/Brazil-Gremio\"><span class=\"team-name\">Gremio, </span></a><span class=\"player-meta-data\">27</span><span class=\"player-meta-data\">,  AM(CLR)  </span></td> <td>13</td><td class=\"minsPlayed\">1064\t</td><td class=\"assistTotal\">4\t</td><td class=\"keyPassPerGame\">1.9\t</td><td class=\"totalPassesPerGame\">41.8\t</td><td class=\"passSuccess\">83.8\t</td><td class=\"accurateCrossesPerGame\">1\t</td><td class=\"accurateLongPassPerGame\">0.7\t</td><td class=\"accurateThroughBallPerGame\">0.1\t</td><td class=\"rating sorted\">7.31</td> </tr><tr class=\"alt\"><td class=\"col12-lg-2 col12-m-3 col12-s-4 col12-xs-5 grid-abs overflow-text\"><a class=\"player-link\" href=\"/Players/338791/Show/Pepê\"><div class=\"table-ranking\">\t6</div><span class=\"iconize iconize-icon-left\">Pepê<span class=\"ui-icon country flg-br\"></span></span></a><a class=\"player-meta-data\" href=\"/Teams/1244/Show/Brazil-Gremio\"><span class=\"team-name\">Gremio, </span></a><span><span class=\"player-meta-data\" style=\"padding-left: 3px;\">23</span><span class=\"player-meta-data\">,  AM(L)  </span></span></td><td class=\"grid-ghost-cell\"><a class=\"player-link iconize iconize-icon-left\" href=\"/Players/338791/Show/Pepê\">Pepê<span class=\"ui-icon country flg-br\"></span> </a><a class=\"player-meta-data\" href=\"/Teams/1244/Show/Brazil-Gremio\"><span class=\"team-name\">Gremio, </span></a><span class=\"player-meta-data\">23</span><span class=\"player-meta-data\">,  AM(L)  </span></td> <td>14(2)</td><td class=\"minsPlayed\">1269\t</td><td class=\"assistTotal\">3\t</td><td class=\"keyPassPerGame\">1.1\t</td><td class=\"totalPassesPerGame\">27.7\t</td><td class=\"passSuccess\">81.9\t</td><td class=\"accurateCrossesPerGame\">0.3\t</td><td class=\"accurateLongPassPerGame\">0.5\t</td><td class=\"accurateThroughBallPerGame\">-\t</td><td class=\"rating sorted\">7.30</td> </tr><tr class=\"\"><td class=\"col12-lg-2 col12-m-3 col12-s-4 col12-xs-5 grid-abs overflow-text\"><a class=\"player-link\" href=\"/Players/280244/Show/Patrick\"><div class=\"table-ranking\">\t7</div><span class=\"iconize iconize-icon-left\">Patrick<span class=\"ui-icon country flg-\"></span></span></a><a class=\"player-meta-data\" href=\"/Teams/1219/Show/Brazil-Internacional\"><span class=\"team-name\">Internacional, </span></a><span><span class=\"player-meta-data\" style=\"padding-left: 3px;\">28</span><span class=\"player-meta-data\">,  M(CL)  </span></span></td><td class=\"grid-ghost-cell\"><a class=\"player-link iconize iconize-icon-left\" href=\"/Players/280244/Show/Patrick\">Patrick<span class=\"ui-icon country flg-\"></span> </a><a class=\"player-meta-data\" href=\"/Teams/1219/Show/Brazil-Internacional\"><span class=\"team-name\">Internacional, </span></a><span class=\"player-meta-data\">28</span><span class=\"player-meta-data\">,  M(CL)  </span></td> <td>17(1)</td><td class=\"minsPlayed\">1359\t</td><td class=\"assistTotal\">2\t</td><td class=\"keyPassPerGame\">0.8\t</td><td class=\"totalPassesPerGame\">26.2\t</td><td class=\"passSuccess\">80.7\t</td><td class=\"accurateCrossesPerGame\">0.3\t</td><td class=\"accurateLongPassPerGame\">0.3\t</td><td class=\"accurateThroughBallPerGame\">0.1\t</td><td class=\"rating sorted\">7.30</td> </tr><tr class=\"alt\"><td class=\"col12-lg-2 col12-m-3 col12-s-4 col12-xs-5 grid-abs overflow-text\"><a class=\"player-link\" href=\"/Players/295768/Show/Claudinho\"><div class=\"table-ranking\">\t8</div><span class=\"iconize iconize-icon-left\">Claudinho<span class=\"ui-icon country flg-br\"></span></span></a><a class=\"player-meta-data\" href=\"/Teams/5438/Show/Brazil-Red-Bull-Bragantino\"><span class=\"team-name\">Red Bull Bragantino, </span></a><span><span class=\"player-meta-data\" style=\"padding-left: 3px;\">23</span><span class=\"player-meta-data\">,  AM(C),FW  </span></span></td><td class=\"grid-ghost-cell\"><a class=\"player-link iconize iconize-icon-left\" href=\"/Players/295768/Show/Claudinho\">Claudinho<span class=\"ui-icon country flg-br\"></span> </a><a class=\"player-meta-data\" href=\"/Teams/5438/Show/Brazil-Red-Bull-Bragantino\"><span class=\"team-name\">Red Bull Bragantino, </span></a><span class=\"player-meta-data\">23</span><span class=\"player-meta-data\">,  AM(C),FW  </span></td> <td>16(1)</td><td class=\"minsPlayed\">1303\t</td><td class=\"assistTotal\">1\t</td><td class=\"keyPassPerGame\">2.6\t</td><td class=\"totalPassesPerGame\">36.5\t</td><td class=\"passSuccess\">80.2\t</td><td class=\"accurateCrossesPerGame\">1.3\t</td><td class=\"accurateLongPassPerGame\">3.1\t</td><td class=\"accurateThroughBallPerGame\">0.1\t</td><td class=\"rating sorted\">7.26</td> </tr><tr class=\"\"><td class=\"col12-lg-2 col12-m-3 col12-s-4 col12-xs-5 grid-abs overflow-text\"><a class=\"player-link\" href=\"/Players/146795/Show/Danilo-Barcelos\"><div class=\"table-ranking\">\t9</div><span class=\"iconize iconize-icon-left\">Danilo Barcelos<span class=\"ui-icon country flg-br\"></span></span></a><a class=\"player-meta-data\" href=\"/Teams/1232/Show/Brazil-Fluminense\"><span class=\"team-name\">Fluminense, </span></a><span><span class=\"player-meta-data\" style=\"padding-left: 3px;\">29</span><span class=\"player-meta-data\">,  D(L),M(CL)  </span></span></td><td class=\"grid-ghost-cell\"><a class=\"player-link iconize iconize-icon-left\" href=\"/Players/146795/Show/Danilo-Barcelos\">Danilo Barcelos<span class=\"ui-icon country flg-br\"></span> </a><a class=\"player-meta-data\" href=\"/Teams/1232/Show/Brazil-Fluminense\"><span class=\"team-name\">Fluminense, </span></a><span class=\"player-meta-data\">29</span><span class=\"player-meta-data\">,  D(L),M(CL)  </span></td> <td>10</td><td class=\"minsPlayed\">900\t</td><td class=\"assistTotal\">1\t</td><td class=\"keyPassPerGame\">2.2\t</td><td class=\"totalPassesPerGame\">45\t</td><td class=\"passSuccess\">78.4\t</td><td class=\"accurateCrossesPerGame\">2.8\t</td><td class=\"accurateLongPassPerGame\">1.8\t</td><td class=\"accurateThroughBallPerGame\">-\t</td><td class=\"rating sorted\">7.25</td> </tr><tr class=\"alt\"><td class=\"col12-lg-2 col12-m-3 col12-s-4 col12-xs-5 grid-abs overflow-text\"><a class=\"player-link\" href=\"/Players/101729/Show/Thiago-Galhardo\"><div class=\"table-ranking\">\t10</div><span class=\"iconize iconize-icon-left\">Thiago Galhardo<span class=\"ui-icon country flg-br\"></span></span></a><a class=\"player-meta-data\" href=\"/Teams/1219/Show/Brazil-Internacional\"><span class=\"team-name\">Internacional, </span></a><span><span class=\"player-meta-data\" style=\"padding-left: 3px;\">31</span><span class=\"player-meta-data\">,  AM(CL),FW  </span></span></td><td class=\"grid-ghost-cell\"><a class=\"player-link iconize iconize-icon-left\" href=\"/Players/101729/Show/Thiago-Galhardo\">Thiago Galhardo<span class=\"ui-icon country flg-br\"></span> </a><a class=\"player-meta-data\" href=\"/Teams/1219/Show/Brazil-Internacional\"><span class=\"team-name\">Internacional, </span></a><span class=\"player-meta-data\">31</span><span class=\"player-meta-data\">,  AM(CL),FW  </span></td> <td>14(5)</td><td class=\"minsPlayed\">1322\t</td><td class=\"assistTotal\">5\t</td><td class=\"keyPassPerGame\">0.8\t</td><td class=\"totalPassesPerGame\">16.1\t</td><td class=\"passSuccess\">67.5\t</td><td class=\"accurateCrossesPerGame\">0.1\t</td><td class=\"accurateLongPassPerGame\">0.3\t</td><td class=\"accurateThroughBallPerGame\">0.1\t</td><td class=\"rating sorted\">7.23</td> </tr></tbody></table>\n"
     ]
    }
   ],
   "source": [
    "tabela=soup.find_all(\"table\")[1]\n",
    "print(tabela)"
   ]
  },
  {
   "cell_type": "code",
   "execution_count": null,
   "metadata": {},
   "outputs": [],
   "source": []
  },
  {
   "cell_type": "code",
   "execution_count": null,
   "metadata": {},
   "outputs": [],
   "source": []
  },
  {
   "cell_type": "code",
   "execution_count": null,
   "metadata": {},
   "outputs": [],
   "source": []
  },
  {
   "cell_type": "code",
   "execution_count": null,
   "metadata": {},
   "outputs": [],
   "source": []
  },
  {
   "cell_type": "code",
   "execution_count": null,
   "metadata": {},
   "outputs": [],
   "source": []
  },
  {
   "cell_type": "code",
   "execution_count": null,
   "metadata": {},
   "outputs": [],
   "source": []
  },
  {
   "cell_type": "code",
   "execution_count": null,
   "metadata": {},
   "outputs": [],
   "source": [
    "1Marinho SilvaSantos FC, 30, AM(LR)    \n",
    "    \n",
    "    def jogador(x):\n",
    "        pattern=\"\\d*(.*), \\d*, .*\"\n",
    "        captura_nome=re.findall(pattern, x)\n",
    "\n",
    "        return captura_nome\n",
    "    \n",
    "    def time(x):\n",
    "        pattern=\"\\d*.*[a-z]([A-Z].*), \\d*, .*\"\n",
    "        captura_time=re.findall(pattern, x)\n",
    "\n",
    "        return captura_nome\n",
    "    \n",
    "    def idade(x):\n",
    "        pattern=\"\\d*.*, (\\d*), .*\"\n",
    "        captura_idade=re.findall(pattern, x)\n",
    "        return captura_idade"
   ]
  },
  {
   "cell_type": "code",
   "execution_count": 61,
   "metadata": {
    "ExecuteTime": {
     "end_time": "2020-11-16T01:28:32.820357Z",
     "start_time": "2020-11-16T01:28:32.811326Z"
    }
   },
   "outputs": [],
   "source": [
    "def serieA_2019aa():\n",
    "\n",
    "    import time\n",
    "    \n",
    "    url=\"https://1xbet.whoscored.com/Regions/31/Tournaments/95/Seasons/7683/Stages/17175/PlayerStatistics/Brazil-Brasileir%C3%A3o-2019\"\n",
    "    chrome_path=\"../chromedriver\"\n",
    "    driver=webdriver.Chrome(executable_path=chrome_path)\n",
    "    driver.get(url)\n",
    "    \n",
    "    botao_defensive=driver.find_element_by_xpath('//*[@id=\"stage-top-player-stats-options\"]/li[2]/a')\n",
    "    botao_defensive.click()\n",
    "    \n",
    "    time.sleep(3)\n",
    "\n",
    "    soup=BeautifulSoup(driver.page_source)\n",
    "    tabela=soup.find_all(\"table\")[0]\n",
    "    return tabela"
   ]
  },
  {
   "cell_type": "code",
   "execution_count": 90,
   "metadata": {
    "ExecuteTime": {
     "end_time": "2020-11-14T21:53:58.306530Z",
     "start_time": "2020-11-14T21:53:58.296485Z"
    }
   },
   "outputs": [
    {
     "data": {
      "text/plain": [
       "'Giorgia De ArrascaFlamengo'"
      ]
     },
     "execution_count": 90,
     "metadata": {},
     "output_type": "execute_result"
    }
   ],
   "source": [
    "x=\"1Giorgia De ArrascaFlamengo,21,njvsdnvujds\"\n",
    "\n",
    "pattern=\"\\d*(.*),(\\d*),.*\"\n",
    "captura_nome=re.findall(pattern, x)[0][0]\n",
    "captura_idade=re.findall(pattern, x)[0][1]\n",
    "captura_nome"
   ]
  },
  {
   "cell_type": "code",
   "execution_count": 95,
   "metadata": {
    "ExecuteTime": {
     "end_time": "2020-11-14T21:54:58.817884Z",
     "start_time": "2020-11-14T21:54:58.811653Z"
    }
   },
   "outputs": [],
   "source": [
    "x=\"1Giorgia De ArrascaFlamengo, 21, njvsdnvujds\"\n",
    "pattern=\"\\d*(.*), \\d*, .*\"\n",
    "captura_nome=re.findall(pattern, x)\n",
    "captura_idade=re.findall(pattern, x)"
   ]
  },
  {
   "cell_type": "code",
   "execution_count": 96,
   "metadata": {
    "ExecuteTime": {
     "end_time": "2020-11-14T21:54:58.976657Z",
     "start_time": "2020-11-14T21:54:58.966591Z"
    }
   },
   "outputs": [
    {
     "data": {
      "text/plain": [
       "['Giorgia De ArrascaFlamengo']"
      ]
     },
     "execution_count": 96,
     "metadata": {},
     "output_type": "execute_result"
    }
   ],
   "source": [
    "captura_nome"
   ]
  },
  {
   "cell_type": "code",
   "execution_count": null,
   "metadata": {},
   "outputs": [],
   "source": []
  },
  {
   "cell_type": "code",
   "execution_count": 55,
   "metadata": {
    "ExecuteTime": {
     "end_time": "2020-11-14T21:25:07.670902Z",
     "start_time": "2020-11-14T21:25:07.662782Z"
    }
   },
   "outputs": [],
   "source": [
    "def limpeza(x):\n",
    "    \n",
    "    pattern=\"\\d*(.*),(\\d*),.*\"\n",
    "    captura_nome=re.findall(pattern, x)[0][0]\n",
    "    captura_idade=re.findall(pattern, x)[0][1]\n",
    "    \n",
    "    return captura_nome"
   ]
  },
  {
   "cell_type": "code",
   "execution_count": 57,
   "metadata": {
    "ExecuteTime": {
     "end_time": "2020-11-14T21:27:32.601647Z",
     "start_time": "2020-11-14T21:27:32.592167Z"
    }
   },
   "outputs": [
    {
     "data": {
      "text/plain": [
       "'Giorgia De ArrascaFlamengo'"
      ]
     },
     "execution_count": 57,
     "metadata": {},
     "output_type": "execute_result"
    }
   ],
   "source": [
    "limpeza(\"1Giorgia De ArrascaFlamengo,21,njvsdnvujds\")"
   ]
  },
  {
   "cell_type": "code",
   "execution_count": null,
   "metadata": {},
   "outputs": [],
   "source": []
  },
  {
   "cell_type": "code",
   "execution_count": null,
   "metadata": {},
   "outputs": [],
   "source": []
  },
  {
   "cell_type": "code",
   "execution_count": null,
   "metadata": {},
   "outputs": [],
   "source": []
  },
  {
   "cell_type": "code",
   "execution_count": null,
   "metadata": {},
   "outputs": [],
   "source": []
  },
  {
   "cell_type": "code",
   "execution_count": null,
   "metadata": {},
   "outputs": [],
   "source": []
  },
  {
   "cell_type": "code",
   "execution_count": null,
   "metadata": {},
   "outputs": [],
   "source": []
  },
  {
   "cell_type": "code",
   "execution_count": 34,
   "metadata": {
    "ExecuteTime": {
     "end_time": "2020-11-14T19:47:28.366977Z",
     "start_time": "2020-11-14T19:47:27.131855Z"
    }
   },
   "outputs": [
    {
     "ename": "WebDriverException",
     "evalue": "Message: unknown error: failed to write prefs file\n",
     "output_type": "error",
     "traceback": [
      "\u001b[0;31m---------------------------------------------------------------------------\u001b[0m",
      "\u001b[0;31mWebDriverException\u001b[0m                        Traceback (most recent call last)",
      "\u001b[0;32m<ipython-input-34-85b86adb9b15>\u001b[0m in \u001b[0;36m<module>\u001b[0;34m\u001b[0m\n\u001b[0;32m----> 1\u001b[0;31m \u001b[0moffensive_2019\u001b[0m\u001b[0;34m(\u001b[0m\u001b[0;34m)\u001b[0m\u001b[0;34m\u001b[0m\u001b[0;34m\u001b[0m\u001b[0m\n\u001b[0m",
      "\u001b[0;32m<ipython-input-33-e320474f3f34>\u001b[0m in \u001b[0;36moffensive_2019\u001b[0;34m()\u001b[0m\n\u001b[1;32m      3\u001b[0m     \u001b[0murl\u001b[0m\u001b[0;34m=\u001b[0m\u001b[0;34m\"https://1xbet.whoscored.com/Regions/31/Tournaments/95/Seasons/7683/Stages/17175/PlayerStatistics/Brazil-Brasileir%C3%A3o-2019\"\u001b[0m\u001b[0;34m\u001b[0m\u001b[0;34m\u001b[0m\u001b[0m\n\u001b[1;32m      4\u001b[0m     \u001b[0mchrome_path\u001b[0m\u001b[0;34m=\u001b[0m\u001b[0;34m\"../chromedriver\"\u001b[0m\u001b[0;34m\u001b[0m\u001b[0;34m\u001b[0m\u001b[0m\n\u001b[0;32m----> 5\u001b[0;31m     \u001b[0mdriver\u001b[0m\u001b[0;34m=\u001b[0m\u001b[0mwebdriver\u001b[0m\u001b[0;34m.\u001b[0m\u001b[0mChrome\u001b[0m\u001b[0;34m(\u001b[0m\u001b[0mexecutable_path\u001b[0m\u001b[0;34m=\u001b[0m\u001b[0mchrome_path\u001b[0m\u001b[0;34m)\u001b[0m\u001b[0;34m\u001b[0m\u001b[0;34m\u001b[0m\u001b[0m\n\u001b[0m\u001b[1;32m      6\u001b[0m     \u001b[0mdriver\u001b[0m\u001b[0;34m.\u001b[0m\u001b[0mget\u001b[0m\u001b[0;34m(\u001b[0m\u001b[0murl\u001b[0m\u001b[0;34m)\u001b[0m\u001b[0;34m\u001b[0m\u001b[0;34m\u001b[0m\u001b[0m\n\u001b[1;32m      7\u001b[0m \u001b[0;34m\u001b[0m\u001b[0m\n",
      "\u001b[0;32m/Library/Frameworks/Python.framework/Versions/3.8/lib/python3.8/site-packages/selenium/webdriver/chrome/webdriver.py\u001b[0m in \u001b[0;36m__init__\u001b[0;34m(self, executable_path, port, options, service_args, desired_capabilities, service_log_path, chrome_options, keep_alive)\u001b[0m\n\u001b[1;32m     74\u001b[0m \u001b[0;34m\u001b[0m\u001b[0m\n\u001b[1;32m     75\u001b[0m         \u001b[0;32mtry\u001b[0m\u001b[0;34m:\u001b[0m\u001b[0;34m\u001b[0m\u001b[0;34m\u001b[0m\u001b[0m\n\u001b[0;32m---> 76\u001b[0;31m             RemoteWebDriver.__init__(\n\u001b[0m\u001b[1;32m     77\u001b[0m                 \u001b[0mself\u001b[0m\u001b[0;34m,\u001b[0m\u001b[0;34m\u001b[0m\u001b[0;34m\u001b[0m\u001b[0m\n\u001b[1;32m     78\u001b[0m                 command_executor=ChromeRemoteConnection(\n",
      "\u001b[0;32m/Library/Frameworks/Python.framework/Versions/3.8/lib/python3.8/site-packages/selenium/webdriver/remote/webdriver.py\u001b[0m in \u001b[0;36m__init__\u001b[0;34m(self, command_executor, desired_capabilities, browser_profile, proxy, keep_alive, file_detector, options)\u001b[0m\n\u001b[1;32m    155\u001b[0m             warnings.warn(\"Please use FirefoxOptions to set browser profile\",\n\u001b[1;32m    156\u001b[0m                           DeprecationWarning, stacklevel=2)\n\u001b[0;32m--> 157\u001b[0;31m         \u001b[0mself\u001b[0m\u001b[0;34m.\u001b[0m\u001b[0mstart_session\u001b[0m\u001b[0;34m(\u001b[0m\u001b[0mcapabilities\u001b[0m\u001b[0;34m,\u001b[0m \u001b[0mbrowser_profile\u001b[0m\u001b[0;34m)\u001b[0m\u001b[0;34m\u001b[0m\u001b[0;34m\u001b[0m\u001b[0m\n\u001b[0m\u001b[1;32m    158\u001b[0m         \u001b[0mself\u001b[0m\u001b[0;34m.\u001b[0m\u001b[0m_switch_to\u001b[0m \u001b[0;34m=\u001b[0m \u001b[0mSwitchTo\u001b[0m\u001b[0;34m(\u001b[0m\u001b[0mself\u001b[0m\u001b[0;34m)\u001b[0m\u001b[0;34m\u001b[0m\u001b[0;34m\u001b[0m\u001b[0m\n\u001b[1;32m    159\u001b[0m         \u001b[0mself\u001b[0m\u001b[0;34m.\u001b[0m\u001b[0m_mobile\u001b[0m \u001b[0;34m=\u001b[0m \u001b[0mMobile\u001b[0m\u001b[0;34m(\u001b[0m\u001b[0mself\u001b[0m\u001b[0;34m)\u001b[0m\u001b[0;34m\u001b[0m\u001b[0;34m\u001b[0m\u001b[0m\n",
      "\u001b[0;32m/Library/Frameworks/Python.framework/Versions/3.8/lib/python3.8/site-packages/selenium/webdriver/remote/webdriver.py\u001b[0m in \u001b[0;36mstart_session\u001b[0;34m(self, capabilities, browser_profile)\u001b[0m\n\u001b[1;32m    250\u001b[0m         parameters = {\"capabilities\": w3c_caps,\n\u001b[1;32m    251\u001b[0m                       \"desiredCapabilities\": capabilities}\n\u001b[0;32m--> 252\u001b[0;31m         \u001b[0mresponse\u001b[0m \u001b[0;34m=\u001b[0m \u001b[0mself\u001b[0m\u001b[0;34m.\u001b[0m\u001b[0mexecute\u001b[0m\u001b[0;34m(\u001b[0m\u001b[0mCommand\u001b[0m\u001b[0;34m.\u001b[0m\u001b[0mNEW_SESSION\u001b[0m\u001b[0;34m,\u001b[0m \u001b[0mparameters\u001b[0m\u001b[0;34m)\u001b[0m\u001b[0;34m\u001b[0m\u001b[0;34m\u001b[0m\u001b[0m\n\u001b[0m\u001b[1;32m    253\u001b[0m         \u001b[0;32mif\u001b[0m \u001b[0;34m'sessionId'\u001b[0m \u001b[0;32mnot\u001b[0m \u001b[0;32min\u001b[0m \u001b[0mresponse\u001b[0m\u001b[0;34m:\u001b[0m\u001b[0;34m\u001b[0m\u001b[0;34m\u001b[0m\u001b[0m\n\u001b[1;32m    254\u001b[0m             \u001b[0mresponse\u001b[0m \u001b[0;34m=\u001b[0m \u001b[0mresponse\u001b[0m\u001b[0;34m[\u001b[0m\u001b[0;34m'value'\u001b[0m\u001b[0;34m]\u001b[0m\u001b[0;34m\u001b[0m\u001b[0;34m\u001b[0m\u001b[0m\n",
      "\u001b[0;32m/Library/Frameworks/Python.framework/Versions/3.8/lib/python3.8/site-packages/selenium/webdriver/remote/webdriver.py\u001b[0m in \u001b[0;36mexecute\u001b[0;34m(self, driver_command, params)\u001b[0m\n\u001b[1;32m    319\u001b[0m         \u001b[0mresponse\u001b[0m \u001b[0;34m=\u001b[0m \u001b[0mself\u001b[0m\u001b[0;34m.\u001b[0m\u001b[0mcommand_executor\u001b[0m\u001b[0;34m.\u001b[0m\u001b[0mexecute\u001b[0m\u001b[0;34m(\u001b[0m\u001b[0mdriver_command\u001b[0m\u001b[0;34m,\u001b[0m \u001b[0mparams\u001b[0m\u001b[0;34m)\u001b[0m\u001b[0;34m\u001b[0m\u001b[0;34m\u001b[0m\u001b[0m\n\u001b[1;32m    320\u001b[0m         \u001b[0;32mif\u001b[0m \u001b[0mresponse\u001b[0m\u001b[0;34m:\u001b[0m\u001b[0;34m\u001b[0m\u001b[0;34m\u001b[0m\u001b[0m\n\u001b[0;32m--> 321\u001b[0;31m             \u001b[0mself\u001b[0m\u001b[0;34m.\u001b[0m\u001b[0merror_handler\u001b[0m\u001b[0;34m.\u001b[0m\u001b[0mcheck_response\u001b[0m\u001b[0;34m(\u001b[0m\u001b[0mresponse\u001b[0m\u001b[0;34m)\u001b[0m\u001b[0;34m\u001b[0m\u001b[0;34m\u001b[0m\u001b[0m\n\u001b[0m\u001b[1;32m    322\u001b[0m             response['value'] = self._unwrap_value(\n\u001b[1;32m    323\u001b[0m                 response.get('value', None))\n",
      "\u001b[0;32m/Library/Frameworks/Python.framework/Versions/3.8/lib/python3.8/site-packages/selenium/webdriver/remote/errorhandler.py\u001b[0m in \u001b[0;36mcheck_response\u001b[0;34m(self, response)\u001b[0m\n\u001b[1;32m    240\u001b[0m                 \u001b[0malert_text\u001b[0m \u001b[0;34m=\u001b[0m \u001b[0mvalue\u001b[0m\u001b[0;34m[\u001b[0m\u001b[0;34m'alert'\u001b[0m\u001b[0;34m]\u001b[0m\u001b[0;34m.\u001b[0m\u001b[0mget\u001b[0m\u001b[0;34m(\u001b[0m\u001b[0;34m'text'\u001b[0m\u001b[0;34m)\u001b[0m\u001b[0;34m\u001b[0m\u001b[0;34m\u001b[0m\u001b[0m\n\u001b[1;32m    241\u001b[0m             \u001b[0;32mraise\u001b[0m \u001b[0mexception_class\u001b[0m\u001b[0;34m(\u001b[0m\u001b[0mmessage\u001b[0m\u001b[0;34m,\u001b[0m \u001b[0mscreen\u001b[0m\u001b[0;34m,\u001b[0m \u001b[0mstacktrace\u001b[0m\u001b[0;34m,\u001b[0m \u001b[0malert_text\u001b[0m\u001b[0;34m)\u001b[0m\u001b[0;34m\u001b[0m\u001b[0;34m\u001b[0m\u001b[0m\n\u001b[0;32m--> 242\u001b[0;31m         \u001b[0;32mraise\u001b[0m \u001b[0mexception_class\u001b[0m\u001b[0;34m(\u001b[0m\u001b[0mmessage\u001b[0m\u001b[0;34m,\u001b[0m \u001b[0mscreen\u001b[0m\u001b[0;34m,\u001b[0m \u001b[0mstacktrace\u001b[0m\u001b[0;34m)\u001b[0m\u001b[0;34m\u001b[0m\u001b[0;34m\u001b[0m\u001b[0m\n\u001b[0m\u001b[1;32m    243\u001b[0m \u001b[0;34m\u001b[0m\u001b[0m\n\u001b[1;32m    244\u001b[0m     \u001b[0;32mdef\u001b[0m \u001b[0m_value_or_default\u001b[0m\u001b[0;34m(\u001b[0m\u001b[0mself\u001b[0m\u001b[0;34m,\u001b[0m \u001b[0mobj\u001b[0m\u001b[0;34m,\u001b[0m \u001b[0mkey\u001b[0m\u001b[0;34m,\u001b[0m \u001b[0mdefault\u001b[0m\u001b[0;34m)\u001b[0m\u001b[0;34m:\u001b[0m\u001b[0;34m\u001b[0m\u001b[0;34m\u001b[0m\u001b[0m\n",
      "\u001b[0;31mWebDriverException\u001b[0m: Message: unknown error: failed to write prefs file\n"
     ]
    }
   ],
   "source": [
    "offensive_2019()"
   ]
  },
  {
   "cell_type": "code",
   "execution_count": 34,
   "metadata": {
    "ExecuteTime": {
     "end_time": "2020-11-14T20:44:19.467509Z",
     "start_time": "2020-11-14T20:44:19.456983Z"
    }
   },
   "outputs": [
    {
     "data": {
      "text/plain": [
       "'21'"
      ]
     },
     "execution_count": 34,
     "metadata": {},
     "output_type": "execute_result"
    }
   ],
   "source": [
    "captura_idade"
   ]
  },
  {
   "cell_type": "code",
   "execution_count": null,
   "metadata": {},
   "outputs": [],
   "source": []
  },
  {
   "cell_type": "code",
   "execution_count": null,
   "metadata": {},
   "outputs": [],
   "source": []
  },
  {
   "cell_type": "code",
   "execution_count": 33,
   "metadata": {
    "ExecuteTime": {
     "end_time": "2020-11-14T19:47:26.941284Z",
     "start_time": "2020-11-14T19:47:26.930967Z"
    }
   },
   "outputs": [],
   "source": [
    "def offensive_2019():\n",
    "    \n",
    "    url=\"https://1xbet.whoscored.com/Regions/31/Tournaments/95/Seasons/7683/Stages/17175/PlayerStatistics/Brazil-Brasileir%C3%A3o-2019\"\n",
    "    chrome_path=\"../chromedriver\"\n",
    "    driver=webdriver.Chrome(executable_path=chrome_path)\n",
    "    driver.get(url)\n",
    "    \n",
    "    botao_offensive=WebDriverWait(driver, 10).until(EC.presence_of_element_located((By.XPATH, '//*[@id=\"stage-top-player-stats-options\"]/li[3]/a')))\n",
    "    botao_offensive.click()\n",
    "    \n",
    "    df=pd.DataFrame()\n",
    "    \n",
    "    for i in range(35):\n",
    "        soup=BeautifulSoup(driver.page_source)\n",
    "        tabela=soup.find_all(\"table\")[0]\n",
    "        data=[data.text.strip() for data in tabela.find_all('td')]\n",
    "        colunas=[i.text for i in tabela.find_all(\"th\")]\n",
    "        numero_colunas=len(colunas)\n",
    "        numero_linhas=int(len(data)/numero_colunas)\n",
    "        df_temp=pd.DataFrame(np.array(data).reshape((numero_linhas, numero_colunas)), columns=colunas)\n",
    "        df=df.append(df_temp)\n",
    "\n",
    "        botao_next=WebDriverWait(driver, 10).until(EC.presence_of_element_located((By.XPATH, '//*[@id=\"next\"]')))\n",
    "        botao_next.click\n",
    "        \n",
    "        \n",
    "\n",
    "    return df"
   ]
  },
  {
   "cell_type": "code",
   "execution_count": null,
   "metadata": {},
   "outputs": [],
   "source": []
  },
  {
   "cell_type": "code",
   "execution_count": 184,
   "metadata": {
    "ExecuteTime": {
     "end_time": "2020-11-16T17:31:03.222094Z",
     "start_time": "2020-11-16T17:31:03.206443Z"
    }
   },
   "outputs": [],
   "source": [
    "x=\"353Júnior BrandãoAtletico GO, 24, Forward\""
   ]
  },
  {
   "cell_type": "code",
   "execution_count": 185,
   "metadata": {
    "ExecuteTime": {
     "end_time": "2020-11-16T17:31:03.814910Z",
     "start_time": "2020-11-16T17:31:03.800846Z"
    }
   },
   "outputs": [],
   "source": [
    "def time(x):\n",
    "        pattern=\"\\d*.*[a-z]([A-Z].*), \\d*, .*\"\n",
    "        captura_time=re.findall(pattern, x)\n",
    "\n",
    "        return captura_time"
   ]
  },
  {
   "cell_type": "code",
   "execution_count": 186,
   "metadata": {
    "ExecuteTime": {
     "end_time": "2020-11-16T17:31:04.409011Z",
     "start_time": "2020-11-16T17:31:04.398847Z"
    }
   },
   "outputs": [
    {
     "data": {
      "text/plain": [
       "['Atletico GO']"
      ]
     },
     "execution_count": 186,
     "metadata": {},
     "output_type": "execute_result"
    }
   ],
   "source": [
    "time(x)"
   ]
  },
  {
   "cell_type": "code",
   "execution_count": null,
   "metadata": {},
   "outputs": [],
   "source": []
  }
 ],
 "metadata": {
  "hide_input": false,
  "kernelspec": {
   "display_name": "Python 3",
   "language": "python",
   "name": "python3"
  },
  "language_info": {
   "codemirror_mode": {
    "name": "ipython",
    "version": 3
   },
   "file_extension": ".py",
   "mimetype": "text/x-python",
   "name": "python",
   "nbconvert_exporter": "python",
   "pygments_lexer": "ipython3",
   "version": "3.8.2"
  },
  "toc": {
   "base_numbering": 1,
   "nav_menu": {},
   "number_sections": true,
   "sideBar": true,
   "skip_h1_title": false,
   "title_cell": "Table of Contents",
   "title_sidebar": "Contents",
   "toc_cell": false,
   "toc_position": {},
   "toc_section_display": true,
   "toc_window_display": false
  },
  "varInspector": {
   "cols": {
    "lenName": 16,
    "lenType": 16,
    "lenVar": 40
   },
   "kernels_config": {
    "python": {
     "delete_cmd_postfix": "",
     "delete_cmd_prefix": "del ",
     "library": "var_list.py",
     "varRefreshCmd": "print(var_dic_list())"
    },
    "r": {
     "delete_cmd_postfix": ") ",
     "delete_cmd_prefix": "rm(",
     "library": "var_list.r",
     "varRefreshCmd": "cat(var_dic_list()) "
    }
   },
   "types_to_exclude": [
    "module",
    "function",
    "builtin_function_or_method",
    "instance",
    "_Feature"
   ],
   "window_display": false
  }
 },
 "nbformat": 4,
 "nbformat_minor": 4
}
