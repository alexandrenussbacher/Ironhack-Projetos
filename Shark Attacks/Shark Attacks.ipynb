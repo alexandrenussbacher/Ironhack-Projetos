{
 "cells": [
  {
   "cell_type": "markdown",
   "metadata": {
    "ExecuteTime": {
     "end_time": "2020-09-01T23:18:25.557482Z",
     "start_time": "2020-09-01T23:18:24.463198Z"
    }
   },
   "source": [
    "# SHARK ATTACKS"
   ]
  },
  {
   "cell_type": "code",
   "execution_count": 160,
   "metadata": {
    "ExecuteTime": {
     "end_time": "2020-11-04T18:53:02.528785Z",
     "start_time": "2020-11-04T18:53:02.522791Z"
    }
   },
   "outputs": [],
   "source": [
    "# importando as bibliotecas que serão utilizadas\n",
    "import numpy as np\n",
    "import pandas as pd\n",
    "import re"
   ]
  },
  {
   "cell_type": "markdown",
   "metadata": {},
   "source": [
    "## LEITURA DO DATASET"
   ]
  },
  {
   "cell_type": "code",
   "execution_count": 161,
   "metadata": {
    "ExecuteTime": {
     "end_time": "2020-11-04T18:53:02.749204Z",
     "start_time": "2020-11-04T18:53:02.533592Z"
    }
   },
   "outputs": [],
   "source": [
    "# importando o Dataset e transformando em um DataFrame\n",
    "sa=pd.read_csv(\"./attacks 2.csv\", encoding=\"latin1\")"
   ]
  },
  {
   "cell_type": "code",
   "execution_count": 162,
   "metadata": {
    "ExecuteTime": {
     "end_time": "2020-11-04T18:53:02.833302Z",
     "start_time": "2020-11-04T18:53:02.755400Z"
    },
    "scrolled": false
   },
   "outputs": [
    {
     "data": {
      "text/html": [
       "<div>\n",
       "<style scoped>\n",
       "    .dataframe tbody tr th:only-of-type {\n",
       "        vertical-align: middle;\n",
       "    }\n",
       "\n",
       "    .dataframe tbody tr th {\n",
       "        vertical-align: top;\n",
       "    }\n",
       "\n",
       "    .dataframe thead th {\n",
       "        text-align: right;\n",
       "    }\n",
       "</style>\n",
       "<table border=\"1\" class=\"dataframe\">\n",
       "  <thead>\n",
       "    <tr style=\"text-align: right;\">\n",
       "      <th></th>\n",
       "      <th>Case Number</th>\n",
       "      <th>Date</th>\n",
       "      <th>Year</th>\n",
       "      <th>Type</th>\n",
       "      <th>Country</th>\n",
       "      <th>Area</th>\n",
       "      <th>Location</th>\n",
       "      <th>Activity</th>\n",
       "      <th>Name</th>\n",
       "      <th>Sex</th>\n",
       "      <th>Age</th>\n",
       "      <th>Injury</th>\n",
       "      <th>Fatal (Y/N)</th>\n",
       "      <th>Time</th>\n",
       "      <th>Species</th>\n",
       "      <th>Investigator or Source</th>\n",
       "      <th>pdf</th>\n",
       "      <th>href formula</th>\n",
       "      <th>href</th>\n",
       "      <th>Case Number.1</th>\n",
       "      <th>Case Number.2</th>\n",
       "      <th>original order</th>\n",
       "      <th>Unnamed: 22</th>\n",
       "      <th>Unnamed: 23</th>\n",
       "    </tr>\n",
       "  </thead>\n",
       "  <tbody>\n",
       "    <tr>\n",
       "      <th>0</th>\n",
       "      <td>2018.06.25</td>\n",
       "      <td>25-Jun-2018</td>\n",
       "      <td>2018.0</td>\n",
       "      <td>Boating</td>\n",
       "      <td>USA</td>\n",
       "      <td>California</td>\n",
       "      <td>Oceanside, San Diego County</td>\n",
       "      <td>Paddling</td>\n",
       "      <td>Julie Wolfe</td>\n",
       "      <td>F</td>\n",
       "      <td>57</td>\n",
       "      <td>No injury to occupant, outrigger canoe and pad...</td>\n",
       "      <td>N</td>\n",
       "      <td>18h00</td>\n",
       "      <td>White shark</td>\n",
       "      <td>R. Collier, GSAF</td>\n",
       "      <td>2018.06.25-Wolfe.pdf</td>\n",
       "      <td>http://sharkattackfile.net/spreadsheets/pdf_di...</td>\n",
       "      <td>http://sharkattackfile.net/spreadsheets/pdf_di...</td>\n",
       "      <td>2018.06.25</td>\n",
       "      <td>2018.06.25</td>\n",
       "      <td>6303.0</td>\n",
       "      <td>NaN</td>\n",
       "      <td>NaN</td>\n",
       "    </tr>\n",
       "    <tr>\n",
       "      <th>1</th>\n",
       "      <td>2018.06.18</td>\n",
       "      <td>18-Jun-2018</td>\n",
       "      <td>2018.0</td>\n",
       "      <td>Unprovoked</td>\n",
       "      <td>USA</td>\n",
       "      <td>Georgia</td>\n",
       "      <td>St. Simon Island, Glynn County</td>\n",
       "      <td>Standing</td>\n",
       "      <td>Adyson McNeely</td>\n",
       "      <td>F</td>\n",
       "      <td>11</td>\n",
       "      <td>Minor injury to left thigh</td>\n",
       "      <td>N</td>\n",
       "      <td>14h00  -15h00</td>\n",
       "      <td>NaN</td>\n",
       "      <td>K.McMurray, TrackingSharks.com</td>\n",
       "      <td>2018.06.18-McNeely.pdf</td>\n",
       "      <td>http://sharkattackfile.net/spreadsheets/pdf_di...</td>\n",
       "      <td>http://sharkattackfile.net/spreadsheets/pdf_di...</td>\n",
       "      <td>2018.06.18</td>\n",
       "      <td>2018.06.18</td>\n",
       "      <td>6302.0</td>\n",
       "      <td>NaN</td>\n",
       "      <td>NaN</td>\n",
       "    </tr>\n",
       "    <tr>\n",
       "      <th>2</th>\n",
       "      <td>2018.06.09</td>\n",
       "      <td>09-Jun-2018</td>\n",
       "      <td>2018.0</td>\n",
       "      <td>Invalid</td>\n",
       "      <td>USA</td>\n",
       "      <td>Hawaii</td>\n",
       "      <td>Habush, Oahu</td>\n",
       "      <td>Surfing</td>\n",
       "      <td>John Denges</td>\n",
       "      <td>M</td>\n",
       "      <td>48</td>\n",
       "      <td>Injury to left lower leg from surfboard skeg</td>\n",
       "      <td>N</td>\n",
       "      <td>07h45</td>\n",
       "      <td>NaN</td>\n",
       "      <td>K.McMurray, TrackingSharks.com</td>\n",
       "      <td>2018.06.09-Denges.pdf</td>\n",
       "      <td>http://sharkattackfile.net/spreadsheets/pdf_di...</td>\n",
       "      <td>http://sharkattackfile.net/spreadsheets/pdf_di...</td>\n",
       "      <td>2018.06.09</td>\n",
       "      <td>2018.06.09</td>\n",
       "      <td>6301.0</td>\n",
       "      <td>NaN</td>\n",
       "      <td>NaN</td>\n",
       "    </tr>\n",
       "    <tr>\n",
       "      <th>3</th>\n",
       "      <td>2018.06.08</td>\n",
       "      <td>08-Jun-2018</td>\n",
       "      <td>2018.0</td>\n",
       "      <td>Unprovoked</td>\n",
       "      <td>AUSTRALIA</td>\n",
       "      <td>New South Wales</td>\n",
       "      <td>Arrawarra Headland</td>\n",
       "      <td>Surfing</td>\n",
       "      <td>male</td>\n",
       "      <td>M</td>\n",
       "      <td>NaN</td>\n",
       "      <td>Minor injury to lower leg</td>\n",
       "      <td>N</td>\n",
       "      <td>NaN</td>\n",
       "      <td>2 m shark</td>\n",
       "      <td>B. Myatt, GSAF</td>\n",
       "      <td>2018.06.08-Arrawarra.pdf</td>\n",
       "      <td>http://sharkattackfile.net/spreadsheets/pdf_di...</td>\n",
       "      <td>http://sharkattackfile.net/spreadsheets/pdf_di...</td>\n",
       "      <td>2018.06.08</td>\n",
       "      <td>2018.06.08</td>\n",
       "      <td>6300.0</td>\n",
       "      <td>NaN</td>\n",
       "      <td>NaN</td>\n",
       "    </tr>\n",
       "    <tr>\n",
       "      <th>4</th>\n",
       "      <td>2018.06.04</td>\n",
       "      <td>04-Jun-2018</td>\n",
       "      <td>2018.0</td>\n",
       "      <td>Provoked</td>\n",
       "      <td>MEXICO</td>\n",
       "      <td>Colima</td>\n",
       "      <td>La Ticla</td>\n",
       "      <td>Free diving</td>\n",
       "      <td>Gustavo Ramos</td>\n",
       "      <td>M</td>\n",
       "      <td>NaN</td>\n",
       "      <td>Lacerations to leg &amp; hand shark PROVOKED INCIDENT</td>\n",
       "      <td>N</td>\n",
       "      <td>NaN</td>\n",
       "      <td>Tiger shark, 3m</td>\n",
       "      <td>A .Kipper</td>\n",
       "      <td>2018.06.04-Ramos.pdf</td>\n",
       "      <td>http://sharkattackfile.net/spreadsheets/pdf_di...</td>\n",
       "      <td>http://sharkattackfile.net/spreadsheets/pdf_di...</td>\n",
       "      <td>2018.06.04</td>\n",
       "      <td>2018.06.04</td>\n",
       "      <td>6299.0</td>\n",
       "      <td>NaN</td>\n",
       "      <td>NaN</td>\n",
       "    </tr>\n",
       "  </tbody>\n",
       "</table>\n",
       "</div>"
      ],
      "text/plain": [
       "  Case Number         Date    Year        Type    Country             Area  \\\n",
       "0  2018.06.25  25-Jun-2018  2018.0     Boating        USA       California   \n",
       "1  2018.06.18  18-Jun-2018  2018.0  Unprovoked        USA          Georgia   \n",
       "2  2018.06.09  09-Jun-2018  2018.0     Invalid        USA           Hawaii   \n",
       "3  2018.06.08  08-Jun-2018  2018.0  Unprovoked  AUSTRALIA  New South Wales   \n",
       "4  2018.06.04  04-Jun-2018  2018.0    Provoked     MEXICO           Colima   \n",
       "\n",
       "                         Location     Activity             Name Sex   Age  \\\n",
       "0     Oceanside, San Diego County     Paddling      Julie Wolfe    F   57   \n",
       "1  St. Simon Island, Glynn County     Standing  Adyson McNeely     F   11   \n",
       "2                    Habush, Oahu      Surfing      John Denges    M   48   \n",
       "3              Arrawarra Headland      Surfing             male    M  NaN   \n",
       "4                        La Ticla  Free diving   Gustavo Ramos     M  NaN   \n",
       "\n",
       "                                              Injury Fatal (Y/N)  \\\n",
       "0  No injury to occupant, outrigger canoe and pad...           N   \n",
       "1                         Minor injury to left thigh           N   \n",
       "2       Injury to left lower leg from surfboard skeg           N   \n",
       "3                          Minor injury to lower leg           N   \n",
       "4  Lacerations to leg & hand shark PROVOKED INCIDENT           N   \n",
       "\n",
       "            Time         Species           Investigator or Source  \\\n",
       "0          18h00      White shark                R. Collier, GSAF   \n",
       "1  14h00  -15h00              NaN  K.McMurray, TrackingSharks.com   \n",
       "2          07h45              NaN  K.McMurray, TrackingSharks.com   \n",
       "3            NaN        2 m shark                  B. Myatt, GSAF   \n",
       "4            NaN  Tiger shark, 3m                       A .Kipper   \n",
       "\n",
       "                        pdf  \\\n",
       "0      2018.06.25-Wolfe.pdf   \n",
       "1    2018.06.18-McNeely.pdf   \n",
       "2     2018.06.09-Denges.pdf   \n",
       "3  2018.06.08-Arrawarra.pdf   \n",
       "4      2018.06.04-Ramos.pdf   \n",
       "\n",
       "                                        href formula  \\\n",
       "0  http://sharkattackfile.net/spreadsheets/pdf_di...   \n",
       "1  http://sharkattackfile.net/spreadsheets/pdf_di...   \n",
       "2  http://sharkattackfile.net/spreadsheets/pdf_di...   \n",
       "3  http://sharkattackfile.net/spreadsheets/pdf_di...   \n",
       "4  http://sharkattackfile.net/spreadsheets/pdf_di...   \n",
       "\n",
       "                                                href Case Number.1  \\\n",
       "0  http://sharkattackfile.net/spreadsheets/pdf_di...    2018.06.25   \n",
       "1  http://sharkattackfile.net/spreadsheets/pdf_di...    2018.06.18   \n",
       "2  http://sharkattackfile.net/spreadsheets/pdf_di...    2018.06.09   \n",
       "3  http://sharkattackfile.net/spreadsheets/pdf_di...    2018.06.08   \n",
       "4  http://sharkattackfile.net/spreadsheets/pdf_di...    2018.06.04   \n",
       "\n",
       "  Case Number.2  original order Unnamed: 22 Unnamed: 23  \n",
       "0    2018.06.25          6303.0         NaN         NaN  \n",
       "1    2018.06.18          6302.0         NaN         NaN  \n",
       "2    2018.06.09          6301.0         NaN         NaN  \n",
       "3    2018.06.08          6300.0         NaN         NaN  \n",
       "4    2018.06.04          6299.0         NaN         NaN  "
      ]
     },
     "execution_count": 162,
     "metadata": {},
     "output_type": "execute_result"
    }
   ],
   "source": [
    "# lendo o DataFrame\n",
    "sa.head()"
   ]
  },
  {
   "cell_type": "code",
   "execution_count": 163,
   "metadata": {
    "ExecuteTime": {
     "end_time": "2020-11-04T18:53:02.852928Z",
     "start_time": "2020-11-04T18:53:02.838948Z"
    }
   },
   "outputs": [],
   "source": [
    "# criando uma variável que exibe uma cópia do DataFrame original\n",
    "sa_bkp=sa.copy()"
   ]
  },
  {
   "cell_type": "code",
   "execution_count": 164,
   "metadata": {
    "ExecuteTime": {
     "end_time": "2020-11-04T18:53:02.864071Z",
     "start_time": "2020-11-04T18:53:02.855625Z"
    }
   },
   "outputs": [],
   "source": [
    "# possibilitando a leitura de todas as colunas do DataFrame\n",
    "pd.options.display.max_columns=99"
   ]
  },
  {
   "cell_type": "code",
   "execution_count": 165,
   "metadata": {
    "ExecuteTime": {
     "end_time": "2020-11-04T18:53:02.929601Z",
     "start_time": "2020-11-04T18:53:02.868766Z"
    }
   },
   "outputs": [
    {
     "data": {
      "text/html": [
       "<div>\n",
       "<style scoped>\n",
       "    .dataframe tbody tr th:only-of-type {\n",
       "        vertical-align: middle;\n",
       "    }\n",
       "\n",
       "    .dataframe tbody tr th {\n",
       "        vertical-align: top;\n",
       "    }\n",
       "\n",
       "    .dataframe thead th {\n",
       "        text-align: right;\n",
       "    }\n",
       "</style>\n",
       "<table border=\"1\" class=\"dataframe\">\n",
       "  <thead>\n",
       "    <tr style=\"text-align: right;\">\n",
       "      <th></th>\n",
       "      <th>Case Number</th>\n",
       "      <th>Date</th>\n",
       "      <th>Year</th>\n",
       "      <th>Type</th>\n",
       "      <th>Country</th>\n",
       "      <th>Area</th>\n",
       "      <th>Location</th>\n",
       "      <th>Activity</th>\n",
       "      <th>Name</th>\n",
       "      <th>Sex</th>\n",
       "      <th>Age</th>\n",
       "      <th>Injury</th>\n",
       "      <th>Fatal (Y/N)</th>\n",
       "      <th>Time</th>\n",
       "      <th>Species</th>\n",
       "      <th>Investigator or Source</th>\n",
       "      <th>pdf</th>\n",
       "      <th>href formula</th>\n",
       "      <th>href</th>\n",
       "      <th>Case Number.1</th>\n",
       "      <th>Case Number.2</th>\n",
       "      <th>original order</th>\n",
       "      <th>Unnamed: 22</th>\n",
       "      <th>Unnamed: 23</th>\n",
       "    </tr>\n",
       "  </thead>\n",
       "  <tbody>\n",
       "    <tr>\n",
       "      <th>0</th>\n",
       "      <td>2018.06.25</td>\n",
       "      <td>25-Jun-2018</td>\n",
       "      <td>2018.0</td>\n",
       "      <td>Boating</td>\n",
       "      <td>USA</td>\n",
       "      <td>California</td>\n",
       "      <td>Oceanside, San Diego County</td>\n",
       "      <td>Paddling</td>\n",
       "      <td>Julie Wolfe</td>\n",
       "      <td>F</td>\n",
       "      <td>57</td>\n",
       "      <td>No injury to occupant, outrigger canoe and pad...</td>\n",
       "      <td>N</td>\n",
       "      <td>18h00</td>\n",
       "      <td>White shark</td>\n",
       "      <td>R. Collier, GSAF</td>\n",
       "      <td>2018.06.25-Wolfe.pdf</td>\n",
       "      <td>http://sharkattackfile.net/spreadsheets/pdf_di...</td>\n",
       "      <td>http://sharkattackfile.net/spreadsheets/pdf_di...</td>\n",
       "      <td>2018.06.25</td>\n",
       "      <td>2018.06.25</td>\n",
       "      <td>6303.0</td>\n",
       "      <td>NaN</td>\n",
       "      <td>NaN</td>\n",
       "    </tr>\n",
       "    <tr>\n",
       "      <th>1</th>\n",
       "      <td>2018.06.18</td>\n",
       "      <td>18-Jun-2018</td>\n",
       "      <td>2018.0</td>\n",
       "      <td>Unprovoked</td>\n",
       "      <td>USA</td>\n",
       "      <td>Georgia</td>\n",
       "      <td>St. Simon Island, Glynn County</td>\n",
       "      <td>Standing</td>\n",
       "      <td>Adyson McNeely</td>\n",
       "      <td>F</td>\n",
       "      <td>11</td>\n",
       "      <td>Minor injury to left thigh</td>\n",
       "      <td>N</td>\n",
       "      <td>14h00  -15h00</td>\n",
       "      <td>NaN</td>\n",
       "      <td>K.McMurray, TrackingSharks.com</td>\n",
       "      <td>2018.06.18-McNeely.pdf</td>\n",
       "      <td>http://sharkattackfile.net/spreadsheets/pdf_di...</td>\n",
       "      <td>http://sharkattackfile.net/spreadsheets/pdf_di...</td>\n",
       "      <td>2018.06.18</td>\n",
       "      <td>2018.06.18</td>\n",
       "      <td>6302.0</td>\n",
       "      <td>NaN</td>\n",
       "      <td>NaN</td>\n",
       "    </tr>\n",
       "    <tr>\n",
       "      <th>2</th>\n",
       "      <td>2018.06.09</td>\n",
       "      <td>09-Jun-2018</td>\n",
       "      <td>2018.0</td>\n",
       "      <td>Invalid</td>\n",
       "      <td>USA</td>\n",
       "      <td>Hawaii</td>\n",
       "      <td>Habush, Oahu</td>\n",
       "      <td>Surfing</td>\n",
       "      <td>John Denges</td>\n",
       "      <td>M</td>\n",
       "      <td>48</td>\n",
       "      <td>Injury to left lower leg from surfboard skeg</td>\n",
       "      <td>N</td>\n",
       "      <td>07h45</td>\n",
       "      <td>NaN</td>\n",
       "      <td>K.McMurray, TrackingSharks.com</td>\n",
       "      <td>2018.06.09-Denges.pdf</td>\n",
       "      <td>http://sharkattackfile.net/spreadsheets/pdf_di...</td>\n",
       "      <td>http://sharkattackfile.net/spreadsheets/pdf_di...</td>\n",
       "      <td>2018.06.09</td>\n",
       "      <td>2018.06.09</td>\n",
       "      <td>6301.0</td>\n",
       "      <td>NaN</td>\n",
       "      <td>NaN</td>\n",
       "    </tr>\n",
       "    <tr>\n",
       "      <th>3</th>\n",
       "      <td>2018.06.08</td>\n",
       "      <td>08-Jun-2018</td>\n",
       "      <td>2018.0</td>\n",
       "      <td>Unprovoked</td>\n",
       "      <td>AUSTRALIA</td>\n",
       "      <td>New South Wales</td>\n",
       "      <td>Arrawarra Headland</td>\n",
       "      <td>Surfing</td>\n",
       "      <td>male</td>\n",
       "      <td>M</td>\n",
       "      <td>NaN</td>\n",
       "      <td>Minor injury to lower leg</td>\n",
       "      <td>N</td>\n",
       "      <td>NaN</td>\n",
       "      <td>2 m shark</td>\n",
       "      <td>B. Myatt, GSAF</td>\n",
       "      <td>2018.06.08-Arrawarra.pdf</td>\n",
       "      <td>http://sharkattackfile.net/spreadsheets/pdf_di...</td>\n",
       "      <td>http://sharkattackfile.net/spreadsheets/pdf_di...</td>\n",
       "      <td>2018.06.08</td>\n",
       "      <td>2018.06.08</td>\n",
       "      <td>6300.0</td>\n",
       "      <td>NaN</td>\n",
       "      <td>NaN</td>\n",
       "    </tr>\n",
       "    <tr>\n",
       "      <th>4</th>\n",
       "      <td>2018.06.04</td>\n",
       "      <td>04-Jun-2018</td>\n",
       "      <td>2018.0</td>\n",
       "      <td>Provoked</td>\n",
       "      <td>MEXICO</td>\n",
       "      <td>Colima</td>\n",
       "      <td>La Ticla</td>\n",
       "      <td>Free diving</td>\n",
       "      <td>Gustavo Ramos</td>\n",
       "      <td>M</td>\n",
       "      <td>NaN</td>\n",
       "      <td>Lacerations to leg &amp; hand shark PROVOKED INCIDENT</td>\n",
       "      <td>N</td>\n",
       "      <td>NaN</td>\n",
       "      <td>Tiger shark, 3m</td>\n",
       "      <td>A .Kipper</td>\n",
       "      <td>2018.06.04-Ramos.pdf</td>\n",
       "      <td>http://sharkattackfile.net/spreadsheets/pdf_di...</td>\n",
       "      <td>http://sharkattackfile.net/spreadsheets/pdf_di...</td>\n",
       "      <td>2018.06.04</td>\n",
       "      <td>2018.06.04</td>\n",
       "      <td>6299.0</td>\n",
       "      <td>NaN</td>\n",
       "      <td>NaN</td>\n",
       "    </tr>\n",
       "  </tbody>\n",
       "</table>\n",
       "</div>"
      ],
      "text/plain": [
       "  Case Number         Date    Year        Type    Country             Area  \\\n",
       "0  2018.06.25  25-Jun-2018  2018.0     Boating        USA       California   \n",
       "1  2018.06.18  18-Jun-2018  2018.0  Unprovoked        USA          Georgia   \n",
       "2  2018.06.09  09-Jun-2018  2018.0     Invalid        USA           Hawaii   \n",
       "3  2018.06.08  08-Jun-2018  2018.0  Unprovoked  AUSTRALIA  New South Wales   \n",
       "4  2018.06.04  04-Jun-2018  2018.0    Provoked     MEXICO           Colima   \n",
       "\n",
       "                         Location     Activity             Name Sex   Age  \\\n",
       "0     Oceanside, San Diego County     Paddling      Julie Wolfe    F   57   \n",
       "1  St. Simon Island, Glynn County     Standing  Adyson McNeely     F   11   \n",
       "2                    Habush, Oahu      Surfing      John Denges    M   48   \n",
       "3              Arrawarra Headland      Surfing             male    M  NaN   \n",
       "4                        La Ticla  Free diving   Gustavo Ramos     M  NaN   \n",
       "\n",
       "                                              Injury Fatal (Y/N)  \\\n",
       "0  No injury to occupant, outrigger canoe and pad...           N   \n",
       "1                         Minor injury to left thigh           N   \n",
       "2       Injury to left lower leg from surfboard skeg           N   \n",
       "3                          Minor injury to lower leg           N   \n",
       "4  Lacerations to leg & hand shark PROVOKED INCIDENT           N   \n",
       "\n",
       "            Time         Species           Investigator or Source  \\\n",
       "0          18h00      White shark                R. Collier, GSAF   \n",
       "1  14h00  -15h00              NaN  K.McMurray, TrackingSharks.com   \n",
       "2          07h45              NaN  K.McMurray, TrackingSharks.com   \n",
       "3            NaN        2 m shark                  B. Myatt, GSAF   \n",
       "4            NaN  Tiger shark, 3m                       A .Kipper   \n",
       "\n",
       "                        pdf  \\\n",
       "0      2018.06.25-Wolfe.pdf   \n",
       "1    2018.06.18-McNeely.pdf   \n",
       "2     2018.06.09-Denges.pdf   \n",
       "3  2018.06.08-Arrawarra.pdf   \n",
       "4      2018.06.04-Ramos.pdf   \n",
       "\n",
       "                                        href formula  \\\n",
       "0  http://sharkattackfile.net/spreadsheets/pdf_di...   \n",
       "1  http://sharkattackfile.net/spreadsheets/pdf_di...   \n",
       "2  http://sharkattackfile.net/spreadsheets/pdf_di...   \n",
       "3  http://sharkattackfile.net/spreadsheets/pdf_di...   \n",
       "4  http://sharkattackfile.net/spreadsheets/pdf_di...   \n",
       "\n",
       "                                                href Case Number.1  \\\n",
       "0  http://sharkattackfile.net/spreadsheets/pdf_di...    2018.06.25   \n",
       "1  http://sharkattackfile.net/spreadsheets/pdf_di...    2018.06.18   \n",
       "2  http://sharkattackfile.net/spreadsheets/pdf_di...    2018.06.09   \n",
       "3  http://sharkattackfile.net/spreadsheets/pdf_di...    2018.06.08   \n",
       "4  http://sharkattackfile.net/spreadsheets/pdf_di...    2018.06.04   \n",
       "\n",
       "  Case Number.2  original order Unnamed: 22 Unnamed: 23  \n",
       "0    2018.06.25          6303.0         NaN         NaN  \n",
       "1    2018.06.18          6302.0         NaN         NaN  \n",
       "2    2018.06.09          6301.0         NaN         NaN  \n",
       "3    2018.06.08          6300.0         NaN         NaN  \n",
       "4    2018.06.04          6299.0         NaN         NaN  "
      ]
     },
     "execution_count": 165,
     "metadata": {},
     "output_type": "execute_result"
    }
   ],
   "source": [
    "# lendo o DataFrame com todas as colunas\n",
    "sa.head()"
   ]
  },
  {
   "cell_type": "markdown",
   "metadata": {},
   "source": [
    "## LIMPEZA, MANIPULAÇÃO E ANÁLISE DO DATAFRAME"
   ]
  },
  {
   "cell_type": "code",
   "execution_count": 166,
   "metadata": {
    "ExecuteTime": {
     "end_time": "2020-11-04T18:53:02.996912Z",
     "start_time": "2020-11-04T18:53:02.939855Z"
    }
   },
   "outputs": [
    {
     "name": "stdout",
     "output_type": "stream",
     "text": [
      "<class 'pandas.core.frame.DataFrame'>\n",
      "RangeIndex: 25723 entries, 0 to 25722\n",
      "Data columns (total 24 columns):\n",
      " #   Column                  Non-Null Count  Dtype  \n",
      "---  ------                  --------------  -----  \n",
      " 0   Case Number             8702 non-null   object \n",
      " 1   Date                    6302 non-null   object \n",
      " 2   Year                    6300 non-null   float64\n",
      " 3   Type                    6298 non-null   object \n",
      " 4   Country                 6252 non-null   object \n",
      " 5   Area                    5847 non-null   object \n",
      " 6   Location                5762 non-null   object \n",
      " 7   Activity                5758 non-null   object \n",
      " 8   Name                    6092 non-null   object \n",
      " 9   Sex                     5737 non-null   object \n",
      " 10  Age                     3471 non-null   object \n",
      " 11  Injury                  6274 non-null   object \n",
      " 12  Fatal (Y/N)             5763 non-null   object \n",
      " 13  Time                    2948 non-null   object \n",
      " 14  Species                 3464 non-null   object \n",
      " 15  Investigator or Source  6285 non-null   object \n",
      " 16  pdf                     6302 non-null   object \n",
      " 17  href formula            6301 non-null   object \n",
      " 18  href                    6302 non-null   object \n",
      " 19  Case Number.1           6302 non-null   object \n",
      " 20  Case Number.2           6302 non-null   object \n",
      " 21  original order          6309 non-null   float64\n",
      " 22  Unnamed: 22             1 non-null      object \n",
      " 23  Unnamed: 23             2 non-null      object \n",
      "dtypes: float64(2), object(22)\n",
      "memory usage: 4.7+ MB\n"
     ]
    }
   ],
   "source": [
    "# verificando a quantidade de linhas não-nulas de cada coluna e o tipo de cada uma delas\n",
    "sa.info()"
   ]
  },
  {
   "cell_type": "code",
   "execution_count": 167,
   "metadata": {
    "ExecuteTime": {
     "end_time": "2020-11-04T18:53:03.049118Z",
     "start_time": "2020-11-04T18:53:03.005608Z"
    }
   },
   "outputs": [
    {
     "data": {
      "text/plain": [
       "Case Number               17021\n",
       "Date                      19421\n",
       "Year                      19423\n",
       "Type                      19425\n",
       "Country                   19471\n",
       "Area                      19876\n",
       "Location                  19961\n",
       "Activity                  19965\n",
       "Name                      19631\n",
       "Sex                       19986\n",
       "Age                       22252\n",
       "Injury                    19449\n",
       "Fatal (Y/N)               19960\n",
       "Time                      22775\n",
       "Species                   22259\n",
       "Investigator or Source    19438\n",
       "pdf                       19421\n",
       "href formula              19422\n",
       "href                      19421\n",
       "Case Number.1             19421\n",
       "Case Number.2             19421\n",
       "original order            19414\n",
       "Unnamed: 22               25722\n",
       "Unnamed: 23               25721\n",
       "dtype: int64"
      ]
     },
     "execution_count": 167,
     "metadata": {},
     "output_type": "execute_result"
    }
   ],
   "source": [
    "# verificando a quantidade de linhas nulas de cada coluna\n",
    "sa.isnull().sum()"
   ]
  },
  {
   "cell_type": "code",
   "execution_count": 168,
   "metadata": {
    "ExecuteTime": {
     "end_time": "2020-11-04T18:53:03.064537Z",
     "start_time": "2020-11-04T18:53:03.054296Z"
    }
   },
   "outputs": [],
   "source": [
    "# colocando o nome das colunas em letras minúsculas e apagando os possíveis espaços após o nome\n",
    "sa.columns=[col.lower().rstrip() for col in sa.columns]"
   ]
  },
  {
   "cell_type": "code",
   "execution_count": 169,
   "metadata": {
    "ExecuteTime": {
     "end_time": "2020-11-04T18:53:03.086261Z",
     "start_time": "2020-11-04T18:53:03.070701Z"
    }
   },
   "outputs": [],
   "source": [
    "# redefinindo o DataFrame com as colunas que serão relevantes na análise\n",
    "sa=sa[[\"case number\", \"year\", \"country\", \"area\", \"location\", \"activity\", \"sex\", \"age\", \"fatal (y/n)\", \"time\"]]"
   ]
  },
  {
   "cell_type": "code",
   "execution_count": 170,
   "metadata": {
    "ExecuteTime": {
     "end_time": "2020-11-04T18:53:03.102786Z",
     "start_time": "2020-11-04T18:53:03.091818Z"
    }
   },
   "outputs": [],
   "source": [
    "# renomeando o nome da coluna \"fatal\" (que informa se o ataque foi fatal ou nao)\n",
    "sa.rename({\"fatal (y/n)\": \"fatal\"}, axis=1, inplace=True)"
   ]
  },
  {
   "cell_type": "code",
   "execution_count": 171,
   "metadata": {
    "ExecuteTime": {
     "end_time": "2020-11-04T18:53:03.152570Z",
     "start_time": "2020-11-04T18:53:03.108564Z"
    }
   },
   "outputs": [],
   "source": [
    "# removendo linhas que contêm informações repetidas em todas as colunas\n",
    "sa.drop_duplicates(inplace=True)"
   ]
  },
  {
   "cell_type": "code",
   "execution_count": 172,
   "metadata": {
    "ExecuteTime": {
     "end_time": "2020-11-04T18:53:03.176098Z",
     "start_time": "2020-11-04T18:53:03.160421Z"
    }
   },
   "outputs": [
    {
     "data": {
      "text/plain": [
       "USA                          2229\n",
       "AUSTRALIA                    1338\n",
       "SOUTH AFRICA                  579\n",
       "PAPUA NEW GUINEA              134\n",
       "NEW ZEALAND                   128\n",
       "                             ... \n",
       "KOREA                           1\n",
       "ARUBA                           1\n",
       "SOLOMON ISLANDS / VANUATU       1\n",
       "PARAGUAY                        1\n",
       "ST. MARTIN                      1\n",
       "Name: country, Length: 212, dtype: int64"
      ]
     },
     "execution_count": 172,
     "metadata": {},
     "output_type": "execute_result"
    }
   ],
   "source": [
    "# verificando a quantidade de casos (linhas) de cada país\n",
    "sa[\"country\"].value_counts()"
   ]
  },
  {
   "cell_type": "code",
   "execution_count": 173,
   "metadata": {
    "ExecuteTime": {
     "end_time": "2020-11-04T18:53:03.201646Z",
     "start_time": "2020-11-04T18:53:03.181528Z"
    }
   },
   "outputs": [
    {
     "data": {
      "text/plain": [
       "Surfing                                                        971\n",
       "Swimming                                                       869\n",
       "Fishing                                                        431\n",
       "Spearfishing                                                   333\n",
       "Bathing                                                        162\n",
       "                                                              ... \n",
       "American schooner Orator capsized                                1\n",
       "Adrift on raft after their ship was sunk by an Axis raider       1\n",
       "Spearfishing, speared a small shark                              1\n",
       "Body found on deserted luxury yacht, 38 Christine               1\n",
       "Shipwrecked; adrift on raft for 2 days & 2 nights                1\n",
       "Name: activity, Length: 1532, dtype: int64"
      ]
     },
     "execution_count": 173,
     "metadata": {},
     "output_type": "execute_result"
    }
   ],
   "source": [
    "# verificando a quantidade de casos (linhas) de cada atividade\n",
    "sa[\"activity\"].value_counts()"
   ]
  },
  {
   "cell_type": "code",
   "execution_count": 174,
   "metadata": {
    "ExecuteTime": {
     "end_time": "2020-11-04T18:53:03.220925Z",
     "start_time": "2020-11-04T18:53:03.205327Z"
    },
    "scrolled": true
   },
   "outputs": [
    {
     "data": {
      "text/plain": [
       "N          4293\n",
       "Y          1388\n",
       "UNKNOWN      71\n",
       " N            7\n",
       "N             1\n",
       "2017          1\n",
       "y             1\n",
       "M             1\n",
       "Name: fatal, dtype: int64"
      ]
     },
     "execution_count": 174,
     "metadata": {},
     "output_type": "execute_result"
    }
   ],
   "source": [
    "# verificando a quantidade de casos (linhas) que são fatais ou não\n",
    "sa[\"fatal\"].value_counts()"
   ]
  },
  {
   "cell_type": "code",
   "execution_count": 175,
   "metadata": {
    "ExecuteTime": {
     "end_time": "2020-11-04T18:53:03.246325Z",
     "start_time": "2020-11-04T18:53:03.223413Z"
    }
   },
   "outputs": [],
   "source": [
    "# criando uma variável que exibe o número total de mortes por país\n",
    "num_mortes_pais=sa.loc[sa[\"fatal\"]==\"Y\", :].country.value_counts()"
   ]
  },
  {
   "cell_type": "code",
   "execution_count": 176,
   "metadata": {
    "ExecuteTime": {
     "end_time": "2020-11-04T18:53:03.265810Z",
     "start_time": "2020-11-04T18:53:03.249095Z"
    }
   },
   "outputs": [
    {
     "data": {
      "text/plain": [
       "AUSTRALIA           283\n",
       "USA                 186\n",
       "SOUTH AFRICA        106\n",
       "PAPUA NEW GUINEA     56\n",
       "MEXICO               43\n",
       "                   ... \n",
       "GUYANA                1\n",
       "MAYOTTE               1\n",
       "NAMIBIA               1\n",
       "Sierra Leone          1\n",
       "MONTENEGRO            1\n",
       "Name: country, Length: 147, dtype: int64"
      ]
     },
     "execution_count": 176,
     "metadata": {},
     "output_type": "execute_result"
    }
   ],
   "source": [
    "# lendo a variável criada\n",
    "num_mortes_pais"
   ]
  },
  {
   "cell_type": "code",
   "execution_count": 177,
   "metadata": {
    "ExecuteTime": {
     "end_time": "2020-11-04T18:53:03.278639Z",
     "start_time": "2020-11-04T18:53:03.269806Z"
    }
   },
   "outputs": [],
   "source": [
    "# criando uma variável que exibe o número total de casos por país\n",
    "num_casos_pais=sa[\"country\"].value_counts()"
   ]
  },
  {
   "cell_type": "code",
   "execution_count": 178,
   "metadata": {
    "ExecuteTime": {
     "end_time": "2020-11-04T18:53:03.302806Z",
     "start_time": "2020-11-04T18:53:03.288653Z"
    }
   },
   "outputs": [
    {
     "data": {
      "text/plain": [
       "USA                          2229\n",
       "AUSTRALIA                    1338\n",
       "SOUTH AFRICA                  579\n",
       "PAPUA NEW GUINEA              134\n",
       "NEW ZEALAND                   128\n",
       "                             ... \n",
       "KOREA                           1\n",
       "ARUBA                           1\n",
       "SOLOMON ISLANDS / VANUATU       1\n",
       "PARAGUAY                        1\n",
       "ST. MARTIN                      1\n",
       "Name: country, Length: 212, dtype: int64"
      ]
     },
     "execution_count": 178,
     "metadata": {},
     "output_type": "execute_result"
    }
   ],
   "source": [
    "# lendo a variável criada\n",
    "num_casos_pais"
   ]
  },
  {
   "cell_type": "code",
   "execution_count": 179,
   "metadata": {
    "ExecuteTime": {
     "end_time": "2020-11-04T18:53:03.318127Z",
     "start_time": "2020-11-04T18:53:03.309202Z"
    }
   },
   "outputs": [
    {
     "data": {
      "text/plain": [
       "0.08344549125168237"
      ]
     },
     "execution_count": 179,
     "metadata": {},
     "output_type": "execute_result"
    }
   ],
   "source": [
    "# calculando o índice de mortes nos Estados Unidos\n",
    "num_mortes_pais[\"USA\"]/num_casos_pais[\"USA\"]"
   ]
  },
  {
   "cell_type": "code",
   "execution_count": 180,
   "metadata": {
    "ExecuteTime": {
     "end_time": "2020-11-04T18:53:03.331506Z",
     "start_time": "2020-11-04T18:53:03.322003Z"
    }
   },
   "outputs": [
    {
     "data": {
      "text/plain": [
       "0.21150971599402094"
      ]
     },
     "execution_count": 180,
     "metadata": {},
     "output_type": "execute_result"
    }
   ],
   "source": [
    "# calculando o índice de mortes na Austrália\n",
    "num_mortes_pais[\"AUSTRALIA\"]/num_casos_pais[\"AUSTRALIA\"]"
   ]
  },
  {
   "cell_type": "code",
   "execution_count": 181,
   "metadata": {
    "ExecuteTime": {
     "end_time": "2020-11-04T18:53:03.343186Z",
     "start_time": "2020-11-04T18:53:03.334063Z"
    }
   },
   "outputs": [
    {
     "data": {
      "text/plain": [
       "0.18307426597582038"
      ]
     },
     "execution_count": 181,
     "metadata": {},
     "output_type": "execute_result"
    }
   ],
   "source": [
    "# calculando o índice de mortes na África do Sul\n",
    "num_mortes_pais[\"SOUTH AFRICA\"]/num_casos_pais[\"SOUTH AFRICA\"]"
   ]
  },
  {
   "cell_type": "code",
   "execution_count": 182,
   "metadata": {
    "ExecuteTime": {
     "end_time": "2020-11-04T18:53:03.358058Z",
     "start_time": "2020-11-04T18:53:03.350354Z"
    }
   },
   "outputs": [],
   "source": [
    "# salvando o DataFrame atualizado em uma variável para utilizá-la depois\n",
    "sa_bkp_ano=sa.copy()"
   ]
  },
  {
   "cell_type": "markdown",
   "metadata": {
    "ExecuteTime": {
     "end_time": "2020-11-03T19:11:47.421445Z",
     "start_time": "2020-11-03T19:11:47.404622Z"
    }
   },
   "source": [
    "### Análise dos dados do século 21 incluindo o ano 2000 (2000-2018)"
   ]
  },
  {
   "cell_type": "code",
   "execution_count": 183,
   "metadata": {
    "ExecuteTime": {
     "end_time": "2020-11-04T18:53:03.377184Z",
     "start_time": "2020-11-04T18:53:03.366289Z"
    }
   },
   "outputs": [],
   "source": [
    "# criando uma variável que exibe um DataFrame com todos os casos do século 21 (com base no DataFrame atualizado)\n",
    "sa_2000=sa.loc[sa[\"year\"]>=2000, :]"
   ]
  },
  {
   "cell_type": "code",
   "execution_count": 184,
   "metadata": {
    "ExecuteTime": {
     "end_time": "2020-11-04T18:53:03.432484Z",
     "start_time": "2020-11-04T18:53:03.381157Z"
    }
   },
   "outputs": [
    {
     "data": {
      "text/html": [
       "<div>\n",
       "<style scoped>\n",
       "    .dataframe tbody tr th:only-of-type {\n",
       "        vertical-align: middle;\n",
       "    }\n",
       "\n",
       "    .dataframe tbody tr th {\n",
       "        vertical-align: top;\n",
       "    }\n",
       "\n",
       "    .dataframe thead th {\n",
       "        text-align: right;\n",
       "    }\n",
       "</style>\n",
       "<table border=\"1\" class=\"dataframe\">\n",
       "  <thead>\n",
       "    <tr style=\"text-align: right;\">\n",
       "      <th></th>\n",
       "      <th>case number</th>\n",
       "      <th>year</th>\n",
       "      <th>country</th>\n",
       "      <th>area</th>\n",
       "      <th>location</th>\n",
       "      <th>activity</th>\n",
       "      <th>sex</th>\n",
       "      <th>age</th>\n",
       "      <th>fatal</th>\n",
       "      <th>time</th>\n",
       "    </tr>\n",
       "  </thead>\n",
       "  <tbody>\n",
       "    <tr>\n",
       "      <th>0</th>\n",
       "      <td>2018.06.25</td>\n",
       "      <td>2018.0</td>\n",
       "      <td>USA</td>\n",
       "      <td>California</td>\n",
       "      <td>Oceanside, San Diego County</td>\n",
       "      <td>Paddling</td>\n",
       "      <td>F</td>\n",
       "      <td>57</td>\n",
       "      <td>N</td>\n",
       "      <td>18h00</td>\n",
       "    </tr>\n",
       "    <tr>\n",
       "      <th>1</th>\n",
       "      <td>2018.06.18</td>\n",
       "      <td>2018.0</td>\n",
       "      <td>USA</td>\n",
       "      <td>Georgia</td>\n",
       "      <td>St. Simon Island, Glynn County</td>\n",
       "      <td>Standing</td>\n",
       "      <td>F</td>\n",
       "      <td>11</td>\n",
       "      <td>N</td>\n",
       "      <td>14h00  -15h00</td>\n",
       "    </tr>\n",
       "    <tr>\n",
       "      <th>2</th>\n",
       "      <td>2018.06.09</td>\n",
       "      <td>2018.0</td>\n",
       "      <td>USA</td>\n",
       "      <td>Hawaii</td>\n",
       "      <td>Habush, Oahu</td>\n",
       "      <td>Surfing</td>\n",
       "      <td>M</td>\n",
       "      <td>48</td>\n",
       "      <td>N</td>\n",
       "      <td>07h45</td>\n",
       "    </tr>\n",
       "    <tr>\n",
       "      <th>3</th>\n",
       "      <td>2018.06.08</td>\n",
       "      <td>2018.0</td>\n",
       "      <td>AUSTRALIA</td>\n",
       "      <td>New South Wales</td>\n",
       "      <td>Arrawarra Headland</td>\n",
       "      <td>Surfing</td>\n",
       "      <td>M</td>\n",
       "      <td>NaN</td>\n",
       "      <td>N</td>\n",
       "      <td>NaN</td>\n",
       "    </tr>\n",
       "    <tr>\n",
       "      <th>4</th>\n",
       "      <td>2018.06.04</td>\n",
       "      <td>2018.0</td>\n",
       "      <td>MEXICO</td>\n",
       "      <td>Colima</td>\n",
       "      <td>La Ticla</td>\n",
       "      <td>Free diving</td>\n",
       "      <td>M</td>\n",
       "      <td>NaN</td>\n",
       "      <td>N</td>\n",
       "      <td>NaN</td>\n",
       "    </tr>\n",
       "  </tbody>\n",
       "</table>\n",
       "</div>"
      ],
      "text/plain": [
       "  case number    year    country             area  \\\n",
       "0  2018.06.25  2018.0        USA       California   \n",
       "1  2018.06.18  2018.0        USA          Georgia   \n",
       "2  2018.06.09  2018.0        USA           Hawaii   \n",
       "3  2018.06.08  2018.0  AUSTRALIA  New South Wales   \n",
       "4  2018.06.04  2018.0     MEXICO           Colima   \n",
       "\n",
       "                         location     activity sex  age fatal           time  \n",
       "0     Oceanside, San Diego County     Paddling   F   57     N          18h00  \n",
       "1  St. Simon Island, Glynn County     Standing   F   11     N  14h00  -15h00  \n",
       "2                    Habush, Oahu      Surfing   M   48     N          07h45  \n",
       "3              Arrawarra Headland      Surfing   M  NaN     N            NaN  \n",
       "4                        La Ticla  Free diving   M  NaN     N            NaN  "
      ]
     },
     "execution_count": 184,
     "metadata": {},
     "output_type": "execute_result"
    }
   ],
   "source": [
    "# verificando o DataFrame criado\n",
    "sa_2000.head()"
   ]
  },
  {
   "cell_type": "code",
   "execution_count": 185,
   "metadata": {
    "ExecuteTime": {
     "end_time": "2020-11-04T18:53:03.462054Z",
     "start_time": "2020-11-04T18:53:03.436749Z"
    }
   },
   "outputs": [
    {
     "name": "stdout",
     "output_type": "stream",
     "text": [
      "<class 'pandas.core.frame.DataFrame'>\n",
      "Int64Index: 2078 entries, 0 to 2078\n",
      "Data columns (total 10 columns):\n",
      " #   Column       Non-Null Count  Dtype  \n",
      "---  ------       --------------  -----  \n",
      " 0   case number  2078 non-null   object \n",
      " 1   year         2078 non-null   float64\n",
      " 2   country      2076 non-null   object \n",
      " 3   area         1988 non-null   object \n",
      " 4   location     1991 non-null   object \n",
      " 5   activity     1987 non-null   object \n",
      " 6   sex          1974 non-null   object \n",
      " 7   age          1552 non-null   object \n",
      " 8   fatal        1917 non-null   object \n",
      " 9   time         1478 non-null   object \n",
      "dtypes: float64(1), object(9)\n",
      "memory usage: 178.6+ KB\n"
     ]
    }
   ],
   "source": [
    "# verificando a quantidade de linhas não-nulas do DataFrame\n",
    "sa_2000.info()"
   ]
  },
  {
   "cell_type": "code",
   "execution_count": 186,
   "metadata": {
    "ExecuteTime": {
     "end_time": "2020-11-04T18:53:03.474039Z",
     "start_time": "2020-11-04T18:53:03.466192Z"
    }
   },
   "outputs": [
    {
     "name": "stderr",
     "output_type": "stream",
     "text": [
      "<ipython-input-186-fbbb82da6514>:2: SettingWithCopyWarning: \n",
      "A value is trying to be set on a copy of a slice from a DataFrame.\n",
      "Try using .loc[row_indexer,col_indexer] = value instead\n",
      "\n",
      "See the caveats in the documentation: https://pandas.pydata.org/pandas-docs/stable/user_guide/indexing.html#returning-a-view-versus-a-copy\n",
      "  sa_2000[\"year\"]=sa_2000[\"year\"].astype(\"int\")\n"
     ]
    }
   ],
   "source": [
    "# mudando o tipo da coluna que informa o ano de float para int\n",
    "sa_2000[\"year\"]=sa_2000[\"year\"].astype(\"int\")"
   ]
  },
  {
   "cell_type": "code",
   "execution_count": 187,
   "metadata": {
    "ExecuteTime": {
     "end_time": "2020-11-04T18:53:03.491083Z",
     "start_time": "2020-11-04T18:53:03.478169Z"
    }
   },
   "outputs": [
    {
     "name": "stderr",
     "output_type": "stream",
     "text": [
      "<ipython-input-187-eb0601242b02>:2: SettingWithCopyWarning: \n",
      "A value is trying to be set on a copy of a slice from a DataFrame\n",
      "\n",
      "See the caveats in the documentation: https://pandas.pydata.org/pandas-docs/stable/user_guide/indexing.html#returning-a-view-versus-a-copy\n",
      "  sa_2000.dropna(subset=[\"fatal\"], inplace=True)\n"
     ]
    }
   ],
   "source": [
    "# excluindo as linhas em que a informação da coluna \"fatal\" é nula \n",
    "sa_2000.dropna(subset=[\"fatal\"], inplace=True)"
   ]
  },
  {
   "cell_type": "code",
   "execution_count": 188,
   "metadata": {
    "ExecuteTime": {
     "end_time": "2020-11-04T18:53:03.509029Z",
     "start_time": "2020-11-04T18:53:03.494794Z"
    }
   },
   "outputs": [
    {
     "data": {
      "text/plain": [
       "N          1738\n",
       "Y           175\n",
       "UNKNOWN       2\n",
       "M             1\n",
       "2017          1\n",
       "Name: fatal, dtype: int64"
      ]
     },
     "execution_count": 188,
     "metadata": {},
     "output_type": "execute_result"
    }
   ],
   "source": [
    "# verificando a quantidade de ataques fatais ou não\n",
    "sa_2000[\"fatal\"].value_counts()"
   ]
  },
  {
   "cell_type": "code",
   "execution_count": 189,
   "metadata": {
    "ExecuteTime": {
     "end_time": "2020-11-04T18:53:03.523520Z",
     "start_time": "2020-11-04T18:53:03.513239Z"
    }
   },
   "outputs": [],
   "source": [
    "# redefenindo a coluna \"fatal\" com apenas dois tipos de valores: \"Y\" (se foi fatal) e \"N\" (se não foi fatal)\n",
    "sa_2000=sa_2000.loc[(sa_2000[\"fatal\"]==\"Y\")|(sa_2000[\"fatal\"]==\"N\"), :]\n",
    "# sa_2000.loc[sa_2000['fatal'].isin(['Y','N']), :]"
   ]
  },
  {
   "cell_type": "code",
   "execution_count": 190,
   "metadata": {
    "ExecuteTime": {
     "end_time": "2020-11-04T18:53:03.545155Z",
     "start_time": "2020-11-04T18:53:03.526808Z"
    }
   },
   "outputs": [
    {
     "data": {
      "text/plain": [
       "N    1738\n",
       "Y     175\n",
       "Name: fatal, dtype: int64"
      ]
     },
     "execution_count": 190,
     "metadata": {},
     "output_type": "execute_result"
    }
   ],
   "source": [
    "# verificando a quantidade de ataques fatais ou não\n",
    "sa_2000[\"fatal\"].value_counts()"
   ]
  },
  {
   "cell_type": "code",
   "execution_count": 191,
   "metadata": {
    "ExecuteTime": {
     "end_time": "2020-11-04T18:53:03.587888Z",
     "start_time": "2020-11-04T18:53:03.549971Z"
    }
   },
   "outputs": [
    {
     "name": "stdout",
     "output_type": "stream",
     "text": [
      "<class 'pandas.core.frame.DataFrame'>\n",
      "Int64Index: 1913 entries, 0 to 2078\n",
      "Data columns (total 10 columns):\n",
      " #   Column       Non-Null Count  Dtype \n",
      "---  ------       --------------  ----- \n",
      " 0   case number  1913 non-null   object\n",
      " 1   year         1913 non-null   int64 \n",
      " 2   country      1912 non-null   object\n",
      " 3   area         1836 non-null   object\n",
      " 4   location     1839 non-null   object\n",
      " 5   activity     1848 non-null   object\n",
      " 6   sex          1824 non-null   object\n",
      " 7   age          1445 non-null   object\n",
      " 8   fatal        1913 non-null   object\n",
      " 9   time         1408 non-null   object\n",
      "dtypes: int64(1), object(9)\n",
      "memory usage: 164.4+ KB\n"
     ]
    }
   ],
   "source": [
    "# verificando a quantidade de linhas não-nulas de cada coluna\n",
    "sa_2000.info()"
   ]
  },
  {
   "cell_type": "code",
   "execution_count": 192,
   "metadata": {
    "ExecuteTime": {
     "end_time": "2020-11-04T18:53:03.605398Z",
     "start_time": "2020-11-04T18:53:03.591962Z"
    }
   },
   "outputs": [],
   "source": [
    "# excluindo as linhas em que a informação da coluna dos países é nula \n",
    "sa_2000.dropna(subset=[\"country\"], inplace=True)"
   ]
  },
  {
   "cell_type": "code",
   "execution_count": 193,
   "metadata": {
    "ExecuteTime": {
     "end_time": "2020-11-04T18:53:03.632819Z",
     "start_time": "2020-11-04T18:53:03.609596Z"
    },
    "scrolled": true
   },
   "outputs": [
    {
     "name": "stdout",
     "output_type": "stream",
     "text": [
      "<class 'pandas.core.frame.DataFrame'>\n",
      "Int64Index: 1912 entries, 0 to 2078\n",
      "Data columns (total 10 columns):\n",
      " #   Column       Non-Null Count  Dtype \n",
      "---  ------       --------------  ----- \n",
      " 0   case number  1912 non-null   object\n",
      " 1   year         1912 non-null   int64 \n",
      " 2   country      1912 non-null   object\n",
      " 3   area         1836 non-null   object\n",
      " 4   location     1839 non-null   object\n",
      " 5   activity     1847 non-null   object\n",
      " 6   sex          1823 non-null   object\n",
      " 7   age          1444 non-null   object\n",
      " 8   fatal        1912 non-null   object\n",
      " 9   time         1408 non-null   object\n",
      "dtypes: int64(1), object(9)\n",
      "memory usage: 164.3+ KB\n"
     ]
    }
   ],
   "source": [
    "# verificando a quantidade de linhas não-nulas de cada coluna\n",
    "sa_2000.info()"
   ]
  },
  {
   "cell_type": "markdown",
   "metadata": {},
   "source": [
    "#### Análise do índice de mortes por país"
   ]
  },
  {
   "cell_type": "code",
   "execution_count": 194,
   "metadata": {
    "ExecuteTime": {
     "end_time": "2020-11-04T18:53:03.646886Z",
     "start_time": "2020-11-04T18:53:03.636957Z"
    }
   },
   "outputs": [],
   "source": [
    "# criando uma nova coluna no DataFrame com os valores 1 (se o caso foi fatal) e 0 (se o caso não foi fatal)\n",
    "sa_2000[\"morte\"]=[1 if fatal==\"Y\" else 0 for fatal in sa_2000[\"fatal\"]]"
   ]
  },
  {
   "cell_type": "code",
   "execution_count": 195,
   "metadata": {
    "ExecuteTime": {
     "end_time": "2020-11-04T18:53:03.688490Z",
     "start_time": "2020-11-04T18:53:03.651601Z"
    }
   },
   "outputs": [
    {
     "data": {
      "text/html": [
       "<div>\n",
       "<style scoped>\n",
       "    .dataframe tbody tr th:only-of-type {\n",
       "        vertical-align: middle;\n",
       "    }\n",
       "\n",
       "    .dataframe tbody tr th {\n",
       "        vertical-align: top;\n",
       "    }\n",
       "\n",
       "    .dataframe thead th {\n",
       "        text-align: right;\n",
       "    }\n",
       "</style>\n",
       "<table border=\"1\" class=\"dataframe\">\n",
       "  <thead>\n",
       "    <tr style=\"text-align: right;\">\n",
       "      <th></th>\n",
       "      <th>case number</th>\n",
       "      <th>year</th>\n",
       "      <th>country</th>\n",
       "      <th>area</th>\n",
       "      <th>location</th>\n",
       "      <th>activity</th>\n",
       "      <th>sex</th>\n",
       "      <th>age</th>\n",
       "      <th>fatal</th>\n",
       "      <th>time</th>\n",
       "      <th>morte</th>\n",
       "    </tr>\n",
       "  </thead>\n",
       "  <tbody>\n",
       "    <tr>\n",
       "      <th>0</th>\n",
       "      <td>2018.06.25</td>\n",
       "      <td>2018</td>\n",
       "      <td>USA</td>\n",
       "      <td>California</td>\n",
       "      <td>Oceanside, San Diego County</td>\n",
       "      <td>Paddling</td>\n",
       "      <td>F</td>\n",
       "      <td>57</td>\n",
       "      <td>N</td>\n",
       "      <td>18h00</td>\n",
       "      <td>0</td>\n",
       "    </tr>\n",
       "    <tr>\n",
       "      <th>1</th>\n",
       "      <td>2018.06.18</td>\n",
       "      <td>2018</td>\n",
       "      <td>USA</td>\n",
       "      <td>Georgia</td>\n",
       "      <td>St. Simon Island, Glynn County</td>\n",
       "      <td>Standing</td>\n",
       "      <td>F</td>\n",
       "      <td>11</td>\n",
       "      <td>N</td>\n",
       "      <td>14h00  -15h00</td>\n",
       "      <td>0</td>\n",
       "    </tr>\n",
       "    <tr>\n",
       "      <th>2</th>\n",
       "      <td>2018.06.09</td>\n",
       "      <td>2018</td>\n",
       "      <td>USA</td>\n",
       "      <td>Hawaii</td>\n",
       "      <td>Habush, Oahu</td>\n",
       "      <td>Surfing</td>\n",
       "      <td>M</td>\n",
       "      <td>48</td>\n",
       "      <td>N</td>\n",
       "      <td>07h45</td>\n",
       "      <td>0</td>\n",
       "    </tr>\n",
       "    <tr>\n",
       "      <th>3</th>\n",
       "      <td>2018.06.08</td>\n",
       "      <td>2018</td>\n",
       "      <td>AUSTRALIA</td>\n",
       "      <td>New South Wales</td>\n",
       "      <td>Arrawarra Headland</td>\n",
       "      <td>Surfing</td>\n",
       "      <td>M</td>\n",
       "      <td>NaN</td>\n",
       "      <td>N</td>\n",
       "      <td>NaN</td>\n",
       "      <td>0</td>\n",
       "    </tr>\n",
       "    <tr>\n",
       "      <th>4</th>\n",
       "      <td>2018.06.04</td>\n",
       "      <td>2018</td>\n",
       "      <td>MEXICO</td>\n",
       "      <td>Colima</td>\n",
       "      <td>La Ticla</td>\n",
       "      <td>Free diving</td>\n",
       "      <td>M</td>\n",
       "      <td>NaN</td>\n",
       "      <td>N</td>\n",
       "      <td>NaN</td>\n",
       "      <td>0</td>\n",
       "    </tr>\n",
       "  </tbody>\n",
       "</table>\n",
       "</div>"
      ],
      "text/plain": [
       "  case number  year    country             area  \\\n",
       "0  2018.06.25  2018        USA       California   \n",
       "1  2018.06.18  2018        USA          Georgia   \n",
       "2  2018.06.09  2018        USA           Hawaii   \n",
       "3  2018.06.08  2018  AUSTRALIA  New South Wales   \n",
       "4  2018.06.04  2018     MEXICO           Colima   \n",
       "\n",
       "                         location     activity sex  age fatal           time  \\\n",
       "0     Oceanside, San Diego County     Paddling   F   57     N          18h00   \n",
       "1  St. Simon Island, Glynn County     Standing   F   11     N  14h00  -15h00   \n",
       "2                    Habush, Oahu      Surfing   M   48     N          07h45   \n",
       "3              Arrawarra Headland      Surfing   M  NaN     N            NaN   \n",
       "4                        La Ticla  Free diving   M  NaN     N            NaN   \n",
       "\n",
       "   morte  \n",
       "0      0  \n",
       "1      0  \n",
       "2      0  \n",
       "3      0  \n",
       "4      0  "
      ]
     },
     "execution_count": 195,
     "metadata": {},
     "output_type": "execute_result"
    }
   ],
   "source": [
    "# verificando o DataFrame com a nova coluna\n",
    "sa_2000.head()"
   ]
  },
  {
   "cell_type": "code",
   "execution_count": 196,
   "metadata": {
    "ExecuteTime": {
     "end_time": "2020-11-04T18:53:03.730074Z",
     "start_time": "2020-11-04T18:53:03.692751Z"
    }
   },
   "outputs": [],
   "source": [
    "# criando uma variável que exibe um DataFrame que informa a quantidade de casos e mortes por país\n",
    "sa_2000_analise_mortes=sa_2000.groupby(by=\"country\").agg(num_casos_2000a2018=(\"country\", \"count\"), num_mortes_2000a2018=(\"morte\", \"sum\")).reset_index()"
   ]
  },
  {
   "cell_type": "code",
   "execution_count": 197,
   "metadata": {
    "ExecuteTime": {
     "end_time": "2020-11-04T18:53:03.760557Z",
     "start_time": "2020-11-04T18:53:03.736890Z"
    }
   },
   "outputs": [
    {
     "data": {
      "text/html": [
       "<div>\n",
       "<style scoped>\n",
       "    .dataframe tbody tr th:only-of-type {\n",
       "        vertical-align: middle;\n",
       "    }\n",
       "\n",
       "    .dataframe tbody tr th {\n",
       "        vertical-align: top;\n",
       "    }\n",
       "\n",
       "    .dataframe thead th {\n",
       "        text-align: right;\n",
       "    }\n",
       "</style>\n",
       "<table border=\"1\" class=\"dataframe\">\n",
       "  <thead>\n",
       "    <tr style=\"text-align: right;\">\n",
       "      <th></th>\n",
       "      <th>country</th>\n",
       "      <th>num_casos_2000a2018</th>\n",
       "      <th>num_mortes_2000a2018</th>\n",
       "    </tr>\n",
       "  </thead>\n",
       "  <tbody>\n",
       "    <tr>\n",
       "      <th>0</th>\n",
       "      <td>TONGA</td>\n",
       "      <td>3</td>\n",
       "      <td>2</td>\n",
       "    </tr>\n",
       "    <tr>\n",
       "      <th>1</th>\n",
       "      <td>ARUBA</td>\n",
       "      <td>1</td>\n",
       "      <td>1</td>\n",
       "    </tr>\n",
       "    <tr>\n",
       "      <th>2</th>\n",
       "      <td>ATLANTIC OCEAN</td>\n",
       "      <td>4</td>\n",
       "      <td>0</td>\n",
       "    </tr>\n",
       "    <tr>\n",
       "      <th>3</th>\n",
       "      <td>AUSTRALIA</td>\n",
       "      <td>362</td>\n",
       "      <td>33</td>\n",
       "    </tr>\n",
       "    <tr>\n",
       "      <th>4</th>\n",
       "      <td>AZORES</td>\n",
       "      <td>2</td>\n",
       "      <td>0</td>\n",
       "    </tr>\n",
       "  </tbody>\n",
       "</table>\n",
       "</div>"
      ],
      "text/plain": [
       "          country  num_casos_2000a2018  num_mortes_2000a2018\n",
       "0           TONGA                    3                     2\n",
       "1           ARUBA                    1                     1\n",
       "2  ATLANTIC OCEAN                    4                     0\n",
       "3       AUSTRALIA                  362                    33\n",
       "4          AZORES                    2                     0"
      ]
     },
     "execution_count": 197,
     "metadata": {},
     "output_type": "execute_result"
    }
   ],
   "source": [
    "# verificando o novo DataFrame criado\n",
    "sa_2000_analise_mortes.head()"
   ]
  },
  {
   "cell_type": "code",
   "execution_count": 198,
   "metadata": {
    "ExecuteTime": {
     "end_time": "2020-11-04T18:53:04.136589Z",
     "start_time": "2020-11-04T18:53:03.772348Z"
    }
   },
   "outputs": [],
   "source": [
    "# criando uma nova coluna que informa o índice de mortes por país\n",
    "sa_2000_analise_mortes[\"prop_mortes_2000a2018\"]=sa_2000_analise_mortes[\"num_mortes_2000a2018\"]/sa_2000_analise_mortes[\"num_casos_2000a2018\"]"
   ]
  },
  {
   "cell_type": "code",
   "execution_count": 199,
   "metadata": {
    "ExecuteTime": {
     "end_time": "2020-11-04T18:53:04.147620Z",
     "start_time": "2020-11-04T18:53:04.140980Z"
    },
    "scrolled": true
   },
   "outputs": [],
   "source": [
    "# ordenando o DataFrame por número de casos\n",
    "sa_2000_analise_mortes=sa_2000_analise_mortes.sort_values(\"num_casos_2000a2018\", ascending=False)"
   ]
  },
  {
   "cell_type": "code",
   "execution_count": 200,
   "metadata": {
    "ExecuteTime": {
     "end_time": "2020-11-04T18:53:04.177191Z",
     "start_time": "2020-11-04T18:53:04.152120Z"
    },
    "scrolled": true
   },
   "outputs": [
    {
     "data": {
      "text/html": [
       "<div>\n",
       "<style scoped>\n",
       "    .dataframe tbody tr th:only-of-type {\n",
       "        vertical-align: middle;\n",
       "    }\n",
       "\n",
       "    .dataframe tbody tr th {\n",
       "        vertical-align: top;\n",
       "    }\n",
       "\n",
       "    .dataframe thead th {\n",
       "        text-align: right;\n",
       "    }\n",
       "</style>\n",
       "<table border=\"1\" class=\"dataframe\">\n",
       "  <thead>\n",
       "    <tr style=\"text-align: right;\">\n",
       "      <th></th>\n",
       "      <th>country</th>\n",
       "      <th>num_casos_2000a2018</th>\n",
       "      <th>num_mortes_2000a2018</th>\n",
       "      <th>prop_mortes_2000a2018</th>\n",
       "    </tr>\n",
       "  </thead>\n",
       "  <tbody>\n",
       "    <tr>\n",
       "      <th>81</th>\n",
       "      <td>USA</td>\n",
       "      <td>951</td>\n",
       "      <td>20</td>\n",
       "      <td>0.021030</td>\n",
       "    </tr>\n",
       "    <tr>\n",
       "      <th>3</th>\n",
       "      <td>AUSTRALIA</td>\n",
       "      <td>362</td>\n",
       "      <td>33</td>\n",
       "      <td>0.091160</td>\n",
       "    </tr>\n",
       "    <tr>\n",
       "      <th>64</th>\n",
       "      <td>SOUTH AFRICA</td>\n",
       "      <td>124</td>\n",
       "      <td>22</td>\n",
       "      <td>0.177419</td>\n",
       "    </tr>\n",
       "    <tr>\n",
       "      <th>5</th>\n",
       "      <td>BAHAMAS</td>\n",
       "      <td>51</td>\n",
       "      <td>1</td>\n",
       "      <td>0.019608</td>\n",
       "    </tr>\n",
       "    <tr>\n",
       "      <th>7</th>\n",
       "      <td>BRAZIL</td>\n",
       "      <td>49</td>\n",
       "      <td>18</td>\n",
       "      <td>0.367347</td>\n",
       "    </tr>\n",
       "  </tbody>\n",
       "</table>\n",
       "</div>"
      ],
      "text/plain": [
       "         country  num_casos_2000a2018  num_mortes_2000a2018  \\\n",
       "81           USA                  951                    20   \n",
       "3      AUSTRALIA                  362                    33   \n",
       "64  SOUTH AFRICA                  124                    22   \n",
       "5        BAHAMAS                   51                     1   \n",
       "7         BRAZIL                   49                    18   \n",
       "\n",
       "    prop_mortes_2000a2018  \n",
       "81               0.021030  \n",
       "3                0.091160  \n",
       "64               0.177419  \n",
       "5                0.019608  \n",
       "7                0.367347  "
      ]
     },
     "execution_count": 200,
     "metadata": {},
     "output_type": "execute_result"
    }
   ],
   "source": [
    "# verificando o DataFrame com a nova coluna e ordenado pelo número de casos\n",
    "sa_2000_analise_mortes.head()"
   ]
  },
  {
   "cell_type": "code",
   "execution_count": 201,
   "metadata": {
    "ExecuteTime": {
     "end_time": "2020-11-04T18:53:04.189768Z",
     "start_time": "2020-11-04T18:53:04.181729Z"
    }
   },
   "outputs": [],
   "source": [
    "# criando uma variável que exibe um DataFrame com todos os casos de morte\n",
    "sa_2000_mortes=sa_2000.loc[sa_2000[\"morte\"]==1, :]"
   ]
  },
  {
   "cell_type": "code",
   "execution_count": 202,
   "metadata": {
    "ExecuteTime": {
     "end_time": "2020-11-04T18:53:04.230139Z",
     "start_time": "2020-11-04T18:53:04.192601Z"
    },
    "scrolled": true
   },
   "outputs": [
    {
     "data": {
      "text/html": [
       "<div>\n",
       "<style scoped>\n",
       "    .dataframe tbody tr th:only-of-type {\n",
       "        vertical-align: middle;\n",
       "    }\n",
       "\n",
       "    .dataframe tbody tr th {\n",
       "        vertical-align: top;\n",
       "    }\n",
       "\n",
       "    .dataframe thead th {\n",
       "        text-align: right;\n",
       "    }\n",
       "</style>\n",
       "<table border=\"1\" class=\"dataframe\">\n",
       "  <thead>\n",
       "    <tr style=\"text-align: right;\">\n",
       "      <th></th>\n",
       "      <th>case number</th>\n",
       "      <th>year</th>\n",
       "      <th>country</th>\n",
       "      <th>area</th>\n",
       "      <th>location</th>\n",
       "      <th>activity</th>\n",
       "      <th>sex</th>\n",
       "      <th>age</th>\n",
       "      <th>fatal</th>\n",
       "      <th>time</th>\n",
       "      <th>morte</th>\n",
       "    </tr>\n",
       "  </thead>\n",
       "  <tbody>\n",
       "    <tr>\n",
       "      <th>6</th>\n",
       "      <td>2018.06.03.a</td>\n",
       "      <td>2018</td>\n",
       "      <td>BRAZIL</td>\n",
       "      <td>Pernambuco</td>\n",
       "      <td>Piedade Beach, Recife</td>\n",
       "      <td>Swimming</td>\n",
       "      <td>M</td>\n",
       "      <td>18</td>\n",
       "      <td>Y</td>\n",
       "      <td>Late afternoon</td>\n",
       "      <td>1</td>\n",
       "    </tr>\n",
       "    <tr>\n",
       "      <th>58</th>\n",
       "      <td>2017.11.30.a</td>\n",
       "      <td>2017</td>\n",
       "      <td>COSTA RICA</td>\n",
       "      <td>Cocos Island</td>\n",
       "      <td>Manuelita</td>\n",
       "      <td>Scuba diving</td>\n",
       "      <td>F</td>\n",
       "      <td>49</td>\n",
       "      <td>Y</td>\n",
       "      <td>NaN</td>\n",
       "      <td>1</td>\n",
       "    </tr>\n",
       "    <tr>\n",
       "      <th>59</th>\n",
       "      <td>2017.11.25.R</td>\n",
       "      <td>2017</td>\n",
       "      <td>LIBYA</td>\n",
       "      <td>NaN</td>\n",
       "      <td>Gars Garabulli</td>\n",
       "      <td>2 boats capsized</td>\n",
       "      <td>NaN</td>\n",
       "      <td>NaN</td>\n",
       "      <td>Y</td>\n",
       "      <td>NaN</td>\n",
       "      <td>1</td>\n",
       "    </tr>\n",
       "    <tr>\n",
       "      <th>64</th>\n",
       "      <td>2017.11.04</td>\n",
       "      <td>2017</td>\n",
       "      <td>CUBA</td>\n",
       "      <td>Holquin Province</td>\n",
       "      <td>Guardalavaca Beach</td>\n",
       "      <td>Night bathing</td>\n",
       "      <td>M</td>\n",
       "      <td>22</td>\n",
       "      <td>Y</td>\n",
       "      <td>23h30</td>\n",
       "      <td>1</td>\n",
       "    </tr>\n",
       "    <tr>\n",
       "      <th>91</th>\n",
       "      <td>2017.09.03.b</td>\n",
       "      <td>2017</td>\n",
       "      <td>SOUTH AFRICA</td>\n",
       "      <td>Western Cape Province</td>\n",
       "      <td>Dyer Island</td>\n",
       "      <td>Swimming, poaching abalone</td>\n",
       "      <td>M</td>\n",
       "      <td>NaN</td>\n",
       "      <td>Y</td>\n",
       "      <td>Morning</td>\n",
       "      <td>1</td>\n",
       "    </tr>\n",
       "  </tbody>\n",
       "</table>\n",
       "</div>"
      ],
      "text/plain": [
       "     case number  year       country                   area  \\\n",
       "6   2018.06.03.a  2018        BRAZIL             Pernambuco   \n",
       "58  2017.11.30.a  2017    COSTA RICA           Cocos Island   \n",
       "59  2017.11.25.R  2017         LIBYA                    NaN   \n",
       "64    2017.11.04  2017          CUBA       Holquin Province   \n",
       "91  2017.09.03.b  2017  SOUTH AFRICA  Western Cape Province   \n",
       "\n",
       "                 location                    activity  sex  age fatal  \\\n",
       "6   Piedade Beach, Recife                    Swimming    M   18     Y   \n",
       "58              Manuelita                Scuba diving    F   49     Y   \n",
       "59         Gars Garabulli            2 boats capsized  NaN  NaN     Y   \n",
       "64     Guardalavaca Beach               Night bathing    M   22     Y   \n",
       "91            Dyer Island  Swimming, poaching abalone    M  NaN     Y   \n",
       "\n",
       "              time  morte  \n",
       "6   Late afternoon      1  \n",
       "58             NaN      1  \n",
       "59             NaN      1  \n",
       "64           23h30      1  \n",
       "91         Morning      1  "
      ]
     },
     "execution_count": 202,
     "metadata": {},
     "output_type": "execute_result"
    }
   ],
   "source": [
    "# verificando o novo DataFrame criado\n",
    "sa_2000_mortes.head()"
   ]
  },
  {
   "cell_type": "code",
   "execution_count": 203,
   "metadata": {
    "ExecuteTime": {
     "end_time": "2020-11-04T18:53:04.247532Z",
     "start_time": "2020-11-04T18:53:04.236621Z"
    }
   },
   "outputs": [],
   "source": [
    "# pd.options.display.max_rows=99 (verificar todos os casos/linhas do DataFrame)"
   ]
  },
  {
   "cell_type": "code",
   "execution_count": 204,
   "metadata": {
    "ExecuteTime": {
     "end_time": "2020-11-04T18:53:04.308978Z",
     "start_time": "2020-11-04T18:53:04.254707Z"
    }
   },
   "outputs": [
    {
     "data": {
      "text/html": [
       "<div>\n",
       "<style scoped>\n",
       "    .dataframe tbody tr th:only-of-type {\n",
       "        vertical-align: middle;\n",
       "    }\n",
       "\n",
       "    .dataframe tbody tr th {\n",
       "        vertical-align: top;\n",
       "    }\n",
       "\n",
       "    .dataframe thead th {\n",
       "        text-align: right;\n",
       "    }\n",
       "</style>\n",
       "<table border=\"1\" class=\"dataframe\">\n",
       "  <thead>\n",
       "    <tr style=\"text-align: right;\">\n",
       "      <th></th>\n",
       "      <th>case number</th>\n",
       "      <th>year</th>\n",
       "      <th>country</th>\n",
       "      <th>area</th>\n",
       "      <th>location</th>\n",
       "      <th>activity</th>\n",
       "      <th>sex</th>\n",
       "      <th>age</th>\n",
       "      <th>fatal</th>\n",
       "      <th>time</th>\n",
       "      <th>morte</th>\n",
       "    </tr>\n",
       "  </thead>\n",
       "  <tbody>\n",
       "    <tr>\n",
       "      <th>6</th>\n",
       "      <td>2018.06.03.a</td>\n",
       "      <td>2018</td>\n",
       "      <td>BRAZIL</td>\n",
       "      <td>Pernambuco</td>\n",
       "      <td>Piedade Beach, Recife</td>\n",
       "      <td>Swimming</td>\n",
       "      <td>M</td>\n",
       "      <td>18</td>\n",
       "      <td>Y</td>\n",
       "      <td>Late afternoon</td>\n",
       "      <td>1</td>\n",
       "    </tr>\n",
       "    <tr>\n",
       "      <th>651</th>\n",
       "      <td>2013.07.22</td>\n",
       "      <td>2013</td>\n",
       "      <td>BRAZIL</td>\n",
       "      <td>Pernambuco</td>\n",
       "      <td>Boa Viagem Beach, Recife</td>\n",
       "      <td>Swimming</td>\n",
       "      <td>F</td>\n",
       "      <td>18</td>\n",
       "      <td>Y</td>\n",
       "      <td>13h20</td>\n",
       "      <td>1</td>\n",
       "    </tr>\n",
       "    <tr>\n",
       "      <th>673</th>\n",
       "      <td>2013.05.23.b</td>\n",
       "      <td>2013</td>\n",
       "      <td>BRAZIL</td>\n",
       "      <td>Pernambuco</td>\n",
       "      <td>Coral Cove Beach</td>\n",
       "      <td>NaN</td>\n",
       "      <td>M</td>\n",
       "      <td>41</td>\n",
       "      <td>Y</td>\n",
       "      <td>NaN</td>\n",
       "      <td>1</td>\n",
       "    </tr>\n",
       "    <tr>\n",
       "      <th>751</th>\n",
       "      <td>2012.08.26</td>\n",
       "      <td>2012</td>\n",
       "      <td>BRAZIL</td>\n",
       "      <td>Pernambuco</td>\n",
       "      <td>Coral Cove, Cabo de Santo Agostinho</td>\n",
       "      <td>Swimming</td>\n",
       "      <td>M</td>\n",
       "      <td>18</td>\n",
       "      <td>Y</td>\n",
       "      <td>Afternoon</td>\n",
       "      <td>1</td>\n",
       "    </tr>\n",
       "    <tr>\n",
       "      <th>1090</th>\n",
       "      <td>2009.09.13</td>\n",
       "      <td>2009</td>\n",
       "      <td>BRAZIL</td>\n",
       "      <td>Pernambuco</td>\n",
       "      <td>Piedade, Recife</td>\n",
       "      <td>NaN</td>\n",
       "      <td>M</td>\n",
       "      <td>34</td>\n",
       "      <td>Y</td>\n",
       "      <td>NaN</td>\n",
       "      <td>1</td>\n",
       "    </tr>\n",
       "  </tbody>\n",
       "</table>\n",
       "</div>"
      ],
      "text/plain": [
       "       case number  year country        area  \\\n",
       "6     2018.06.03.a  2018  BRAZIL  Pernambuco   \n",
       "651     2013.07.22  2013  BRAZIL  Pernambuco   \n",
       "673   2013.05.23.b  2013  BRAZIL  Pernambuco   \n",
       "751     2012.08.26  2012  BRAZIL  Pernambuco   \n",
       "1090    2009.09.13  2009  BRAZIL  Pernambuco   \n",
       "\n",
       "                                 location  activity sex age fatal  \\\n",
       "6                   Piedade Beach, Recife  Swimming   M  18     Y   \n",
       "651              Boa Viagem Beach, Recife  Swimming   F  18     Y   \n",
       "673                      Coral Cove Beach       NaN   M  41     Y   \n",
       "751   Coral Cove, Cabo de Santo Agostinho  Swimming   M  18     Y   \n",
       "1090                      Piedade, Recife       NaN   M  34     Y   \n",
       "\n",
       "                time  morte  \n",
       "6     Late afternoon      1  \n",
       "651            13h20      1  \n",
       "673              NaN      1  \n",
       "751        Afternoon      1  \n",
       "1090             NaN      1  "
      ]
     },
     "execution_count": 204,
     "metadata": {},
     "output_type": "execute_result"
    }
   ],
   "source": [
    "# verificando os casos de morte no Brasil\n",
    "sa_2000_mortes.loc[sa_2000[\"country\"]==\"BRAZIL\", :].head()"
   ]
  },
  {
   "cell_type": "code",
   "execution_count": 205,
   "metadata": {
    "ExecuteTime": {
     "end_time": "2020-11-04T18:53:04.365451Z",
     "start_time": "2020-11-04T18:53:04.315572Z"
    }
   },
   "outputs": [
    {
     "data": {
      "text/html": [
       "<div>\n",
       "<style scoped>\n",
       "    .dataframe tbody tr th:only-of-type {\n",
       "        vertical-align: middle;\n",
       "    }\n",
       "\n",
       "    .dataframe tbody tr th {\n",
       "        vertical-align: top;\n",
       "    }\n",
       "\n",
       "    .dataframe thead th {\n",
       "        text-align: right;\n",
       "    }\n",
       "</style>\n",
       "<table border=\"1\" class=\"dataframe\">\n",
       "  <thead>\n",
       "    <tr style=\"text-align: right;\">\n",
       "      <th></th>\n",
       "      <th>case number</th>\n",
       "      <th>year</th>\n",
       "      <th>country</th>\n",
       "      <th>area</th>\n",
       "      <th>location</th>\n",
       "      <th>activity</th>\n",
       "      <th>sex</th>\n",
       "      <th>age</th>\n",
       "      <th>fatal</th>\n",
       "      <th>time</th>\n",
       "      <th>morte</th>\n",
       "    </tr>\n",
       "  </thead>\n",
       "  <tbody>\n",
       "    <tr>\n",
       "      <th>429</th>\n",
       "      <td>2015.04.29</td>\n",
       "      <td>2015</td>\n",
       "      <td>USA</td>\n",
       "      <td>Hawaii</td>\n",
       "      <td>Kanahena Cove</td>\n",
       "      <td>Snorkeling</td>\n",
       "      <td>F</td>\n",
       "      <td>65</td>\n",
       "      <td>Y</td>\n",
       "      <td>09h00</td>\n",
       "      <td>1</td>\n",
       "    </tr>\n",
       "    <tr>\n",
       "      <th>596</th>\n",
       "      <td>2013.12.02</td>\n",
       "      <td>2013</td>\n",
       "      <td>USA</td>\n",
       "      <td>Hawaii</td>\n",
       "      <td>Between  Makena &amp; Molokini, Maui</td>\n",
       "      <td>Kayaking / Fishing</td>\n",
       "      <td>M</td>\n",
       "      <td>57</td>\n",
       "      <td>Y</td>\n",
       "      <td>09h00</td>\n",
       "      <td>1</td>\n",
       "    </tr>\n",
       "    <tr>\n",
       "      <th>639</th>\n",
       "      <td>2013.08.14</td>\n",
       "      <td>2013</td>\n",
       "      <td>USA</td>\n",
       "      <td>Hawaii</td>\n",
       "      <td>Makenat, Maui</td>\n",
       "      <td>Snorkeling</td>\n",
       "      <td>F</td>\n",
       "      <td>20</td>\n",
       "      <td>Y</td>\n",
       "      <td>16h30</td>\n",
       "      <td>1</td>\n",
       "    </tr>\n",
       "    <tr>\n",
       "      <th>728</th>\n",
       "      <td>2012.10.23</td>\n",
       "      <td>2012</td>\n",
       "      <td>USA</td>\n",
       "      <td>California</td>\n",
       "      <td>Surf Beach, Lompoc, Santa Barbara County</td>\n",
       "      <td>Surfing</td>\n",
       "      <td>M</td>\n",
       "      <td>39</td>\n",
       "      <td>Y</td>\n",
       "      <td>11h00</td>\n",
       "      <td>1</td>\n",
       "    </tr>\n",
       "    <tr>\n",
       "      <th>978</th>\n",
       "      <td>2010.10.22</td>\n",
       "      <td>2010</td>\n",
       "      <td>USA</td>\n",
       "      <td>California</td>\n",
       "      <td>Surf Beach, Vandenberg AFB, Santa Barbara County</td>\n",
       "      <td>Body boarding</td>\n",
       "      <td>M</td>\n",
       "      <td>19</td>\n",
       "      <td>Y</td>\n",
       "      <td>08h50</td>\n",
       "      <td>1</td>\n",
       "    </tr>\n",
       "  </tbody>\n",
       "</table>\n",
       "</div>"
      ],
      "text/plain": [
       "    case number  year country        area  \\\n",
       "429  2015.04.29  2015     USA      Hawaii   \n",
       "596  2013.12.02  2013     USA      Hawaii   \n",
       "639  2013.08.14  2013     USA      Hawaii   \n",
       "728  2012.10.23  2012     USA  California   \n",
       "978  2010.10.22  2010     USA  California   \n",
       "\n",
       "                                             location            activity sex  \\\n",
       "429                                    Kanahena Cove           Snorkeling   F   \n",
       "596                  Between  Makena & Molokini, Maui  Kayaking / Fishing   M   \n",
       "639                                     Makenat, Maui          Snorkeling   F   \n",
       "728          Surf Beach, Lompoc, Santa Barbara County             Surfing   M   \n",
       "978  Surf Beach, Vandenberg AFB, Santa Barbara County       Body boarding   M   \n",
       "\n",
       "    age fatal   time  morte  \n",
       "429  65     Y  09h00      1  \n",
       "596  57     Y  09h00      1  \n",
       "639  20     Y  16h30      1  \n",
       "728  39     Y  11h00      1  \n",
       "978  19     Y  08h50      1  "
      ]
     },
     "execution_count": 205,
     "metadata": {},
     "output_type": "execute_result"
    }
   ],
   "source": [
    "# verificando os casos de morte nos Estados Unidos\n",
    "sa_2000_mortes.loc[sa_2000[\"country\"]==\"USA\", :].head()"
   ]
  },
  {
   "cell_type": "code",
   "execution_count": 206,
   "metadata": {
    "ExecuteTime": {
     "end_time": "2020-11-04T18:53:04.386142Z",
     "start_time": "2020-11-04T18:53:04.368313Z"
    },
    "scrolled": true
   },
   "outputs": [
    {
     "data": {
      "text/plain": [
       "Swimming                                                                                                                                      39\n",
       "Surfing                                                                                                                                       26\n",
       "Body boarding                                                                                                                                 11\n",
       "Snorkeling                                                                                                                                     9\n",
       "Diving                                                                                                                                         8\n",
       "Spearfishing                                                                                                                                   8\n",
       "Scuba diving                                                                                                                                   4\n",
       "Sea Disaster                                                                                                                                   3\n",
       "Fishing                                                                                                                                        3\n",
       "Kite Boarding                                                                                                                                  2\n",
       "Five men on makeshift raft after their 10 m fishing boat  capsized and sank in rough seas. Survivors rescued after  7.5 hours in the water     2\n",
       "Swimming                                                                                                                                       2\n",
       "Murder                                                                                                                                         2\n",
       "Sinking of the 40' Esperanza off St. Maartin with 36 refugees on board                                                                         1\n",
       "2 boats capsized                                                                                                                               1\n",
       "The 426-ton cargo ship Mia, laden with cement, capsized in heavy seas                                                                          1\n",
       "Diving for abalone                                                                                                                             1\n",
       "Sea disaster                                                                                                                                   1\n",
       "Swimming with boogie board                                                                                                                     1\n",
       "Air disaster. Flash Airlines Boeing 737 crashed into the Red Sea                                                                               1\n",
       "Spearfishing, carrying his catch                                                                                                               1\n",
       "Capsized fishing boat                                                                                                                          1\n",
       "Scallop diving on hookah                                                                                                                       1\n",
       "Wading to shore from his boat                                                                                                                  1\n",
       "Standing                                                                                                                                       1\n",
       "Spearfishing / Free diving                                                                                                                     1\n",
       "Walking                                                                                                                                        1\n",
       "Canoe with 3 men onboard sank                                                                                                                  1\n",
       "Fishing for shrimp                                                                                                                             1\n",
       "Boogie Boarding                                                                                                                                1\n",
       "Night diving                                                                                                                                   1\n",
       "Air Disaster - Piper aircraft crashed into the sea, killing all on board                                                                       1\n",
       "Swimming to shore from boat or kayak                                                                                                           1\n",
       "Swimming & snorkeling                                                                                                                          1\n",
       "Night bathing                                                                                                                                  1\n",
       "Paddling on kneeboard                                                                                                                          1\n",
       "Swimming, wearing black wetsuit & swim fins                                                                                                    1\n",
       "Spearfishing (Free diving)                                                                                                                     1\n",
       "Air Disaster                                                                                                                                   1\n",
       "Attempting to retreive a dinghy                                                                                                                1\n",
       "Removing shark from net                                                                                                                        1\n",
       "Wreck / Technical diving                                                                                                                       1\n",
       "Swimming back from anchored sailboat                                                                                                           1\n",
       "Fishing boat swamped in storm                                                                                                                  1\n",
       "Swimming, poaching abalone                                                                                                                     1\n",
       "Scallop diving (using surface-supplied air & a POD)                                                                                            1\n",
       "Kayaking / Fishing                                                                                                                             1\n",
       "Swimming, poaching perlemoen                                                                                                                   1\n",
       "Swimming / shipwreck                                                                                                                           1\n",
       "Shark Fishing                                                                                                                                  1\n",
       "Washing his feet                                                                                                                               1\n",
       "Swimming, attempting to rescue a girl  believed to be drowning                                                                                 1\n",
       "Diving for beche-de-mer                                                                                                                        1\n",
       "Jumped into the water                                                                                                                          1\n",
       "Kite surfing                                                                                                                                   1\n",
       "Swimming / Body Surfing                                                                                                                        1\n",
       "Swimming or Snorkeling                                                                                                                         1\n",
       "Swimming to shore from capsized kayak                                                                                                          1\n",
       "Swimming / snorkeling                                                                                                                          1\n",
       "Scurfing (surfboard being  towed behind a boat)                                                                                                1\n",
       "Name: activity, dtype: int64"
      ]
     },
     "execution_count": 206,
     "metadata": {},
     "output_type": "execute_result"
    }
   ],
   "source": [
    "sa_2000_mortes[\"activity\"].value_counts()"
   ]
  },
  {
   "cell_type": "code",
   "execution_count": 207,
   "metadata": {
    "ExecuteTime": {
     "end_time": "2020-11-04T18:53:04.409534Z",
     "start_time": "2020-11-04T18:53:04.391181Z"
    }
   },
   "outputs": [
    {
     "data": {
      "text/plain": [
       "Surfing                                           347\n",
       "Swimming                                          134\n",
       "Wading                                             59\n",
       "Standing                                           28\n",
       "Fishing                                            28\n",
       "                                                 ... \n",
       "Sea Disaster                                        1\n",
       "Standing or boogie boardin                          1\n",
       "Swimming /  boogie boarding                         1\n",
       "Boogie boarding / wading                            1\n",
       "Walking, carrying surfboard & stepped on shark      1\n",
       "Name: activity, Length: 144, dtype: int64"
      ]
     },
     "execution_count": 207,
     "metadata": {},
     "output_type": "execute_result"
    }
   ],
   "source": [
    "# verificando o número total de cada atividade dos casos nos Estados Unidos\n",
    "sa_2000.loc[sa_2000[\"country\"]==\"USA\", :][\"activity\"].value_counts()"
   ]
  },
  {
   "cell_type": "code",
   "execution_count": 208,
   "metadata": {
    "ExecuteTime": {
     "end_time": "2020-11-04T18:53:04.430714Z",
     "start_time": "2020-11-04T18:53:04.414182Z"
    }
   },
   "outputs": [
    {
     "data": {
      "text/plain": [
       "Surfing                                            142\n",
       "Fishing                                             34\n",
       "Swimming                                            33\n",
       "Spearfishing                                        23\n",
       "Snorkeling                                          18\n",
       "                                                  ... \n",
       "Yacht race                                           1\n",
       "Kayak fishing for sharks                             1\n",
       "Swimming / jumping off a jetty                       1\n",
       "Filming                                              1\n",
       "Scurfing (surfboard being  towed behind a boat)      1\n",
       "Name: activity, Length: 62, dtype: int64"
      ]
     },
     "execution_count": 208,
     "metadata": {},
     "output_type": "execute_result"
    }
   ],
   "source": [
    "# verificando o número total de cada atividade dos casos na Austrália\n",
    "sa_2000.loc[sa_2000[\"country\"]==\"AUSTRALIA\", :][\"activity\"].value_counts()"
   ]
  },
  {
   "cell_type": "markdown",
   "metadata": {},
   "source": [
    "### Análise dos dados do século incluindo o ano 2000 (1900-1999)"
   ]
  },
  {
   "cell_type": "code",
   "execution_count": 209,
   "metadata": {
    "ExecuteTime": {
     "end_time": "2020-11-04T18:53:04.472204Z",
     "start_time": "2020-11-04T18:53:04.432931Z"
    },
    "scrolled": true
   },
   "outputs": [
    {
     "data": {
      "text/html": [
       "<div>\n",
       "<style scoped>\n",
       "    .dataframe tbody tr th:only-of-type {\n",
       "        vertical-align: middle;\n",
       "    }\n",
       "\n",
       "    .dataframe tbody tr th {\n",
       "        vertical-align: top;\n",
       "    }\n",
       "\n",
       "    .dataframe thead th {\n",
       "        text-align: right;\n",
       "    }\n",
       "</style>\n",
       "<table border=\"1\" class=\"dataframe\">\n",
       "  <thead>\n",
       "    <tr style=\"text-align: right;\">\n",
       "      <th></th>\n",
       "      <th>case number</th>\n",
       "      <th>year</th>\n",
       "      <th>country</th>\n",
       "      <th>area</th>\n",
       "      <th>location</th>\n",
       "      <th>activity</th>\n",
       "      <th>sex</th>\n",
       "      <th>age</th>\n",
       "      <th>fatal</th>\n",
       "      <th>time</th>\n",
       "    </tr>\n",
       "  </thead>\n",
       "  <tbody>\n",
       "    <tr>\n",
       "      <th>0</th>\n",
       "      <td>2018.06.25</td>\n",
       "      <td>2018.0</td>\n",
       "      <td>USA</td>\n",
       "      <td>California</td>\n",
       "      <td>Oceanside, San Diego County</td>\n",
       "      <td>Paddling</td>\n",
       "      <td>F</td>\n",
       "      <td>57</td>\n",
       "      <td>N</td>\n",
       "      <td>18h00</td>\n",
       "    </tr>\n",
       "    <tr>\n",
       "      <th>1</th>\n",
       "      <td>2018.06.18</td>\n",
       "      <td>2018.0</td>\n",
       "      <td>USA</td>\n",
       "      <td>Georgia</td>\n",
       "      <td>St. Simon Island, Glynn County</td>\n",
       "      <td>Standing</td>\n",
       "      <td>F</td>\n",
       "      <td>11</td>\n",
       "      <td>N</td>\n",
       "      <td>14h00  -15h00</td>\n",
       "    </tr>\n",
       "    <tr>\n",
       "      <th>2</th>\n",
       "      <td>2018.06.09</td>\n",
       "      <td>2018.0</td>\n",
       "      <td>USA</td>\n",
       "      <td>Hawaii</td>\n",
       "      <td>Habush, Oahu</td>\n",
       "      <td>Surfing</td>\n",
       "      <td>M</td>\n",
       "      <td>48</td>\n",
       "      <td>N</td>\n",
       "      <td>07h45</td>\n",
       "    </tr>\n",
       "    <tr>\n",
       "      <th>3</th>\n",
       "      <td>2018.06.08</td>\n",
       "      <td>2018.0</td>\n",
       "      <td>AUSTRALIA</td>\n",
       "      <td>New South Wales</td>\n",
       "      <td>Arrawarra Headland</td>\n",
       "      <td>Surfing</td>\n",
       "      <td>M</td>\n",
       "      <td>NaN</td>\n",
       "      <td>N</td>\n",
       "      <td>NaN</td>\n",
       "    </tr>\n",
       "    <tr>\n",
       "      <th>4</th>\n",
       "      <td>2018.06.04</td>\n",
       "      <td>2018.0</td>\n",
       "      <td>MEXICO</td>\n",
       "      <td>Colima</td>\n",
       "      <td>La Ticla</td>\n",
       "      <td>Free diving</td>\n",
       "      <td>M</td>\n",
       "      <td>NaN</td>\n",
       "      <td>N</td>\n",
       "      <td>NaN</td>\n",
       "    </tr>\n",
       "    <tr>\n",
       "      <th>...</th>\n",
       "      <td>...</td>\n",
       "      <td>...</td>\n",
       "      <td>...</td>\n",
       "      <td>...</td>\n",
       "      <td>...</td>\n",
       "      <td>...</td>\n",
       "      <td>...</td>\n",
       "      <td>...</td>\n",
       "      <td>...</td>\n",
       "      <td>...</td>\n",
       "    </tr>\n",
       "    <tr>\n",
       "      <th>6300</th>\n",
       "      <td>ND.0002</td>\n",
       "      <td>0.0</td>\n",
       "      <td>PANAMA</td>\n",
       "      <td>NaN</td>\n",
       "      <td>Panama Bay 8ºN, 79ºW</td>\n",
       "      <td>NaN</td>\n",
       "      <td>M</td>\n",
       "      <td>NaN</td>\n",
       "      <td>Y</td>\n",
       "      <td>NaN</td>\n",
       "    </tr>\n",
       "    <tr>\n",
       "      <th>6301</th>\n",
       "      <td>ND.0001</td>\n",
       "      <td>0.0</td>\n",
       "      <td>CEYLON (SRI LANKA)</td>\n",
       "      <td>Eastern Province</td>\n",
       "      <td>Below the English fort, Trincomalee</td>\n",
       "      <td>Swimming</td>\n",
       "      <td>M</td>\n",
       "      <td>15</td>\n",
       "      <td>Y</td>\n",
       "      <td>NaN</td>\n",
       "    </tr>\n",
       "    <tr>\n",
       "      <th>6302</th>\n",
       "      <td>0</td>\n",
       "      <td>NaN</td>\n",
       "      <td>NaN</td>\n",
       "      <td>NaN</td>\n",
       "      <td>NaN</td>\n",
       "      <td>NaN</td>\n",
       "      <td>NaN</td>\n",
       "      <td>NaN</td>\n",
       "      <td>NaN</td>\n",
       "      <td>NaN</td>\n",
       "    </tr>\n",
       "    <tr>\n",
       "      <th>8702</th>\n",
       "      <td>NaN</td>\n",
       "      <td>NaN</td>\n",
       "      <td>NaN</td>\n",
       "      <td>NaN</td>\n",
       "      <td>NaN</td>\n",
       "      <td>NaN</td>\n",
       "      <td>NaN</td>\n",
       "      <td>NaN</td>\n",
       "      <td>NaN</td>\n",
       "      <td>NaN</td>\n",
       "    </tr>\n",
       "    <tr>\n",
       "      <th>25722</th>\n",
       "      <td>xx</td>\n",
       "      <td>NaN</td>\n",
       "      <td>NaN</td>\n",
       "      <td>NaN</td>\n",
       "      <td>NaN</td>\n",
       "      <td>NaN</td>\n",
       "      <td>NaN</td>\n",
       "      <td>NaN</td>\n",
       "      <td>NaN</td>\n",
       "      <td>NaN</td>\n",
       "    </tr>\n",
       "  </tbody>\n",
       "</table>\n",
       "<p>6305 rows × 10 columns</p>\n",
       "</div>"
      ],
      "text/plain": [
       "      case number    year             country              area  \\\n",
       "0      2018.06.25  2018.0                 USA        California   \n",
       "1      2018.06.18  2018.0                 USA           Georgia   \n",
       "2      2018.06.09  2018.0                 USA            Hawaii   \n",
       "3      2018.06.08  2018.0           AUSTRALIA   New South Wales   \n",
       "4      2018.06.04  2018.0              MEXICO            Colima   \n",
       "...           ...     ...                 ...               ...   \n",
       "6300      ND.0002     0.0              PANAMA               NaN   \n",
       "6301      ND.0001     0.0  CEYLON (SRI LANKA)  Eastern Province   \n",
       "6302            0     NaN                 NaN               NaN   \n",
       "8702          NaN     NaN                 NaN               NaN   \n",
       "25722          xx     NaN                 NaN               NaN   \n",
       "\n",
       "                                  location     activity  sex  age fatal  \\\n",
       "0              Oceanside, San Diego County     Paddling    F   57     N   \n",
       "1           St. Simon Island, Glynn County     Standing    F   11     N   \n",
       "2                             Habush, Oahu      Surfing    M   48     N   \n",
       "3                       Arrawarra Headland      Surfing    M  NaN     N   \n",
       "4                                 La Ticla  Free diving    M  NaN     N   \n",
       "...                                    ...          ...  ...  ...   ...   \n",
       "6300                  Panama Bay 8ºN, 79ºW          NaN    M  NaN     Y   \n",
       "6301   Below the English fort, Trincomalee     Swimming    M   15     Y   \n",
       "6302                                   NaN          NaN  NaN  NaN   NaN   \n",
       "8702                                   NaN          NaN  NaN  NaN   NaN   \n",
       "25722                                  NaN          NaN  NaN  NaN   NaN   \n",
       "\n",
       "                time  \n",
       "0              18h00  \n",
       "1      14h00  -15h00  \n",
       "2              07h45  \n",
       "3                NaN  \n",
       "4                NaN  \n",
       "...              ...  \n",
       "6300             NaN  \n",
       "6301             NaN  \n",
       "6302             NaN  \n",
       "8702             NaN  \n",
       "25722            NaN  \n",
       "\n",
       "[6305 rows x 10 columns]"
      ]
     },
     "execution_count": 209,
     "metadata": {},
     "output_type": "execute_result"
    }
   ],
   "source": [
    "sa_bkp_ano"
   ]
  },
  {
   "cell_type": "code",
   "execution_count": 210,
   "metadata": {
    "ExecuteTime": {
     "end_time": "2020-11-04T18:53:04.510168Z",
     "start_time": "2020-11-04T18:53:04.475255Z"
    }
   },
   "outputs": [
    {
     "name": "stdout",
     "output_type": "stream",
     "text": [
      "<class 'pandas.core.frame.DataFrame'>\n",
      "Int64Index: 6305 entries, 0 to 25722\n",
      "Data columns (total 10 columns):\n",
      " #   Column       Non-Null Count  Dtype  \n",
      "---  ------       --------------  -----  \n",
      " 0   case number  6303 non-null   object \n",
      " 1   year         6300 non-null   float64\n",
      " 2   country      6252 non-null   object \n",
      " 3   area         5847 non-null   object \n",
      " 4   location     5762 non-null   object \n",
      " 5   activity     5758 non-null   object \n",
      " 6   sex          5737 non-null   object \n",
      " 7   age          3471 non-null   object \n",
      " 8   fatal        5763 non-null   object \n",
      " 9   time         2948 non-null   object \n",
      "dtypes: float64(1), object(9)\n",
      "memory usage: 541.8+ KB\n"
     ]
    }
   ],
   "source": [
    "sa_bkp_ano.info()"
   ]
  },
  {
   "cell_type": "code",
   "execution_count": 211,
   "metadata": {
    "ExecuteTime": {
     "end_time": "2020-11-04T18:53:04.523772Z",
     "start_time": "2020-11-04T18:53:04.513868Z"
    }
   },
   "outputs": [],
   "source": [
    "# criando uma variável que resgata um DataFrame que foi salvo anteriormente\n",
    "sa_1900=sa_bkp_ano"
   ]
  },
  {
   "cell_type": "code",
   "execution_count": 212,
   "metadata": {
    "ExecuteTime": {
     "end_time": "2020-11-04T18:53:04.541127Z",
     "start_time": "2020-11-04T18:53:04.529185Z"
    }
   },
   "outputs": [],
   "source": [
    "# redefinindo a variável criada para exibir um DataFrame com todos os casos do século 20\n",
    "sa_1900=sa_1900.loc[(sa_1900[\"year\"]>=1900) & (sa_1900[\"year\"]<2000), :]"
   ]
  },
  {
   "cell_type": "code",
   "execution_count": 213,
   "metadata": {
    "ExecuteTime": {
     "end_time": "2020-11-04T18:53:04.583014Z",
     "start_time": "2020-11-04T18:53:04.543962Z"
    }
   },
   "outputs": [
    {
     "data": {
      "text/html": [
       "<div>\n",
       "<style scoped>\n",
       "    .dataframe tbody tr th:only-of-type {\n",
       "        vertical-align: middle;\n",
       "    }\n",
       "\n",
       "    .dataframe tbody tr th {\n",
       "        vertical-align: top;\n",
       "    }\n",
       "\n",
       "    .dataframe thead th {\n",
       "        text-align: right;\n",
       "    }\n",
       "</style>\n",
       "<table border=\"1\" class=\"dataframe\">\n",
       "  <thead>\n",
       "    <tr style=\"text-align: right;\">\n",
       "      <th></th>\n",
       "      <th>case number</th>\n",
       "      <th>year</th>\n",
       "      <th>country</th>\n",
       "      <th>area</th>\n",
       "      <th>location</th>\n",
       "      <th>activity</th>\n",
       "      <th>sex</th>\n",
       "      <th>age</th>\n",
       "      <th>fatal</th>\n",
       "      <th>time</th>\n",
       "    </tr>\n",
       "  </thead>\n",
       "  <tbody>\n",
       "    <tr>\n",
       "      <th>2079</th>\n",
       "      <td>1999.12.31.c</td>\n",
       "      <td>1999.0</td>\n",
       "      <td>NEW ZEALAND</td>\n",
       "      <td>South Island</td>\n",
       "      <td>Oreti Beach</td>\n",
       "      <td>Surfing</td>\n",
       "      <td>M</td>\n",
       "      <td>15</td>\n",
       "      <td>N</td>\n",
       "      <td>NaN</td>\n",
       "    </tr>\n",
       "    <tr>\n",
       "      <th>2080</th>\n",
       "      <td>1999.12.31.b</td>\n",
       "      <td>1999.0</td>\n",
       "      <td>NEW ZEALAND</td>\n",
       "      <td>South Island</td>\n",
       "      <td>Oreti Beach</td>\n",
       "      <td>Swimming</td>\n",
       "      <td>F</td>\n",
       "      <td>13</td>\n",
       "      <td>N</td>\n",
       "      <td>NaN</td>\n",
       "    </tr>\n",
       "    <tr>\n",
       "      <th>2081</th>\n",
       "      <td>1999.12.31.a</td>\n",
       "      <td>1999.0</td>\n",
       "      <td>NEW ZEALAND</td>\n",
       "      <td>South Island</td>\n",
       "      <td>Oreti Beach</td>\n",
       "      <td>Bathing</td>\n",
       "      <td>F</td>\n",
       "      <td>12</td>\n",
       "      <td>N</td>\n",
       "      <td>NaN</td>\n",
       "    </tr>\n",
       "    <tr>\n",
       "      <th>2082</th>\n",
       "      <td>1999.12.26</td>\n",
       "      <td>1999.0</td>\n",
       "      <td>BRAZIL</td>\n",
       "      <td>Pernambuco</td>\n",
       "      <td>Boa Viagem Beach, Recife</td>\n",
       "      <td>Surfing</td>\n",
       "      <td>M</td>\n",
       "      <td>18</td>\n",
       "      <td>N</td>\n",
       "      <td>NaN</td>\n",
       "    </tr>\n",
       "    <tr>\n",
       "      <th>2083</th>\n",
       "      <td>1999.12.14</td>\n",
       "      <td>1999.0</td>\n",
       "      <td>USA</td>\n",
       "      <td>California</td>\n",
       "      <td>Off Ventura, Anacapa &amp; Santa Cruz Islands</td>\n",
       "      <td>Scuba diving</td>\n",
       "      <td>M</td>\n",
       "      <td>NaN</td>\n",
       "      <td>NaN</td>\n",
       "      <td>NaN</td>\n",
       "    </tr>\n",
       "  </tbody>\n",
       "</table>\n",
       "</div>"
      ],
      "text/plain": [
       "       case number    year      country          area  \\\n",
       "2079  1999.12.31.c  1999.0  NEW ZEALAND  South Island   \n",
       "2080  1999.12.31.b  1999.0  NEW ZEALAND  South Island   \n",
       "2081  1999.12.31.a  1999.0  NEW ZEALAND  South Island   \n",
       "2082    1999.12.26  1999.0       BRAZIL    Pernambuco   \n",
       "2083    1999.12.14  1999.0          USA    California   \n",
       "\n",
       "                                       location      activity sex  age fatal  \\\n",
       "2079                                Oreti Beach       Surfing   M   15     N   \n",
       "2080                                Oreti Beach      Swimming   F   13     N   \n",
       "2081                                Oreti Beach       Bathing   F   12     N   \n",
       "2082                   Boa Viagem Beach, Recife       Surfing   M   18     N   \n",
       "2083  Off Ventura, Anacapa & Santa Cruz Islands  Scuba diving   M  NaN   NaN   \n",
       "\n",
       "     time  \n",
       "2079  NaN  \n",
       "2080  NaN  \n",
       "2081  NaN  \n",
       "2082  NaN  \n",
       "2083  NaN  "
      ]
     },
     "execution_count": 213,
     "metadata": {},
     "output_type": "execute_result"
    }
   ],
   "source": [
    "# verificando o DataFrame criado\n",
    "sa_1900.head()"
   ]
  },
  {
   "cell_type": "code",
   "execution_count": 214,
   "metadata": {
    "ExecuteTime": {
     "end_time": "2020-11-04T18:53:04.614745Z",
     "start_time": "2020-11-04T18:53:04.596461Z"
    }
   },
   "outputs": [
    {
     "name": "stdout",
     "output_type": "stream",
     "text": [
      "<class 'pandas.core.frame.DataFrame'>\n",
      "Int64Index: 3484 entries, 2079 to 5563\n",
      "Data columns (total 10 columns):\n",
      " #   Column       Non-Null Count  Dtype  \n",
      "---  ------       --------------  -----  \n",
      " 0   case number  3483 non-null   object \n",
      " 1   year         3484 non-null   float64\n",
      " 2   country      3462 non-null   object \n",
      " 3   area         3261 non-null   object \n",
      " 4   location     3194 non-null   object \n",
      " 5   activity     3140 non-null   object \n",
      " 6   sex          3087 non-null   object \n",
      " 7   age          1827 non-null   object \n",
      " 8   fatal        3181 non-null   object \n",
      " 9   time         1372 non-null   object \n",
      "dtypes: float64(1), object(9)\n",
      "memory usage: 299.4+ KB\n"
     ]
    }
   ],
   "source": [
    "# verificando a quantidade de linhas não-nulas do DataFrame\n",
    "sa_1900.info()"
   ]
  },
  {
   "cell_type": "code",
   "execution_count": 215,
   "metadata": {
    "ExecuteTime": {
     "end_time": "2020-11-04T18:53:04.631054Z",
     "start_time": "2020-11-04T18:53:04.623514Z"
    }
   },
   "outputs": [
    {
     "name": "stderr",
     "output_type": "stream",
     "text": [
      "<ipython-input-215-db0c0993ca0d>:2: SettingWithCopyWarning: \n",
      "A value is trying to be set on a copy of a slice from a DataFrame.\n",
      "Try using .loc[row_indexer,col_indexer] = value instead\n",
      "\n",
      "See the caveats in the documentation: https://pandas.pydata.org/pandas-docs/stable/user_guide/indexing.html#returning-a-view-versus-a-copy\n",
      "  sa_1900[\"year\"]=sa_1900[\"year\"].astype(\"int\")\n"
     ]
    }
   ],
   "source": [
    "# mudando o tipo da coluna que informa o ano de float para int\n",
    "sa_1900[\"year\"]=sa_1900[\"year\"].astype(\"int\")"
   ]
  },
  {
   "cell_type": "code",
   "execution_count": 216,
   "metadata": {
    "ExecuteTime": {
     "end_time": "2020-11-04T18:53:04.648191Z",
     "start_time": "2020-11-04T18:53:04.634309Z"
    }
   },
   "outputs": [
    {
     "name": "stderr",
     "output_type": "stream",
     "text": [
      "<ipython-input-216-d24e7432a5e4>:2: SettingWithCopyWarning: \n",
      "A value is trying to be set on a copy of a slice from a DataFrame\n",
      "\n",
      "See the caveats in the documentation: https://pandas.pydata.org/pandas-docs/stable/user_guide/indexing.html#returning-a-view-versus-a-copy\n",
      "  sa_1900.dropna(subset=[\"fatal\"], inplace=True)\n"
     ]
    }
   ],
   "source": [
    "# excluindo as linhas em que a informação da coluna \"fatal\" é nula \n",
    "sa_1900.dropna(subset=[\"fatal\"], inplace=True)"
   ]
  },
  {
   "cell_type": "code",
   "execution_count": 217,
   "metadata": {
    "ExecuteTime": {
     "end_time": "2020-11-04T18:53:04.664080Z",
     "start_time": "2020-11-04T18:53:04.650669Z"
    }
   },
   "outputs": [
    {
     "data": {
      "text/plain": [
       "N          2269\n",
       "Y           851\n",
       "UNKNOWN      53\n",
       " N            7\n",
       "N             1\n",
       "Name: fatal, dtype: int64"
      ]
     },
     "execution_count": 217,
     "metadata": {},
     "output_type": "execute_result"
    }
   ],
   "source": [
    "# verificando a quantidade de ataques fatais ou não\n",
    "sa_1900.fatal.value_counts()"
   ]
  },
  {
   "cell_type": "code",
   "execution_count": 218,
   "metadata": {
    "ExecuteTime": {
     "end_time": "2020-11-04T18:53:04.676218Z",
     "start_time": "2020-11-04T18:53:04.666980Z"
    }
   },
   "outputs": [],
   "source": [
    "# redefenindo a coluna \"fatal\" com apenas dois tipos de valores: \"Y\" (se foi fatal) e \"N\" (se não foi fatal)\n",
    "sa_1900=sa_1900.loc[(sa_1900[\"fatal\"]==\"Y\")|(sa_1900[\"fatal\"]==\"N\"), :]\n",
    "# sa_1900.loc[sa_1900['fatal'].isin(['Y','N']), :]"
   ]
  },
  {
   "cell_type": "code",
   "execution_count": 219,
   "metadata": {
    "ExecuteTime": {
     "end_time": "2020-11-04T18:53:04.693195Z",
     "start_time": "2020-11-04T18:53:04.680478Z"
    }
   },
   "outputs": [
    {
     "data": {
      "text/plain": [
       "N    2269\n",
       "Y     851\n",
       "Name: fatal, dtype: int64"
      ]
     },
     "execution_count": 219,
     "metadata": {},
     "output_type": "execute_result"
    }
   ],
   "source": [
    "# verificando a quantidade de ataques fatais ou não\n",
    "sa_1900[\"fatal\"].value_counts()"
   ]
  },
  {
   "cell_type": "code",
   "execution_count": 220,
   "metadata": {
    "ExecuteTime": {
     "end_time": "2020-11-04T18:53:04.727884Z",
     "start_time": "2020-11-04T18:53:04.697142Z"
    }
   },
   "outputs": [
    {
     "name": "stdout",
     "output_type": "stream",
     "text": [
      "<class 'pandas.core.frame.DataFrame'>\n",
      "Int64Index: 3120 entries, 2079 to 5563\n",
      "Data columns (total 10 columns):\n",
      " #   Column       Non-Null Count  Dtype \n",
      "---  ------       --------------  ----- \n",
      " 0   case number  3119 non-null   object\n",
      " 1   year         3120 non-null   int64 \n",
      " 2   country      3101 non-null   object\n",
      " 3   area         2922 non-null   object\n",
      " 4   location     2866 non-null   object\n",
      " 5   activity     2879 non-null   object\n",
      " 6   sex          2800 non-null   object\n",
      " 7   age          1695 non-null   object\n",
      " 8   fatal        3120 non-null   object\n",
      " 9   time         1289 non-null   object\n",
      "dtypes: int64(1), object(9)\n",
      "memory usage: 268.1+ KB\n"
     ]
    }
   ],
   "source": [
    "# verificando a quantidade de linhas não-nulas de cada coluna\n",
    "sa_1900.info()"
   ]
  },
  {
   "cell_type": "code",
   "execution_count": 221,
   "metadata": {
    "ExecuteTime": {
     "end_time": "2020-11-04T18:53:04.749922Z",
     "start_time": "2020-11-04T18:53:04.733444Z"
    }
   },
   "outputs": [],
   "source": [
    "# excluindo as linhas em que a informação da coluna dos países é nula \n",
    "sa_1900.dropna(subset=[\"country\"], inplace=True)"
   ]
  },
  {
   "cell_type": "code",
   "execution_count": 222,
   "metadata": {
    "ExecuteTime": {
     "end_time": "2020-11-04T18:53:04.784607Z",
     "start_time": "2020-11-04T18:53:04.756243Z"
    },
    "scrolled": true
   },
   "outputs": [
    {
     "name": "stdout",
     "output_type": "stream",
     "text": [
      "<class 'pandas.core.frame.DataFrame'>\n",
      "Int64Index: 3101 entries, 2079 to 5563\n",
      "Data columns (total 10 columns):\n",
      " #   Column       Non-Null Count  Dtype \n",
      "---  ------       --------------  ----- \n",
      " 0   case number  3100 non-null   object\n",
      " 1   year         3101 non-null   int64 \n",
      " 2   country      3101 non-null   object\n",
      " 3   area         2914 non-null   object\n",
      " 4   location     2861 non-null   object\n",
      " 5   activity     2864 non-null   object\n",
      " 6   sex          2782 non-null   object\n",
      " 7   age          1691 non-null   object\n",
      " 8   fatal        3101 non-null   object\n",
      " 9   time         1286 non-null   object\n",
      "dtypes: int64(1), object(9)\n",
      "memory usage: 266.5+ KB\n"
     ]
    }
   ],
   "source": [
    "# verificando a quantidade de linhas não-nulas de cada coluna\n",
    "sa_1900.info()"
   ]
  },
  {
   "cell_type": "markdown",
   "metadata": {},
   "source": [
    "#### Análise do índice de mortes por país"
   ]
  },
  {
   "cell_type": "code",
   "execution_count": 223,
   "metadata": {
    "ExecuteTime": {
     "end_time": "2020-11-04T18:53:04.795591Z",
     "start_time": "2020-11-04T18:53:04.787765Z"
    }
   },
   "outputs": [],
   "source": [
    "# criando uma nova coluna no DataFrame com os valores 1 (se o caso foi fatal) e 0 (se o caso não foi fatal)\n",
    "sa_1900[\"morte\"]=[1 if fatal==\"Y\" else 0 for fatal in sa_1900[\"fatal\"]]"
   ]
  },
  {
   "cell_type": "code",
   "execution_count": 224,
   "metadata": {
    "ExecuteTime": {
     "end_time": "2020-11-04T18:53:04.831364Z",
     "start_time": "2020-11-04T18:53:04.799696Z"
    }
   },
   "outputs": [
    {
     "data": {
      "text/html": [
       "<div>\n",
       "<style scoped>\n",
       "    .dataframe tbody tr th:only-of-type {\n",
       "        vertical-align: middle;\n",
       "    }\n",
       "\n",
       "    .dataframe tbody tr th {\n",
       "        vertical-align: top;\n",
       "    }\n",
       "\n",
       "    .dataframe thead th {\n",
       "        text-align: right;\n",
       "    }\n",
       "</style>\n",
       "<table border=\"1\" class=\"dataframe\">\n",
       "  <thead>\n",
       "    <tr style=\"text-align: right;\">\n",
       "      <th></th>\n",
       "      <th>case number</th>\n",
       "      <th>year</th>\n",
       "      <th>country</th>\n",
       "      <th>area</th>\n",
       "      <th>location</th>\n",
       "      <th>activity</th>\n",
       "      <th>sex</th>\n",
       "      <th>age</th>\n",
       "      <th>fatal</th>\n",
       "      <th>time</th>\n",
       "      <th>morte</th>\n",
       "    </tr>\n",
       "  </thead>\n",
       "  <tbody>\n",
       "    <tr>\n",
       "      <th>2079</th>\n",
       "      <td>1999.12.31.c</td>\n",
       "      <td>1999</td>\n",
       "      <td>NEW ZEALAND</td>\n",
       "      <td>South Island</td>\n",
       "      <td>Oreti Beach</td>\n",
       "      <td>Surfing</td>\n",
       "      <td>M</td>\n",
       "      <td>15</td>\n",
       "      <td>N</td>\n",
       "      <td>NaN</td>\n",
       "      <td>0</td>\n",
       "    </tr>\n",
       "    <tr>\n",
       "      <th>2080</th>\n",
       "      <td>1999.12.31.b</td>\n",
       "      <td>1999</td>\n",
       "      <td>NEW ZEALAND</td>\n",
       "      <td>South Island</td>\n",
       "      <td>Oreti Beach</td>\n",
       "      <td>Swimming</td>\n",
       "      <td>F</td>\n",
       "      <td>13</td>\n",
       "      <td>N</td>\n",
       "      <td>NaN</td>\n",
       "      <td>0</td>\n",
       "    </tr>\n",
       "    <tr>\n",
       "      <th>2081</th>\n",
       "      <td>1999.12.31.a</td>\n",
       "      <td>1999</td>\n",
       "      <td>NEW ZEALAND</td>\n",
       "      <td>South Island</td>\n",
       "      <td>Oreti Beach</td>\n",
       "      <td>Bathing</td>\n",
       "      <td>F</td>\n",
       "      <td>12</td>\n",
       "      <td>N</td>\n",
       "      <td>NaN</td>\n",
       "      <td>0</td>\n",
       "    </tr>\n",
       "    <tr>\n",
       "      <th>2082</th>\n",
       "      <td>1999.12.26</td>\n",
       "      <td>1999</td>\n",
       "      <td>BRAZIL</td>\n",
       "      <td>Pernambuco</td>\n",
       "      <td>Boa Viagem Beach, Recife</td>\n",
       "      <td>Surfing</td>\n",
       "      <td>M</td>\n",
       "      <td>18</td>\n",
       "      <td>N</td>\n",
       "      <td>NaN</td>\n",
       "      <td>0</td>\n",
       "    </tr>\n",
       "    <tr>\n",
       "      <th>2084</th>\n",
       "      <td>1999.12.06</td>\n",
       "      <td>1999</td>\n",
       "      <td>BRAZIL</td>\n",
       "      <td>Rio de Janeiro</td>\n",
       "      <td>Rio de Janeiro, Guanabara Bay</td>\n",
       "      <td>Spearfishing</td>\n",
       "      <td>M</td>\n",
       "      <td>39</td>\n",
       "      <td>N</td>\n",
       "      <td>09h30</td>\n",
       "      <td>0</td>\n",
       "    </tr>\n",
       "  </tbody>\n",
       "</table>\n",
       "</div>"
      ],
      "text/plain": [
       "       case number  year      country            area  \\\n",
       "2079  1999.12.31.c  1999  NEW ZEALAND    South Island   \n",
       "2080  1999.12.31.b  1999  NEW ZEALAND    South Island   \n",
       "2081  1999.12.31.a  1999  NEW ZEALAND    South Island   \n",
       "2082    1999.12.26  1999       BRAZIL      Pernambuco   \n",
       "2084    1999.12.06  1999       BRAZIL  Rio de Janeiro   \n",
       "\n",
       "                           location      activity sex age fatal   time  morte  \n",
       "2079                    Oreti Beach       Surfing   M  15     N    NaN      0  \n",
       "2080                    Oreti Beach      Swimming   F  13     N    NaN      0  \n",
       "2081                    Oreti Beach       Bathing   F  12     N    NaN      0  \n",
       "2082       Boa Viagem Beach, Recife       Surfing   M  18     N    NaN      0  \n",
       "2084  Rio de Janeiro, Guanabara Bay  Spearfishing   M  39     N  09h30      0  "
      ]
     },
     "execution_count": 224,
     "metadata": {},
     "output_type": "execute_result"
    }
   ],
   "source": [
    "# verificando o DataFrame com a nova coluna\n",
    "sa_1900.head()"
   ]
  },
  {
   "cell_type": "code",
   "execution_count": 225,
   "metadata": {
    "ExecuteTime": {
     "end_time": "2020-11-04T18:53:04.873651Z",
     "start_time": "2020-11-04T18:53:04.834534Z"
    }
   },
   "outputs": [],
   "source": [
    "# criando uma variável que exibe um DataFrame que informa a quantidade de casos e mortes por país\n",
    "sa_1900_analise_mortes=sa_1900.groupby(by=\"country\").agg(num_casos_1900a1999=(\"country\", \"count\"), num_mortes_1900a1999=(\"morte\", \"sum\")).reset_index()"
   ]
  },
  {
   "cell_type": "code",
   "execution_count": 226,
   "metadata": {
    "ExecuteTime": {
     "end_time": "2020-11-04T18:53:04.905740Z",
     "start_time": "2020-11-04T18:53:04.885747Z"
    }
   },
   "outputs": [
    {
     "data": {
      "text/html": [
       "<div>\n",
       "<style scoped>\n",
       "    .dataframe tbody tr th:only-of-type {\n",
       "        vertical-align: middle;\n",
       "    }\n",
       "\n",
       "    .dataframe tbody tr th {\n",
       "        vertical-align: top;\n",
       "    }\n",
       "\n",
       "    .dataframe thead th {\n",
       "        text-align: right;\n",
       "    }\n",
       "</style>\n",
       "<table border=\"1\" class=\"dataframe\">\n",
       "  <thead>\n",
       "    <tr style=\"text-align: right;\">\n",
       "      <th></th>\n",
       "      <th>country</th>\n",
       "      <th>num_casos_1900a1999</th>\n",
       "      <th>num_mortes_1900a1999</th>\n",
       "    </tr>\n",
       "  </thead>\n",
       "  <tbody>\n",
       "    <tr>\n",
       "      <th>0</th>\n",
       "      <td>PHILIPPINES</td>\n",
       "      <td>1</td>\n",
       "      <td>1</td>\n",
       "    </tr>\n",
       "    <tr>\n",
       "      <th>1</th>\n",
       "      <td>ADMIRALTY ISLANDS</td>\n",
       "      <td>1</td>\n",
       "      <td>0</td>\n",
       "    </tr>\n",
       "    <tr>\n",
       "      <th>2</th>\n",
       "      <td>AMERICAN SAMOA</td>\n",
       "      <td>3</td>\n",
       "      <td>3</td>\n",
       "    </tr>\n",
       "    <tr>\n",
       "      <th>3</th>\n",
       "      <td>ANDAMAN / NICOBAR ISLANDAS</td>\n",
       "      <td>1</td>\n",
       "      <td>1</td>\n",
       "    </tr>\n",
       "    <tr>\n",
       "      <th>4</th>\n",
       "      <td>ANGOLA</td>\n",
       "      <td>1</td>\n",
       "      <td>0</td>\n",
       "    </tr>\n",
       "  </tbody>\n",
       "</table>\n",
       "</div>"
      ],
      "text/plain": [
       "                      country  num_casos_1900a1999  num_mortes_1900a1999\n",
       "0                 PHILIPPINES                    1                     1\n",
       "1           ADMIRALTY ISLANDS                    1                     0\n",
       "2              AMERICAN SAMOA                    3                     3\n",
       "3  ANDAMAN / NICOBAR ISLANDAS                    1                     1\n",
       "4                      ANGOLA                    1                     0"
      ]
     },
     "execution_count": 226,
     "metadata": {},
     "output_type": "execute_result"
    }
   ],
   "source": [
    "# verificando o novo DataFrame criado\n",
    "sa_1900_analise_mortes.head()"
   ]
  },
  {
   "cell_type": "code",
   "execution_count": 227,
   "metadata": {
    "ExecuteTime": {
     "end_time": "2020-11-04T18:53:04.917989Z",
     "start_time": "2020-11-04T18:53:04.909127Z"
    }
   },
   "outputs": [],
   "source": [
    "# criando uma nova coluna que informa o índice de mortes por país\n",
    "sa_1900_analise_mortes[\"prop_mortes_1900a1999\"]=sa_1900_analise_mortes[\"num_mortes_1900a1999\"]/sa_1900_analise_mortes[\"num_casos_1900a1999\"]"
   ]
  },
  {
   "cell_type": "code",
   "execution_count": 228,
   "metadata": {
    "ExecuteTime": {
     "end_time": "2020-11-04T18:53:04.933751Z",
     "start_time": "2020-11-04T18:53:04.923769Z"
    }
   },
   "outputs": [],
   "source": [
    "# ordenando o DataFrame por número de casos\n",
    "sa_1900_analise_mortes=sa_1900_analise_mortes.sort_values(\"num_casos_1900a1999\", ascending=False)"
   ]
  },
  {
   "cell_type": "code",
   "execution_count": 229,
   "metadata": {
    "ExecuteTime": {
     "end_time": "2020-11-04T18:53:04.957477Z",
     "start_time": "2020-11-04T18:53:04.937525Z"
    },
    "scrolled": true
   },
   "outputs": [
    {
     "data": {
      "text/html": [
       "<div>\n",
       "<style scoped>\n",
       "    .dataframe tbody tr th:only-of-type {\n",
       "        vertical-align: middle;\n",
       "    }\n",
       "\n",
       "    .dataframe tbody tr th {\n",
       "        vertical-align: top;\n",
       "    }\n",
       "\n",
       "    .dataframe thead th {\n",
       "        text-align: right;\n",
       "    }\n",
       "</style>\n",
       "<table border=\"1\" class=\"dataframe\">\n",
       "  <thead>\n",
       "    <tr style=\"text-align: right;\">\n",
       "      <th></th>\n",
       "      <th>country</th>\n",
       "      <th>num_casos_1900a1999</th>\n",
       "      <th>num_mortes_1900a1999</th>\n",
       "      <th>prop_mortes_1900a1999</th>\n",
       "    </tr>\n",
       "  </thead>\n",
       "  <tbody>\n",
       "    <tr>\n",
       "      <th>143</th>\n",
       "      <td>USA</td>\n",
       "      <td>944</td>\n",
       "      <td>112</td>\n",
       "      <td>0.118644</td>\n",
       "    </tr>\n",
       "    <tr>\n",
       "      <th>7</th>\n",
       "      <td>AUSTRALIA</td>\n",
       "      <td>701</td>\n",
       "      <td>186</td>\n",
       "      <td>0.265335</td>\n",
       "    </tr>\n",
       "    <tr>\n",
       "      <th>124</th>\n",
       "      <td>SOUTH AFRICA</td>\n",
       "      <td>363</td>\n",
       "      <td>65</td>\n",
       "      <td>0.179063</td>\n",
       "    </tr>\n",
       "    <tr>\n",
       "      <th>104</th>\n",
       "      <td>PAPUA NEW GUINEA</td>\n",
       "      <td>116</td>\n",
       "      <td>51</td>\n",
       "      <td>0.439655</td>\n",
       "    </tr>\n",
       "    <tr>\n",
       "      <th>89</th>\n",
       "      <td>NEW ZEALAND</td>\n",
       "      <td>50</td>\n",
       "      <td>8</td>\n",
       "      <td>0.160000</td>\n",
       "    </tr>\n",
       "  </tbody>\n",
       "</table>\n",
       "</div>"
      ],
      "text/plain": [
       "              country  num_casos_1900a1999  num_mortes_1900a1999  \\\n",
       "143               USA                  944                   112   \n",
       "7           AUSTRALIA                  701                   186   \n",
       "124      SOUTH AFRICA                  363                    65   \n",
       "104  PAPUA NEW GUINEA                  116                    51   \n",
       "89        NEW ZEALAND                   50                     8   \n",
       "\n",
       "     prop_mortes_1900a1999  \n",
       "143               0.118644  \n",
       "7                 0.265335  \n",
       "124               0.179063  \n",
       "104               0.439655  \n",
       "89                0.160000  "
      ]
     },
     "execution_count": 229,
     "metadata": {},
     "output_type": "execute_result"
    }
   ],
   "source": [
    "# verificando o DataFrame com a nova coluna e ordenado pelo número de casos\n",
    "sa_1900_analise_mortes.head()"
   ]
  },
  {
   "cell_type": "code",
   "execution_count": 230,
   "metadata": {
    "ExecuteTime": {
     "end_time": "2020-11-04T18:53:04.968843Z",
     "start_time": "2020-11-04T18:53:04.961506Z"
    }
   },
   "outputs": [],
   "source": [
    "# criando uma variável que exibe um DataFrame com todos os casos de morte\n",
    "sa_1900_mortes=sa_1900.loc[sa_1900[\"morte\"]==1, :]"
   ]
  },
  {
   "cell_type": "code",
   "execution_count": 231,
   "metadata": {
    "ExecuteTime": {
     "end_time": "2020-11-04T18:53:05.004068Z",
     "start_time": "2020-11-04T18:53:04.971225Z"
    }
   },
   "outputs": [
    {
     "data": {
      "text/html": [
       "<div>\n",
       "<style scoped>\n",
       "    .dataframe tbody tr th:only-of-type {\n",
       "        vertical-align: middle;\n",
       "    }\n",
       "\n",
       "    .dataframe tbody tr th {\n",
       "        vertical-align: top;\n",
       "    }\n",
       "\n",
       "    .dataframe thead th {\n",
       "        text-align: right;\n",
       "    }\n",
       "</style>\n",
       "<table border=\"1\" class=\"dataframe\">\n",
       "  <thead>\n",
       "    <tr style=\"text-align: right;\">\n",
       "      <th></th>\n",
       "      <th>case number</th>\n",
       "      <th>year</th>\n",
       "      <th>country</th>\n",
       "      <th>area</th>\n",
       "      <th>location</th>\n",
       "      <th>activity</th>\n",
       "      <th>sex</th>\n",
       "      <th>age</th>\n",
       "      <th>fatal</th>\n",
       "      <th>time</th>\n",
       "      <th>morte</th>\n",
       "    </tr>\n",
       "  </thead>\n",
       "  <tbody>\n",
       "    <tr>\n",
       "      <th>2115</th>\n",
       "      <td>1999.07.15</td>\n",
       "      <td>1999</td>\n",
       "      <td>SOUTH AFRICA</td>\n",
       "      <td>Western Cape Province</td>\n",
       "      <td>Buffels Bay (near Knysna)</td>\n",
       "      <td>Boogie boarding</td>\n",
       "      <td>M</td>\n",
       "      <td>14</td>\n",
       "      <td>Y</td>\n",
       "      <td>11h15</td>\n",
       "      <td>1</td>\n",
       "    </tr>\n",
       "    <tr>\n",
       "      <th>2123</th>\n",
       "      <td>1999.05.29</td>\n",
       "      <td>1999</td>\n",
       "      <td>AUSTRALIA</td>\n",
       "      <td>South Australia</td>\n",
       "      <td>Hardwicke Bay, Yorke Peninsula</td>\n",
       "      <td>Windsurfing</td>\n",
       "      <td>M</td>\n",
       "      <td>22</td>\n",
       "      <td>Y</td>\n",
       "      <td>14h30</td>\n",
       "      <td>1</td>\n",
       "    </tr>\n",
       "    <tr>\n",
       "      <th>2126</th>\n",
       "      <td>1999.04.11</td>\n",
       "      <td>1999</td>\n",
       "      <td>REUNION</td>\n",
       "      <td>L' Etang Salé-les-Bains</td>\n",
       "      <td>Roche-aux-Oiseaux</td>\n",
       "      <td>Swimming after being swept into sea by a large...</td>\n",
       "      <td>M</td>\n",
       "      <td>52</td>\n",
       "      <td>Y</td>\n",
       "      <td>10h30</td>\n",
       "      <td>1</td>\n",
       "    </tr>\n",
       "    <tr>\n",
       "      <th>2130</th>\n",
       "      <td>1999.03.18.a</td>\n",
       "      <td>1999</td>\n",
       "      <td>USA</td>\n",
       "      <td>Hawaii</td>\n",
       "      <td>Olowalu side of Lahina, Maui</td>\n",
       "      <td>Swimming, towing a kayak</td>\n",
       "      <td>F</td>\n",
       "      <td>29</td>\n",
       "      <td>Y</td>\n",
       "      <td>20h30</td>\n",
       "      <td>1</td>\n",
       "    </tr>\n",
       "    <tr>\n",
       "      <th>2142</th>\n",
       "      <td>1999.01.03</td>\n",
       "      <td>1999</td>\n",
       "      <td>REUNION</td>\n",
       "      <td>Saint-Leu</td>\n",
       "      <td>Pointe au Sel</td>\n",
       "      <td>Spearfishing</td>\n",
       "      <td>NaN</td>\n",
       "      <td>NaN</td>\n",
       "      <td>Y</td>\n",
       "      <td>NaN</td>\n",
       "      <td>1</td>\n",
       "    </tr>\n",
       "  </tbody>\n",
       "</table>\n",
       "</div>"
      ],
      "text/plain": [
       "       case number  year       country                     area  \\\n",
       "2115    1999.07.15  1999  SOUTH AFRICA    Western Cape Province   \n",
       "2123    1999.05.29  1999     AUSTRALIA          South Australia   \n",
       "2126    1999.04.11  1999       REUNION  L' Etang Salé-les-Bains   \n",
       "2130  1999.03.18.a  1999           USA                   Hawaii   \n",
       "2142    1999.01.03  1999       REUNION                Saint-Leu   \n",
       "\n",
       "                            location  \\\n",
       "2115       Buffels Bay (near Knysna)   \n",
       "2123  Hardwicke Bay, Yorke Peninsula   \n",
       "2126               Roche-aux-Oiseaux   \n",
       "2130   Olowalu side of Lahina, Maui    \n",
       "2142                   Pointe au Sel   \n",
       "\n",
       "                                               activity  sex  age fatal  \\\n",
       "2115                                    Boogie boarding    M   14     Y   \n",
       "2123                                        Windsurfing    M   22     Y   \n",
       "2126  Swimming after being swept into sea by a large...    M   52     Y   \n",
       "2130                           Swimming, towing a kayak    F   29     Y   \n",
       "2142                                       Spearfishing  NaN  NaN     Y   \n",
       "\n",
       "       time  morte  \n",
       "2115  11h15      1  \n",
       "2123  14h30      1  \n",
       "2126  10h30      1  \n",
       "2130  20h30      1  \n",
       "2142    NaN      1  "
      ]
     },
     "execution_count": 231,
     "metadata": {},
     "output_type": "execute_result"
    }
   ],
   "source": [
    "# verificando o novo DataFrame criado\n",
    "sa_1900_mortes.head()"
   ]
  },
  {
   "cell_type": "code",
   "execution_count": 232,
   "metadata": {
    "ExecuteTime": {
     "end_time": "2020-11-04T18:53:05.031291Z",
     "start_time": "2020-11-04T18:53:05.007301Z"
    }
   },
   "outputs": [
    {
     "data": {
      "text/html": [
       "<div>\n",
       "<style scoped>\n",
       "    .dataframe tbody tr th:only-of-type {\n",
       "        vertical-align: middle;\n",
       "    }\n",
       "\n",
       "    .dataframe tbody tr th {\n",
       "        vertical-align: top;\n",
       "    }\n",
       "\n",
       "    .dataframe thead th {\n",
       "        text-align: right;\n",
       "    }\n",
       "</style>\n",
       "<table border=\"1\" class=\"dataframe\">\n",
       "  <thead>\n",
       "    <tr style=\"text-align: right;\">\n",
       "      <th></th>\n",
       "      <th>case number</th>\n",
       "      <th>year</th>\n",
       "      <th>country</th>\n",
       "      <th>area</th>\n",
       "      <th>location</th>\n",
       "      <th>activity</th>\n",
       "      <th>sex</th>\n",
       "      <th>age</th>\n",
       "      <th>fatal</th>\n",
       "      <th>time</th>\n",
       "      <th>morte</th>\n",
       "    </tr>\n",
       "  </thead>\n",
       "  <tbody>\n",
       "    <tr>\n",
       "      <th>2130</th>\n",
       "      <td>1999.03.18.a</td>\n",
       "      <td>1999</td>\n",
       "      <td>USA</td>\n",
       "      <td>Hawaii</td>\n",
       "      <td>Olowalu side of Lahina, Maui</td>\n",
       "      <td>Swimming, towing a kayak</td>\n",
       "      <td>F</td>\n",
       "      <td>29</td>\n",
       "      <td>Y</td>\n",
       "      <td>20h30</td>\n",
       "      <td>1</td>\n",
       "    </tr>\n",
       "    <tr>\n",
       "      <th>2150</th>\n",
       "      <td>1998.11.21</td>\n",
       "      <td>1998</td>\n",
       "      <td>USA</td>\n",
       "      <td>Florida</td>\n",
       "      <td>Ocean Beach, Jaycee Park, Vero Beach, Indian R...</td>\n",
       "      <td>Swimming</td>\n",
       "      <td>M</td>\n",
       "      <td>9</td>\n",
       "      <td>Y</td>\n",
       "      <td>14h00</td>\n",
       "      <td>1</td>\n",
       "    </tr>\n",
       "    <tr>\n",
       "      <th>2343</th>\n",
       "      <td>1995.09.13</td>\n",
       "      <td>1995</td>\n",
       "      <td>USA</td>\n",
       "      <td>Florida</td>\n",
       "      <td>Alligator Reef, off Islamorada, Monroe County</td>\n",
       "      <td>Scuba diving</td>\n",
       "      <td>M</td>\n",
       "      <td>25</td>\n",
       "      <td>Y</td>\n",
       "      <td>NaN</td>\n",
       "      <td>1</td>\n",
       "    </tr>\n",
       "    <tr>\n",
       "      <th>2411</th>\n",
       "      <td>1994.12.09.a</td>\n",
       "      <td>1994</td>\n",
       "      <td>USA</td>\n",
       "      <td>California</td>\n",
       "      <td>San Miguel Island, Santa Barbara County</td>\n",
       "      <td>Commercial diver (submerged or treading water)</td>\n",
       "      <td>M</td>\n",
       "      <td>42</td>\n",
       "      <td>Y</td>\n",
       "      <td>08h45</td>\n",
       "      <td>1</td>\n",
       "    </tr>\n",
       "    <tr>\n",
       "      <th>2422</th>\n",
       "      <td>1994.09.11.R</td>\n",
       "      <td>1994</td>\n",
       "      <td>USA</td>\n",
       "      <td>Florida</td>\n",
       "      <td>Florida Straits</td>\n",
       "      <td>Adrift on refugee raft</td>\n",
       "      <td>M</td>\n",
       "      <td>7      &amp;    31</td>\n",
       "      <td>Y</td>\n",
       "      <td>NaN</td>\n",
       "      <td>1</td>\n",
       "    </tr>\n",
       "  </tbody>\n",
       "</table>\n",
       "</div>"
      ],
      "text/plain": [
       "       case number  year country        area  \\\n",
       "2130  1999.03.18.a  1999     USA      Hawaii   \n",
       "2150    1998.11.21  1998     USA     Florida   \n",
       "2343    1995.09.13  1995     USA     Florida   \n",
       "2411  1994.12.09.a  1994     USA  California   \n",
       "2422  1994.09.11.R  1994     USA     Florida   \n",
       "\n",
       "                                               location  \\\n",
       "2130                      Olowalu side of Lahina, Maui    \n",
       "2150  Ocean Beach, Jaycee Park, Vero Beach, Indian R...   \n",
       "2343      Alligator Reef, off Islamorada, Monroe County   \n",
       "2411            San Miguel Island, Santa Barbara County   \n",
       "2422                                    Florida Straits   \n",
       "\n",
       "                                            activity sex             age  \\\n",
       "2130                        Swimming, towing a kayak   F              29   \n",
       "2150                                        Swimming   M               9   \n",
       "2343                                    Scuba diving   M              25   \n",
       "2411  Commercial diver (submerged or treading water)   M              42   \n",
       "2422                          Adrift on refugee raft   M  7      &    31   \n",
       "\n",
       "     fatal   time  morte  \n",
       "2130     Y  20h30      1  \n",
       "2150     Y  14h00      1  \n",
       "2343     Y    NaN      1  \n",
       "2411     Y  08h45      1  \n",
       "2422     Y    NaN      1  "
      ]
     },
     "execution_count": 232,
     "metadata": {},
     "output_type": "execute_result"
    }
   ],
   "source": [
    "# verificando os casos de morte nos Estados Unidos\n",
    "sa_1900_mortes.loc[sa_1900_mortes[\"country\"]==\"USA\", :].head()"
   ]
  },
  {
   "cell_type": "markdown",
   "metadata": {},
   "source": [
    "### Análise e comparação entre os dados de casos e mortes dos séculos 20 (incluindo o ano 1900) e 21 (incluindo o ano 2000)"
   ]
  },
  {
   "cell_type": "code",
   "execution_count": 233,
   "metadata": {
    "ExecuteTime": {
     "end_time": "2020-11-04T18:53:05.103979Z",
     "start_time": "2020-11-04T18:53:05.039984Z"
    }
   },
   "outputs": [],
   "source": [
    "# criando uma variável que exibe um DataFrame unindo os DataFrame sobre o índice de mortes dos séculos 20 e 21\n",
    "analise_final=pd.merge(left=sa_2000_analise_mortes, right=sa_1900_analise_mortes, on=\"country\")"
   ]
  },
  {
   "cell_type": "code",
   "execution_count": 234,
   "metadata": {
    "ExecuteTime": {
     "end_time": "2020-11-04T18:53:05.137021Z",
     "start_time": "2020-11-04T18:53:05.111224Z"
    }
   },
   "outputs": [
    {
     "data": {
      "text/html": [
       "<div>\n",
       "<style scoped>\n",
       "    .dataframe tbody tr th:only-of-type {\n",
       "        vertical-align: middle;\n",
       "    }\n",
       "\n",
       "    .dataframe tbody tr th {\n",
       "        vertical-align: top;\n",
       "    }\n",
       "\n",
       "    .dataframe thead th {\n",
       "        text-align: right;\n",
       "    }\n",
       "</style>\n",
       "<table border=\"1\" class=\"dataframe\">\n",
       "  <thead>\n",
       "    <tr style=\"text-align: right;\">\n",
       "      <th></th>\n",
       "      <th>country</th>\n",
       "      <th>num_casos_2000a2018</th>\n",
       "      <th>num_mortes_2000a2018</th>\n",
       "      <th>prop_mortes_2000a2018</th>\n",
       "      <th>num_casos_1900a1999</th>\n",
       "      <th>num_mortes_1900a1999</th>\n",
       "      <th>prop_mortes_1900a1999</th>\n",
       "    </tr>\n",
       "  </thead>\n",
       "  <tbody>\n",
       "    <tr>\n",
       "      <th>0</th>\n",
       "      <td>USA</td>\n",
       "      <td>951</td>\n",
       "      <td>20</td>\n",
       "      <td>0.021030</td>\n",
       "      <td>944</td>\n",
       "      <td>112</td>\n",
       "      <td>0.118644</td>\n",
       "    </tr>\n",
       "    <tr>\n",
       "      <th>1</th>\n",
       "      <td>AUSTRALIA</td>\n",
       "      <td>362</td>\n",
       "      <td>33</td>\n",
       "      <td>0.091160</td>\n",
       "      <td>701</td>\n",
       "      <td>186</td>\n",
       "      <td>0.265335</td>\n",
       "    </tr>\n",
       "    <tr>\n",
       "      <th>2</th>\n",
       "      <td>SOUTH AFRICA</td>\n",
       "      <td>124</td>\n",
       "      <td>22</td>\n",
       "      <td>0.177419</td>\n",
       "      <td>363</td>\n",
       "      <td>65</td>\n",
       "      <td>0.179063</td>\n",
       "    </tr>\n",
       "    <tr>\n",
       "      <th>3</th>\n",
       "      <td>BAHAMAS</td>\n",
       "      <td>51</td>\n",
       "      <td>1</td>\n",
       "      <td>0.019608</td>\n",
       "      <td>44</td>\n",
       "      <td>4</td>\n",
       "      <td>0.090909</td>\n",
       "    </tr>\n",
       "    <tr>\n",
       "      <th>4</th>\n",
       "      <td>BRAZIL</td>\n",
       "      <td>49</td>\n",
       "      <td>18</td>\n",
       "      <td>0.367347</td>\n",
       "      <td>49</td>\n",
       "      <td>17</td>\n",
       "      <td>0.346939</td>\n",
       "    </tr>\n",
       "  </tbody>\n",
       "</table>\n",
       "</div>"
      ],
      "text/plain": [
       "        country  num_casos_2000a2018  num_mortes_2000a2018  \\\n",
       "0           USA                  951                    20   \n",
       "1     AUSTRALIA                  362                    33   \n",
       "2  SOUTH AFRICA                  124                    22   \n",
       "3       BAHAMAS                   51                     1   \n",
       "4        BRAZIL                   49                    18   \n",
       "\n",
       "   prop_mortes_2000a2018  num_casos_1900a1999  num_mortes_1900a1999  \\\n",
       "0               0.021030                  944                   112   \n",
       "1               0.091160                  701                   186   \n",
       "2               0.177419                  363                    65   \n",
       "3               0.019608                   44                     4   \n",
       "4               0.367347                   49                    17   \n",
       "\n",
       "   prop_mortes_1900a1999  \n",
       "0               0.118644  \n",
       "1               0.265335  \n",
       "2               0.179063  \n",
       "3               0.090909  \n",
       "4               0.346939  "
      ]
     },
     "execution_count": 234,
     "metadata": {},
     "output_type": "execute_result"
    }
   ],
   "source": [
    "# verificando o novo DataFrame\n",
    "analise_final.head()"
   ]
  },
  {
   "cell_type": "code",
   "execution_count": 235,
   "metadata": {
    "ExecuteTime": {
     "end_time": "2020-11-04T18:53:05.151493Z",
     "start_time": "2020-11-04T18:53:05.142661Z"
    }
   },
   "outputs": [],
   "source": [
    "# criando uma variável que exibe um DataFrame apenas do Brasil e dos países que tiveram mais de 100 casos em algum dos dois séculos\n",
    "analise_final_ok=analise_final.loc[(analise_final[\"num_casos_2000a2018\"]>=100) | (analise_final[\"num_casos_1900a1999\"]>=100) | (analise_final[\"country\"]==\"BRAZIL\"), :]"
   ]
  },
  {
   "cell_type": "code",
   "execution_count": 236,
   "metadata": {
    "ExecuteTime": {
     "end_time": "2020-11-04T18:53:05.177495Z",
     "start_time": "2020-11-04T18:53:05.155589Z"
    },
    "scrolled": true
   },
   "outputs": [
    {
     "data": {
      "text/html": [
       "<div>\n",
       "<style scoped>\n",
       "    .dataframe tbody tr th:only-of-type {\n",
       "        vertical-align: middle;\n",
       "    }\n",
       "\n",
       "    .dataframe tbody tr th {\n",
       "        vertical-align: top;\n",
       "    }\n",
       "\n",
       "    .dataframe thead th {\n",
       "        text-align: right;\n",
       "    }\n",
       "</style>\n",
       "<table border=\"1\" class=\"dataframe\">\n",
       "  <thead>\n",
       "    <tr style=\"text-align: right;\">\n",
       "      <th></th>\n",
       "      <th>country</th>\n",
       "      <th>num_casos_2000a2018</th>\n",
       "      <th>num_mortes_2000a2018</th>\n",
       "      <th>prop_mortes_2000a2018</th>\n",
       "      <th>num_casos_1900a1999</th>\n",
       "      <th>num_mortes_1900a1999</th>\n",
       "      <th>prop_mortes_1900a1999</th>\n",
       "    </tr>\n",
       "  </thead>\n",
       "  <tbody>\n",
       "    <tr>\n",
       "      <th>0</th>\n",
       "      <td>USA</td>\n",
       "      <td>951</td>\n",
       "      <td>20</td>\n",
       "      <td>0.021030</td>\n",
       "      <td>944</td>\n",
       "      <td>112</td>\n",
       "      <td>0.118644</td>\n",
       "    </tr>\n",
       "    <tr>\n",
       "      <th>1</th>\n",
       "      <td>AUSTRALIA</td>\n",
       "      <td>362</td>\n",
       "      <td>33</td>\n",
       "      <td>0.091160</td>\n",
       "      <td>701</td>\n",
       "      <td>186</td>\n",
       "      <td>0.265335</td>\n",
       "    </tr>\n",
       "    <tr>\n",
       "      <th>2</th>\n",
       "      <td>SOUTH AFRICA</td>\n",
       "      <td>124</td>\n",
       "      <td>22</td>\n",
       "      <td>0.177419</td>\n",
       "      <td>363</td>\n",
       "      <td>65</td>\n",
       "      <td>0.179063</td>\n",
       "    </tr>\n",
       "    <tr>\n",
       "      <th>4</th>\n",
       "      <td>BRAZIL</td>\n",
       "      <td>49</td>\n",
       "      <td>18</td>\n",
       "      <td>0.367347</td>\n",
       "      <td>49</td>\n",
       "      <td>17</td>\n",
       "      <td>0.346939</td>\n",
       "    </tr>\n",
       "    <tr>\n",
       "      <th>15</th>\n",
       "      <td>PAPUA NEW GUINEA</td>\n",
       "      <td>9</td>\n",
       "      <td>3</td>\n",
       "      <td>0.333333</td>\n",
       "      <td>116</td>\n",
       "      <td>51</td>\n",
       "      <td>0.439655</td>\n",
       "    </tr>\n",
       "  </tbody>\n",
       "</table>\n",
       "</div>"
      ],
      "text/plain": [
       "             country  num_casos_2000a2018  num_mortes_2000a2018  \\\n",
       "0                USA                  951                    20   \n",
       "1          AUSTRALIA                  362                    33   \n",
       "2       SOUTH AFRICA                  124                    22   \n",
       "4             BRAZIL                   49                    18   \n",
       "15  PAPUA NEW GUINEA                    9                     3   \n",
       "\n",
       "    prop_mortes_2000a2018  num_casos_1900a1999  num_mortes_1900a1999  \\\n",
       "0                0.021030                  944                   112   \n",
       "1                0.091160                  701                   186   \n",
       "2                0.177419                  363                    65   \n",
       "4                0.367347                   49                    17   \n",
       "15               0.333333                  116                    51   \n",
       "\n",
       "    prop_mortes_1900a1999  \n",
       "0                0.118644  \n",
       "1                0.265335  \n",
       "2                0.179063  \n",
       "4                0.346939  \n",
       "15               0.439655  "
      ]
     },
     "execution_count": 236,
     "metadata": {},
     "output_type": "execute_result"
    }
   ],
   "source": [
    "# verificando o novo DataFrame criado\n",
    "analise_final_ok"
   ]
  },
  {
   "cell_type": "markdown",
   "metadata": {},
   "source": [
    "### ANÁLISE FINAL PARA OS ESTADOS UNIDOS"
   ]
  },
  {
   "cell_type": "markdown",
   "metadata": {
    "ExecuteTime": {
     "end_time": "2020-11-03T21:57:02.643430Z",
     "start_time": "2020-11-03T21:57:02.640353Z"
    }
   },
   "source": [
    "#### ANÁLISE DO ÍNDICE DE MORTES"
   ]
  },
  {
   "cell_type": "markdown",
   "metadata": {},
   "source": [
    "* **Mortes por ano no século 21**"
   ]
  },
  {
   "cell_type": "code",
   "execution_count": 237,
   "metadata": {
    "ExecuteTime": {
     "end_time": "2020-11-04T18:53:05.189013Z",
     "start_time": "2020-11-04T18:53:05.181398Z"
    }
   },
   "outputs": [],
   "source": [
    "# criando uma variável que exibe um DataFrame do número de mortes nos Estados Unidos no século 21\n",
    "USA_mortes_2000=sa_2000_mortes.loc[sa_2000_mortes[\"country\"]==\"USA\", :]"
   ]
  },
  {
   "cell_type": "code",
   "execution_count": 238,
   "metadata": {
    "ExecuteTime": {
     "end_time": "2020-11-04T18:53:05.209368Z",
     "start_time": "2020-11-04T18:53:05.192204Z"
    }
   },
   "outputs": [],
   "source": [
    "# redefinindo a variável criada para exibir o DataFrame com o número de mortes por ano\n",
    "USA_mortes_2000=USA_mortes_2000.groupby(by=\"year\").agg(mortes=(\"year\", \"count\")).reset_index()"
   ]
  },
  {
   "cell_type": "code",
   "execution_count": 239,
   "metadata": {
    "ExecuteTime": {
     "end_time": "2020-11-04T18:53:05.227937Z",
     "start_time": "2020-11-04T18:53:05.212342Z"
    }
   },
   "outputs": [
    {
     "data": {
      "text/html": [
       "<div>\n",
       "<style scoped>\n",
       "    .dataframe tbody tr th:only-of-type {\n",
       "        vertical-align: middle;\n",
       "    }\n",
       "\n",
       "    .dataframe tbody tr th {\n",
       "        vertical-align: top;\n",
       "    }\n",
       "\n",
       "    .dataframe thead th {\n",
       "        text-align: right;\n",
       "    }\n",
       "</style>\n",
       "<table border=\"1\" class=\"dataframe\">\n",
       "  <thead>\n",
       "    <tr style=\"text-align: right;\">\n",
       "      <th></th>\n",
       "      <th>year</th>\n",
       "      <th>mortes</th>\n",
       "    </tr>\n",
       "  </thead>\n",
       "  <tbody>\n",
       "    <tr>\n",
       "      <th>0</th>\n",
       "      <td>2000</td>\n",
       "      <td>1</td>\n",
       "    </tr>\n",
       "    <tr>\n",
       "      <th>1</th>\n",
       "      <td>2001</td>\n",
       "      <td>3</td>\n",
       "    </tr>\n",
       "    <tr>\n",
       "      <th>2</th>\n",
       "      <td>2002</td>\n",
       "      <td>1</td>\n",
       "    </tr>\n",
       "    <tr>\n",
       "      <th>3</th>\n",
       "      <td>2003</td>\n",
       "      <td>2</td>\n",
       "    </tr>\n",
       "    <tr>\n",
       "      <th>4</th>\n",
       "      <td>2004</td>\n",
       "      <td>2</td>\n",
       "    </tr>\n",
       "  </tbody>\n",
       "</table>\n",
       "</div>"
      ],
      "text/plain": [
       "   year  mortes\n",
       "0  2000       1\n",
       "1  2001       3\n",
       "2  2002       1\n",
       "3  2003       2\n",
       "4  2004       2"
      ]
     },
     "execution_count": 239,
     "metadata": {},
     "output_type": "execute_result"
    }
   ],
   "source": [
    "# verificando o DataFrame atualizado\n",
    "USA_mortes_2000.head()"
   ]
  },
  {
   "cell_type": "markdown",
   "metadata": {},
   "source": [
    "* **Mortes por ano no século 20**"
   ]
  },
  {
   "cell_type": "code",
   "execution_count": 240,
   "metadata": {
    "ExecuteTime": {
     "end_time": "2020-11-04T18:53:05.237639Z",
     "start_time": "2020-11-04T18:53:05.230606Z"
    }
   },
   "outputs": [],
   "source": [
    "# criando uma variável que exibe um DataFrame do número de mortes nos Estados Unidos no século 20\n",
    "USA_mortes_1900=sa_1900_mortes.loc[sa_1900_mortes[\"country\"]==\"USA\", :]"
   ]
  },
  {
   "cell_type": "code",
   "execution_count": 241,
   "metadata": {
    "ExecuteTime": {
     "end_time": "2020-11-04T18:53:05.255447Z",
     "start_time": "2020-11-04T18:53:05.241823Z"
    }
   },
   "outputs": [],
   "source": [
    "# redefinindo a variável criada para exibir o DataFrame com o número de mortes por ano\n",
    "USA_mortes_1900=USA_mortes_1900.groupby(by=\"year\").agg(mortes=(\"year\", \"count\")).reset_index()"
   ]
  },
  {
   "cell_type": "code",
   "execution_count": 242,
   "metadata": {
    "ExecuteTime": {
     "end_time": "2020-11-04T18:53:05.281324Z",
     "start_time": "2020-11-04T18:53:05.260111Z"
    },
    "scrolled": true
   },
   "outputs": [
    {
     "data": {
      "text/html": [
       "<div>\n",
       "<style scoped>\n",
       "    .dataframe tbody tr th:only-of-type {\n",
       "        vertical-align: middle;\n",
       "    }\n",
       "\n",
       "    .dataframe tbody tr th {\n",
       "        vertical-align: top;\n",
       "    }\n",
       "\n",
       "    .dataframe thead th {\n",
       "        text-align: right;\n",
       "    }\n",
       "</style>\n",
       "<table border=\"1\" class=\"dataframe\">\n",
       "  <thead>\n",
       "    <tr style=\"text-align: right;\">\n",
       "      <th></th>\n",
       "      <th>year</th>\n",
       "      <th>mortes</th>\n",
       "    </tr>\n",
       "  </thead>\n",
       "  <tbody>\n",
       "    <tr>\n",
       "      <th>0</th>\n",
       "      <td>1902</td>\n",
       "      <td>1</td>\n",
       "    </tr>\n",
       "    <tr>\n",
       "      <th>1</th>\n",
       "      <td>1903</td>\n",
       "      <td>1</td>\n",
       "    </tr>\n",
       "    <tr>\n",
       "      <th>2</th>\n",
       "      <td>1904</td>\n",
       "      <td>2</td>\n",
       "    </tr>\n",
       "    <tr>\n",
       "      <th>3</th>\n",
       "      <td>1905</td>\n",
       "      <td>2</td>\n",
       "    </tr>\n",
       "    <tr>\n",
       "      <th>4</th>\n",
       "      <td>1906</td>\n",
       "      <td>4</td>\n",
       "    </tr>\n",
       "  </tbody>\n",
       "</table>\n",
       "</div>"
      ],
      "text/plain": [
       "   year  mortes\n",
       "0  1902       1\n",
       "1  1903       1\n",
       "2  1904       2\n",
       "3  1905       2\n",
       "4  1906       4"
      ]
     },
     "execution_count": 242,
     "metadata": {},
     "output_type": "execute_result"
    }
   ],
   "source": [
    "# verificando o DataFrame atualizado\n",
    "USA_mortes_1900.head()"
   ]
  },
  {
   "cell_type": "markdown",
   "metadata": {},
   "source": [
    "* **Mortes por ano nos séculos 20 e 21**"
   ]
  },
  {
   "cell_type": "code",
   "execution_count": 243,
   "metadata": {
    "ExecuteTime": {
     "end_time": "2020-11-04T18:53:05.295332Z",
     "start_time": "2020-11-04T18:53:05.288273Z"
    }
   },
   "outputs": [],
   "source": [
    "# criando uma variável que exibe um DataFrame unindo os DataFrame sobre mortes por ano dos séculos 20 e 21\n",
    "USA_concat_mortes=pd.concat([USA_mortes_1900, USA_mortes_2000])"
   ]
  },
  {
   "cell_type": "code",
   "execution_count": 244,
   "metadata": {
    "ExecuteTime": {
     "end_time": "2020-11-04T18:53:05.318345Z",
     "start_time": "2020-11-04T18:53:05.303331Z"
    },
    "scrolled": false
   },
   "outputs": [
    {
     "data": {
      "text/html": [
       "<div>\n",
       "<style scoped>\n",
       "    .dataframe tbody tr th:only-of-type {\n",
       "        vertical-align: middle;\n",
       "    }\n",
       "\n",
       "    .dataframe tbody tr th {\n",
       "        vertical-align: top;\n",
       "    }\n",
       "\n",
       "    .dataframe thead th {\n",
       "        text-align: right;\n",
       "    }\n",
       "</style>\n",
       "<table border=\"1\" class=\"dataframe\">\n",
       "  <thead>\n",
       "    <tr style=\"text-align: right;\">\n",
       "      <th></th>\n",
       "      <th>year</th>\n",
       "      <th>mortes</th>\n",
       "    </tr>\n",
       "  </thead>\n",
       "  <tbody>\n",
       "    <tr>\n",
       "      <th>0</th>\n",
       "      <td>1902</td>\n",
       "      <td>1</td>\n",
       "    </tr>\n",
       "    <tr>\n",
       "      <th>1</th>\n",
       "      <td>1903</td>\n",
       "      <td>1</td>\n",
       "    </tr>\n",
       "    <tr>\n",
       "      <th>2</th>\n",
       "      <td>1904</td>\n",
       "      <td>2</td>\n",
       "    </tr>\n",
       "    <tr>\n",
       "      <th>3</th>\n",
       "      <td>1905</td>\n",
       "      <td>2</td>\n",
       "    </tr>\n",
       "    <tr>\n",
       "      <th>4</th>\n",
       "      <td>1906</td>\n",
       "      <td>4</td>\n",
       "    </tr>\n",
       "  </tbody>\n",
       "</table>\n",
       "</div>"
      ],
      "text/plain": [
       "   year  mortes\n",
       "0  1902       1\n",
       "1  1903       1\n",
       "2  1904       2\n",
       "3  1905       2\n",
       "4  1906       4"
      ]
     },
     "execution_count": 244,
     "metadata": {},
     "output_type": "execute_result"
    }
   ],
   "source": [
    "# verificando o novo DataFrame\n",
    "USA_concat_mortes.head()"
   ]
  },
  {
   "cell_type": "markdown",
   "metadata": {},
   "source": [
    "* **Casos por ano no século 21**"
   ]
  },
  {
   "cell_type": "code",
   "execution_count": 245,
   "metadata": {
    "ExecuteTime": {
     "end_time": "2020-11-04T18:53:05.330333Z",
     "start_time": "2020-11-04T18:53:05.322424Z"
    }
   },
   "outputs": [],
   "source": [
    "# criando uma variável que exibe um DataFrame do número de casos nos Estados Unidos no século 21\n",
    "USA_casos_2000=sa_2000.loc[sa_2000[\"country\"]==\"USA\", :]"
   ]
  },
  {
   "cell_type": "code",
   "execution_count": 246,
   "metadata": {
    "ExecuteTime": {
     "end_time": "2020-11-04T18:53:05.350895Z",
     "start_time": "2020-11-04T18:53:05.332962Z"
    }
   },
   "outputs": [],
   "source": [
    "# redefinindo a variável criada para exibir o DataFrame com o número de casos por ano\n",
    "USA_casos_2000=USA_casos_2000.groupby(by=\"year\").agg(casos=(\"year\", \"count\")).reset_index()"
   ]
  },
  {
   "cell_type": "code",
   "execution_count": 247,
   "metadata": {
    "ExecuteTime": {
     "end_time": "2020-11-04T18:53:05.367171Z",
     "start_time": "2020-11-04T18:53:05.354628Z"
    }
   },
   "outputs": [
    {
     "data": {
      "text/html": [
       "<div>\n",
       "<style scoped>\n",
       "    .dataframe tbody tr th:only-of-type {\n",
       "        vertical-align: middle;\n",
       "    }\n",
       "\n",
       "    .dataframe tbody tr th {\n",
       "        vertical-align: top;\n",
       "    }\n",
       "\n",
       "    .dataframe thead th {\n",
       "        text-align: right;\n",
       "    }\n",
       "</style>\n",
       "<table border=\"1\" class=\"dataframe\">\n",
       "  <thead>\n",
       "    <tr style=\"text-align: right;\">\n",
       "      <th></th>\n",
       "      <th>year</th>\n",
       "      <th>casos</th>\n",
       "    </tr>\n",
       "  </thead>\n",
       "  <tbody>\n",
       "    <tr>\n",
       "      <th>0</th>\n",
       "      <td>2000</td>\n",
       "      <td>49</td>\n",
       "    </tr>\n",
       "    <tr>\n",
       "      <th>1</th>\n",
       "      <td>2001</td>\n",
       "      <td>58</td>\n",
       "    </tr>\n",
       "    <tr>\n",
       "      <th>2</th>\n",
       "      <td>2002</td>\n",
       "      <td>49</td>\n",
       "    </tr>\n",
       "    <tr>\n",
       "      <th>3</th>\n",
       "      <td>2003</td>\n",
       "      <td>52</td>\n",
       "    </tr>\n",
       "    <tr>\n",
       "      <th>4</th>\n",
       "      <td>2004</td>\n",
       "      <td>32</td>\n",
       "    </tr>\n",
       "  </tbody>\n",
       "</table>\n",
       "</div>"
      ],
      "text/plain": [
       "   year  casos\n",
       "0  2000     49\n",
       "1  2001     58\n",
       "2  2002     49\n",
       "3  2003     52\n",
       "4  2004     32"
      ]
     },
     "execution_count": 247,
     "metadata": {},
     "output_type": "execute_result"
    }
   ],
   "source": [
    "# verificando o novo DataFrame\n",
    "USA_casos_2000.head()"
   ]
  },
  {
   "cell_type": "markdown",
   "metadata": {
    "ExecuteTime": {
     "end_time": "2020-11-04T00:17:12.284196Z",
     "start_time": "2020-11-04T00:17:12.277110Z"
    }
   },
   "source": [
    "* **Casos por ano no século 20**"
   ]
  },
  {
   "cell_type": "code",
   "execution_count": 248,
   "metadata": {
    "ExecuteTime": {
     "end_time": "2020-11-04T18:53:05.379307Z",
     "start_time": "2020-11-04T18:53:05.370075Z"
    }
   },
   "outputs": [],
   "source": [
    "# criando uma variável que exibe um DataFrame do número de casos nos Estados Unidos no século 20\n",
    "USA_casos_1900=sa_1900.loc[sa_1900[\"country\"]==\"USA\", :]"
   ]
  },
  {
   "cell_type": "code",
   "execution_count": 249,
   "metadata": {
    "ExecuteTime": {
     "end_time": "2020-11-04T18:53:05.405435Z",
     "start_time": "2020-11-04T18:53:05.385768Z"
    }
   },
   "outputs": [],
   "source": [
    "# redefinindo a variável criada para exibir o DataFrame com o número de casos por ano\n",
    "USA_casos_1900=USA_casos_1900.groupby(by=\"year\").agg(casos=(\"year\", \"count\")).reset_index()"
   ]
  },
  {
   "cell_type": "code",
   "execution_count": 250,
   "metadata": {
    "ExecuteTime": {
     "end_time": "2020-11-04T18:53:05.419865Z",
     "start_time": "2020-11-04T18:53:05.408696Z"
    },
    "scrolled": true
   },
   "outputs": [
    {
     "data": {
      "text/plain": [
       "944"
      ]
     },
     "execution_count": 250,
     "metadata": {},
     "output_type": "execute_result"
    }
   ],
   "source": [
    "# verificando o DataFrame\n",
    "USA_casos_1900.casos.sum()"
   ]
  },
  {
   "cell_type": "markdown",
   "metadata": {},
   "source": [
    "* **Casos por ano nos séculos 20 e 21**"
   ]
  },
  {
   "cell_type": "code",
   "execution_count": 251,
   "metadata": {
    "ExecuteTime": {
     "end_time": "2020-11-04T18:53:05.432856Z",
     "start_time": "2020-11-04T18:53:05.422943Z"
    }
   },
   "outputs": [],
   "source": [
    "# criando uma variável que exibe um DataFrame unindo os DataFrame sobre casos por ano dos séculos 20 e 21\n",
    "USA_concat_casos=pd.concat([USA_casos_1900, USA_casos_2000])"
   ]
  },
  {
   "cell_type": "code",
   "execution_count": 252,
   "metadata": {
    "ExecuteTime": {
     "end_time": "2020-11-04T18:53:05.451184Z",
     "start_time": "2020-11-04T18:53:05.435286Z"
    }
   },
   "outputs": [
    {
     "data": {
      "text/html": [
       "<div>\n",
       "<style scoped>\n",
       "    .dataframe tbody tr th:only-of-type {\n",
       "        vertical-align: middle;\n",
       "    }\n",
       "\n",
       "    .dataframe tbody tr th {\n",
       "        vertical-align: top;\n",
       "    }\n",
       "\n",
       "    .dataframe thead th {\n",
       "        text-align: right;\n",
       "    }\n",
       "</style>\n",
       "<table border=\"1\" class=\"dataframe\">\n",
       "  <thead>\n",
       "    <tr style=\"text-align: right;\">\n",
       "      <th></th>\n",
       "      <th>year</th>\n",
       "      <th>casos</th>\n",
       "    </tr>\n",
       "  </thead>\n",
       "  <tbody>\n",
       "    <tr>\n",
       "      <th>0</th>\n",
       "      <td>1900</td>\n",
       "      <td>4</td>\n",
       "    </tr>\n",
       "    <tr>\n",
       "      <th>1</th>\n",
       "      <td>1901</td>\n",
       "      <td>1</td>\n",
       "    </tr>\n",
       "    <tr>\n",
       "      <th>2</th>\n",
       "      <td>1902</td>\n",
       "      <td>3</td>\n",
       "    </tr>\n",
       "    <tr>\n",
       "      <th>3</th>\n",
       "      <td>1903</td>\n",
       "      <td>2</td>\n",
       "    </tr>\n",
       "    <tr>\n",
       "      <th>4</th>\n",
       "      <td>1904</td>\n",
       "      <td>3</td>\n",
       "    </tr>\n",
       "  </tbody>\n",
       "</table>\n",
       "</div>"
      ],
      "text/plain": [
       "   year  casos\n",
       "0  1900      4\n",
       "1  1901      1\n",
       "2  1902      3\n",
       "3  1903      2\n",
       "4  1904      3"
      ]
     },
     "execution_count": 252,
     "metadata": {},
     "output_type": "execute_result"
    }
   ],
   "source": [
    "# verificando o novo DataFrame\n",
    "USA_concat_casos.head()"
   ]
  },
  {
   "cell_type": "markdown",
   "metadata": {},
   "source": [
    "* **Cálculo do índice de mortes nos séculos 20 e 21**"
   ]
  },
  {
   "cell_type": "code",
   "execution_count": 253,
   "metadata": {
    "ExecuteTime": {
     "end_time": "2020-11-04T18:53:05.480396Z",
     "start_time": "2020-11-04T18:53:05.454569Z"
    }
   },
   "outputs": [],
   "source": [
    "# criando uma variável que exibe um DataFrame unindo os dois DataFrame (dos dois séculos) contendo as informações de mortes e casos\n",
    "USA_analise_ano=pd.merge(left=USA_concat_casos, right=USA_concat_mortes, on=\"year\", how=\"outer\")"
   ]
  },
  {
   "cell_type": "code",
   "execution_count": 254,
   "metadata": {
    "ExecuteTime": {
     "end_time": "2020-11-04T18:53:05.512478Z",
     "start_time": "2020-11-04T18:53:05.491542Z"
    }
   },
   "outputs": [
    {
     "data": {
      "text/html": [
       "<div>\n",
       "<style scoped>\n",
       "    .dataframe tbody tr th:only-of-type {\n",
       "        vertical-align: middle;\n",
       "    }\n",
       "\n",
       "    .dataframe tbody tr th {\n",
       "        vertical-align: top;\n",
       "    }\n",
       "\n",
       "    .dataframe thead th {\n",
       "        text-align: right;\n",
       "    }\n",
       "</style>\n",
       "<table border=\"1\" class=\"dataframe\">\n",
       "  <thead>\n",
       "    <tr style=\"text-align: right;\">\n",
       "      <th></th>\n",
       "      <th>year</th>\n",
       "      <th>casos</th>\n",
       "      <th>mortes</th>\n",
       "    </tr>\n",
       "  </thead>\n",
       "  <tbody>\n",
       "    <tr>\n",
       "      <th>0</th>\n",
       "      <td>1900</td>\n",
       "      <td>4</td>\n",
       "      <td>NaN</td>\n",
       "    </tr>\n",
       "    <tr>\n",
       "      <th>1</th>\n",
       "      <td>1901</td>\n",
       "      <td>1</td>\n",
       "      <td>NaN</td>\n",
       "    </tr>\n",
       "    <tr>\n",
       "      <th>2</th>\n",
       "      <td>1902</td>\n",
       "      <td>3</td>\n",
       "      <td>1.0</td>\n",
       "    </tr>\n",
       "    <tr>\n",
       "      <th>3</th>\n",
       "      <td>1903</td>\n",
       "      <td>2</td>\n",
       "      <td>1.0</td>\n",
       "    </tr>\n",
       "    <tr>\n",
       "      <th>4</th>\n",
       "      <td>1904</td>\n",
       "      <td>3</td>\n",
       "      <td>2.0</td>\n",
       "    </tr>\n",
       "  </tbody>\n",
       "</table>\n",
       "</div>"
      ],
      "text/plain": [
       "   year  casos  mortes\n",
       "0  1900      4     NaN\n",
       "1  1901      1     NaN\n",
       "2  1902      3     1.0\n",
       "3  1903      2     1.0\n",
       "4  1904      3     2.0"
      ]
     },
     "execution_count": 254,
     "metadata": {},
     "output_type": "execute_result"
    }
   ],
   "source": [
    "# verificando o DataFrame\n",
    "USA_analise_ano.head()"
   ]
  },
  {
   "cell_type": "code",
   "execution_count": 255,
   "metadata": {
    "ExecuteTime": {
     "end_time": "2020-11-04T18:53:05.536626Z",
     "start_time": "2020-11-04T18:53:05.519958Z"
    }
   },
   "outputs": [
    {
     "name": "stdout",
     "output_type": "stream",
     "text": [
      "<class 'pandas.core.frame.DataFrame'>\n",
      "Int64Index: 116 entries, 0 to 115\n",
      "Data columns (total 3 columns):\n",
      " #   Column  Non-Null Count  Dtype  \n",
      "---  ------  --------------  -----  \n",
      " 0   year    116 non-null    int64  \n",
      " 1   casos   116 non-null    int64  \n",
      " 2   mortes  75 non-null     float64\n",
      "dtypes: float64(1), int64(2)\n",
      "memory usage: 3.6 KB\n"
     ]
    }
   ],
   "source": [
    "# verificando a quantidade de linhas não-nulas de cada coluna\n",
    "USA_analise_ano.info()"
   ]
  },
  {
   "cell_type": "code",
   "execution_count": 256,
   "metadata": {
    "ExecuteTime": {
     "end_time": "2020-11-04T18:53:05.552075Z",
     "start_time": "2020-11-04T18:53:05.543477Z"
    }
   },
   "outputs": [],
   "source": [
    "# substituindo os valores nulos na coluna de mortes por 0\n",
    "USA_analise_ano[\"mortes\"]=USA_analise_ano[\"mortes\"].replace(np.nan, 0)"
   ]
  },
  {
   "cell_type": "code",
   "execution_count": 257,
   "metadata": {
    "ExecuteTime": {
     "end_time": "2020-11-04T18:53:05.565445Z",
     "start_time": "2020-11-04T18:53:05.554780Z"
    }
   },
   "outputs": [],
   "source": [
    "# criando uma nova coluna no DataFrame que exibe o índice de mortes para cada ano\n",
    "USA_analise_ano[\"prop_mortes\"]=USA_analise_ano[\"mortes\"]/USA_analise_ano[\"casos\"]"
   ]
  },
  {
   "cell_type": "code",
   "execution_count": 258,
   "metadata": {
    "ExecuteTime": {
     "end_time": "2020-11-04T18:53:05.586865Z",
     "start_time": "2020-11-04T18:53:05.568262Z"
    },
    "scrolled": true
   },
   "outputs": [
    {
     "data": {
      "text/html": [
       "<div>\n",
       "<style scoped>\n",
       "    .dataframe tbody tr th:only-of-type {\n",
       "        vertical-align: middle;\n",
       "    }\n",
       "\n",
       "    .dataframe tbody tr th {\n",
       "        vertical-align: top;\n",
       "    }\n",
       "\n",
       "    .dataframe thead th {\n",
       "        text-align: right;\n",
       "    }\n",
       "</style>\n",
       "<table border=\"1\" class=\"dataframe\">\n",
       "  <thead>\n",
       "    <tr style=\"text-align: right;\">\n",
       "      <th></th>\n",
       "      <th>year</th>\n",
       "      <th>casos</th>\n",
       "      <th>mortes</th>\n",
       "      <th>prop_mortes</th>\n",
       "    </tr>\n",
       "  </thead>\n",
       "  <tbody>\n",
       "    <tr>\n",
       "      <th>0</th>\n",
       "      <td>1900</td>\n",
       "      <td>4</td>\n",
       "      <td>0.0</td>\n",
       "      <td>0.000000</td>\n",
       "    </tr>\n",
       "    <tr>\n",
       "      <th>1</th>\n",
       "      <td>1901</td>\n",
       "      <td>1</td>\n",
       "      <td>0.0</td>\n",
       "      <td>0.000000</td>\n",
       "    </tr>\n",
       "    <tr>\n",
       "      <th>2</th>\n",
       "      <td>1902</td>\n",
       "      <td>3</td>\n",
       "      <td>1.0</td>\n",
       "      <td>0.333333</td>\n",
       "    </tr>\n",
       "    <tr>\n",
       "      <th>3</th>\n",
       "      <td>1903</td>\n",
       "      <td>2</td>\n",
       "      <td>1.0</td>\n",
       "      <td>0.500000</td>\n",
       "    </tr>\n",
       "    <tr>\n",
       "      <th>4</th>\n",
       "      <td>1904</td>\n",
       "      <td>3</td>\n",
       "      <td>2.0</td>\n",
       "      <td>0.666667</td>\n",
       "    </tr>\n",
       "  </tbody>\n",
       "</table>\n",
       "</div>"
      ],
      "text/plain": [
       "   year  casos  mortes  prop_mortes\n",
       "0  1900      4     0.0     0.000000\n",
       "1  1901      1     0.0     0.000000\n",
       "2  1902      3     1.0     0.333333\n",
       "3  1903      2     1.0     0.500000\n",
       "4  1904      3     2.0     0.666667"
      ]
     },
     "execution_count": 258,
     "metadata": {},
     "output_type": "execute_result"
    }
   ],
   "source": [
    "# verificando o DataFrame\n",
    "USA_analise_ano.head()"
   ]
  },
  {
   "cell_type": "code",
   "execution_count": 259,
   "metadata": {
    "ExecuteTime": {
     "end_time": "2020-11-04T18:53:05.600649Z",
     "start_time": "2020-11-04T18:53:05.589307Z"
    }
   },
   "outputs": [
    {
     "data": {
      "text/plain": [
       "0.0    41\n",
       "1.0    37\n",
       "2.0    27\n",
       "3.0     5\n",
       "4.0     4\n",
       "5.0     2\n",
       "Name: mortes, dtype: int64"
      ]
     },
     "execution_count": 259,
     "metadata": {},
     "output_type": "execute_result"
    }
   ],
   "source": [
    "# verificando o número de anos para cada ocorrência de mortes\n",
    "USA_analise_ano[\"mortes\"].value_counts()"
   ]
  },
  {
   "cell_type": "code",
   "execution_count": 260,
   "metadata": {
    "ExecuteTime": {
     "end_time": "2020-11-04T18:53:05.621333Z",
     "start_time": "2020-11-04T18:53:05.603834Z"
    }
   },
   "outputs": [
    {
     "data": {
      "text/html": [
       "<div>\n",
       "<style scoped>\n",
       "    .dataframe tbody tr th:only-of-type {\n",
       "        vertical-align: middle;\n",
       "    }\n",
       "\n",
       "    .dataframe tbody tr th {\n",
       "        vertical-align: top;\n",
       "    }\n",
       "\n",
       "    .dataframe thead th {\n",
       "        text-align: right;\n",
       "    }\n",
       "</style>\n",
       "<table border=\"1\" class=\"dataframe\">\n",
       "  <thead>\n",
       "    <tr style=\"text-align: right;\">\n",
       "      <th></th>\n",
       "      <th>year</th>\n",
       "      <th>casos</th>\n",
       "      <th>mortes</th>\n",
       "      <th>prop_mortes</th>\n",
       "    </tr>\n",
       "  </thead>\n",
       "  <tbody>\n",
       "    <tr>\n",
       "      <th>year</th>\n",
       "      <td>1.000000</td>\n",
       "      <td>0.792549</td>\n",
       "      <td>-0.065693</td>\n",
       "      <td>-0.527312</td>\n",
       "    </tr>\n",
       "    <tr>\n",
       "      <th>casos</th>\n",
       "      <td>0.792549</td>\n",
       "      <td>1.000000</td>\n",
       "      <td>0.053420</td>\n",
       "      <td>-0.380861</td>\n",
       "    </tr>\n",
       "    <tr>\n",
       "      <th>mortes</th>\n",
       "      <td>-0.065693</td>\n",
       "      <td>0.053420</td>\n",
       "      <td>1.000000</td>\n",
       "      <td>0.511903</td>\n",
       "    </tr>\n",
       "    <tr>\n",
       "      <th>prop_mortes</th>\n",
       "      <td>-0.527312</td>\n",
       "      <td>-0.380861</td>\n",
       "      <td>0.511903</td>\n",
       "      <td>1.000000</td>\n",
       "    </tr>\n",
       "  </tbody>\n",
       "</table>\n",
       "</div>"
      ],
      "text/plain": [
       "                 year     casos    mortes  prop_mortes\n",
       "year         1.000000  0.792549 -0.065693    -0.527312\n",
       "casos        0.792549  1.000000  0.053420    -0.380861\n",
       "mortes      -0.065693  0.053420  1.000000     0.511903\n",
       "prop_mortes -0.527312 -0.380861  0.511903     1.000000"
      ]
     },
     "execution_count": 260,
     "metadata": {},
     "output_type": "execute_result"
    }
   ],
   "source": [
    "# verificando a correlação entre as variáveis do DataFrame\n",
    "USA_analise_ano.corr()"
   ]
  },
  {
   "cell_type": "markdown",
   "metadata": {
    "ExecuteTime": {
     "end_time": "2020-11-04T01:19:00.171061Z",
     "start_time": "2020-11-04T01:19:00.162796Z"
    }
   },
   "source": [
    "#### ANÁLISE DAS ATIVIDADES"
   ]
  },
  {
   "cell_type": "code",
   "execution_count": 261,
   "metadata": {
    "ExecuteTime": {
     "end_time": "2020-11-04T18:53:05.640701Z",
     "start_time": "2020-11-04T18:53:05.624904Z"
    }
   },
   "outputs": [
    {
     "data": {
      "text/plain": [
       "Surfing                                           347\n",
       "Swimming                                          134\n",
       "Wading                                             59\n",
       "Standing                                           28\n",
       "Fishing                                            28\n",
       "                                                 ... \n",
       "Sea Disaster                                        1\n",
       "Standing or boogie boardin                          1\n",
       "Swimming /  boogie boarding                         1\n",
       "Boogie boarding / wading                            1\n",
       "Walking, carrying surfboard & stepped on shark      1\n",
       "Name: activity, Length: 144, dtype: int64"
      ]
     },
     "execution_count": 261,
     "metadata": {},
     "output_type": "execute_result"
    }
   ],
   "source": [
    "# verificando a ocorrência de cada atividade nos casos do século 21\n",
    "sa_2000.loc[sa_2000[\"country\"]==\"USA\", :][\"activity\"].value_counts()"
   ]
  },
  {
   "cell_type": "code",
   "execution_count": 262,
   "metadata": {
    "ExecuteTime": {
     "end_time": "2020-11-04T18:53:05.655700Z",
     "start_time": "2020-11-04T18:53:05.643472Z"
    }
   },
   "outputs": [
    {
     "data": {
      "text/plain": [
       "Surfing                                                                              185\n",
       "Swimming                                                                             122\n",
       "Fishing                                                                               68\n",
       "Wading                                                                                33\n",
       "Standing                                                                              26\n",
       "                                                                                    ... \n",
       "The Cuban freighter Libertad was torpedoed and sunk by the German submarine U-129      1\n",
       "Scuba diving, reportedly also spearfishing                                             1\n",
       "Freediving for seashells                                                               1\n",
       "Swept out to sea while net fishing                                                     1\n",
       "Playing in surf with his child  (9)                                                    1\n",
       "Name: activity, Length: 303, dtype: int64"
      ]
     },
     "execution_count": 262,
     "metadata": {},
     "output_type": "execute_result"
    }
   ],
   "source": [
    "# verificando a ocorrência de cada atividade nos casos do século 20\n",
    "sa_1900.loc[sa_1900[\"country\"]==\"USA\", :][\"activity\"].value_counts()"
   ]
  },
  {
   "cell_type": "code",
   "execution_count": 263,
   "metadata": {
    "ExecuteTime": {
     "end_time": "2020-11-04T18:53:05.670331Z",
     "start_time": "2020-11-04T18:53:05.659223Z"
    }
   },
   "outputs": [
    {
     "data": {
      "text/plain": [
       "Surfing                                        3\n",
       "Snorkeling                                     2\n",
       "Swimming                                       2\n",
       "Swimming                                       2\n",
       "Kayaking / Fishing                             1\n",
       "Air Disaster                                   1\n",
       "Swimming, wearing black wetsuit & swim fins    1\n",
       "Jumped into the water                          1\n",
       "Kite Boarding                                  1\n",
       "Wreck / Technical diving                       1\n",
       "Shark Fishing                                  1\n",
       "Body boarding                                  1\n",
       "Swimming with boogie board                     1\n",
       "Swimming to shore from boat or kayak           1\n",
       "Diving                                         1\n",
       "Name: activity, dtype: int64"
      ]
     },
     "execution_count": 263,
     "metadata": {},
     "output_type": "execute_result"
    }
   ],
   "source": [
    "# verificando a ocorrência de cada atividade nas mortes do século 21\n",
    "sa_2000_mortes.loc[sa_2000_mortes[\"country\"]==\"USA\", :][\"activity\"].value_counts()"
   ]
  },
  {
   "cell_type": "code",
   "execution_count": 264,
   "metadata": {
    "ExecuteTime": {
     "end_time": "2020-11-04T18:53:05.690453Z",
     "start_time": "2020-11-04T18:53:05.673129Z"
    }
   },
   "outputs": [
    {
     "data": {
      "text/plain": [
       "Swimming                                                       30\n",
       "Fishing                                                         4\n",
       "Scuba diving                                                    4\n",
       "Surfing                                                         3\n",
       "Snorkeling                                                      2\n",
       "                                                               ..\n",
       "Treading water                                                  1\n",
       "25-foot cabin cruiser Happy Jack sank in heavy seas             1\n",
       "Washed off freighter Huncliff by a freak wave                   1\n",
       "Adrift after the sinking of the motor yacht Princess Dianne     1\n",
       "Fell overboard & swimming                                       1\n",
       "Name: activity, Length: 66, dtype: int64"
      ]
     },
     "execution_count": 264,
     "metadata": {},
     "output_type": "execute_result"
    }
   ],
   "source": [
    "# verificando a ocorrência de cada atividade nas mortes do século 20\n",
    "sa_1900_mortes.loc[sa_1900_mortes[\"country\"]==\"USA\", :].activity.value_counts()"
   ]
  },
  {
   "cell_type": "code",
   "execution_count": 265,
   "metadata": {
    "ExecuteTime": {
     "end_time": "2020-11-04T18:53:05.704443Z",
     "start_time": "2020-11-04T18:53:05.697098Z"
    }
   },
   "outputs": [],
   "source": [
    "def swim(text):\n",
    "    \"\"\"\n",
    "        Substitui toda informação que diz que o usuário estava nadando para o mesmo padrão.\n",
    "        Assim, a contagem é mais realista.\n",
    "    \"\"\"\n",
    "    return re.sub(\".*[Ss]wimming.*\", \"Swimming\", text)"
   ]
  },
  {
   "cell_type": "code",
   "execution_count": 266,
   "metadata": {
    "ExecuteTime": {
     "end_time": "2020-11-04T18:53:05.720532Z",
     "start_time": "2020-11-04T18:53:05.708452Z"
    }
   },
   "outputs": [],
   "source": [
    "# definindo uma variável que exibe uma Séries que informa a quantidade de vezes de cada atividade em que a vítima morreu no século 21\n",
    "USA_2000_mortes=sa_2000_mortes.loc[sa_2000_mortes[\"country\"]==\"USA\", :][\"activity\"].apply(swim).value_counts()"
   ]
  },
  {
   "cell_type": "code",
   "execution_count": 267,
   "metadata": {
    "ExecuteTime": {
     "end_time": "2020-11-04T18:53:05.734127Z",
     "start_time": "2020-11-04T18:53:05.724180Z"
    }
   },
   "outputs": [
    {
     "data": {
      "text/plain": [
       "Swimming              7\n",
       "Surfing               3\n",
       "Snorkeling            2\n",
       "Shark Fishing         1\n",
       "Kayaking / Fishing    1\n",
       "Name: activity, dtype: int64"
      ]
     },
     "execution_count": 267,
     "metadata": {},
     "output_type": "execute_result"
    }
   ],
   "source": [
    "# verificando a Séries criada\n",
    "USA_2000_mortes.head()"
   ]
  },
  {
   "cell_type": "code",
   "execution_count": 268,
   "metadata": {
    "ExecuteTime": {
     "end_time": "2020-11-04T18:53:05.746408Z",
     "start_time": "2020-11-04T18:53:05.737050Z"
    }
   },
   "outputs": [],
   "source": [
    "# transformando a Séries em um DataFrame\n",
    "USA_2000_mortes=pd.DataFrame(USA_2000_mortes).rename({\"activity\": \"mortes_2000-2018\"}, axis=1)"
   ]
  },
  {
   "cell_type": "code",
   "execution_count": 269,
   "metadata": {
    "ExecuteTime": {
     "end_time": "2020-11-04T18:53:05.755308Z",
     "start_time": "2020-11-04T18:53:05.750515Z"
    }
   },
   "outputs": [],
   "source": [
    "# alterando o nome da coluna que antes era o índice\n",
    "USA_2000_mortes.index.name=\"atividade\""
   ]
  },
  {
   "cell_type": "code",
   "execution_count": 270,
   "metadata": {
    "ExecuteTime": {
     "end_time": "2020-11-04T18:53:05.766304Z",
     "start_time": "2020-11-04T18:53:05.759727Z"
    }
   },
   "outputs": [],
   "source": [
    "# ressetando o índice\n",
    "USA_2000_mortes.reset_index(inplace=True)"
   ]
  },
  {
   "cell_type": "code",
   "execution_count": 271,
   "metadata": {
    "ExecuteTime": {
     "end_time": "2020-11-04T18:53:05.785729Z",
     "start_time": "2020-11-04T18:53:05.771996Z"
    },
    "scrolled": true
   },
   "outputs": [
    {
     "data": {
      "text/html": [
       "<div>\n",
       "<style scoped>\n",
       "    .dataframe tbody tr th:only-of-type {\n",
       "        vertical-align: middle;\n",
       "    }\n",
       "\n",
       "    .dataframe tbody tr th {\n",
       "        vertical-align: top;\n",
       "    }\n",
       "\n",
       "    .dataframe thead th {\n",
       "        text-align: right;\n",
       "    }\n",
       "</style>\n",
       "<table border=\"1\" class=\"dataframe\">\n",
       "  <thead>\n",
       "    <tr style=\"text-align: right;\">\n",
       "      <th></th>\n",
       "      <th>atividade</th>\n",
       "      <th>mortes_2000-2018</th>\n",
       "    </tr>\n",
       "  </thead>\n",
       "  <tbody>\n",
       "    <tr>\n",
       "      <th>0</th>\n",
       "      <td>Swimming</td>\n",
       "      <td>7</td>\n",
       "    </tr>\n",
       "    <tr>\n",
       "      <th>1</th>\n",
       "      <td>Surfing</td>\n",
       "      <td>3</td>\n",
       "    </tr>\n",
       "    <tr>\n",
       "      <th>2</th>\n",
       "      <td>Snorkeling</td>\n",
       "      <td>2</td>\n",
       "    </tr>\n",
       "    <tr>\n",
       "      <th>3</th>\n",
       "      <td>Shark Fishing</td>\n",
       "      <td>1</td>\n",
       "    </tr>\n",
       "    <tr>\n",
       "      <th>4</th>\n",
       "      <td>Kayaking / Fishing</td>\n",
       "      <td>1</td>\n",
       "    </tr>\n",
       "  </tbody>\n",
       "</table>\n",
       "</div>"
      ],
      "text/plain": [
       "            atividade  mortes_2000-2018\n",
       "0            Swimming                 7\n",
       "1             Surfing                 3\n",
       "2          Snorkeling                 2\n",
       "3       Shark Fishing                 1\n",
       "4  Kayaking / Fishing                 1"
      ]
     },
     "execution_count": 271,
     "metadata": {},
     "output_type": "execute_result"
    }
   ],
   "source": [
    "# verificando o DataFrame criado\n",
    "USA_2000_mortes.head()"
   ]
  },
  {
   "cell_type": "code",
   "execution_count": 272,
   "metadata": {
    "ExecuteTime": {
     "end_time": "2020-11-04T18:53:05.805332Z",
     "start_time": "2020-11-04T18:53:05.788802Z"
    }
   },
   "outputs": [],
   "source": [
    "# definindo uma variável que exibe uma Séries que informa a quantidade de vezes de cada atividade em que a vítima morreu no século 20\n",
    "USA_1900_mortes=sa_1900_mortes.loc[sa_1900_mortes[\"country\"]==\"USA\", :].dropna(subset=[\"activity\"])[\"activity\"].apply(swim).value_counts()"
   ]
  },
  {
   "cell_type": "code",
   "execution_count": 273,
   "metadata": {
    "ExecuteTime": {
     "end_time": "2020-11-04T18:53:05.818866Z",
     "start_time": "2020-11-04T18:53:05.810132Z"
    }
   },
   "outputs": [
    {
     "data": {
      "text/plain": [
       "Swimming         38\n",
       "Fishing           4\n",
       "Scuba diving      4\n",
       "Surfing           3\n",
       "Body boarding     2\n",
       "Name: activity, dtype: int64"
      ]
     },
     "execution_count": 273,
     "metadata": {},
     "output_type": "execute_result"
    }
   ],
   "source": [
    "# verificando a Séries criada\n",
    "USA_1900_mortes.head()"
   ]
  },
  {
   "cell_type": "code",
   "execution_count": 274,
   "metadata": {
    "ExecuteTime": {
     "end_time": "2020-11-04T18:53:05.827895Z",
     "start_time": "2020-11-04T18:53:05.821904Z"
    }
   },
   "outputs": [],
   "source": [
    "# transformando a Séries em um DataFrame\n",
    "USA_1900_mortes=pd.DataFrame(USA_1900_mortes).rename({\"activity\": \"mortes_1900-1999\"}, axis=1)"
   ]
  },
  {
   "cell_type": "code",
   "execution_count": 275,
   "metadata": {
    "ExecuteTime": {
     "end_time": "2020-11-04T18:53:05.835949Z",
     "start_time": "2020-11-04T18:53:05.831774Z"
    }
   },
   "outputs": [],
   "source": [
    "# alterando o nome da coluna que antes era o índice\n",
    "USA_1900_mortes.index.name=\"atividade\""
   ]
  },
  {
   "cell_type": "code",
   "execution_count": 276,
   "metadata": {
    "ExecuteTime": {
     "end_time": "2020-11-04T18:53:05.847005Z",
     "start_time": "2020-11-04T18:53:05.840321Z"
    }
   },
   "outputs": [],
   "source": [
    "# ressetando o índice\n",
    "USA_1900_mortes.reset_index(inplace=True)"
   ]
  },
  {
   "cell_type": "code",
   "execution_count": 277,
   "metadata": {
    "ExecuteTime": {
     "end_time": "2020-11-04T18:53:05.863389Z",
     "start_time": "2020-11-04T18:53:05.850911Z"
    }
   },
   "outputs": [
    {
     "data": {
      "text/html": [
       "<div>\n",
       "<style scoped>\n",
       "    .dataframe tbody tr th:only-of-type {\n",
       "        vertical-align: middle;\n",
       "    }\n",
       "\n",
       "    .dataframe tbody tr th {\n",
       "        vertical-align: top;\n",
       "    }\n",
       "\n",
       "    .dataframe thead th {\n",
       "        text-align: right;\n",
       "    }\n",
       "</style>\n",
       "<table border=\"1\" class=\"dataframe\">\n",
       "  <thead>\n",
       "    <tr style=\"text-align: right;\">\n",
       "      <th></th>\n",
       "      <th>atividade</th>\n",
       "      <th>mortes_1900-1999</th>\n",
       "    </tr>\n",
       "  </thead>\n",
       "  <tbody>\n",
       "    <tr>\n",
       "      <th>0</th>\n",
       "      <td>Swimming</td>\n",
       "      <td>38</td>\n",
       "    </tr>\n",
       "    <tr>\n",
       "      <th>1</th>\n",
       "      <td>Fishing</td>\n",
       "      <td>4</td>\n",
       "    </tr>\n",
       "    <tr>\n",
       "      <th>2</th>\n",
       "      <td>Scuba diving</td>\n",
       "      <td>4</td>\n",
       "    </tr>\n",
       "    <tr>\n",
       "      <th>3</th>\n",
       "      <td>Surfing</td>\n",
       "      <td>3</td>\n",
       "    </tr>\n",
       "    <tr>\n",
       "      <th>4</th>\n",
       "      <td>Body boarding</td>\n",
       "      <td>2</td>\n",
       "    </tr>\n",
       "  </tbody>\n",
       "</table>\n",
       "</div>"
      ],
      "text/plain": [
       "       atividade  mortes_1900-1999\n",
       "0       Swimming                38\n",
       "1        Fishing                 4\n",
       "2   Scuba diving                 4\n",
       "3        Surfing                 3\n",
       "4  Body boarding                 2"
      ]
     },
     "execution_count": 277,
     "metadata": {},
     "output_type": "execute_result"
    }
   ],
   "source": [
    "# verificando o DataFrame criado\n",
    "USA_1900_mortes.head()"
   ]
  },
  {
   "cell_type": "code",
   "execution_count": 278,
   "metadata": {
    "ExecuteTime": {
     "end_time": "2020-11-04T18:53:05.890510Z",
     "start_time": "2020-11-04T18:53:05.869239Z"
    }
   },
   "outputs": [],
   "source": [
    "# definindo uma variável que exibe uma Séries que informa a quantidade de casos de cada atividade no século 21\n",
    "USA_2000=sa_2000.loc[sa_2000[\"country\"]==\"USA\", :].dropna(subset=[\"activity\"]).activity.apply(swim).value_counts()"
   ]
  },
  {
   "cell_type": "code",
   "execution_count": 279,
   "metadata": {
    "ExecuteTime": {
     "end_time": "2020-11-04T18:53:05.900650Z",
     "start_time": "2020-11-04T18:53:05.892766Z"
    }
   },
   "outputs": [
    {
     "data": {
      "text/plain": [
       "Surfing     347\n",
       "Swimming    153\n",
       "Wading       59\n",
       "Fishing      28\n",
       "Standing     28\n",
       "Name: activity, dtype: int64"
      ]
     },
     "execution_count": 279,
     "metadata": {},
     "output_type": "execute_result"
    }
   ],
   "source": [
    "# verificando a Séries criada\n",
    "USA_2000.head()"
   ]
  },
  {
   "cell_type": "code",
   "execution_count": 280,
   "metadata": {
    "ExecuteTime": {
     "end_time": "2020-11-04T18:53:05.911331Z",
     "start_time": "2020-11-04T18:53:05.903954Z"
    }
   },
   "outputs": [],
   "source": [
    "# transformando a Séries em um DataFrame\n",
    "USA_2000=pd.DataFrame(USA_2000).rename({\"activity\": \"casos_2000-2018\"}, axis=1)"
   ]
  },
  {
   "cell_type": "code",
   "execution_count": 281,
   "metadata": {
    "ExecuteTime": {
     "end_time": "2020-11-04T18:53:05.923372Z",
     "start_time": "2020-11-04T18:53:05.915319Z"
    }
   },
   "outputs": [],
   "source": [
    "# alterando o nome da coluna que antes era o índice\n",
    "USA_2000.index.name=\"atividade\""
   ]
  },
  {
   "cell_type": "code",
   "execution_count": 282,
   "metadata": {
    "ExecuteTime": {
     "end_time": "2020-11-04T18:53:05.935291Z",
     "start_time": "2020-11-04T18:53:05.926623Z"
    }
   },
   "outputs": [],
   "source": [
    "# ressetando o índice\n",
    "USA_2000.reset_index(inplace=True)"
   ]
  },
  {
   "cell_type": "code",
   "execution_count": 283,
   "metadata": {
    "ExecuteTime": {
     "end_time": "2020-11-04T18:53:05.950466Z",
     "start_time": "2020-11-04T18:53:05.939712Z"
    }
   },
   "outputs": [
    {
     "data": {
      "text/html": [
       "<div>\n",
       "<style scoped>\n",
       "    .dataframe tbody tr th:only-of-type {\n",
       "        vertical-align: middle;\n",
       "    }\n",
       "\n",
       "    .dataframe tbody tr th {\n",
       "        vertical-align: top;\n",
       "    }\n",
       "\n",
       "    .dataframe thead th {\n",
       "        text-align: right;\n",
       "    }\n",
       "</style>\n",
       "<table border=\"1\" class=\"dataframe\">\n",
       "  <thead>\n",
       "    <tr style=\"text-align: right;\">\n",
       "      <th></th>\n",
       "      <th>atividade</th>\n",
       "      <th>casos_2000-2018</th>\n",
       "    </tr>\n",
       "  </thead>\n",
       "  <tbody>\n",
       "    <tr>\n",
       "      <th>0</th>\n",
       "      <td>Surfing</td>\n",
       "      <td>347</td>\n",
       "    </tr>\n",
       "    <tr>\n",
       "      <th>1</th>\n",
       "      <td>Swimming</td>\n",
       "      <td>153</td>\n",
       "    </tr>\n",
       "    <tr>\n",
       "      <th>2</th>\n",
       "      <td>Wading</td>\n",
       "      <td>59</td>\n",
       "    </tr>\n",
       "    <tr>\n",
       "      <th>3</th>\n",
       "      <td>Fishing</td>\n",
       "      <td>28</td>\n",
       "    </tr>\n",
       "    <tr>\n",
       "      <th>4</th>\n",
       "      <td>Standing</td>\n",
       "      <td>28</td>\n",
       "    </tr>\n",
       "  </tbody>\n",
       "</table>\n",
       "</div>"
      ],
      "text/plain": [
       "  atividade  casos_2000-2018\n",
       "0   Surfing              347\n",
       "1  Swimming              153\n",
       "2    Wading               59\n",
       "3   Fishing               28\n",
       "4  Standing               28"
      ]
     },
     "execution_count": 283,
     "metadata": {},
     "output_type": "execute_result"
    }
   ],
   "source": [
    "# verificando o DataFrame criado\n",
    "USA_2000.head()"
   ]
  },
  {
   "cell_type": "code",
   "execution_count": 284,
   "metadata": {
    "ExecuteTime": {
     "end_time": "2020-11-04T18:53:05.977984Z",
     "start_time": "2020-11-04T18:53:05.953502Z"
    }
   },
   "outputs": [],
   "source": [
    "# definindo uma variável que exibe uma Séries que informa a quantidade de casos de cada atividade no século 20\n",
    "USA_1900=sa_1900.loc[sa_1900[\"country\"]==\"USA\", :].dropna(subset=[\"activity\"]).activity.apply(swim).value_counts()"
   ]
  },
  {
   "cell_type": "code",
   "execution_count": 285,
   "metadata": {
    "ExecuteTime": {
     "end_time": "2020-11-04T18:53:06.003752Z",
     "start_time": "2020-11-04T18:53:05.983759Z"
    }
   },
   "outputs": [
    {
     "data": {
      "text/plain": [
       "Surfing     185\n",
       "Swimming    165\n",
       "Fishing      68\n",
       "Wading       33\n",
       "Standing     26\n",
       "Name: activity, dtype: int64"
      ]
     },
     "execution_count": 285,
     "metadata": {},
     "output_type": "execute_result"
    }
   ],
   "source": [
    "# verificando a Séries criada\n",
    "USA_1900.head()"
   ]
  },
  {
   "cell_type": "code",
   "execution_count": 286,
   "metadata": {
    "ExecuteTime": {
     "end_time": "2020-11-04T18:53:06.019115Z",
     "start_time": "2020-11-04T18:53:06.009750Z"
    }
   },
   "outputs": [],
   "source": [
    "# transformando a Séries em um DataFrame\n",
    "USA_1900=pd.DataFrame(USA_1900).rename({\"activity\": \"casos_1900-1999\"}, axis=1)"
   ]
  },
  {
   "cell_type": "code",
   "execution_count": 287,
   "metadata": {
    "ExecuteTime": {
     "end_time": "2020-11-04T18:53:06.028326Z",
     "start_time": "2020-11-04T18:53:06.022025Z"
    }
   },
   "outputs": [],
   "source": [
    "# alterando o nome da coluna que antes era o índice\n",
    "USA_1900.index.name=\"atividade\""
   ]
  },
  {
   "cell_type": "code",
   "execution_count": 288,
   "metadata": {
    "ExecuteTime": {
     "end_time": "2020-11-04T18:53:06.041366Z",
     "start_time": "2020-11-04T18:53:06.032186Z"
    }
   },
   "outputs": [],
   "source": [
    "# ressetando o índice\n",
    "USA_1900.reset_index(inplace=True)"
   ]
  },
  {
   "cell_type": "code",
   "execution_count": 289,
   "metadata": {
    "ExecuteTime": {
     "end_time": "2020-11-04T18:53:06.059491Z",
     "start_time": "2020-11-04T18:53:06.044525Z"
    }
   },
   "outputs": [
    {
     "data": {
      "text/html": [
       "<div>\n",
       "<style scoped>\n",
       "    .dataframe tbody tr th:only-of-type {\n",
       "        vertical-align: middle;\n",
       "    }\n",
       "\n",
       "    .dataframe tbody tr th {\n",
       "        vertical-align: top;\n",
       "    }\n",
       "\n",
       "    .dataframe thead th {\n",
       "        text-align: right;\n",
       "    }\n",
       "</style>\n",
       "<table border=\"1\" class=\"dataframe\">\n",
       "  <thead>\n",
       "    <tr style=\"text-align: right;\">\n",
       "      <th></th>\n",
       "      <th>atividade</th>\n",
       "      <th>casos_1900-1999</th>\n",
       "    </tr>\n",
       "  </thead>\n",
       "  <tbody>\n",
       "    <tr>\n",
       "      <th>0</th>\n",
       "      <td>Surfing</td>\n",
       "      <td>185</td>\n",
       "    </tr>\n",
       "    <tr>\n",
       "      <th>1</th>\n",
       "      <td>Swimming</td>\n",
       "      <td>165</td>\n",
       "    </tr>\n",
       "    <tr>\n",
       "      <th>2</th>\n",
       "      <td>Fishing</td>\n",
       "      <td>68</td>\n",
       "    </tr>\n",
       "    <tr>\n",
       "      <th>3</th>\n",
       "      <td>Wading</td>\n",
       "      <td>33</td>\n",
       "    </tr>\n",
       "    <tr>\n",
       "      <th>4</th>\n",
       "      <td>Standing</td>\n",
       "      <td>26</td>\n",
       "    </tr>\n",
       "  </tbody>\n",
       "</table>\n",
       "</div>"
      ],
      "text/plain": [
       "  atividade  casos_1900-1999\n",
       "0   Surfing              185\n",
       "1  Swimming              165\n",
       "2   Fishing               68\n",
       "3    Wading               33\n",
       "4  Standing               26"
      ]
     },
     "execution_count": 289,
     "metadata": {},
     "output_type": "execute_result"
    }
   ],
   "source": [
    "# verificando o DataFrame criado\n",
    "USA_1900.head()"
   ]
  },
  {
   "cell_type": "markdown",
   "metadata": {},
   "source": [
    "* **Unindo os DataFrame criados com base nas atividades e calculando o índice de morte de cada século**"
   ]
  },
  {
   "cell_type": "code",
   "execution_count": 290,
   "metadata": {
    "ExecuteTime": {
     "end_time": "2020-11-04T18:53:06.073924Z",
     "start_time": "2020-11-04T18:53:06.062445Z"
    }
   },
   "outputs": [],
   "source": [
    "# criando a variável que exibe a união dos DataFrame criados\n",
    "USA_activity=pd.merge(left=USA_2000, right=USA_2000_mortes, on=\"atividade\")"
   ]
  },
  {
   "cell_type": "code",
   "execution_count": 291,
   "metadata": {
    "ExecuteTime": {
     "end_time": "2020-11-04T18:53:06.088930Z",
     "start_time": "2020-11-04T18:53:06.076927Z"
    },
    "scrolled": true
   },
   "outputs": [
    {
     "data": {
      "text/html": [
       "<div>\n",
       "<style scoped>\n",
       "    .dataframe tbody tr th:only-of-type {\n",
       "        vertical-align: middle;\n",
       "    }\n",
       "\n",
       "    .dataframe tbody tr th {\n",
       "        vertical-align: top;\n",
       "    }\n",
       "\n",
       "    .dataframe thead th {\n",
       "        text-align: right;\n",
       "    }\n",
       "</style>\n",
       "<table border=\"1\" class=\"dataframe\">\n",
       "  <thead>\n",
       "    <tr style=\"text-align: right;\">\n",
       "      <th></th>\n",
       "      <th>atividade</th>\n",
       "      <th>casos_2000-2018</th>\n",
       "      <th>mortes_2000-2018</th>\n",
       "    </tr>\n",
       "  </thead>\n",
       "  <tbody>\n",
       "    <tr>\n",
       "      <th>0</th>\n",
       "      <td>Surfing</td>\n",
       "      <td>347</td>\n",
       "      <td>3</td>\n",
       "    </tr>\n",
       "    <tr>\n",
       "      <th>1</th>\n",
       "      <td>Swimming</td>\n",
       "      <td>153</td>\n",
       "      <td>7</td>\n",
       "    </tr>\n",
       "    <tr>\n",
       "      <th>2</th>\n",
       "      <td>Snorkeling</td>\n",
       "      <td>20</td>\n",
       "      <td>2</td>\n",
       "    </tr>\n",
       "    <tr>\n",
       "      <th>3</th>\n",
       "      <td>Body boarding</td>\n",
       "      <td>16</td>\n",
       "      <td>1</td>\n",
       "    </tr>\n",
       "    <tr>\n",
       "      <th>4</th>\n",
       "      <td>Diving</td>\n",
       "      <td>6</td>\n",
       "      <td>1</td>\n",
       "    </tr>\n",
       "  </tbody>\n",
       "</table>\n",
       "</div>"
      ],
      "text/plain": [
       "       atividade  casos_2000-2018  mortes_2000-2018\n",
       "0        Surfing              347                 3\n",
       "1       Swimming              153                 7\n",
       "2     Snorkeling               20                 2\n",
       "3  Body boarding               16                 1\n",
       "4         Diving                6                 1"
      ]
     },
     "execution_count": 291,
     "metadata": {},
     "output_type": "execute_result"
    }
   ],
   "source": [
    "# verificando a primeira união\n",
    "USA_activity.head()"
   ]
  },
  {
   "cell_type": "code",
   "execution_count": 292,
   "metadata": {
    "ExecuteTime": {
     "end_time": "2020-11-04T18:53:06.099233Z",
     "start_time": "2020-11-04T18:53:06.092209Z"
    }
   },
   "outputs": [],
   "source": [
    "# criando uma nova coluna que indica o índice de mortes por atividade no século 21\n",
    "USA_activity[\"prop_mortes_2000-2018\"]=USA_activity[\"mortes_2000-2018\"]/USA_activity[\"casos_2000-2018\"]"
   ]
  },
  {
   "cell_type": "code",
   "execution_count": 293,
   "metadata": {
    "ExecuteTime": {
     "end_time": "2020-11-04T18:53:06.121174Z",
     "start_time": "2020-11-04T18:53:06.102876Z"
    }
   },
   "outputs": [
    {
     "data": {
      "text/html": [
       "<div>\n",
       "<style scoped>\n",
       "    .dataframe tbody tr th:only-of-type {\n",
       "        vertical-align: middle;\n",
       "    }\n",
       "\n",
       "    .dataframe tbody tr th {\n",
       "        vertical-align: top;\n",
       "    }\n",
       "\n",
       "    .dataframe thead th {\n",
       "        text-align: right;\n",
       "    }\n",
       "</style>\n",
       "<table border=\"1\" class=\"dataframe\">\n",
       "  <thead>\n",
       "    <tr style=\"text-align: right;\">\n",
       "      <th></th>\n",
       "      <th>atividade</th>\n",
       "      <th>casos_2000-2018</th>\n",
       "      <th>mortes_2000-2018</th>\n",
       "      <th>prop_mortes_2000-2018</th>\n",
       "    </tr>\n",
       "  </thead>\n",
       "  <tbody>\n",
       "    <tr>\n",
       "      <th>0</th>\n",
       "      <td>Surfing</td>\n",
       "      <td>347</td>\n",
       "      <td>3</td>\n",
       "      <td>0.008646</td>\n",
       "    </tr>\n",
       "    <tr>\n",
       "      <th>1</th>\n",
       "      <td>Swimming</td>\n",
       "      <td>153</td>\n",
       "      <td>7</td>\n",
       "      <td>0.045752</td>\n",
       "    </tr>\n",
       "    <tr>\n",
       "      <th>2</th>\n",
       "      <td>Snorkeling</td>\n",
       "      <td>20</td>\n",
       "      <td>2</td>\n",
       "      <td>0.100000</td>\n",
       "    </tr>\n",
       "    <tr>\n",
       "      <th>3</th>\n",
       "      <td>Body boarding</td>\n",
       "      <td>16</td>\n",
       "      <td>1</td>\n",
       "      <td>0.062500</td>\n",
       "    </tr>\n",
       "    <tr>\n",
       "      <th>4</th>\n",
       "      <td>Diving</td>\n",
       "      <td>6</td>\n",
       "      <td>1</td>\n",
       "      <td>0.166667</td>\n",
       "    </tr>\n",
       "  </tbody>\n",
       "</table>\n",
       "</div>"
      ],
      "text/plain": [
       "       atividade  casos_2000-2018  mortes_2000-2018  prop_mortes_2000-2018\n",
       "0        Surfing              347                 3               0.008646\n",
       "1       Swimming              153                 7               0.045752\n",
       "2     Snorkeling               20                 2               0.100000\n",
       "3  Body boarding               16                 1               0.062500\n",
       "4         Diving                6                 1               0.166667"
      ]
     },
     "execution_count": 293,
     "metadata": {},
     "output_type": "execute_result"
    }
   ],
   "source": [
    "USA_activity.head()"
   ]
  },
  {
   "cell_type": "code",
   "execution_count": 294,
   "metadata": {
    "ExecuteTime": {
     "end_time": "2020-11-04T18:53:06.135294Z",
     "start_time": "2020-11-04T18:53:06.124669Z"
    }
   },
   "outputs": [],
   "source": [
    "# unindo o novo DataFrame com o DataFrame dos casos do século 20\n",
    "USA_activity=pd.merge(left=USA_activity, right=USA_1900, on=\"atividade\")"
   ]
  },
  {
   "cell_type": "code",
   "execution_count": 295,
   "metadata": {
    "ExecuteTime": {
     "end_time": "2020-11-04T18:53:06.158958Z",
     "start_time": "2020-11-04T18:53:06.140393Z"
    }
   },
   "outputs": [
    {
     "data": {
      "text/html": [
       "<div>\n",
       "<style scoped>\n",
       "    .dataframe tbody tr th:only-of-type {\n",
       "        vertical-align: middle;\n",
       "    }\n",
       "\n",
       "    .dataframe tbody tr th {\n",
       "        vertical-align: top;\n",
       "    }\n",
       "\n",
       "    .dataframe thead th {\n",
       "        text-align: right;\n",
       "    }\n",
       "</style>\n",
       "<table border=\"1\" class=\"dataframe\">\n",
       "  <thead>\n",
       "    <tr style=\"text-align: right;\">\n",
       "      <th></th>\n",
       "      <th>atividade</th>\n",
       "      <th>casos_2000-2018</th>\n",
       "      <th>mortes_2000-2018</th>\n",
       "      <th>prop_mortes_2000-2018</th>\n",
       "      <th>casos_1900-1999</th>\n",
       "    </tr>\n",
       "  </thead>\n",
       "  <tbody>\n",
       "    <tr>\n",
       "      <th>0</th>\n",
       "      <td>Surfing</td>\n",
       "      <td>347</td>\n",
       "      <td>3</td>\n",
       "      <td>0.008646</td>\n",
       "      <td>185</td>\n",
       "    </tr>\n",
       "    <tr>\n",
       "      <th>1</th>\n",
       "      <td>Swimming</td>\n",
       "      <td>153</td>\n",
       "      <td>7</td>\n",
       "      <td>0.045752</td>\n",
       "      <td>165</td>\n",
       "    </tr>\n",
       "    <tr>\n",
       "      <th>2</th>\n",
       "      <td>Snorkeling</td>\n",
       "      <td>20</td>\n",
       "      <td>2</td>\n",
       "      <td>0.100000</td>\n",
       "      <td>7</td>\n",
       "    </tr>\n",
       "    <tr>\n",
       "      <th>3</th>\n",
       "      <td>Body boarding</td>\n",
       "      <td>16</td>\n",
       "      <td>1</td>\n",
       "      <td>0.062500</td>\n",
       "      <td>7</td>\n",
       "    </tr>\n",
       "    <tr>\n",
       "      <th>4</th>\n",
       "      <td>Diving</td>\n",
       "      <td>6</td>\n",
       "      <td>1</td>\n",
       "      <td>0.166667</td>\n",
       "      <td>11</td>\n",
       "    </tr>\n",
       "  </tbody>\n",
       "</table>\n",
       "</div>"
      ],
      "text/plain": [
       "       atividade  casos_2000-2018  mortes_2000-2018  prop_mortes_2000-2018  \\\n",
       "0        Surfing              347                 3               0.008646   \n",
       "1       Swimming              153                 7               0.045752   \n",
       "2     Snorkeling               20                 2               0.100000   \n",
       "3  Body boarding               16                 1               0.062500   \n",
       "4         Diving                6                 1               0.166667   \n",
       "\n",
       "   casos_1900-1999  \n",
       "0              185  \n",
       "1              165  \n",
       "2                7  \n",
       "3                7  \n",
       "4               11  "
      ]
     },
     "execution_count": 295,
     "metadata": {},
     "output_type": "execute_result"
    }
   ],
   "source": [
    "# verificando a nova união\n",
    "USA_activity.head()"
   ]
  },
  {
   "cell_type": "code",
   "execution_count": 296,
   "metadata": {
    "ExecuteTime": {
     "end_time": "2020-11-04T18:53:06.190666Z",
     "start_time": "2020-11-04T18:53:06.170763Z"
    }
   },
   "outputs": [],
   "source": [
    "# unindo o novo DataFrame com o DataFrame dos casos de mortes do século 20\n",
    "USA_activity=pd.merge(left=USA_activity, right=USA_1900_mortes, on=\"atividade\")"
   ]
  },
  {
   "cell_type": "code",
   "execution_count": 297,
   "metadata": {
    "ExecuteTime": {
     "end_time": "2020-11-04T18:53:06.212684Z",
     "start_time": "2020-11-04T18:53:06.194085Z"
    }
   },
   "outputs": [
    {
     "data": {
      "text/html": [
       "<div>\n",
       "<style scoped>\n",
       "    .dataframe tbody tr th:only-of-type {\n",
       "        vertical-align: middle;\n",
       "    }\n",
       "\n",
       "    .dataframe tbody tr th {\n",
       "        vertical-align: top;\n",
       "    }\n",
       "\n",
       "    .dataframe thead th {\n",
       "        text-align: right;\n",
       "    }\n",
       "</style>\n",
       "<table border=\"1\" class=\"dataframe\">\n",
       "  <thead>\n",
       "    <tr style=\"text-align: right;\">\n",
       "      <th></th>\n",
       "      <th>atividade</th>\n",
       "      <th>casos_2000-2018</th>\n",
       "      <th>mortes_2000-2018</th>\n",
       "      <th>prop_mortes_2000-2018</th>\n",
       "      <th>casos_1900-1999</th>\n",
       "      <th>mortes_1900-1999</th>\n",
       "    </tr>\n",
       "  </thead>\n",
       "  <tbody>\n",
       "    <tr>\n",
       "      <th>0</th>\n",
       "      <td>Surfing</td>\n",
       "      <td>347</td>\n",
       "      <td>3</td>\n",
       "      <td>0.008646</td>\n",
       "      <td>185</td>\n",
       "      <td>3</td>\n",
       "    </tr>\n",
       "    <tr>\n",
       "      <th>1</th>\n",
       "      <td>Swimming</td>\n",
       "      <td>153</td>\n",
       "      <td>7</td>\n",
       "      <td>0.045752</td>\n",
       "      <td>165</td>\n",
       "      <td>38</td>\n",
       "    </tr>\n",
       "    <tr>\n",
       "      <th>2</th>\n",
       "      <td>Snorkeling</td>\n",
       "      <td>20</td>\n",
       "      <td>2</td>\n",
       "      <td>0.100000</td>\n",
       "      <td>7</td>\n",
       "      <td>2</td>\n",
       "    </tr>\n",
       "    <tr>\n",
       "      <th>3</th>\n",
       "      <td>Body boarding</td>\n",
       "      <td>16</td>\n",
       "      <td>1</td>\n",
       "      <td>0.062500</td>\n",
       "      <td>7</td>\n",
       "      <td>2</td>\n",
       "    </tr>\n",
       "    <tr>\n",
       "      <th>4</th>\n",
       "      <td>Diving</td>\n",
       "      <td>6</td>\n",
       "      <td>1</td>\n",
       "      <td>0.166667</td>\n",
       "      <td>11</td>\n",
       "      <td>2</td>\n",
       "    </tr>\n",
       "  </tbody>\n",
       "</table>\n",
       "</div>"
      ],
      "text/plain": [
       "       atividade  casos_2000-2018  mortes_2000-2018  prop_mortes_2000-2018  \\\n",
       "0        Surfing              347                 3               0.008646   \n",
       "1       Swimming              153                 7               0.045752   \n",
       "2     Snorkeling               20                 2               0.100000   \n",
       "3  Body boarding               16                 1               0.062500   \n",
       "4         Diving                6                 1               0.166667   \n",
       "\n",
       "   casos_1900-1999  mortes_1900-1999  \n",
       "0              185                 3  \n",
       "1              165                38  \n",
       "2                7                 2  \n",
       "3                7                 2  \n",
       "4               11                 2  "
      ]
     },
     "execution_count": 297,
     "metadata": {},
     "output_type": "execute_result"
    }
   ],
   "source": [
    "# verificando a nova união\n",
    "USA_activity.head()"
   ]
  },
  {
   "cell_type": "code",
   "execution_count": 298,
   "metadata": {
    "ExecuteTime": {
     "end_time": "2020-11-04T18:53:06.227045Z",
     "start_time": "2020-11-04T18:53:06.216959Z"
    }
   },
   "outputs": [],
   "source": [
    "# criando uma nova coluna que indica o índice de mortes por atividade no século 20\n",
    "USA_activity[\"prop_mortes_1900-1999\"]=USA_activity[\"mortes_1900-1999\"]/USA_activity[\"casos_1900-1999\"]"
   ]
  },
  {
   "cell_type": "code",
   "execution_count": 299,
   "metadata": {
    "ExecuteTime": {
     "end_time": "2020-11-04T18:53:06.248772Z",
     "start_time": "2020-11-04T18:53:06.231375Z"
    }
   },
   "outputs": [
    {
     "data": {
      "text/html": [
       "<div>\n",
       "<style scoped>\n",
       "    .dataframe tbody tr th:only-of-type {\n",
       "        vertical-align: middle;\n",
       "    }\n",
       "\n",
       "    .dataframe tbody tr th {\n",
       "        vertical-align: top;\n",
       "    }\n",
       "\n",
       "    .dataframe thead th {\n",
       "        text-align: right;\n",
       "    }\n",
       "</style>\n",
       "<table border=\"1\" class=\"dataframe\">\n",
       "  <thead>\n",
       "    <tr style=\"text-align: right;\">\n",
       "      <th></th>\n",
       "      <th>atividade</th>\n",
       "      <th>casos_2000-2018</th>\n",
       "      <th>mortes_2000-2018</th>\n",
       "      <th>prop_mortes_2000-2018</th>\n",
       "      <th>casos_1900-1999</th>\n",
       "      <th>mortes_1900-1999</th>\n",
       "      <th>prop_mortes_1900-1999</th>\n",
       "    </tr>\n",
       "  </thead>\n",
       "  <tbody>\n",
       "    <tr>\n",
       "      <th>0</th>\n",
       "      <td>Surfing</td>\n",
       "      <td>347</td>\n",
       "      <td>3</td>\n",
       "      <td>0.008646</td>\n",
       "      <td>185</td>\n",
       "      <td>3</td>\n",
       "      <td>0.016216</td>\n",
       "    </tr>\n",
       "    <tr>\n",
       "      <th>1</th>\n",
       "      <td>Swimming</td>\n",
       "      <td>153</td>\n",
       "      <td>7</td>\n",
       "      <td>0.045752</td>\n",
       "      <td>165</td>\n",
       "      <td>38</td>\n",
       "      <td>0.230303</td>\n",
       "    </tr>\n",
       "    <tr>\n",
       "      <th>2</th>\n",
       "      <td>Snorkeling</td>\n",
       "      <td>20</td>\n",
       "      <td>2</td>\n",
       "      <td>0.100000</td>\n",
       "      <td>7</td>\n",
       "      <td>2</td>\n",
       "      <td>0.285714</td>\n",
       "    </tr>\n",
       "    <tr>\n",
       "      <th>3</th>\n",
       "      <td>Body boarding</td>\n",
       "      <td>16</td>\n",
       "      <td>1</td>\n",
       "      <td>0.062500</td>\n",
       "      <td>7</td>\n",
       "      <td>2</td>\n",
       "      <td>0.285714</td>\n",
       "    </tr>\n",
       "    <tr>\n",
       "      <th>4</th>\n",
       "      <td>Diving</td>\n",
       "      <td>6</td>\n",
       "      <td>1</td>\n",
       "      <td>0.166667</td>\n",
       "      <td>11</td>\n",
       "      <td>2</td>\n",
       "      <td>0.181818</td>\n",
       "    </tr>\n",
       "  </tbody>\n",
       "</table>\n",
       "</div>"
      ],
      "text/plain": [
       "       atividade  casos_2000-2018  mortes_2000-2018  prop_mortes_2000-2018  \\\n",
       "0        Surfing              347                 3               0.008646   \n",
       "1       Swimming              153                 7               0.045752   \n",
       "2     Snorkeling               20                 2               0.100000   \n",
       "3  Body boarding               16                 1               0.062500   \n",
       "4         Diving                6                 1               0.166667   \n",
       "\n",
       "   casos_1900-1999  mortes_1900-1999  prop_mortes_1900-1999  \n",
       "0              185                 3               0.016216  \n",
       "1              165                38               0.230303  \n",
       "2                7                 2               0.285714  \n",
       "3                7                 2               0.285714  \n",
       "4               11                 2               0.181818  "
      ]
     },
     "execution_count": 299,
     "metadata": {},
     "output_type": "execute_result"
    }
   ],
   "source": [
    "# verificando o DataFrame finalizado\n",
    "USA_activity.head()"
   ]
  },
  {
   "cell_type": "code",
   "execution_count": null,
   "metadata": {},
   "outputs": [],
   "source": []
  }
 ],
 "metadata": {
  "hide_input": false,
  "kernelspec": {
   "display_name": "Python 3",
   "language": "python",
   "name": "python3"
  },
  "language_info": {
   "codemirror_mode": {
    "name": "ipython",
    "version": 3
   },
   "file_extension": ".py",
   "mimetype": "text/x-python",
   "name": "python",
   "nbconvert_exporter": "python",
   "pygments_lexer": "ipython3",
   "version": "3.8.2"
  },
  "toc": {
   "base_numbering": 1,
   "nav_menu": {},
   "number_sections": true,
   "sideBar": true,
   "skip_h1_title": false,
   "title_cell": "Table of Contents",
   "title_sidebar": "Contents",
   "toc_cell": false,
   "toc_position": {},
   "toc_section_display": true,
   "toc_window_display": true
  },
  "varInspector": {
   "cols": {
    "lenName": 16,
    "lenType": 16,
    "lenVar": 40
   },
   "kernels_config": {
    "python": {
     "delete_cmd_postfix": "",
     "delete_cmd_prefix": "del ",
     "library": "var_list.py",
     "varRefreshCmd": "print(var_dic_list())"
    },
    "r": {
     "delete_cmd_postfix": ") ",
     "delete_cmd_prefix": "rm(",
     "library": "var_list.r",
     "varRefreshCmd": "cat(var_dic_list()) "
    }
   },
   "types_to_exclude": [
    "module",
    "function",
    "builtin_function_or_method",
    "instance",
    "_Feature"
   ],
   "window_display": false
  }
 },
 "nbformat": 4,
 "nbformat_minor": 4
}
