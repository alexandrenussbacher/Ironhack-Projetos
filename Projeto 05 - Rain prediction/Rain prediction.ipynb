{
 "cells": [
  {
   "cell_type": "markdown",
   "metadata": {},
   "source": [
    "# RAIN PREDICTION"
   ]
  },
  {
   "cell_type": "code",
   "execution_count": 1,
   "metadata": {
    "ExecuteTime": {
     "end_time": "2021-01-27T17:54:54.804421Z",
     "start_time": "2021-01-27T17:54:53.580477Z"
    }
   },
   "outputs": [],
   "source": [
    "# importando bibliotecas\n",
    "import matplotlib.pyplot as plt\n",
    "import numpy as np\n",
    "from sklearn import datasets\n",
    "import pandas as pd\n",
    "from sklearn.metrics import precision_score, recall_score, roc_auc_score, plot_roc_curve\n",
    "import warnings\n",
    "warnings.simplefilter(\"ignore\")"
   ]
  },
  {
   "cell_type": "markdown",
   "metadata": {},
   "source": [
    "## Leitura dos Datasets"
   ]
  },
  {
   "cell_type": "code",
   "execution_count": 37,
   "metadata": {
    "ExecuteTime": {
     "end_time": "2021-01-27T20:44:19.546084Z",
     "start_time": "2021-01-27T20:44:19.539616Z"
    }
   },
   "outputs": [],
   "source": [
    "# disponibilizando a visualização de todas as colunas\n",
    "pd.options.display.max_columns=99"
   ]
  },
  {
   "cell_type": "code",
   "execution_count": 39,
   "metadata": {
    "ExecuteTime": {
     "end_time": "2021-01-27T20:44:55.993229Z",
     "start_time": "2021-01-27T20:44:55.542607Z"
    }
   },
   "outputs": [
    {
     "data": {
      "text/html": [
       "<div>\n",
       "<style scoped>\n",
       "    .dataframe tbody tr th:only-of-type {\n",
       "        vertical-align: middle;\n",
       "    }\n",
       "\n",
       "    .dataframe tbody tr th {\n",
       "        vertical-align: top;\n",
       "    }\n",
       "\n",
       "    .dataframe thead th {\n",
       "        text-align: right;\n",
       "    }\n",
       "</style>\n",
       "<table border=\"1\" class=\"dataframe\">\n",
       "  <thead>\n",
       "    <tr style=\"text-align: right;\">\n",
       "      <th></th>\n",
       "      <th>date</th>\n",
       "      <th>location</th>\n",
       "      <th>mintemp</th>\n",
       "      <th>maxtemp</th>\n",
       "      <th>rainfall</th>\n",
       "      <th>evaporation</th>\n",
       "      <th>sunshine</th>\n",
       "      <th>humidity9am</th>\n",
       "      <th>humidity3pm</th>\n",
       "      <th>pressure9am</th>\n",
       "      <th>pressure3pm</th>\n",
       "      <th>cloud9am</th>\n",
       "      <th>cloud3pm</th>\n",
       "      <th>temp9am</th>\n",
       "      <th>temp3pm</th>\n",
       "      <th>raintoday</th>\n",
       "      <th>amountOfRain</th>\n",
       "      <th>raintomorrow</th>\n",
       "      <th>temp</th>\n",
       "      <th>humidity</th>\n",
       "      <th>precipitation3pm</th>\n",
       "      <th>precipitation9am</th>\n",
       "      <th>modelo_vigente</th>\n",
       "    </tr>\n",
       "  </thead>\n",
       "  <tbody>\n",
       "    <tr>\n",
       "      <th>0</th>\n",
       "      <td>2008-12-01</td>\n",
       "      <td>Albury</td>\n",
       "      <td>13.4</td>\n",
       "      <td>22.9</td>\n",
       "      <td>0.6</td>\n",
       "      <td>NaN</td>\n",
       "      <td>NaN</td>\n",
       "      <td>71.0</td>\n",
       "      <td>22.0</td>\n",
       "      <td>1007.7</td>\n",
       "      <td>1007.1</td>\n",
       "      <td>8.0</td>\n",
       "      <td>NaN</td>\n",
       "      <td>16.9</td>\n",
       "      <td>21.8</td>\n",
       "      <td>No</td>\n",
       "      <td>0.0</td>\n",
       "      <td>No</td>\n",
       "      <td>29.48</td>\n",
       "      <td>28.400000</td>\n",
       "      <td>12</td>\n",
       "      <td>5.115360</td>\n",
       "      <td>0.089825</td>\n",
       "    </tr>\n",
       "    <tr>\n",
       "      <th>1</th>\n",
       "      <td>2008-12-02</td>\n",
       "      <td>Albury</td>\n",
       "      <td>7.4</td>\n",
       "      <td>25.1</td>\n",
       "      <td>0.0</td>\n",
       "      <td>NaN</td>\n",
       "      <td>NaN</td>\n",
       "      <td>44.0</td>\n",
       "      <td>25.0</td>\n",
       "      <td>1010.6</td>\n",
       "      <td>1007.8</td>\n",
       "      <td>NaN</td>\n",
       "      <td>NaN</td>\n",
       "      <td>17.2</td>\n",
       "      <td>24.3</td>\n",
       "      <td>No</td>\n",
       "      <td>0.0</td>\n",
       "      <td>No</td>\n",
       "      <td>32.12</td>\n",
       "      <td>2.208569</td>\n",
       "      <td>10</td>\n",
       "      <td>21.497100</td>\n",
       "      <td>0.023477</td>\n",
       "    </tr>\n",
       "    <tr>\n",
       "      <th>2</th>\n",
       "      <td>2008-12-03</td>\n",
       "      <td>Albury</td>\n",
       "      <td>12.9</td>\n",
       "      <td>25.7</td>\n",
       "      <td>0.0</td>\n",
       "      <td>NaN</td>\n",
       "      <td>NaN</td>\n",
       "      <td>38.0</td>\n",
       "      <td>30.0</td>\n",
       "      <td>1007.6</td>\n",
       "      <td>1008.7</td>\n",
       "      <td>NaN</td>\n",
       "      <td>2.0</td>\n",
       "      <td>21.0</td>\n",
       "      <td>23.2</td>\n",
       "      <td>No</td>\n",
       "      <td>0.0</td>\n",
       "      <td>No</td>\n",
       "      <td>32.84</td>\n",
       "      <td>38.000000</td>\n",
       "      <td>17</td>\n",
       "      <td>20.782859</td>\n",
       "      <td>0.027580</td>\n",
       "    </tr>\n",
       "    <tr>\n",
       "      <th>3</th>\n",
       "      <td>2008-12-04</td>\n",
       "      <td>Albury</td>\n",
       "      <td>9.2</td>\n",
       "      <td>28.0</td>\n",
       "      <td>0.0</td>\n",
       "      <td>NaN</td>\n",
       "      <td>NaN</td>\n",
       "      <td>45.0</td>\n",
       "      <td>16.0</td>\n",
       "      <td>1017.6</td>\n",
       "      <td>1012.8</td>\n",
       "      <td>NaN</td>\n",
       "      <td>NaN</td>\n",
       "      <td>18.1</td>\n",
       "      <td>26.5</td>\n",
       "      <td>No</td>\n",
       "      <td>1.0</td>\n",
       "      <td>No</td>\n",
       "      <td>35.60</td>\n",
       "      <td>21.200000</td>\n",
       "      <td>8</td>\n",
       "      <td>12.028646</td>\n",
       "      <td>0.023962</td>\n",
       "    </tr>\n",
       "    <tr>\n",
       "      <th>4</th>\n",
       "      <td>2008-12-05</td>\n",
       "      <td>Albury</td>\n",
       "      <td>17.5</td>\n",
       "      <td>32.3</td>\n",
       "      <td>1.0</td>\n",
       "      <td>NaN</td>\n",
       "      <td>NaN</td>\n",
       "      <td>82.0</td>\n",
       "      <td>33.0</td>\n",
       "      <td>1010.8</td>\n",
       "      <td>1006.0</td>\n",
       "      <td>7.0</td>\n",
       "      <td>8.0</td>\n",
       "      <td>17.8</td>\n",
       "      <td>29.7</td>\n",
       "      <td>No</td>\n",
       "      <td>0.2</td>\n",
       "      <td>No</td>\n",
       "      <td>40.76</td>\n",
       "      <td>41.600000</td>\n",
       "      <td>9</td>\n",
       "      <td>11.883546</td>\n",
       "      <td>0.220164</td>\n",
       "    </tr>\n",
       "    <tr>\n",
       "      <th>...</th>\n",
       "      <td>...</td>\n",
       "      <td>...</td>\n",
       "      <td>...</td>\n",
       "      <td>...</td>\n",
       "      <td>...</td>\n",
       "      <td>...</td>\n",
       "      <td>...</td>\n",
       "      <td>...</td>\n",
       "      <td>...</td>\n",
       "      <td>...</td>\n",
       "      <td>...</td>\n",
       "      <td>...</td>\n",
       "      <td>...</td>\n",
       "      <td>...</td>\n",
       "      <td>...</td>\n",
       "      <td>...</td>\n",
       "      <td>...</td>\n",
       "      <td>...</td>\n",
       "      <td>...</td>\n",
       "      <td>...</td>\n",
       "      <td>...</td>\n",
       "      <td>...</td>\n",
       "      <td>...</td>\n",
       "    </tr>\n",
       "    <tr>\n",
       "      <th>142188</th>\n",
       "      <td>2017-06-20</td>\n",
       "      <td>Uluru</td>\n",
       "      <td>3.5</td>\n",
       "      <td>21.8</td>\n",
       "      <td>0.0</td>\n",
       "      <td>NaN</td>\n",
       "      <td>NaN</td>\n",
       "      <td>59.0</td>\n",
       "      <td>27.0</td>\n",
       "      <td>1024.7</td>\n",
       "      <td>1021.2</td>\n",
       "      <td>NaN</td>\n",
       "      <td>NaN</td>\n",
       "      <td>9.4</td>\n",
       "      <td>20.9</td>\n",
       "      <td>No</td>\n",
       "      <td>0.0</td>\n",
       "      <td>No</td>\n",
       "      <td>28.16</td>\n",
       "      <td>34.400000</td>\n",
       "      <td>12</td>\n",
       "      <td>5.848681</td>\n",
       "      <td>0.002556</td>\n",
       "    </tr>\n",
       "    <tr>\n",
       "      <th>142189</th>\n",
       "      <td>2017-06-21</td>\n",
       "      <td>Uluru</td>\n",
       "      <td>2.8</td>\n",
       "      <td>23.4</td>\n",
       "      <td>0.0</td>\n",
       "      <td>NaN</td>\n",
       "      <td>NaN</td>\n",
       "      <td>51.0</td>\n",
       "      <td>24.0</td>\n",
       "      <td>1024.6</td>\n",
       "      <td>1020.3</td>\n",
       "      <td>NaN</td>\n",
       "      <td>NaN</td>\n",
       "      <td>10.1</td>\n",
       "      <td>22.4</td>\n",
       "      <td>No</td>\n",
       "      <td>0.0</td>\n",
       "      <td>No</td>\n",
       "      <td>30.08</td>\n",
       "      <td>30.800000</td>\n",
       "      <td>10</td>\n",
       "      <td>6.653879</td>\n",
       "      <td>0.002053</td>\n",
       "    </tr>\n",
       "    <tr>\n",
       "      <th>142190</th>\n",
       "      <td>2017-06-22</td>\n",
       "      <td>Uluru</td>\n",
       "      <td>3.6</td>\n",
       "      <td>25.3</td>\n",
       "      <td>0.0</td>\n",
       "      <td>NaN</td>\n",
       "      <td>NaN</td>\n",
       "      <td>56.0</td>\n",
       "      <td>21.0</td>\n",
       "      <td>1023.5</td>\n",
       "      <td>1019.1</td>\n",
       "      <td>NaN</td>\n",
       "      <td>NaN</td>\n",
       "      <td>10.9</td>\n",
       "      <td>24.5</td>\n",
       "      <td>No</td>\n",
       "      <td>0.0</td>\n",
       "      <td>No</td>\n",
       "      <td>32.36</td>\n",
       "      <td>27.200000</td>\n",
       "      <td>9</td>\n",
       "      <td>19.715976</td>\n",
       "      <td>0.023350</td>\n",
       "    </tr>\n",
       "    <tr>\n",
       "      <th>142191</th>\n",
       "      <td>2017-06-23</td>\n",
       "      <td>Uluru</td>\n",
       "      <td>5.4</td>\n",
       "      <td>26.9</td>\n",
       "      <td>0.0</td>\n",
       "      <td>NaN</td>\n",
       "      <td>NaN</td>\n",
       "      <td>53.0</td>\n",
       "      <td>24.0</td>\n",
       "      <td>1021.0</td>\n",
       "      <td>1016.8</td>\n",
       "      <td>NaN</td>\n",
       "      <td>NaN</td>\n",
       "      <td>12.5</td>\n",
       "      <td>26.1</td>\n",
       "      <td>No</td>\n",
       "      <td>0.0</td>\n",
       "      <td>No</td>\n",
       "      <td>34.28</td>\n",
       "      <td>30.800000</td>\n",
       "      <td>12</td>\n",
       "      <td>0.985551</td>\n",
       "      <td>0.007195</td>\n",
       "    </tr>\n",
       "    <tr>\n",
       "      <th>142192</th>\n",
       "      <td>2017-06-24</td>\n",
       "      <td>Uluru</td>\n",
       "      <td>7.8</td>\n",
       "      <td>27.0</td>\n",
       "      <td>0.0</td>\n",
       "      <td>NaN</td>\n",
       "      <td>NaN</td>\n",
       "      <td>51.0</td>\n",
       "      <td>24.0</td>\n",
       "      <td>1019.4</td>\n",
       "      <td>1016.5</td>\n",
       "      <td>3.0</td>\n",
       "      <td>2.0</td>\n",
       "      <td>15.1</td>\n",
       "      <td>26.0</td>\n",
       "      <td>No</td>\n",
       "      <td>0.0</td>\n",
       "      <td>No</td>\n",
       "      <td>34.40</td>\n",
       "      <td>30.800000</td>\n",
       "      <td>15</td>\n",
       "      <td>4.381481</td>\n",
       "      <td>0.018811</td>\n",
       "    </tr>\n",
       "  </tbody>\n",
       "</table>\n",
       "<p>142193 rows × 23 columns</p>\n",
       "</div>"
      ],
      "text/plain": [
       "              date location  mintemp  maxtemp  rainfall  evaporation  \\\n",
       "0       2008-12-01   Albury     13.4     22.9       0.6          NaN   \n",
       "1       2008-12-02   Albury      7.4     25.1       0.0          NaN   \n",
       "2       2008-12-03   Albury     12.9     25.7       0.0          NaN   \n",
       "3       2008-12-04   Albury      9.2     28.0       0.0          NaN   \n",
       "4       2008-12-05   Albury     17.5     32.3       1.0          NaN   \n",
       "...            ...      ...      ...      ...       ...          ...   \n",
       "142188  2017-06-20    Uluru      3.5     21.8       0.0          NaN   \n",
       "142189  2017-06-21    Uluru      2.8     23.4       0.0          NaN   \n",
       "142190  2017-06-22    Uluru      3.6     25.3       0.0          NaN   \n",
       "142191  2017-06-23    Uluru      5.4     26.9       0.0          NaN   \n",
       "142192  2017-06-24    Uluru      7.8     27.0       0.0          NaN   \n",
       "\n",
       "        sunshine  humidity9am  humidity3pm  pressure9am  pressure3pm  \\\n",
       "0            NaN         71.0         22.0       1007.7       1007.1   \n",
       "1            NaN         44.0         25.0       1010.6       1007.8   \n",
       "2            NaN         38.0         30.0       1007.6       1008.7   \n",
       "3            NaN         45.0         16.0       1017.6       1012.8   \n",
       "4            NaN         82.0         33.0       1010.8       1006.0   \n",
       "...          ...          ...          ...          ...          ...   \n",
       "142188       NaN         59.0         27.0       1024.7       1021.2   \n",
       "142189       NaN         51.0         24.0       1024.6       1020.3   \n",
       "142190       NaN         56.0         21.0       1023.5       1019.1   \n",
       "142191       NaN         53.0         24.0       1021.0       1016.8   \n",
       "142192       NaN         51.0         24.0       1019.4       1016.5   \n",
       "\n",
       "        cloud9am  cloud3pm  temp9am  temp3pm raintoday  amountOfRain  \\\n",
       "0            8.0       NaN     16.9     21.8        No           0.0   \n",
       "1            NaN       NaN     17.2     24.3        No           0.0   \n",
       "2            NaN       2.0     21.0     23.2        No           0.0   \n",
       "3            NaN       NaN     18.1     26.5        No           1.0   \n",
       "4            7.0       8.0     17.8     29.7        No           0.2   \n",
       "...          ...       ...      ...      ...       ...           ...   \n",
       "142188       NaN       NaN      9.4     20.9        No           0.0   \n",
       "142189       NaN       NaN     10.1     22.4        No           0.0   \n",
       "142190       NaN       NaN     10.9     24.5        No           0.0   \n",
       "142191       NaN       NaN     12.5     26.1        No           0.0   \n",
       "142192       3.0       2.0     15.1     26.0        No           0.0   \n",
       "\n",
       "       raintomorrow   temp   humidity  precipitation3pm  precipitation9am  \\\n",
       "0                No  29.48  28.400000                12          5.115360   \n",
       "1                No  32.12   2.208569                10         21.497100   \n",
       "2                No  32.84  38.000000                17         20.782859   \n",
       "3                No  35.60  21.200000                 8         12.028646   \n",
       "4                No  40.76  41.600000                 9         11.883546   \n",
       "...             ...    ...        ...               ...               ...   \n",
       "142188           No  28.16  34.400000                12          5.848681   \n",
       "142189           No  30.08  30.800000                10          6.653879   \n",
       "142190           No  32.36  27.200000                 9         19.715976   \n",
       "142191           No  34.28  30.800000                12          0.985551   \n",
       "142192           No  34.40  30.800000                15          4.381481   \n",
       "\n",
       "        modelo_vigente  \n",
       "0             0.089825  \n",
       "1             0.023477  \n",
       "2             0.027580  \n",
       "3             0.023962  \n",
       "4             0.220164  \n",
       "...                ...  \n",
       "142188        0.002556  \n",
       "142189        0.002053  \n",
       "142190        0.023350  \n",
       "142191        0.007195  \n",
       "142192        0.018811  \n",
       "\n",
       "[142193 rows x 23 columns]"
      ]
     },
     "execution_count": 39,
     "metadata": {},
     "output_type": "execute_result"
    }
   ],
   "source": [
    "# Dataset sobre a chuva\n",
    "\n",
    "rain=pd.read_csv(\"./data/rain_data_aus.csv\")\n",
    "\n",
    "rain"
   ]
  },
  {
   "cell_type": "code",
   "execution_count": 40,
   "metadata": {
    "ExecuteTime": {
     "end_time": "2021-01-27T20:45:08.251992Z",
     "start_time": "2021-01-27T20:45:08.016744Z"
    }
   },
   "outputs": [],
   "source": [
    "# Dataset sobre o vento\n",
    "wind1=pd.read_csv(\"./data/wind_table_01.csv\")\n",
    "wind2=pd.read_csv(\"./data/wind_table_02.csv\")\n",
    "wind3=pd.read_csv(\"./data/wind_table_03.csv\")\n",
    "wind4=pd.read_csv(\"./data/wind_table_04.csv\")\n",
    "wind5=pd.read_csv(\"./data/wind_table_05.csv\")\n",
    "wind6=pd.read_csv(\"./data/wind_table_06.csv\")\n",
    "wind7=pd.read_csv(\"./data/wind_table_07.csv\")\n",
    "wind8=pd.read_csv(\"./data/wind_table_08.csv\")"
   ]
  },
  {
   "cell_type": "markdown",
   "metadata": {},
   "source": [
    "## Limpeza de dados"
   ]
  },
  {
   "cell_type": "markdown",
   "metadata": {},
   "source": [
    "### Unindo os Dataframe de chuva e vento"
   ]
  },
  {
   "cell_type": "code",
   "execution_count": 41,
   "metadata": {
    "ExecuteTime": {
     "end_time": "2021-01-27T20:45:08.907469Z",
     "start_time": "2021-01-27T20:45:08.891610Z"
    }
   },
   "outputs": [
    {
     "name": "stdout",
     "output_type": "stream",
     "text": [
      "(20000, 8)\n",
      "(20000, 8)\n",
      "(20000, 8)\n",
      "(20000, 8)\n",
      "(20000, 8)\n",
      "(20000, 8)\n",
      "(22193, 8)\n",
      "(22193, 8)\n"
     ]
    }
   ],
   "source": [
    "# verificando o tamanho de cada Dataframe do vento\n",
    "print(wind1.shape)\n",
    "print(wind2.shape)\n",
    "print(wind3.shape)\n",
    "print(wind4.shape)\n",
    "print(wind5.shape)\n",
    "print(wind6.shape)\n",
    "print(wind7.shape)\n",
    "print(wind8.shape)"
   ]
  },
  {
   "cell_type": "code",
   "execution_count": 42,
   "metadata": {
    "ExecuteTime": {
     "end_time": "2021-01-27T20:45:09.563557Z",
     "start_time": "2021-01-27T20:45:09.531527Z"
    }
   },
   "outputs": [
    {
     "data": {
      "text/plain": [
       "date             True\n",
       "location         True\n",
       "windgustdir      True\n",
       "windgustspeed    True\n",
       "winddir9am       True\n",
       "winddir3pm       True\n",
       "windspeed9am     True\n",
       "windspeed3pm     True\n",
       "dtype: bool"
      ]
     },
     "execution_count": 42,
     "metadata": {},
     "output_type": "execute_result"
    }
   ],
   "source": [
    "# verificando se os Dataframe \"wind7\" e \"wind8\" são iguais\n",
    "np.sum(wind7==wind8)==(wind7.shape[0]-wind7.isna().sum())"
   ]
  },
  {
   "cell_type": "markdown",
   "metadata": {},
   "source": [
    "> Os Dataframe \"wind7\" e \"wind8\" são iguais. Portanto, o Dataframe \"wind8\" será desconsiderado."
   ]
  },
  {
   "cell_type": "code",
   "execution_count": 43,
   "metadata": {
    "ExecuteTime": {
     "end_time": "2021-01-27T20:45:11.482038Z",
     "start_time": "2021-01-27T20:45:11.376428Z"
    }
   },
   "outputs": [
    {
     "data": {
      "text/html": [
       "<div>\n",
       "<style scoped>\n",
       "    .dataframe tbody tr th:only-of-type {\n",
       "        vertical-align: middle;\n",
       "    }\n",
       "\n",
       "    .dataframe tbody tr th {\n",
       "        vertical-align: top;\n",
       "    }\n",
       "\n",
       "    .dataframe thead th {\n",
       "        text-align: right;\n",
       "    }\n",
       "</style>\n",
       "<table border=\"1\" class=\"dataframe\">\n",
       "  <thead>\n",
       "    <tr style=\"text-align: right;\">\n",
       "      <th></th>\n",
       "      <th>date</th>\n",
       "      <th>location</th>\n",
       "      <th>wind_gustdir</th>\n",
       "      <th>wind_gustspeed</th>\n",
       "      <th>wind_dir9am</th>\n",
       "      <th>wind_dir3pm</th>\n",
       "      <th>wind_speed9am</th>\n",
       "      <th>wind_speed3pm</th>\n",
       "      <th>windgustdir</th>\n",
       "      <th>windgustspeed</th>\n",
       "      <th>winddir9am</th>\n",
       "      <th>winddir3pm</th>\n",
       "      <th>windspeed9am</th>\n",
       "      <th>windspeed3pm</th>\n",
       "    </tr>\n",
       "  </thead>\n",
       "  <tbody>\n",
       "    <tr>\n",
       "      <th>0</th>\n",
       "      <td>2007-11-01</td>\n",
       "      <td>Canberra</td>\n",
       "      <td>NW</td>\n",
       "      <td>30.0</td>\n",
       "      <td>SW</td>\n",
       "      <td>NW</td>\n",
       "      <td>6.0</td>\n",
       "      <td>20.0</td>\n",
       "      <td>NaN</td>\n",
       "      <td>NaN</td>\n",
       "      <td>NaN</td>\n",
       "      <td>NaN</td>\n",
       "      <td>NaN</td>\n",
       "      <td>NaN</td>\n",
       "    </tr>\n",
       "    <tr>\n",
       "      <th>1</th>\n",
       "      <td>2007-11-02</td>\n",
       "      <td>Canberra</td>\n",
       "      <td>ENE</td>\n",
       "      <td>39.0</td>\n",
       "      <td>E</td>\n",
       "      <td>W</td>\n",
       "      <td>4.0</td>\n",
       "      <td>17.0</td>\n",
       "      <td>NaN</td>\n",
       "      <td>NaN</td>\n",
       "      <td>NaN</td>\n",
       "      <td>NaN</td>\n",
       "      <td>NaN</td>\n",
       "      <td>NaN</td>\n",
       "    </tr>\n",
       "    <tr>\n",
       "      <th>2</th>\n",
       "      <td>2007-11-03</td>\n",
       "      <td>Canberra</td>\n",
       "      <td>NW</td>\n",
       "      <td>85.0</td>\n",
       "      <td>N</td>\n",
       "      <td>NNE</td>\n",
       "      <td>6.0</td>\n",
       "      <td>6.0</td>\n",
       "      <td>NaN</td>\n",
       "      <td>NaN</td>\n",
       "      <td>NaN</td>\n",
       "      <td>NaN</td>\n",
       "      <td>NaN</td>\n",
       "      <td>NaN</td>\n",
       "    </tr>\n",
       "    <tr>\n",
       "      <th>3</th>\n",
       "      <td>2007-11-04</td>\n",
       "      <td>Canberra</td>\n",
       "      <td>NW</td>\n",
       "      <td>54.0</td>\n",
       "      <td>WNW</td>\n",
       "      <td>W</td>\n",
       "      <td>30.0</td>\n",
       "      <td>24.0</td>\n",
       "      <td>NaN</td>\n",
       "      <td>NaN</td>\n",
       "      <td>NaN</td>\n",
       "      <td>NaN</td>\n",
       "      <td>NaN</td>\n",
       "      <td>NaN</td>\n",
       "    </tr>\n",
       "    <tr>\n",
       "      <th>4</th>\n",
       "      <td>2007-11-05</td>\n",
       "      <td>Canberra</td>\n",
       "      <td>SSE</td>\n",
       "      <td>50.0</td>\n",
       "      <td>SSE</td>\n",
       "      <td>ESE</td>\n",
       "      <td>20.0</td>\n",
       "      <td>28.0</td>\n",
       "      <td>NaN</td>\n",
       "      <td>NaN</td>\n",
       "      <td>NaN</td>\n",
       "      <td>NaN</td>\n",
       "      <td>NaN</td>\n",
       "      <td>NaN</td>\n",
       "    </tr>\n",
       "    <tr>\n",
       "      <th>...</th>\n",
       "      <td>...</td>\n",
       "      <td>...</td>\n",
       "      <td>...</td>\n",
       "      <td>...</td>\n",
       "      <td>...</td>\n",
       "      <td>...</td>\n",
       "      <td>...</td>\n",
       "      <td>...</td>\n",
       "      <td>...</td>\n",
       "      <td>...</td>\n",
       "      <td>...</td>\n",
       "      <td>...</td>\n",
       "      <td>...</td>\n",
       "      <td>...</td>\n",
       "    </tr>\n",
       "    <tr>\n",
       "      <th>142188</th>\n",
       "      <td>2017-06-25</td>\n",
       "      <td>Perth</td>\n",
       "      <td>NaN</td>\n",
       "      <td>NaN</td>\n",
       "      <td>NaN</td>\n",
       "      <td>NaN</td>\n",
       "      <td>NaN</td>\n",
       "      <td>NaN</td>\n",
       "      <td>E</td>\n",
       "      <td>26.0</td>\n",
       "      <td>SE</td>\n",
       "      <td>SE</td>\n",
       "      <td>4.0</td>\n",
       "      <td>11.0</td>\n",
       "    </tr>\n",
       "    <tr>\n",
       "      <th>142189</th>\n",
       "      <td>2017-06-25</td>\n",
       "      <td>SalmonGums</td>\n",
       "      <td>NaN</td>\n",
       "      <td>NaN</td>\n",
       "      <td>NaN</td>\n",
       "      <td>NaN</td>\n",
       "      <td>NaN</td>\n",
       "      <td>NaN</td>\n",
       "      <td>SE</td>\n",
       "      <td>15.0</td>\n",
       "      <td>SSE</td>\n",
       "      <td>E</td>\n",
       "      <td>7.0</td>\n",
       "      <td>6.0</td>\n",
       "    </tr>\n",
       "    <tr>\n",
       "      <th>142190</th>\n",
       "      <td>2017-06-25</td>\n",
       "      <td>Walpole</td>\n",
       "      <td>NaN</td>\n",
       "      <td>NaN</td>\n",
       "      <td>NaN</td>\n",
       "      <td>NaN</td>\n",
       "      <td>NaN</td>\n",
       "      <td>NaN</td>\n",
       "      <td>SSW</td>\n",
       "      <td>20.0</td>\n",
       "      <td>WNW</td>\n",
       "      <td>SSW</td>\n",
       "      <td>6.0</td>\n",
       "      <td>6.0</td>\n",
       "    </tr>\n",
       "    <tr>\n",
       "      <th>142191</th>\n",
       "      <td>2017-06-25</td>\n",
       "      <td>Hobart</td>\n",
       "      <td>NaN</td>\n",
       "      <td>NaN</td>\n",
       "      <td>NaN</td>\n",
       "      <td>NaN</td>\n",
       "      <td>NaN</td>\n",
       "      <td>NaN</td>\n",
       "      <td>NW</td>\n",
       "      <td>50.0</td>\n",
       "      <td>NNW</td>\n",
       "      <td>NNW</td>\n",
       "      <td>17.0</td>\n",
       "      <td>28.0</td>\n",
       "    </tr>\n",
       "    <tr>\n",
       "      <th>142192</th>\n",
       "      <td>2017-06-25</td>\n",
       "      <td>Launceston</td>\n",
       "      <td>NaN</td>\n",
       "      <td>NaN</td>\n",
       "      <td>NaN</td>\n",
       "      <td>NaN</td>\n",
       "      <td>NaN</td>\n",
       "      <td>NaN</td>\n",
       "      <td>NW</td>\n",
       "      <td>50.0</td>\n",
       "      <td>NNW</td>\n",
       "      <td>NNW</td>\n",
       "      <td>15.0</td>\n",
       "      <td>17.0</td>\n",
       "    </tr>\n",
       "  </tbody>\n",
       "</table>\n",
       "<p>142193 rows × 14 columns</p>\n",
       "</div>"
      ],
      "text/plain": [
       "              date    location wind_gustdir  wind_gustspeed wind_dir9am  \\\n",
       "0       2007-11-01    Canberra           NW            30.0          SW   \n",
       "1       2007-11-02    Canberra          ENE            39.0           E   \n",
       "2       2007-11-03    Canberra           NW            85.0           N   \n",
       "3       2007-11-04    Canberra           NW            54.0         WNW   \n",
       "4       2007-11-05    Canberra          SSE            50.0         SSE   \n",
       "...            ...         ...          ...             ...         ...   \n",
       "142188  2017-06-25       Perth          NaN             NaN         NaN   \n",
       "142189  2017-06-25  SalmonGums          NaN             NaN         NaN   \n",
       "142190  2017-06-25     Walpole          NaN             NaN         NaN   \n",
       "142191  2017-06-25      Hobart          NaN             NaN         NaN   \n",
       "142192  2017-06-25  Launceston          NaN             NaN         NaN   \n",
       "\n",
       "       wind_dir3pm  wind_speed9am  wind_speed3pm windgustdir  windgustspeed  \\\n",
       "0               NW            6.0           20.0         NaN            NaN   \n",
       "1                W            4.0           17.0         NaN            NaN   \n",
       "2              NNE            6.0            6.0         NaN            NaN   \n",
       "3                W           30.0           24.0         NaN            NaN   \n",
       "4              ESE           20.0           28.0         NaN            NaN   \n",
       "...            ...            ...            ...         ...            ...   \n",
       "142188         NaN            NaN            NaN           E           26.0   \n",
       "142189         NaN            NaN            NaN          SE           15.0   \n",
       "142190         NaN            NaN            NaN         SSW           20.0   \n",
       "142191         NaN            NaN            NaN          NW           50.0   \n",
       "142192         NaN            NaN            NaN          NW           50.0   \n",
       "\n",
       "       winddir9am winddir3pm  windspeed9am  windspeed3pm  \n",
       "0             NaN        NaN           NaN           NaN  \n",
       "1             NaN        NaN           NaN           NaN  \n",
       "2             NaN        NaN           NaN           NaN  \n",
       "3             NaN        NaN           NaN           NaN  \n",
       "4             NaN        NaN           NaN           NaN  \n",
       "...           ...        ...           ...           ...  \n",
       "142188         SE         SE           4.0          11.0  \n",
       "142189        SSE          E           7.0           6.0  \n",
       "142190        WNW        SSW           6.0           6.0  \n",
       "142191        NNW        NNW          17.0          28.0  \n",
       "142192        NNW        NNW          15.0          17.0  \n",
       "\n",
       "[142193 rows x 14 columns]"
      ]
     },
     "execution_count": 43,
     "metadata": {},
     "output_type": "execute_result"
    }
   ],
   "source": [
    "# juntando todos os Datasets sobre vento em um único Dataframe\n",
    "\n",
    "wind=pd.concat(objs=[wind1, wind2, wind3, wind4, wind5, wind6, wind7]).reset_index(drop=True)\n",
    "\n",
    "wind"
   ]
  },
  {
   "cell_type": "code",
   "execution_count": 44,
   "metadata": {
    "ExecuteTime": {
     "end_time": "2021-01-27T20:45:13.390478Z",
     "start_time": "2021-01-27T20:45:13.380366Z"
    }
   },
   "outputs": [
    {
     "data": {
      "text/plain": [
       "True"
      ]
     },
     "execution_count": 44,
     "metadata": {},
     "output_type": "execute_result"
    }
   ],
   "source": [
    "# verificando se os Dataframe de chuva e vento possuem o mesmo número de linhas\n",
    "rain.shape[0]==wind.shape[0]"
   ]
  },
  {
   "cell_type": "code",
   "execution_count": 45,
   "metadata": {
    "ExecuteTime": {
     "end_time": "2021-01-27T20:45:14.414639Z",
     "start_time": "2021-01-27T20:45:14.065138Z"
    }
   },
   "outputs": [
    {
     "data": {
      "text/html": [
       "<div>\n",
       "<style scoped>\n",
       "    .dataframe tbody tr th:only-of-type {\n",
       "        vertical-align: middle;\n",
       "    }\n",
       "\n",
       "    .dataframe tbody tr th {\n",
       "        vertical-align: top;\n",
       "    }\n",
       "\n",
       "    .dataframe thead th {\n",
       "        text-align: right;\n",
       "    }\n",
       "</style>\n",
       "<table border=\"1\" class=\"dataframe\">\n",
       "  <thead>\n",
       "    <tr style=\"text-align: right;\">\n",
       "      <th></th>\n",
       "      <th>date</th>\n",
       "      <th>location</th>\n",
       "      <th>mintemp</th>\n",
       "      <th>maxtemp</th>\n",
       "      <th>rainfall</th>\n",
       "      <th>evaporation</th>\n",
       "      <th>sunshine</th>\n",
       "      <th>humidity9am</th>\n",
       "      <th>humidity3pm</th>\n",
       "      <th>pressure9am</th>\n",
       "      <th>pressure3pm</th>\n",
       "      <th>cloud9am</th>\n",
       "      <th>cloud3pm</th>\n",
       "      <th>temp9am</th>\n",
       "      <th>temp3pm</th>\n",
       "      <th>raintoday</th>\n",
       "      <th>amountOfRain</th>\n",
       "      <th>raintomorrow</th>\n",
       "      <th>temp</th>\n",
       "      <th>humidity</th>\n",
       "      <th>precipitation3pm</th>\n",
       "      <th>precipitation9am</th>\n",
       "      <th>modelo_vigente</th>\n",
       "      <th>wind_gustdir</th>\n",
       "      <th>wind_gustspeed</th>\n",
       "      <th>wind_dir9am</th>\n",
       "      <th>wind_dir3pm</th>\n",
       "      <th>wind_speed9am</th>\n",
       "      <th>wind_speed3pm</th>\n",
       "      <th>windgustdir</th>\n",
       "      <th>windgustspeed</th>\n",
       "      <th>winddir9am</th>\n",
       "      <th>winddir3pm</th>\n",
       "      <th>windspeed9am</th>\n",
       "      <th>windspeed3pm</th>\n",
       "    </tr>\n",
       "  </thead>\n",
       "  <tbody>\n",
       "    <tr>\n",
       "      <th>0</th>\n",
       "      <td>2008-12-01</td>\n",
       "      <td>Albury</td>\n",
       "      <td>13.4</td>\n",
       "      <td>22.9</td>\n",
       "      <td>0.6</td>\n",
       "      <td>NaN</td>\n",
       "      <td>NaN</td>\n",
       "      <td>71.0</td>\n",
       "      <td>22.0</td>\n",
       "      <td>1007.7</td>\n",
       "      <td>1007.1</td>\n",
       "      <td>8.0</td>\n",
       "      <td>NaN</td>\n",
       "      <td>16.9</td>\n",
       "      <td>21.8</td>\n",
       "      <td>No</td>\n",
       "      <td>0.0</td>\n",
       "      <td>No</td>\n",
       "      <td>29.48</td>\n",
       "      <td>28.400000</td>\n",
       "      <td>12</td>\n",
       "      <td>5.115360</td>\n",
       "      <td>0.089825</td>\n",
       "      <td>W</td>\n",
       "      <td>44.0</td>\n",
       "      <td>W</td>\n",
       "      <td>WNW</td>\n",
       "      <td>20.0</td>\n",
       "      <td>24.0</td>\n",
       "      <td>NaN</td>\n",
       "      <td>NaN</td>\n",
       "      <td>NaN</td>\n",
       "      <td>NaN</td>\n",
       "      <td>NaN</td>\n",
       "      <td>NaN</td>\n",
       "    </tr>\n",
       "    <tr>\n",
       "      <th>1</th>\n",
       "      <td>2008-12-02</td>\n",
       "      <td>Albury</td>\n",
       "      <td>7.4</td>\n",
       "      <td>25.1</td>\n",
       "      <td>0.0</td>\n",
       "      <td>NaN</td>\n",
       "      <td>NaN</td>\n",
       "      <td>44.0</td>\n",
       "      <td>25.0</td>\n",
       "      <td>1010.6</td>\n",
       "      <td>1007.8</td>\n",
       "      <td>NaN</td>\n",
       "      <td>NaN</td>\n",
       "      <td>17.2</td>\n",
       "      <td>24.3</td>\n",
       "      <td>No</td>\n",
       "      <td>0.0</td>\n",
       "      <td>No</td>\n",
       "      <td>32.12</td>\n",
       "      <td>2.208569</td>\n",
       "      <td>10</td>\n",
       "      <td>21.497100</td>\n",
       "      <td>0.023477</td>\n",
       "      <td>WNW</td>\n",
       "      <td>44.0</td>\n",
       "      <td>NNW</td>\n",
       "      <td>WSW</td>\n",
       "      <td>4.0</td>\n",
       "      <td>22.0</td>\n",
       "      <td>NaN</td>\n",
       "      <td>NaN</td>\n",
       "      <td>NaN</td>\n",
       "      <td>NaN</td>\n",
       "      <td>NaN</td>\n",
       "      <td>NaN</td>\n",
       "    </tr>\n",
       "    <tr>\n",
       "      <th>2</th>\n",
       "      <td>2008-12-03</td>\n",
       "      <td>Albury</td>\n",
       "      <td>12.9</td>\n",
       "      <td>25.7</td>\n",
       "      <td>0.0</td>\n",
       "      <td>NaN</td>\n",
       "      <td>NaN</td>\n",
       "      <td>38.0</td>\n",
       "      <td>30.0</td>\n",
       "      <td>1007.6</td>\n",
       "      <td>1008.7</td>\n",
       "      <td>NaN</td>\n",
       "      <td>2.0</td>\n",
       "      <td>21.0</td>\n",
       "      <td>23.2</td>\n",
       "      <td>No</td>\n",
       "      <td>0.0</td>\n",
       "      <td>No</td>\n",
       "      <td>32.84</td>\n",
       "      <td>38.000000</td>\n",
       "      <td>17</td>\n",
       "      <td>20.782859</td>\n",
       "      <td>0.027580</td>\n",
       "      <td>WSW</td>\n",
       "      <td>46.0</td>\n",
       "      <td>W</td>\n",
       "      <td>WSW</td>\n",
       "      <td>19.0</td>\n",
       "      <td>26.0</td>\n",
       "      <td>NaN</td>\n",
       "      <td>NaN</td>\n",
       "      <td>NaN</td>\n",
       "      <td>NaN</td>\n",
       "      <td>NaN</td>\n",
       "      <td>NaN</td>\n",
       "    </tr>\n",
       "    <tr>\n",
       "      <th>3</th>\n",
       "      <td>2008-12-04</td>\n",
       "      <td>Albury</td>\n",
       "      <td>9.2</td>\n",
       "      <td>28.0</td>\n",
       "      <td>0.0</td>\n",
       "      <td>NaN</td>\n",
       "      <td>NaN</td>\n",
       "      <td>45.0</td>\n",
       "      <td>16.0</td>\n",
       "      <td>1017.6</td>\n",
       "      <td>1012.8</td>\n",
       "      <td>NaN</td>\n",
       "      <td>NaN</td>\n",
       "      <td>18.1</td>\n",
       "      <td>26.5</td>\n",
       "      <td>No</td>\n",
       "      <td>1.0</td>\n",
       "      <td>No</td>\n",
       "      <td>35.60</td>\n",
       "      <td>21.200000</td>\n",
       "      <td>8</td>\n",
       "      <td>12.028646</td>\n",
       "      <td>0.023962</td>\n",
       "      <td>NE</td>\n",
       "      <td>24.0</td>\n",
       "      <td>SE</td>\n",
       "      <td>E</td>\n",
       "      <td>11.0</td>\n",
       "      <td>9.0</td>\n",
       "      <td>NaN</td>\n",
       "      <td>NaN</td>\n",
       "      <td>NaN</td>\n",
       "      <td>NaN</td>\n",
       "      <td>NaN</td>\n",
       "      <td>NaN</td>\n",
       "    </tr>\n",
       "    <tr>\n",
       "      <th>4</th>\n",
       "      <td>2008-12-05</td>\n",
       "      <td>Albury</td>\n",
       "      <td>17.5</td>\n",
       "      <td>32.3</td>\n",
       "      <td>1.0</td>\n",
       "      <td>NaN</td>\n",
       "      <td>NaN</td>\n",
       "      <td>82.0</td>\n",
       "      <td>33.0</td>\n",
       "      <td>1010.8</td>\n",
       "      <td>1006.0</td>\n",
       "      <td>7.0</td>\n",
       "      <td>8.0</td>\n",
       "      <td>17.8</td>\n",
       "      <td>29.7</td>\n",
       "      <td>No</td>\n",
       "      <td>0.2</td>\n",
       "      <td>No</td>\n",
       "      <td>40.76</td>\n",
       "      <td>41.600000</td>\n",
       "      <td>9</td>\n",
       "      <td>11.883546</td>\n",
       "      <td>0.220164</td>\n",
       "      <td>W</td>\n",
       "      <td>41.0</td>\n",
       "      <td>ENE</td>\n",
       "      <td>NW</td>\n",
       "      <td>7.0</td>\n",
       "      <td>20.0</td>\n",
       "      <td>NaN</td>\n",
       "      <td>NaN</td>\n",
       "      <td>NaN</td>\n",
       "      <td>NaN</td>\n",
       "      <td>NaN</td>\n",
       "      <td>NaN</td>\n",
       "    </tr>\n",
       "    <tr>\n",
       "      <th>...</th>\n",
       "      <td>...</td>\n",
       "      <td>...</td>\n",
       "      <td>...</td>\n",
       "      <td>...</td>\n",
       "      <td>...</td>\n",
       "      <td>...</td>\n",
       "      <td>...</td>\n",
       "      <td>...</td>\n",
       "      <td>...</td>\n",
       "      <td>...</td>\n",
       "      <td>...</td>\n",
       "      <td>...</td>\n",
       "      <td>...</td>\n",
       "      <td>...</td>\n",
       "      <td>...</td>\n",
       "      <td>...</td>\n",
       "      <td>...</td>\n",
       "      <td>...</td>\n",
       "      <td>...</td>\n",
       "      <td>...</td>\n",
       "      <td>...</td>\n",
       "      <td>...</td>\n",
       "      <td>...</td>\n",
       "      <td>...</td>\n",
       "      <td>...</td>\n",
       "      <td>...</td>\n",
       "      <td>...</td>\n",
       "      <td>...</td>\n",
       "      <td>...</td>\n",
       "      <td>...</td>\n",
       "      <td>...</td>\n",
       "      <td>...</td>\n",
       "      <td>...</td>\n",
       "      <td>...</td>\n",
       "      <td>...</td>\n",
       "    </tr>\n",
       "    <tr>\n",
       "      <th>142188</th>\n",
       "      <td>2017-06-20</td>\n",
       "      <td>Uluru</td>\n",
       "      <td>3.5</td>\n",
       "      <td>21.8</td>\n",
       "      <td>0.0</td>\n",
       "      <td>NaN</td>\n",
       "      <td>NaN</td>\n",
       "      <td>59.0</td>\n",
       "      <td>27.0</td>\n",
       "      <td>1024.7</td>\n",
       "      <td>1021.2</td>\n",
       "      <td>NaN</td>\n",
       "      <td>NaN</td>\n",
       "      <td>9.4</td>\n",
       "      <td>20.9</td>\n",
       "      <td>No</td>\n",
       "      <td>0.0</td>\n",
       "      <td>No</td>\n",
       "      <td>28.16</td>\n",
       "      <td>34.400000</td>\n",
       "      <td>12</td>\n",
       "      <td>5.848681</td>\n",
       "      <td>0.002556</td>\n",
       "      <td>NaN</td>\n",
       "      <td>NaN</td>\n",
       "      <td>NaN</td>\n",
       "      <td>NaN</td>\n",
       "      <td>NaN</td>\n",
       "      <td>NaN</td>\n",
       "      <td>E</td>\n",
       "      <td>31.0</td>\n",
       "      <td>ESE</td>\n",
       "      <td>E</td>\n",
       "      <td>15.0</td>\n",
       "      <td>13.0</td>\n",
       "    </tr>\n",
       "    <tr>\n",
       "      <th>142189</th>\n",
       "      <td>2017-06-21</td>\n",
       "      <td>Uluru</td>\n",
       "      <td>2.8</td>\n",
       "      <td>23.4</td>\n",
       "      <td>0.0</td>\n",
       "      <td>NaN</td>\n",
       "      <td>NaN</td>\n",
       "      <td>51.0</td>\n",
       "      <td>24.0</td>\n",
       "      <td>1024.6</td>\n",
       "      <td>1020.3</td>\n",
       "      <td>NaN</td>\n",
       "      <td>NaN</td>\n",
       "      <td>10.1</td>\n",
       "      <td>22.4</td>\n",
       "      <td>No</td>\n",
       "      <td>0.0</td>\n",
       "      <td>No</td>\n",
       "      <td>30.08</td>\n",
       "      <td>30.800000</td>\n",
       "      <td>10</td>\n",
       "      <td>6.653879</td>\n",
       "      <td>0.002053</td>\n",
       "      <td>NaN</td>\n",
       "      <td>NaN</td>\n",
       "      <td>NaN</td>\n",
       "      <td>NaN</td>\n",
       "      <td>NaN</td>\n",
       "      <td>NaN</td>\n",
       "      <td>E</td>\n",
       "      <td>31.0</td>\n",
       "      <td>SE</td>\n",
       "      <td>ENE</td>\n",
       "      <td>13.0</td>\n",
       "      <td>11.0</td>\n",
       "    </tr>\n",
       "    <tr>\n",
       "      <th>142190</th>\n",
       "      <td>2017-06-22</td>\n",
       "      <td>Uluru</td>\n",
       "      <td>3.6</td>\n",
       "      <td>25.3</td>\n",
       "      <td>0.0</td>\n",
       "      <td>NaN</td>\n",
       "      <td>NaN</td>\n",
       "      <td>56.0</td>\n",
       "      <td>21.0</td>\n",
       "      <td>1023.5</td>\n",
       "      <td>1019.1</td>\n",
       "      <td>NaN</td>\n",
       "      <td>NaN</td>\n",
       "      <td>10.9</td>\n",
       "      <td>24.5</td>\n",
       "      <td>No</td>\n",
       "      <td>0.0</td>\n",
       "      <td>No</td>\n",
       "      <td>32.36</td>\n",
       "      <td>27.200000</td>\n",
       "      <td>9</td>\n",
       "      <td>19.715976</td>\n",
       "      <td>0.023350</td>\n",
       "      <td>NaN</td>\n",
       "      <td>NaN</td>\n",
       "      <td>NaN</td>\n",
       "      <td>NaN</td>\n",
       "      <td>NaN</td>\n",
       "      <td>NaN</td>\n",
       "      <td>NNW</td>\n",
       "      <td>22.0</td>\n",
       "      <td>SE</td>\n",
       "      <td>N</td>\n",
       "      <td>13.0</td>\n",
       "      <td>9.0</td>\n",
       "    </tr>\n",
       "    <tr>\n",
       "      <th>142191</th>\n",
       "      <td>2017-06-23</td>\n",
       "      <td>Uluru</td>\n",
       "      <td>5.4</td>\n",
       "      <td>26.9</td>\n",
       "      <td>0.0</td>\n",
       "      <td>NaN</td>\n",
       "      <td>NaN</td>\n",
       "      <td>53.0</td>\n",
       "      <td>24.0</td>\n",
       "      <td>1021.0</td>\n",
       "      <td>1016.8</td>\n",
       "      <td>NaN</td>\n",
       "      <td>NaN</td>\n",
       "      <td>12.5</td>\n",
       "      <td>26.1</td>\n",
       "      <td>No</td>\n",
       "      <td>0.0</td>\n",
       "      <td>No</td>\n",
       "      <td>34.28</td>\n",
       "      <td>30.800000</td>\n",
       "      <td>12</td>\n",
       "      <td>0.985551</td>\n",
       "      <td>0.007195</td>\n",
       "      <td>NaN</td>\n",
       "      <td>NaN</td>\n",
       "      <td>NaN</td>\n",
       "      <td>NaN</td>\n",
       "      <td>NaN</td>\n",
       "      <td>NaN</td>\n",
       "      <td>N</td>\n",
       "      <td>37.0</td>\n",
       "      <td>SE</td>\n",
       "      <td>WNW</td>\n",
       "      <td>9.0</td>\n",
       "      <td>9.0</td>\n",
       "    </tr>\n",
       "    <tr>\n",
       "      <th>142192</th>\n",
       "      <td>2017-06-24</td>\n",
       "      <td>Uluru</td>\n",
       "      <td>7.8</td>\n",
       "      <td>27.0</td>\n",
       "      <td>0.0</td>\n",
       "      <td>NaN</td>\n",
       "      <td>NaN</td>\n",
       "      <td>51.0</td>\n",
       "      <td>24.0</td>\n",
       "      <td>1019.4</td>\n",
       "      <td>1016.5</td>\n",
       "      <td>3.0</td>\n",
       "      <td>2.0</td>\n",
       "      <td>15.1</td>\n",
       "      <td>26.0</td>\n",
       "      <td>No</td>\n",
       "      <td>0.0</td>\n",
       "      <td>No</td>\n",
       "      <td>34.40</td>\n",
       "      <td>30.800000</td>\n",
       "      <td>15</td>\n",
       "      <td>4.381481</td>\n",
       "      <td>0.018811</td>\n",
       "      <td>NaN</td>\n",
       "      <td>NaN</td>\n",
       "      <td>NaN</td>\n",
       "      <td>NaN</td>\n",
       "      <td>NaN</td>\n",
       "      <td>NaN</td>\n",
       "      <td>SE</td>\n",
       "      <td>28.0</td>\n",
       "      <td>SSE</td>\n",
       "      <td>N</td>\n",
       "      <td>13.0</td>\n",
       "      <td>7.0</td>\n",
       "    </tr>\n",
       "  </tbody>\n",
       "</table>\n",
       "<p>142193 rows × 35 columns</p>\n",
       "</div>"
      ],
      "text/plain": [
       "              date location  mintemp  maxtemp  rainfall  evaporation  \\\n",
       "0       2008-12-01   Albury     13.4     22.9       0.6          NaN   \n",
       "1       2008-12-02   Albury      7.4     25.1       0.0          NaN   \n",
       "2       2008-12-03   Albury     12.9     25.7       0.0          NaN   \n",
       "3       2008-12-04   Albury      9.2     28.0       0.0          NaN   \n",
       "4       2008-12-05   Albury     17.5     32.3       1.0          NaN   \n",
       "...            ...      ...      ...      ...       ...          ...   \n",
       "142188  2017-06-20    Uluru      3.5     21.8       0.0          NaN   \n",
       "142189  2017-06-21    Uluru      2.8     23.4       0.0          NaN   \n",
       "142190  2017-06-22    Uluru      3.6     25.3       0.0          NaN   \n",
       "142191  2017-06-23    Uluru      5.4     26.9       0.0          NaN   \n",
       "142192  2017-06-24    Uluru      7.8     27.0       0.0          NaN   \n",
       "\n",
       "        sunshine  humidity9am  humidity3pm  pressure9am  pressure3pm  \\\n",
       "0            NaN         71.0         22.0       1007.7       1007.1   \n",
       "1            NaN         44.0         25.0       1010.6       1007.8   \n",
       "2            NaN         38.0         30.0       1007.6       1008.7   \n",
       "3            NaN         45.0         16.0       1017.6       1012.8   \n",
       "4            NaN         82.0         33.0       1010.8       1006.0   \n",
       "...          ...          ...          ...          ...          ...   \n",
       "142188       NaN         59.0         27.0       1024.7       1021.2   \n",
       "142189       NaN         51.0         24.0       1024.6       1020.3   \n",
       "142190       NaN         56.0         21.0       1023.5       1019.1   \n",
       "142191       NaN         53.0         24.0       1021.0       1016.8   \n",
       "142192       NaN         51.0         24.0       1019.4       1016.5   \n",
       "\n",
       "        cloud9am  cloud3pm  temp9am  temp3pm raintoday  amountOfRain  \\\n",
       "0            8.0       NaN     16.9     21.8        No           0.0   \n",
       "1            NaN       NaN     17.2     24.3        No           0.0   \n",
       "2            NaN       2.0     21.0     23.2        No           0.0   \n",
       "3            NaN       NaN     18.1     26.5        No           1.0   \n",
       "4            7.0       8.0     17.8     29.7        No           0.2   \n",
       "...          ...       ...      ...      ...       ...           ...   \n",
       "142188       NaN       NaN      9.4     20.9        No           0.0   \n",
       "142189       NaN       NaN     10.1     22.4        No           0.0   \n",
       "142190       NaN       NaN     10.9     24.5        No           0.0   \n",
       "142191       NaN       NaN     12.5     26.1        No           0.0   \n",
       "142192       3.0       2.0     15.1     26.0        No           0.0   \n",
       "\n",
       "       raintomorrow   temp   humidity  precipitation3pm  precipitation9am  \\\n",
       "0                No  29.48  28.400000                12          5.115360   \n",
       "1                No  32.12   2.208569                10         21.497100   \n",
       "2                No  32.84  38.000000                17         20.782859   \n",
       "3                No  35.60  21.200000                 8         12.028646   \n",
       "4                No  40.76  41.600000                 9         11.883546   \n",
       "...             ...    ...        ...               ...               ...   \n",
       "142188           No  28.16  34.400000                12          5.848681   \n",
       "142189           No  30.08  30.800000                10          6.653879   \n",
       "142190           No  32.36  27.200000                 9         19.715976   \n",
       "142191           No  34.28  30.800000                12          0.985551   \n",
       "142192           No  34.40  30.800000                15          4.381481   \n",
       "\n",
       "        modelo_vigente wind_gustdir  wind_gustspeed wind_dir9am wind_dir3pm  \\\n",
       "0             0.089825            W            44.0           W         WNW   \n",
       "1             0.023477          WNW            44.0         NNW         WSW   \n",
       "2             0.027580          WSW            46.0           W         WSW   \n",
       "3             0.023962           NE            24.0          SE           E   \n",
       "4             0.220164            W            41.0         ENE          NW   \n",
       "...                ...          ...             ...         ...         ...   \n",
       "142188        0.002556          NaN             NaN         NaN         NaN   \n",
       "142189        0.002053          NaN             NaN         NaN         NaN   \n",
       "142190        0.023350          NaN             NaN         NaN         NaN   \n",
       "142191        0.007195          NaN             NaN         NaN         NaN   \n",
       "142192        0.018811          NaN             NaN         NaN         NaN   \n",
       "\n",
       "        wind_speed9am  wind_speed3pm windgustdir  windgustspeed winddir9am  \\\n",
       "0                20.0           24.0         NaN            NaN        NaN   \n",
       "1                 4.0           22.0         NaN            NaN        NaN   \n",
       "2                19.0           26.0         NaN            NaN        NaN   \n",
       "3                11.0            9.0         NaN            NaN        NaN   \n",
       "4                 7.0           20.0         NaN            NaN        NaN   \n",
       "...               ...            ...         ...            ...        ...   \n",
       "142188            NaN            NaN           E           31.0        ESE   \n",
       "142189            NaN            NaN           E           31.0         SE   \n",
       "142190            NaN            NaN         NNW           22.0         SE   \n",
       "142191            NaN            NaN           N           37.0         SE   \n",
       "142192            NaN            NaN          SE           28.0        SSE   \n",
       "\n",
       "       winddir3pm  windspeed9am  windspeed3pm  \n",
       "0             NaN           NaN           NaN  \n",
       "1             NaN           NaN           NaN  \n",
       "2             NaN           NaN           NaN  \n",
       "3             NaN           NaN           NaN  \n",
       "4             NaN           NaN           NaN  \n",
       "...           ...           ...           ...  \n",
       "142188          E          15.0          13.0  \n",
       "142189        ENE          13.0          11.0  \n",
       "142190          N          13.0           9.0  \n",
       "142191        WNW           9.0           9.0  \n",
       "142192          N          13.0           7.0  \n",
       "\n",
       "[142193 rows x 35 columns]"
      ]
     },
     "execution_count": 45,
     "metadata": {},
     "output_type": "execute_result"
    }
   ],
   "source": [
    "# unindo os Dataframe de chuva e vento\n",
    "\n",
    "df=pd.merge(left=rain, right=wind, on=[\"date\", \"location\"])\n",
    "\n",
    "df"
   ]
  },
  {
   "cell_type": "markdown",
   "metadata": {},
   "source": [
    "### EDA - Vento"
   ]
  },
  {
   "cell_type": "code",
   "execution_count": 46,
   "metadata": {
    "ExecuteTime": {
     "end_time": "2021-01-27T20:45:15.568401Z",
     "start_time": "2021-01-27T20:45:15.397641Z"
    }
   },
   "outputs": [
    {
     "name": "stdout",
     "output_type": "stream",
     "text": [
      "<class 'pandas.core.frame.DataFrame'>\n",
      "Int64Index: 142193 entries, 0 to 142192\n",
      "Data columns (total 35 columns):\n",
      " #   Column            Non-Null Count   Dtype  \n",
      "---  ------            --------------   -----  \n",
      " 0   date              142193 non-null  object \n",
      " 1   location          142193 non-null  object \n",
      " 2   mintemp           141556 non-null  float64\n",
      " 3   maxtemp           141871 non-null  float64\n",
      " 4   rainfall          140787 non-null  float64\n",
      " 5   evaporation       81350 non-null   float64\n",
      " 6   sunshine          74377 non-null   float64\n",
      " 7   humidity9am       140419 non-null  float64\n",
      " 8   humidity3pm       138583 non-null  float64\n",
      " 9   pressure9am       128179 non-null  float64\n",
      " 10  pressure3pm       128212 non-null  float64\n",
      " 11  cloud9am          88536 non-null   float64\n",
      " 12  cloud3pm          85099 non-null   float64\n",
      " 13  temp9am           141289 non-null  float64\n",
      " 14  temp3pm           139467 non-null  float64\n",
      " 15  raintoday         140787 non-null  object \n",
      " 16  amountOfRain      142193 non-null  float64\n",
      " 17  raintomorrow      142193 non-null  object \n",
      " 18  temp              141871 non-null  float64\n",
      " 19  humidity          138583 non-null  float64\n",
      " 20  precipitation3pm  142193 non-null  int64  \n",
      " 21  precipitation9am  142193 non-null  float64\n",
      " 22  modelo_vigente    142193 non-null  float64\n",
      " 23  wind_gustdir      36419 non-null   object \n",
      " 24  wind_gustspeed    36426 non-null   float64\n",
      " 25  wind_dir9am       36932 non-null   object \n",
      " 26  wind_dir3pm       38990 non-null   object \n",
      " 27  wind_speed9am     39300 non-null   float64\n",
      " 28  wind_speed3pm     39328 non-null   float64\n",
      " 29  windgustdir       96444 non-null   object \n",
      " 30  windgustspeed     96497 non-null   float64\n",
      " 31  winddir9am        95248 non-null   object \n",
      " 32  winddir3pm        99425 non-null   object \n",
      " 33  windspeed9am      101545 non-null  float64\n",
      " 34  windspeed3pm      100235 non-null  float64\n",
      "dtypes: float64(24), int64(1), object(10)\n",
      "memory usage: 39.1+ MB\n"
     ]
    }
   ],
   "source": [
    "# verificando informações sobre as colunas\n",
    "df.info()"
   ]
  },
  {
   "cell_type": "markdown",
   "metadata": {},
   "source": [
    "> Algumas colunas de vento parecem ter informações repetidas ou complementares."
   ]
  },
  {
   "cell_type": "code",
   "execution_count": 47,
   "metadata": {
    "ExecuteTime": {
     "end_time": "2021-01-27T20:53:26.806479Z",
     "start_time": "2021-01-27T20:53:26.797185Z"
    }
   },
   "outputs": [
    {
     "data": {
      "text/plain": [
       "Index(['date', 'location', 'wind_gustdir', 'wind_gustspeed', 'wind_dir9am',\n",
       "       'wind_dir3pm', 'wind_speed9am', 'wind_speed3pm', 'windgustdir',\n",
       "       'windgustspeed', 'winddir9am', 'winddir3pm', 'windspeed9am',\n",
       "       'windspeed3pm'],\n",
       "      dtype='object')"
      ]
     },
     "execution_count": 47,
     "metadata": {},
     "output_type": "execute_result"
    }
   ],
   "source": [
    "# verificando as colunas de vento\n",
    "wind.columns"
   ]
  },
  {
   "cell_type": "code",
   "execution_count": 48,
   "metadata": {
    "ExecuteTime": {
     "end_time": "2021-01-27T20:54:18.248895Z",
     "start_time": "2021-01-27T20:54:18.195739Z"
    }
   },
   "outputs": [
    {
     "data": {
      "text/html": [
       "<div>\n",
       "<style scoped>\n",
       "    .dataframe tbody tr th:only-of-type {\n",
       "        vertical-align: middle;\n",
       "    }\n",
       "\n",
       "    .dataframe tbody tr th {\n",
       "        vertical-align: top;\n",
       "    }\n",
       "\n",
       "    .dataframe thead th {\n",
       "        text-align: right;\n",
       "    }\n",
       "</style>\n",
       "<table border=\"1\" class=\"dataframe\">\n",
       "  <thead>\n",
       "    <tr style=\"text-align: right;\">\n",
       "      <th></th>\n",
       "      <th>wind_gustspeed</th>\n",
       "      <th>windgustspeed</th>\n",
       "      <th>wind_gustdir</th>\n",
       "      <th>windgustdir</th>\n",
       "      <th>wind_dir9am</th>\n",
       "      <th>winddir9am</th>\n",
       "      <th>wind_dir3pm</th>\n",
       "      <th>winddir3pm</th>\n",
       "      <th>windspeed9am</th>\n",
       "      <th>wind_speed9am</th>\n",
       "      <th>windspeed3pm</th>\n",
       "      <th>wind_speed3pm</th>\n",
       "    </tr>\n",
       "  </thead>\n",
       "  <tbody>\n",
       "    <tr>\n",
       "      <th>0</th>\n",
       "      <td>44.0</td>\n",
       "      <td>NaN</td>\n",
       "      <td>W</td>\n",
       "      <td>NaN</td>\n",
       "      <td>W</td>\n",
       "      <td>NaN</td>\n",
       "      <td>WNW</td>\n",
       "      <td>NaN</td>\n",
       "      <td>NaN</td>\n",
       "      <td>20.0</td>\n",
       "      <td>NaN</td>\n",
       "      <td>24.0</td>\n",
       "    </tr>\n",
       "    <tr>\n",
       "      <th>1</th>\n",
       "      <td>44.0</td>\n",
       "      <td>NaN</td>\n",
       "      <td>WNW</td>\n",
       "      <td>NaN</td>\n",
       "      <td>NNW</td>\n",
       "      <td>NaN</td>\n",
       "      <td>WSW</td>\n",
       "      <td>NaN</td>\n",
       "      <td>NaN</td>\n",
       "      <td>4.0</td>\n",
       "      <td>NaN</td>\n",
       "      <td>22.0</td>\n",
       "    </tr>\n",
       "    <tr>\n",
       "      <th>2</th>\n",
       "      <td>46.0</td>\n",
       "      <td>NaN</td>\n",
       "      <td>WSW</td>\n",
       "      <td>NaN</td>\n",
       "      <td>W</td>\n",
       "      <td>NaN</td>\n",
       "      <td>WSW</td>\n",
       "      <td>NaN</td>\n",
       "      <td>NaN</td>\n",
       "      <td>19.0</td>\n",
       "      <td>NaN</td>\n",
       "      <td>26.0</td>\n",
       "    </tr>\n",
       "    <tr>\n",
       "      <th>3</th>\n",
       "      <td>24.0</td>\n",
       "      <td>NaN</td>\n",
       "      <td>NE</td>\n",
       "      <td>NaN</td>\n",
       "      <td>SE</td>\n",
       "      <td>NaN</td>\n",
       "      <td>E</td>\n",
       "      <td>NaN</td>\n",
       "      <td>NaN</td>\n",
       "      <td>11.0</td>\n",
       "      <td>NaN</td>\n",
       "      <td>9.0</td>\n",
       "    </tr>\n",
       "    <tr>\n",
       "      <th>4</th>\n",
       "      <td>41.0</td>\n",
       "      <td>NaN</td>\n",
       "      <td>W</td>\n",
       "      <td>NaN</td>\n",
       "      <td>ENE</td>\n",
       "      <td>NaN</td>\n",
       "      <td>NW</td>\n",
       "      <td>NaN</td>\n",
       "      <td>NaN</td>\n",
       "      <td>7.0</td>\n",
       "      <td>NaN</td>\n",
       "      <td>20.0</td>\n",
       "    </tr>\n",
       "    <tr>\n",
       "      <th>...</th>\n",
       "      <td>...</td>\n",
       "      <td>...</td>\n",
       "      <td>...</td>\n",
       "      <td>...</td>\n",
       "      <td>...</td>\n",
       "      <td>...</td>\n",
       "      <td>...</td>\n",
       "      <td>...</td>\n",
       "      <td>...</td>\n",
       "      <td>...</td>\n",
       "      <td>...</td>\n",
       "      <td>...</td>\n",
       "    </tr>\n",
       "    <tr>\n",
       "      <th>142188</th>\n",
       "      <td>NaN</td>\n",
       "      <td>31.0</td>\n",
       "      <td>NaN</td>\n",
       "      <td>E</td>\n",
       "      <td>NaN</td>\n",
       "      <td>ESE</td>\n",
       "      <td>NaN</td>\n",
       "      <td>E</td>\n",
       "      <td>15.0</td>\n",
       "      <td>NaN</td>\n",
       "      <td>13.0</td>\n",
       "      <td>NaN</td>\n",
       "    </tr>\n",
       "    <tr>\n",
       "      <th>142189</th>\n",
       "      <td>NaN</td>\n",
       "      <td>31.0</td>\n",
       "      <td>NaN</td>\n",
       "      <td>E</td>\n",
       "      <td>NaN</td>\n",
       "      <td>SE</td>\n",
       "      <td>NaN</td>\n",
       "      <td>ENE</td>\n",
       "      <td>13.0</td>\n",
       "      <td>NaN</td>\n",
       "      <td>11.0</td>\n",
       "      <td>NaN</td>\n",
       "    </tr>\n",
       "    <tr>\n",
       "      <th>142190</th>\n",
       "      <td>NaN</td>\n",
       "      <td>22.0</td>\n",
       "      <td>NaN</td>\n",
       "      <td>NNW</td>\n",
       "      <td>NaN</td>\n",
       "      <td>SE</td>\n",
       "      <td>NaN</td>\n",
       "      <td>N</td>\n",
       "      <td>13.0</td>\n",
       "      <td>NaN</td>\n",
       "      <td>9.0</td>\n",
       "      <td>NaN</td>\n",
       "    </tr>\n",
       "    <tr>\n",
       "      <th>142191</th>\n",
       "      <td>NaN</td>\n",
       "      <td>37.0</td>\n",
       "      <td>NaN</td>\n",
       "      <td>N</td>\n",
       "      <td>NaN</td>\n",
       "      <td>SE</td>\n",
       "      <td>NaN</td>\n",
       "      <td>WNW</td>\n",
       "      <td>9.0</td>\n",
       "      <td>NaN</td>\n",
       "      <td>9.0</td>\n",
       "      <td>NaN</td>\n",
       "    </tr>\n",
       "    <tr>\n",
       "      <th>142192</th>\n",
       "      <td>NaN</td>\n",
       "      <td>28.0</td>\n",
       "      <td>NaN</td>\n",
       "      <td>SE</td>\n",
       "      <td>NaN</td>\n",
       "      <td>SSE</td>\n",
       "      <td>NaN</td>\n",
       "      <td>N</td>\n",
       "      <td>13.0</td>\n",
       "      <td>NaN</td>\n",
       "      <td>7.0</td>\n",
       "      <td>NaN</td>\n",
       "    </tr>\n",
       "  </tbody>\n",
       "</table>\n",
       "<p>142193 rows × 12 columns</p>\n",
       "</div>"
      ],
      "text/plain": [
       "        wind_gustspeed  windgustspeed wind_gustdir windgustdir wind_dir9am  \\\n",
       "0                 44.0            NaN            W         NaN           W   \n",
       "1                 44.0            NaN          WNW         NaN         NNW   \n",
       "2                 46.0            NaN          WSW         NaN           W   \n",
       "3                 24.0            NaN           NE         NaN          SE   \n",
       "4                 41.0            NaN            W         NaN         ENE   \n",
       "...                ...            ...          ...         ...         ...   \n",
       "142188             NaN           31.0          NaN           E         NaN   \n",
       "142189             NaN           31.0          NaN           E         NaN   \n",
       "142190             NaN           22.0          NaN         NNW         NaN   \n",
       "142191             NaN           37.0          NaN           N         NaN   \n",
       "142192             NaN           28.0          NaN          SE         NaN   \n",
       "\n",
       "       winddir9am wind_dir3pm winddir3pm  windspeed9am  wind_speed9am  \\\n",
       "0             NaN         WNW        NaN           NaN           20.0   \n",
       "1             NaN         WSW        NaN           NaN            4.0   \n",
       "2             NaN         WSW        NaN           NaN           19.0   \n",
       "3             NaN           E        NaN           NaN           11.0   \n",
       "4             NaN          NW        NaN           NaN            7.0   \n",
       "...           ...         ...        ...           ...            ...   \n",
       "142188        ESE         NaN          E          15.0            NaN   \n",
       "142189         SE         NaN        ENE          13.0            NaN   \n",
       "142190         SE         NaN          N          13.0            NaN   \n",
       "142191         SE         NaN        WNW           9.0            NaN   \n",
       "142192        SSE         NaN          N          13.0            NaN   \n",
       "\n",
       "        windspeed3pm  wind_speed3pm  \n",
       "0                NaN           24.0  \n",
       "1                NaN           22.0  \n",
       "2                NaN           26.0  \n",
       "3                NaN            9.0  \n",
       "4                NaN           20.0  \n",
       "...              ...            ...  \n",
       "142188          13.0            NaN  \n",
       "142189          11.0            NaN  \n",
       "142190           9.0            NaN  \n",
       "142191           9.0            NaN  \n",
       "142192           7.0            NaN  \n",
       "\n",
       "[142193 rows x 12 columns]"
      ]
     },
     "execution_count": 48,
     "metadata": {},
     "output_type": "execute_result"
    }
   ],
   "source": [
    "# criando um Dataframe com as colunas de vento ordenadas\n",
    "\n",
    "df_wind = df[['wind_gustspeed', 'windgustspeed', 'wind_gustdir', 'windgustdir', 'wind_dir9am', 'winddir9am', \n",
    "              'wind_dir3pm', 'winddir3pm', 'windspeed9am', 'wind_speed9am', 'windspeed3pm', 'wind_speed3pm']]\n",
    "df_wind"
   ]
  },
  {
   "cell_type": "code",
   "execution_count": 49,
   "metadata": {
    "ExecuteTime": {
     "end_time": "2021-01-27T20:57:32.055605Z",
     "start_time": "2021-01-27T20:57:31.966512Z"
    }
   },
   "outputs": [
    {
     "data": {
      "text/html": [
       "<div>\n",
       "<style scoped>\n",
       "    .dataframe tbody tr th:only-of-type {\n",
       "        vertical-align: middle;\n",
       "    }\n",
       "\n",
       "    .dataframe tbody tr th {\n",
       "        vertical-align: top;\n",
       "    }\n",
       "\n",
       "    .dataframe thead th {\n",
       "        text-align: right;\n",
       "    }\n",
       "</style>\n",
       "<table border=\"1\" class=\"dataframe\">\n",
       "  <thead>\n",
       "    <tr style=\"text-align: right;\">\n",
       "      <th></th>\n",
       "      <th>wind_gustspeed</th>\n",
       "      <th>windgustspeed</th>\n",
       "      <th>wind_gustdir</th>\n",
       "      <th>windgustdir</th>\n",
       "      <th>wind_dir9am</th>\n",
       "      <th>winddir9am</th>\n",
       "      <th>wind_dir3pm</th>\n",
       "      <th>winddir3pm</th>\n",
       "      <th>windspeed9am</th>\n",
       "      <th>wind_speed9am</th>\n",
       "      <th>windspeed3pm</th>\n",
       "      <th>wind_speed3pm</th>\n",
       "    </tr>\n",
       "  </thead>\n",
       "  <tbody>\n",
       "    <tr>\n",
       "      <th>14</th>\n",
       "      <td>50.0</td>\n",
       "      <td>NaN</td>\n",
       "      <td>WNW</td>\n",
       "      <td>NaN</td>\n",
       "      <td>NaN</td>\n",
       "      <td>NaN</td>\n",
       "      <td>WNW</td>\n",
       "      <td>NaN</td>\n",
       "      <td>NaN</td>\n",
       "      <td>NaN</td>\n",
       "      <td>NaN</td>\n",
       "      <td>22.0</td>\n",
       "    </tr>\n",
       "    <tr>\n",
       "      <th>25</th>\n",
       "      <td>57.0</td>\n",
       "      <td>NaN</td>\n",
       "      <td>WSW</td>\n",
       "      <td>NaN</td>\n",
       "      <td>NaN</td>\n",
       "      <td>NaN</td>\n",
       "      <td>W</td>\n",
       "      <td>NaN</td>\n",
       "      <td>NaN</td>\n",
       "      <td>0.0</td>\n",
       "      <td>NaN</td>\n",
       "      <td>26.0</td>\n",
       "    </tr>\n",
       "    <tr>\n",
       "      <th>63</th>\n",
       "      <td>NaN</td>\n",
       "      <td>NaN</td>\n",
       "      <td>NaN</td>\n",
       "      <td>NaN</td>\n",
       "      <td>N</td>\n",
       "      <td>NaN</td>\n",
       "      <td>NaN</td>\n",
       "      <td>NaN</td>\n",
       "      <td>NaN</td>\n",
       "      <td>13.0</td>\n",
       "      <td>NaN</td>\n",
       "      <td>9.0</td>\n",
       "    </tr>\n",
       "    <tr>\n",
       "      <th>64</th>\n",
       "      <td>NaN</td>\n",
       "      <td>NaN</td>\n",
       "      <td>NaN</td>\n",
       "      <td>NaN</td>\n",
       "      <td>NaN</td>\n",
       "      <td>NaN</td>\n",
       "      <td>NaN</td>\n",
       "      <td>NaN</td>\n",
       "      <td>NaN</td>\n",
       "      <td>11.0</td>\n",
       "      <td>NaN</td>\n",
       "      <td>11.0</td>\n",
       "    </tr>\n",
       "    <tr>\n",
       "      <th>74</th>\n",
       "      <td>39.0</td>\n",
       "      <td>NaN</td>\n",
       "      <td>NE</td>\n",
       "      <td>NaN</td>\n",
       "      <td>S</td>\n",
       "      <td>NaN</td>\n",
       "      <td>NaN</td>\n",
       "      <td>NaN</td>\n",
       "      <td>NaN</td>\n",
       "      <td>7.0</td>\n",
       "      <td>NaN</td>\n",
       "      <td>0.0</td>\n",
       "    </tr>\n",
       "    <tr>\n",
       "      <th>...</th>\n",
       "      <td>...</td>\n",
       "      <td>...</td>\n",
       "      <td>...</td>\n",
       "      <td>...</td>\n",
       "      <td>...</td>\n",
       "      <td>...</td>\n",
       "      <td>...</td>\n",
       "      <td>...</td>\n",
       "      <td>...</td>\n",
       "      <td>...</td>\n",
       "      <td>...</td>\n",
       "      <td>...</td>\n",
       "    </tr>\n",
       "    <tr>\n",
       "      <th>141904</th>\n",
       "      <td>NaN</td>\n",
       "      <td>48.0</td>\n",
       "      <td>NaN</td>\n",
       "      <td>WSW</td>\n",
       "      <td>NaN</td>\n",
       "      <td>NaN</td>\n",
       "      <td>NaN</td>\n",
       "      <td>W</td>\n",
       "      <td>0.0</td>\n",
       "      <td>NaN</td>\n",
       "      <td>28.0</td>\n",
       "      <td>NaN</td>\n",
       "    </tr>\n",
       "    <tr>\n",
       "      <th>142051</th>\n",
       "      <td>NaN</td>\n",
       "      <td>NaN</td>\n",
       "      <td>NaN</td>\n",
       "      <td>NaN</td>\n",
       "      <td>NaN</td>\n",
       "      <td>ESE</td>\n",
       "      <td>NaN</td>\n",
       "      <td>E</td>\n",
       "      <td>13.0</td>\n",
       "      <td>NaN</td>\n",
       "      <td>24.0</td>\n",
       "      <td>NaN</td>\n",
       "    </tr>\n",
       "    <tr>\n",
       "      <th>142058</th>\n",
       "      <td>NaN</td>\n",
       "      <td>56.0</td>\n",
       "      <td>NaN</td>\n",
       "      <td>ENE</td>\n",
       "      <td>NaN</td>\n",
       "      <td>NaN</td>\n",
       "      <td>NaN</td>\n",
       "      <td>N</td>\n",
       "      <td>0.0</td>\n",
       "      <td>NaN</td>\n",
       "      <td>11.0</td>\n",
       "      <td>NaN</td>\n",
       "    </tr>\n",
       "    <tr>\n",
       "      <th>142156</th>\n",
       "      <td>NaN</td>\n",
       "      <td>26.0</td>\n",
       "      <td>NaN</td>\n",
       "      <td>ENE</td>\n",
       "      <td>NaN</td>\n",
       "      <td>NaN</td>\n",
       "      <td>NaN</td>\n",
       "      <td>N</td>\n",
       "      <td>0.0</td>\n",
       "      <td>NaN</td>\n",
       "      <td>7.0</td>\n",
       "      <td>NaN</td>\n",
       "    </tr>\n",
       "    <tr>\n",
       "      <th>142163</th>\n",
       "      <td>NaN</td>\n",
       "      <td>39.0</td>\n",
       "      <td>NaN</td>\n",
       "      <td>WNW</td>\n",
       "      <td>NaN</td>\n",
       "      <td>NaN</td>\n",
       "      <td>NaN</td>\n",
       "      <td>NW</td>\n",
       "      <td>0.0</td>\n",
       "      <td>NaN</td>\n",
       "      <td>20.0</td>\n",
       "      <td>NaN</td>\n",
       "    </tr>\n",
       "  </tbody>\n",
       "</table>\n",
       "<p>17525 rows × 12 columns</p>\n",
       "</div>"
      ],
      "text/plain": [
       "        wind_gustspeed  windgustspeed wind_gustdir windgustdir wind_dir9am  \\\n",
       "14                50.0            NaN          WNW         NaN         NaN   \n",
       "25                57.0            NaN          WSW         NaN         NaN   \n",
       "63                 NaN            NaN          NaN         NaN           N   \n",
       "64                 NaN            NaN          NaN         NaN         NaN   \n",
       "74                39.0            NaN           NE         NaN           S   \n",
       "...                ...            ...          ...         ...         ...   \n",
       "141904             NaN           48.0          NaN         WSW         NaN   \n",
       "142051             NaN            NaN          NaN         NaN         NaN   \n",
       "142058             NaN           56.0          NaN         ENE         NaN   \n",
       "142156             NaN           26.0          NaN         ENE         NaN   \n",
       "142163             NaN           39.0          NaN         WNW         NaN   \n",
       "\n",
       "       winddir9am wind_dir3pm winddir3pm  windspeed9am  wind_speed9am  \\\n",
       "14            NaN         WNW        NaN           NaN            NaN   \n",
       "25            NaN           W        NaN           NaN            0.0   \n",
       "63            NaN         NaN        NaN           NaN           13.0   \n",
       "64            NaN         NaN        NaN           NaN           11.0   \n",
       "74            NaN         NaN        NaN           NaN            7.0   \n",
       "...           ...         ...        ...           ...            ...   \n",
       "141904        NaN         NaN          W           0.0            NaN   \n",
       "142051        ESE         NaN          E          13.0            NaN   \n",
       "142058        NaN         NaN          N           0.0            NaN   \n",
       "142156        NaN         NaN          N           0.0            NaN   \n",
       "142163        NaN         NaN         NW           0.0            NaN   \n",
       "\n",
       "        windspeed3pm  wind_speed3pm  \n",
       "14               NaN           22.0  \n",
       "25               NaN           26.0  \n",
       "63               NaN            9.0  \n",
       "64               NaN           11.0  \n",
       "74               NaN            0.0  \n",
       "...              ...            ...  \n",
       "141904          28.0            NaN  \n",
       "142051          24.0            NaN  \n",
       "142058          11.0            NaN  \n",
       "142156           7.0            NaN  \n",
       "142163          20.0            NaN  \n",
       "\n",
       "[17525 rows x 12 columns]"
      ]
     },
     "execution_count": 49,
     "metadata": {},
     "output_type": "execute_result"
    }
   ],
   "source": [
    "df_wind[((df_wind.wind_gustspeed.isna()) & (df_wind.windgustspeed.isna()))\n",
    "        | ((df_wind.wind_gustdir.isna()) & (df_wind.windgustdir.isna())) \n",
    "        | ((df_wind.wind_dir9am.isna()) & (df_wind.winddir9am.isna()) \n",
    "        | ((df_wind.wind_dir3pm.isna()) & (df_wind.winddir3pm.isna())) \n",
    "        | ((df_wind.wind_speed9am.isna()) & (df_wind.windspeed9am.isna()) \n",
    "        | ((df_wind.wind_speed3pm.isna()) & (df_wind.windspeed3pm.isna()))))]"
   ]
  },
  {
   "cell_type": "markdown",
   "metadata": {},
   "source": [
    "> Parece que quando há algum valor em uma coluna, a outra coluna correspondente apresenta valor nulo e vice-versa."
   ]
  },
  {
   "cell_type": "markdown",
   "metadata": {},
   "source": [
    "* **windgustdir e wind_gustdir**"
   ]
  },
  {
   "cell_type": "code",
   "execution_count": 50,
   "metadata": {
    "ExecuteTime": {
     "end_time": "2021-01-27T21:21:36.504262Z",
     "start_time": "2021-01-27T21:21:36.490028Z"
    }
   },
   "outputs": [
    {
     "data": {
      "text/plain": [
       "105774"
      ]
     },
     "execution_count": 50,
     "metadata": {},
     "output_type": "execute_result"
    }
   ],
   "source": [
    "# nulos em wind_gustdir\n",
    "df[\"wind_gustdir\"].isna().sum()"
   ]
  },
  {
   "cell_type": "code",
   "execution_count": 51,
   "metadata": {
    "ExecuteTime": {
     "end_time": "2021-01-27T21:21:53.141940Z",
     "start_time": "2021-01-27T21:21:53.125566Z"
    }
   },
   "outputs": [
    {
     "data": {
      "text/plain": [
       "45749"
      ]
     },
     "execution_count": 51,
     "metadata": {},
     "output_type": "execute_result"
    }
   ],
   "source": [
    "# nulos em windgustdir\n",
    "df[\"windgustdir\"].isna().sum()"
   ]
  },
  {
   "cell_type": "code",
   "execution_count": 52,
   "metadata": {
    "ExecuteTime": {
     "end_time": "2021-01-27T21:22:17.361674Z",
     "start_time": "2021-01-27T21:22:17.352326Z"
    }
   },
   "outputs": [],
   "source": [
    "# adicionando uma nova coluna\n",
    "df[\"wind_gustdir_complete\"]=df[\"wind_gustdir\"]"
   ]
  },
  {
   "cell_type": "code",
   "execution_count": 53,
   "metadata": {
    "ExecuteTime": {
     "end_time": "2021-01-27T21:24:13.785715Z",
     "start_time": "2021-01-27T21:24:13.711944Z"
    }
   },
   "outputs": [],
   "source": [
    "# substituindo valores nulos\n",
    "indices=df.loc[df[\"wind_gustdir\"].isna(), \"wind_gustdir\"].index\n",
    "values=df.iloc[indices, df.columns.get_loc(\"windgustdir\")]\n",
    "df.loc[df[\"wind_gustdir\"].isna(), \"wind_gustdir_complete\"]=values"
   ]
  },
  {
   "cell_type": "code",
   "execution_count": 54,
   "metadata": {
    "ExecuteTime": {
     "end_time": "2021-01-27T21:24:53.863185Z",
     "start_time": "2021-01-27T21:24:53.845742Z"
    }
   },
   "outputs": [
    {
     "data": {
      "text/plain": [
       "9330"
      ]
     },
     "execution_count": 54,
     "metadata": {},
     "output_type": "execute_result"
    }
   ],
   "source": [
    "# nulos na nova coluna\n",
    "df[\"wind_gustdir_complete\"].isna().sum()"
   ]
  },
  {
   "cell_type": "markdown",
   "metadata": {},
   "source": [
    "* **windgustspeed e wind_gustspeed**"
   ]
  },
  {
   "cell_type": "code",
   "execution_count": 58,
   "metadata": {
    "ExecuteTime": {
     "end_time": "2021-01-27T21:26:45.547884Z",
     "start_time": "2021-01-27T21:26:45.539846Z"
    }
   },
   "outputs": [
    {
     "data": {
      "text/plain": [
       "105767"
      ]
     },
     "execution_count": 58,
     "metadata": {},
     "output_type": "execute_result"
    }
   ],
   "source": [
    "# nulos em wind_gustspeed\n",
    "df[\"wind_gustspeed\"].isna().sum()"
   ]
  },
  {
   "cell_type": "code",
   "execution_count": 59,
   "metadata": {
    "ExecuteTime": {
     "end_time": "2021-01-27T21:26:50.025693Z",
     "start_time": "2021-01-27T21:26:50.014903Z"
    }
   },
   "outputs": [
    {
     "data": {
      "text/plain": [
       "45696"
      ]
     },
     "execution_count": 59,
     "metadata": {},
     "output_type": "execute_result"
    }
   ],
   "source": [
    "# nulos em windgustspeed\n",
    "df[\"windgustspeed\"].isna().sum()"
   ]
  },
  {
   "cell_type": "code",
   "execution_count": 60,
   "metadata": {
    "ExecuteTime": {
     "end_time": "2021-01-27T21:27:15.016853Z",
     "start_time": "2021-01-27T21:27:15.010760Z"
    }
   },
   "outputs": [],
   "source": [
    "# adicionando uma nova coluna\n",
    "df[\"wind_gustspeed_complete\"]=df[\"wind_gustspeed\"]"
   ]
  },
  {
   "cell_type": "code",
   "execution_count": 61,
   "metadata": {
    "ExecuteTime": {
     "end_time": "2021-01-27T21:28:16.733098Z",
     "start_time": "2021-01-27T21:28:16.648455Z"
    }
   },
   "outputs": [],
   "source": [
    "# substituindo valores nulos\n",
    "indices=df.loc[df[\"wind_gustspeed\"].isna(), \"wind_gustspeed\"].index\n",
    "values=df.iloc[indices, df.columns.get_loc(\"windgustspeed\")]\n",
    "df.loc[df[\"wind_gustspeed\"].isna(), \"wind_gustspeed_complete\"]=values"
   ]
  },
  {
   "cell_type": "code",
   "execution_count": 62,
   "metadata": {
    "ExecuteTime": {
     "end_time": "2021-01-27T21:28:31.015738Z",
     "start_time": "2021-01-27T21:28:31.004507Z"
    }
   },
   "outputs": [
    {
     "data": {
      "text/plain": [
       "9270"
      ]
     },
     "execution_count": 62,
     "metadata": {},
     "output_type": "execute_result"
    }
   ],
   "source": [
    "# nulos na nova coluna\n",
    "df[\"wind_gustspeed_complete\"].isna().sum()"
   ]
  },
  {
   "cell_type": "markdown",
   "metadata": {},
   "source": [
    "* **winddir9am and wind_dir9am**"
   ]
  },
  {
   "cell_type": "code",
   "execution_count": 63,
   "metadata": {
    "ExecuteTime": {
     "end_time": "2021-01-27T21:29:37.694025Z",
     "start_time": "2021-01-27T21:29:37.679062Z"
    }
   },
   "outputs": [
    {
     "data": {
      "text/plain": [
       "105261"
      ]
     },
     "execution_count": 63,
     "metadata": {},
     "output_type": "execute_result"
    }
   ],
   "source": [
    "# nulos em wind_dir9am\n",
    "df[\"wind_dir9am\"].isna().sum()"
   ]
  },
  {
   "cell_type": "code",
   "execution_count": 64,
   "metadata": {
    "ExecuteTime": {
     "end_time": "2021-01-27T21:29:45.394701Z",
     "start_time": "2021-01-27T21:29:45.377041Z"
    }
   },
   "outputs": [
    {
     "data": {
      "text/plain": [
       "46945"
      ]
     },
     "execution_count": 64,
     "metadata": {},
     "output_type": "execute_result"
    }
   ],
   "source": [
    "# nulos em winddir9am\n",
    "df[\"winddir9am\"].isna().sum()"
   ]
  },
  {
   "cell_type": "code",
   "execution_count": 65,
   "metadata": {
    "ExecuteTime": {
     "end_time": "2021-01-27T21:30:12.834298Z",
     "start_time": "2021-01-27T21:30:12.825843Z"
    }
   },
   "outputs": [],
   "source": [
    "# adicionando uma nova coluna\n",
    "df[\"wind_dir9am_complete\"]=df[\"wind_dir9am\"]"
   ]
  },
  {
   "cell_type": "code",
   "execution_count": 66,
   "metadata": {
    "ExecuteTime": {
     "end_time": "2021-01-27T21:31:23.101231Z",
     "start_time": "2021-01-27T21:31:23.033389Z"
    }
   },
   "outputs": [],
   "source": [
    "# substituindo valores nulos\n",
    "indices=df.loc[df[\"wind_dir9am\"].isna(), \"wind_dir9am\"].index\n",
    "values=df.iloc[indices, df.columns.get_loc(\"winddir9am\")]\n",
    "df.loc[df[\"wind_dir9am\"].isna(), \"wind_dir9am_complete\"]=values"
   ]
  },
  {
   "cell_type": "code",
   "execution_count": 67,
   "metadata": {
    "ExecuteTime": {
     "end_time": "2021-01-27T21:31:39.633871Z",
     "start_time": "2021-01-27T21:31:39.616437Z"
    }
   },
   "outputs": [
    {
     "data": {
      "text/plain": [
       "10013"
      ]
     },
     "execution_count": 67,
     "metadata": {},
     "output_type": "execute_result"
    }
   ],
   "source": [
    "# nulos na nova coluna\n",
    "df[\"wind_dir9am_complete\"].isna().sum()"
   ]
  },
  {
   "cell_type": "markdown",
   "metadata": {},
   "source": [
    "* **winddir3pm e wind_dir3pm**"
   ]
  },
  {
   "cell_type": "code",
   "execution_count": 68,
   "metadata": {
    "ExecuteTime": {
     "end_time": "2021-01-27T21:32:31.336211Z",
     "start_time": "2021-01-27T21:32:31.320724Z"
    }
   },
   "outputs": [
    {
     "data": {
      "text/plain": [
       "103203"
      ]
     },
     "execution_count": 68,
     "metadata": {},
     "output_type": "execute_result"
    }
   ],
   "source": [
    "# nulos em wind_dir3pm\n",
    "df[\"wind_dir3pm\"].isna().sum()"
   ]
  },
  {
   "cell_type": "code",
   "execution_count": 69,
   "metadata": {
    "ExecuteTime": {
     "end_time": "2021-01-27T21:32:35.906433Z",
     "start_time": "2021-01-27T21:32:35.889344Z"
    }
   },
   "outputs": [
    {
     "data": {
      "text/plain": [
       "42768"
      ]
     },
     "execution_count": 69,
     "metadata": {},
     "output_type": "execute_result"
    }
   ],
   "source": [
    "# nulos em winddir3pm\n",
    "df[\"winddir3pm\"].isna().sum()"
   ]
  },
  {
   "cell_type": "code",
   "execution_count": 70,
   "metadata": {
    "ExecuteTime": {
     "end_time": "2021-01-27T21:32:55.329542Z",
     "start_time": "2021-01-27T21:32:55.321509Z"
    }
   },
   "outputs": [],
   "source": [
    "# adicionando uma nova coluna\n",
    "df[\"wind_dir3pm_complete\"]=df[\"wind_dir3pm\"]"
   ]
  },
  {
   "cell_type": "code",
   "execution_count": 71,
   "metadata": {
    "ExecuteTime": {
     "end_time": "2021-01-27T21:33:43.531037Z",
     "start_time": "2021-01-27T21:33:43.468541Z"
    }
   },
   "outputs": [],
   "source": [
    "# substituindo valores nulos\n",
    "indices=df.loc[df[\"wind_dir3pm\"].isna(), \"wind_dir3pm\"].index\n",
    "values = df.iloc[indices, df.columns.get_loc(\"winddir3pm\")]\n",
    "df.loc[df[\"wind_dir3pm\"].isna(), \"wind_dir3pm_complete\"]=values"
   ]
  },
  {
   "cell_type": "code",
   "execution_count": 72,
   "metadata": {
    "ExecuteTime": {
     "end_time": "2021-01-27T21:34:02.757918Z",
     "start_time": "2021-01-27T21:34:02.740253Z"
    }
   },
   "outputs": [
    {
     "data": {
      "text/plain": [
       "3778"
      ]
     },
     "execution_count": 72,
     "metadata": {},
     "output_type": "execute_result"
    }
   ],
   "source": [
    "# nulos na nova coluna\n",
    "df[\"wind_dir3pm_complete\"].isna().sum()"
   ]
  },
  {
   "cell_type": "markdown",
   "metadata": {},
   "source": [
    "* **windspeed9am e wind_speed9am**"
   ]
  },
  {
   "cell_type": "code",
   "execution_count": 73,
   "metadata": {
    "ExecuteTime": {
     "end_time": "2021-01-27T21:34:41.226919Z",
     "start_time": "2021-01-27T21:34:41.218347Z"
    }
   },
   "outputs": [
    {
     "data": {
      "text/plain": [
       "102893"
      ]
     },
     "execution_count": 73,
     "metadata": {},
     "output_type": "execute_result"
    }
   ],
   "source": [
    "# nulos emw wind_speed9am\n",
    "df[\"wind_speed9am\"].isna().sum()"
   ]
  },
  {
   "cell_type": "code",
   "execution_count": 74,
   "metadata": {
    "ExecuteTime": {
     "end_time": "2021-01-27T21:34:54.700723Z",
     "start_time": "2021-01-27T21:34:54.689722Z"
    }
   },
   "outputs": [
    {
     "data": {
      "text/plain": [
       "40648"
      ]
     },
     "execution_count": 74,
     "metadata": {},
     "output_type": "execute_result"
    }
   ],
   "source": [
    "# nulos emw windspeed9am\n",
    "df[\"windspeed9am\"].isna().sum()"
   ]
  },
  {
   "cell_type": "code",
   "execution_count": 75,
   "metadata": {
    "ExecuteTime": {
     "end_time": "2021-01-27T21:35:47.589503Z",
     "start_time": "2021-01-27T21:35:47.584805Z"
    }
   },
   "outputs": [],
   "source": [
    "# adicionando uma nova coluna\n",
    "df[\"wind_speed9am_complete\"]=df[\"wind_speed9am\"]"
   ]
  },
  {
   "cell_type": "code",
   "execution_count": 76,
   "metadata": {
    "ExecuteTime": {
     "end_time": "2021-01-27T21:36:42.754012Z",
     "start_time": "2021-01-27T21:36:42.688458Z"
    }
   },
   "outputs": [],
   "source": [
    "# substituindo valores nulos\n",
    "indices=df.loc[df[\"wind_speed9am\"].isna(), \"wind_speed9am\"].index\n",
    "values=df.iloc[indices, df.columns.get_loc(\"windspeed9am\")]\n",
    "df.loc[df[\"wind_speed9am\"].isna(), \"wind_speed9am_complete\"]=values"
   ]
  },
  {
   "cell_type": "code",
   "execution_count": 77,
   "metadata": {
    "ExecuteTime": {
     "end_time": "2021-01-27T21:37:03.684431Z",
     "start_time": "2021-01-27T21:37:03.675400Z"
    }
   },
   "outputs": [
    {
     "data": {
      "text/plain": [
       "1348"
      ]
     },
     "execution_count": 77,
     "metadata": {},
     "output_type": "execute_result"
    }
   ],
   "source": [
    "# nulos na nova coluna\n",
    "df[\"wind_speed9am_complete\"].isna().sum()"
   ]
  },
  {
   "cell_type": "markdown",
   "metadata": {},
   "source": [
    "* **windspeed3pm e wind_speed3pm**"
   ]
  },
  {
   "cell_type": "code",
   "execution_count": 78,
   "metadata": {
    "ExecuteTime": {
     "end_time": "2021-01-27T21:37:37.925471Z",
     "start_time": "2021-01-27T21:37:37.916121Z"
    }
   },
   "outputs": [
    {
     "data": {
      "text/plain": [
       "102865"
      ]
     },
     "execution_count": 78,
     "metadata": {},
     "output_type": "execute_result"
    }
   ],
   "source": [
    "# nulos em wind_speed3pm\n",
    "df[\"wind_speed3pm\"].isna().sum()"
   ]
  },
  {
   "cell_type": "code",
   "execution_count": 79,
   "metadata": {
    "ExecuteTime": {
     "end_time": "2021-01-27T21:38:06.732051Z",
     "start_time": "2021-01-27T21:38:06.722774Z"
    }
   },
   "outputs": [
    {
     "data": {
      "text/plain": [
       "41958"
      ]
     },
     "execution_count": 79,
     "metadata": {},
     "output_type": "execute_result"
    }
   ],
   "source": [
    "# nulos em windspeed3pm\n",
    "df[\"windspeed3pm\"].isna().sum()"
   ]
  },
  {
   "cell_type": "code",
   "execution_count": 80,
   "metadata": {
    "ExecuteTime": {
     "end_time": "2021-01-27T21:38:29.943585Z",
     "start_time": "2021-01-27T21:38:29.937636Z"
    }
   },
   "outputs": [],
   "source": [
    "# adicionando uma nova coluna\n",
    "df[\"wind_speed3pm_complete\"]=df[\"wind_speed3pm\"]"
   ]
  },
  {
   "cell_type": "code",
   "execution_count": 81,
   "metadata": {
    "ExecuteTime": {
     "end_time": "2021-01-27T21:39:19.807553Z",
     "start_time": "2021-01-27T21:39:19.732313Z"
    }
   },
   "outputs": [],
   "source": [
    "# substituindo valores nulos\n",
    "indices=df.loc[df[\"wind_speed3pm\"].isna(), \"wind_speed3pm\"].index\n",
    "values=df.iloc[indices, df.columns.get_loc(\"windspeed3pm\")]\n",
    "df.loc[df[\"wind_speed3pm\"].isna(), \"wind_speed3pm_complete\"]=values"
   ]
  },
  {
   "cell_type": "code",
   "execution_count": 82,
   "metadata": {
    "ExecuteTime": {
     "end_time": "2021-01-27T21:39:39.435077Z",
     "start_time": "2021-01-27T21:39:39.425070Z"
    }
   },
   "outputs": [
    {
     "data": {
      "text/plain": [
       "2630"
      ]
     },
     "execution_count": 82,
     "metadata": {},
     "output_type": "execute_result"
    }
   ],
   "source": [
    "# nulos na nova coluna\n",
    "df[\"wind_speed3pm_complete\"].isna().sum()"
   ]
  },
  {
   "cell_type": "markdown",
   "metadata": {},
   "source": [
    "* **date**"
   ]
  },
  {
   "cell_type": "code",
   "execution_count": 83,
   "metadata": {
    "ExecuteTime": {
     "end_time": "2021-01-27T21:43:08.478629Z",
     "start_time": "2021-01-27T21:43:08.423628Z"
    }
   },
   "outputs": [],
   "source": [
    "# convertendo a coluna \"date\" para o tipo datetime\n",
    "df[\"date\"]=pd.to_datetime(df[\"date\"])"
   ]
  },
  {
   "cell_type": "markdown",
   "metadata": {},
   "source": [
    "### Dataframe final"
   ]
  },
  {
   "cell_type": "code",
   "execution_count": 84,
   "metadata": {
    "ExecuteTime": {
     "end_time": "2021-01-27T21:44:17.000065Z",
     "start_time": "2021-01-27T21:44:16.991005Z"
    }
   },
   "outputs": [
    {
     "data": {
      "text/plain": [
       "Index(['date', 'location', 'mintemp', 'maxtemp', 'rainfall', 'evaporation',\n",
       "       'sunshine', 'humidity9am', 'humidity3pm', 'pressure9am', 'pressure3pm',\n",
       "       'cloud9am', 'cloud3pm', 'temp9am', 'temp3pm', 'raintoday',\n",
       "       'amountOfRain', 'raintomorrow', 'temp', 'humidity', 'precipitation3pm',\n",
       "       'precipitation9am', 'modelo_vigente', 'wind_gustdir', 'wind_gustspeed',\n",
       "       'wind_dir9am', 'wind_dir3pm', 'wind_speed9am', 'wind_speed3pm',\n",
       "       'windgustdir', 'windgustspeed', 'winddir9am', 'winddir3pm',\n",
       "       'windspeed9am', 'windspeed3pm', 'wind_gustdir_complete',\n",
       "       'wind_gustspeed_complete', 'wind_dir9am_complete',\n",
       "       'wind_dir3pm_complete', 'wind_speed9am_complete',\n",
       "       'wind_speed3pm_complete'],\n",
       "      dtype='object')"
      ]
     },
     "execution_count": 84,
     "metadata": {},
     "output_type": "execute_result"
    }
   ],
   "source": [
    "# verificando as colunas\n",
    "df.columns"
   ]
  },
  {
   "cell_type": "code",
   "execution_count": 85,
   "metadata": {
    "ExecuteTime": {
     "end_time": "2021-01-27T21:45:21.692275Z",
     "start_time": "2021-01-27T21:45:21.623613Z"
    }
   },
   "outputs": [
    {
     "data": {
      "text/html": [
       "<div>\n",
       "<style scoped>\n",
       "    .dataframe tbody tr th:only-of-type {\n",
       "        vertical-align: middle;\n",
       "    }\n",
       "\n",
       "    .dataframe tbody tr th {\n",
       "        vertical-align: top;\n",
       "    }\n",
       "\n",
       "    .dataframe thead th {\n",
       "        text-align: right;\n",
       "    }\n",
       "</style>\n",
       "<table border=\"1\" class=\"dataframe\">\n",
       "  <thead>\n",
       "    <tr style=\"text-align: right;\">\n",
       "      <th></th>\n",
       "      <th>date</th>\n",
       "      <th>location</th>\n",
       "      <th>raintoday</th>\n",
       "      <th>raintomorrow</th>\n",
       "      <th>maxtemp</th>\n",
       "      <th>evaporation</th>\n",
       "      <th>sunshine</th>\n",
       "      <th>humidity9am</th>\n",
       "      <th>humidity3pm</th>\n",
       "      <th>pressure9am</th>\n",
       "      <th>pressure3pm</th>\n",
       "      <th>cloud9am</th>\n",
       "      <th>cloud3pm</th>\n",
       "      <th>temp9am</th>\n",
       "      <th>temp3pm</th>\n",
       "      <th>precipitation3pm</th>\n",
       "      <th>precipitation9am</th>\n",
       "      <th>wind_gustdir_complete</th>\n",
       "      <th>wind_gustspeed_complete</th>\n",
       "      <th>wind_dir9am_complete</th>\n",
       "      <th>wind_dir3pm_complete</th>\n",
       "      <th>wind_speed9am_complete</th>\n",
       "      <th>wind_speed3pm_complete</th>\n",
       "    </tr>\n",
       "  </thead>\n",
       "  <tbody>\n",
       "    <tr>\n",
       "      <th>0</th>\n",
       "      <td>2008-12-01</td>\n",
       "      <td>Albury</td>\n",
       "      <td>No</td>\n",
       "      <td>No</td>\n",
       "      <td>22.9</td>\n",
       "      <td>NaN</td>\n",
       "      <td>NaN</td>\n",
       "      <td>71.0</td>\n",
       "      <td>22.0</td>\n",
       "      <td>1007.7</td>\n",
       "      <td>1007.1</td>\n",
       "      <td>8.0</td>\n",
       "      <td>NaN</td>\n",
       "      <td>16.9</td>\n",
       "      <td>21.8</td>\n",
       "      <td>12</td>\n",
       "      <td>5.115360</td>\n",
       "      <td>W</td>\n",
       "      <td>44.0</td>\n",
       "      <td>W</td>\n",
       "      <td>WNW</td>\n",
       "      <td>20.0</td>\n",
       "      <td>24.0</td>\n",
       "    </tr>\n",
       "    <tr>\n",
       "      <th>1</th>\n",
       "      <td>2008-12-02</td>\n",
       "      <td>Albury</td>\n",
       "      <td>No</td>\n",
       "      <td>No</td>\n",
       "      <td>25.1</td>\n",
       "      <td>NaN</td>\n",
       "      <td>NaN</td>\n",
       "      <td>44.0</td>\n",
       "      <td>25.0</td>\n",
       "      <td>1010.6</td>\n",
       "      <td>1007.8</td>\n",
       "      <td>NaN</td>\n",
       "      <td>NaN</td>\n",
       "      <td>17.2</td>\n",
       "      <td>24.3</td>\n",
       "      <td>10</td>\n",
       "      <td>21.497100</td>\n",
       "      <td>WNW</td>\n",
       "      <td>44.0</td>\n",
       "      <td>NNW</td>\n",
       "      <td>WSW</td>\n",
       "      <td>4.0</td>\n",
       "      <td>22.0</td>\n",
       "    </tr>\n",
       "    <tr>\n",
       "      <th>2</th>\n",
       "      <td>2008-12-03</td>\n",
       "      <td>Albury</td>\n",
       "      <td>No</td>\n",
       "      <td>No</td>\n",
       "      <td>25.7</td>\n",
       "      <td>NaN</td>\n",
       "      <td>NaN</td>\n",
       "      <td>38.0</td>\n",
       "      <td>30.0</td>\n",
       "      <td>1007.6</td>\n",
       "      <td>1008.7</td>\n",
       "      <td>NaN</td>\n",
       "      <td>2.0</td>\n",
       "      <td>21.0</td>\n",
       "      <td>23.2</td>\n",
       "      <td>17</td>\n",
       "      <td>20.782859</td>\n",
       "      <td>WSW</td>\n",
       "      <td>46.0</td>\n",
       "      <td>W</td>\n",
       "      <td>WSW</td>\n",
       "      <td>19.0</td>\n",
       "      <td>26.0</td>\n",
       "    </tr>\n",
       "    <tr>\n",
       "      <th>3</th>\n",
       "      <td>2008-12-04</td>\n",
       "      <td>Albury</td>\n",
       "      <td>No</td>\n",
       "      <td>No</td>\n",
       "      <td>28.0</td>\n",
       "      <td>NaN</td>\n",
       "      <td>NaN</td>\n",
       "      <td>45.0</td>\n",
       "      <td>16.0</td>\n",
       "      <td>1017.6</td>\n",
       "      <td>1012.8</td>\n",
       "      <td>NaN</td>\n",
       "      <td>NaN</td>\n",
       "      <td>18.1</td>\n",
       "      <td>26.5</td>\n",
       "      <td>8</td>\n",
       "      <td>12.028646</td>\n",
       "      <td>NE</td>\n",
       "      <td>24.0</td>\n",
       "      <td>SE</td>\n",
       "      <td>E</td>\n",
       "      <td>11.0</td>\n",
       "      <td>9.0</td>\n",
       "    </tr>\n",
       "    <tr>\n",
       "      <th>4</th>\n",
       "      <td>2008-12-05</td>\n",
       "      <td>Albury</td>\n",
       "      <td>No</td>\n",
       "      <td>No</td>\n",
       "      <td>32.3</td>\n",
       "      <td>NaN</td>\n",
       "      <td>NaN</td>\n",
       "      <td>82.0</td>\n",
       "      <td>33.0</td>\n",
       "      <td>1010.8</td>\n",
       "      <td>1006.0</td>\n",
       "      <td>7.0</td>\n",
       "      <td>8.0</td>\n",
       "      <td>17.8</td>\n",
       "      <td>29.7</td>\n",
       "      <td>9</td>\n",
       "      <td>11.883546</td>\n",
       "      <td>W</td>\n",
       "      <td>41.0</td>\n",
       "      <td>ENE</td>\n",
       "      <td>NW</td>\n",
       "      <td>7.0</td>\n",
       "      <td>20.0</td>\n",
       "    </tr>\n",
       "    <tr>\n",
       "      <th>...</th>\n",
       "      <td>...</td>\n",
       "      <td>...</td>\n",
       "      <td>...</td>\n",
       "      <td>...</td>\n",
       "      <td>...</td>\n",
       "      <td>...</td>\n",
       "      <td>...</td>\n",
       "      <td>...</td>\n",
       "      <td>...</td>\n",
       "      <td>...</td>\n",
       "      <td>...</td>\n",
       "      <td>...</td>\n",
       "      <td>...</td>\n",
       "      <td>...</td>\n",
       "      <td>...</td>\n",
       "      <td>...</td>\n",
       "      <td>...</td>\n",
       "      <td>...</td>\n",
       "      <td>...</td>\n",
       "      <td>...</td>\n",
       "      <td>...</td>\n",
       "      <td>...</td>\n",
       "      <td>...</td>\n",
       "    </tr>\n",
       "    <tr>\n",
       "      <th>142188</th>\n",
       "      <td>2017-06-20</td>\n",
       "      <td>Uluru</td>\n",
       "      <td>No</td>\n",
       "      <td>No</td>\n",
       "      <td>21.8</td>\n",
       "      <td>NaN</td>\n",
       "      <td>NaN</td>\n",
       "      <td>59.0</td>\n",
       "      <td>27.0</td>\n",
       "      <td>1024.7</td>\n",
       "      <td>1021.2</td>\n",
       "      <td>NaN</td>\n",
       "      <td>NaN</td>\n",
       "      <td>9.4</td>\n",
       "      <td>20.9</td>\n",
       "      <td>12</td>\n",
       "      <td>5.848681</td>\n",
       "      <td>E</td>\n",
       "      <td>31.0</td>\n",
       "      <td>ESE</td>\n",
       "      <td>E</td>\n",
       "      <td>15.0</td>\n",
       "      <td>13.0</td>\n",
       "    </tr>\n",
       "    <tr>\n",
       "      <th>142189</th>\n",
       "      <td>2017-06-21</td>\n",
       "      <td>Uluru</td>\n",
       "      <td>No</td>\n",
       "      <td>No</td>\n",
       "      <td>23.4</td>\n",
       "      <td>NaN</td>\n",
       "      <td>NaN</td>\n",
       "      <td>51.0</td>\n",
       "      <td>24.0</td>\n",
       "      <td>1024.6</td>\n",
       "      <td>1020.3</td>\n",
       "      <td>NaN</td>\n",
       "      <td>NaN</td>\n",
       "      <td>10.1</td>\n",
       "      <td>22.4</td>\n",
       "      <td>10</td>\n",
       "      <td>6.653879</td>\n",
       "      <td>E</td>\n",
       "      <td>31.0</td>\n",
       "      <td>SE</td>\n",
       "      <td>ENE</td>\n",
       "      <td>13.0</td>\n",
       "      <td>11.0</td>\n",
       "    </tr>\n",
       "    <tr>\n",
       "      <th>142190</th>\n",
       "      <td>2017-06-22</td>\n",
       "      <td>Uluru</td>\n",
       "      <td>No</td>\n",
       "      <td>No</td>\n",
       "      <td>25.3</td>\n",
       "      <td>NaN</td>\n",
       "      <td>NaN</td>\n",
       "      <td>56.0</td>\n",
       "      <td>21.0</td>\n",
       "      <td>1023.5</td>\n",
       "      <td>1019.1</td>\n",
       "      <td>NaN</td>\n",
       "      <td>NaN</td>\n",
       "      <td>10.9</td>\n",
       "      <td>24.5</td>\n",
       "      <td>9</td>\n",
       "      <td>19.715976</td>\n",
       "      <td>NNW</td>\n",
       "      <td>22.0</td>\n",
       "      <td>SE</td>\n",
       "      <td>N</td>\n",
       "      <td>13.0</td>\n",
       "      <td>9.0</td>\n",
       "    </tr>\n",
       "    <tr>\n",
       "      <th>142191</th>\n",
       "      <td>2017-06-23</td>\n",
       "      <td>Uluru</td>\n",
       "      <td>No</td>\n",
       "      <td>No</td>\n",
       "      <td>26.9</td>\n",
       "      <td>NaN</td>\n",
       "      <td>NaN</td>\n",
       "      <td>53.0</td>\n",
       "      <td>24.0</td>\n",
       "      <td>1021.0</td>\n",
       "      <td>1016.8</td>\n",
       "      <td>NaN</td>\n",
       "      <td>NaN</td>\n",
       "      <td>12.5</td>\n",
       "      <td>26.1</td>\n",
       "      <td>12</td>\n",
       "      <td>0.985551</td>\n",
       "      <td>N</td>\n",
       "      <td>37.0</td>\n",
       "      <td>SE</td>\n",
       "      <td>WNW</td>\n",
       "      <td>9.0</td>\n",
       "      <td>9.0</td>\n",
       "    </tr>\n",
       "    <tr>\n",
       "      <th>142192</th>\n",
       "      <td>2017-06-24</td>\n",
       "      <td>Uluru</td>\n",
       "      <td>No</td>\n",
       "      <td>No</td>\n",
       "      <td>27.0</td>\n",
       "      <td>NaN</td>\n",
       "      <td>NaN</td>\n",
       "      <td>51.0</td>\n",
       "      <td>24.0</td>\n",
       "      <td>1019.4</td>\n",
       "      <td>1016.5</td>\n",
       "      <td>3.0</td>\n",
       "      <td>2.0</td>\n",
       "      <td>15.1</td>\n",
       "      <td>26.0</td>\n",
       "      <td>15</td>\n",
       "      <td>4.381481</td>\n",
       "      <td>SE</td>\n",
       "      <td>28.0</td>\n",
       "      <td>SSE</td>\n",
       "      <td>N</td>\n",
       "      <td>13.0</td>\n",
       "      <td>7.0</td>\n",
       "    </tr>\n",
       "  </tbody>\n",
       "</table>\n",
       "<p>142193 rows × 23 columns</p>\n",
       "</div>"
      ],
      "text/plain": [
       "             date location raintoday raintomorrow  maxtemp  evaporation  \\\n",
       "0      2008-12-01   Albury        No           No     22.9          NaN   \n",
       "1      2008-12-02   Albury        No           No     25.1          NaN   \n",
       "2      2008-12-03   Albury        No           No     25.7          NaN   \n",
       "3      2008-12-04   Albury        No           No     28.0          NaN   \n",
       "4      2008-12-05   Albury        No           No     32.3          NaN   \n",
       "...           ...      ...       ...          ...      ...          ...   \n",
       "142188 2017-06-20    Uluru        No           No     21.8          NaN   \n",
       "142189 2017-06-21    Uluru        No           No     23.4          NaN   \n",
       "142190 2017-06-22    Uluru        No           No     25.3          NaN   \n",
       "142191 2017-06-23    Uluru        No           No     26.9          NaN   \n",
       "142192 2017-06-24    Uluru        No           No     27.0          NaN   \n",
       "\n",
       "        sunshine  humidity9am  humidity3pm  pressure9am  pressure3pm  \\\n",
       "0            NaN         71.0         22.0       1007.7       1007.1   \n",
       "1            NaN         44.0         25.0       1010.6       1007.8   \n",
       "2            NaN         38.0         30.0       1007.6       1008.7   \n",
       "3            NaN         45.0         16.0       1017.6       1012.8   \n",
       "4            NaN         82.0         33.0       1010.8       1006.0   \n",
       "...          ...          ...          ...          ...          ...   \n",
       "142188       NaN         59.0         27.0       1024.7       1021.2   \n",
       "142189       NaN         51.0         24.0       1024.6       1020.3   \n",
       "142190       NaN         56.0         21.0       1023.5       1019.1   \n",
       "142191       NaN         53.0         24.0       1021.0       1016.8   \n",
       "142192       NaN         51.0         24.0       1019.4       1016.5   \n",
       "\n",
       "        cloud9am  cloud3pm  temp9am  temp3pm  precipitation3pm  \\\n",
       "0            8.0       NaN     16.9     21.8                12   \n",
       "1            NaN       NaN     17.2     24.3                10   \n",
       "2            NaN       2.0     21.0     23.2                17   \n",
       "3            NaN       NaN     18.1     26.5                 8   \n",
       "4            7.0       8.0     17.8     29.7                 9   \n",
       "...          ...       ...      ...      ...               ...   \n",
       "142188       NaN       NaN      9.4     20.9                12   \n",
       "142189       NaN       NaN     10.1     22.4                10   \n",
       "142190       NaN       NaN     10.9     24.5                 9   \n",
       "142191       NaN       NaN     12.5     26.1                12   \n",
       "142192       3.0       2.0     15.1     26.0                15   \n",
       "\n",
       "        precipitation9am wind_gustdir_complete  wind_gustspeed_complete  \\\n",
       "0               5.115360                     W                     44.0   \n",
       "1              21.497100                   WNW                     44.0   \n",
       "2              20.782859                   WSW                     46.0   \n",
       "3              12.028646                    NE                     24.0   \n",
       "4              11.883546                     W                     41.0   \n",
       "...                  ...                   ...                      ...   \n",
       "142188          5.848681                     E                     31.0   \n",
       "142189          6.653879                     E                     31.0   \n",
       "142190         19.715976                   NNW                     22.0   \n",
       "142191          0.985551                     N                     37.0   \n",
       "142192          4.381481                    SE                     28.0   \n",
       "\n",
       "       wind_dir9am_complete wind_dir3pm_complete  wind_speed9am_complete  \\\n",
       "0                         W                  WNW                    20.0   \n",
       "1                       NNW                  WSW                     4.0   \n",
       "2                         W                  WSW                    19.0   \n",
       "3                        SE                    E                    11.0   \n",
       "4                       ENE                   NW                     7.0   \n",
       "...                     ...                  ...                     ...   \n",
       "142188                  ESE                    E                    15.0   \n",
       "142189                   SE                  ENE                    13.0   \n",
       "142190                   SE                    N                    13.0   \n",
       "142191                   SE                  WNW                     9.0   \n",
       "142192                  SSE                    N                    13.0   \n",
       "\n",
       "        wind_speed3pm_complete  \n",
       "0                         24.0  \n",
       "1                         22.0  \n",
       "2                         26.0  \n",
       "3                          9.0  \n",
       "4                         20.0  \n",
       "...                        ...  \n",
       "142188                    13.0  \n",
       "142189                    11.0  \n",
       "142190                     9.0  \n",
       "142191                     9.0  \n",
       "142192                     7.0  \n",
       "\n",
       "[142193 rows x 23 columns]"
      ]
     },
     "execution_count": 85,
     "metadata": {},
     "output_type": "execute_result"
    }
   ],
   "source": [
    "# filtrando as colunas a serem usadas\n",
    "\n",
    "df_final=df[['date', 'location', 'raintoday', 'raintomorrow','maxtemp', 'evaporation', 'sunshine', 'humidity9am', 'humidity3pm', 'pressure9am', \n",
    "           'pressure3pm', 'cloud9am', 'cloud3pm', 'temp9am', 'temp3pm', 'precipitation3pm', 'precipitation9am', \n",
    "           'wind_gustdir_complete', 'wind_gustspeed_complete', 'wind_dir9am_complete', 'wind_dir3pm_complete', \n",
    "           'wind_speed9am_complete', 'wind_speed3pm_complete']]\n",
    "\n",
    "df_final"
   ]
  },
  {
   "cell_type": "markdown",
   "metadata": {},
   "source": [
    "## Machine Learning"
   ]
  },
  {
   "cell_type": "markdown",
   "metadata": {},
   "source": [
    "### Baseline"
   ]
  },
  {
   "cell_type": "code",
   "execution_count": null,
   "metadata": {},
   "outputs": [],
   "source": []
  }
 ],
 "metadata": {
  "hide_input": false,
  "kernelspec": {
   "display_name": "Python 3",
   "language": "python",
   "name": "python3"
  },
  "language_info": {
   "codemirror_mode": {
    "name": "ipython",
    "version": 3
   },
   "file_extension": ".py",
   "mimetype": "text/x-python",
   "name": "python",
   "nbconvert_exporter": "python",
   "pygments_lexer": "ipython3",
   "version": "3.8.2"
  },
  "toc": {
   "base_numbering": 1,
   "nav_menu": {},
   "number_sections": true,
   "sideBar": true,
   "skip_h1_title": false,
   "title_cell": "Table of Contents",
   "title_sidebar": "Contents",
   "toc_cell": false,
   "toc_position": {},
   "toc_section_display": true,
   "toc_window_display": true
  },
  "varInspector": {
   "cols": {
    "lenName": 16,
    "lenType": 16,
    "lenVar": 40
   },
   "kernels_config": {
    "python": {
     "delete_cmd_postfix": "",
     "delete_cmd_prefix": "del ",
     "library": "var_list.py",
     "varRefreshCmd": "print(var_dic_list())"
    },
    "r": {
     "delete_cmd_postfix": ") ",
     "delete_cmd_prefix": "rm(",
     "library": "var_list.r",
     "varRefreshCmd": "cat(var_dic_list()) "
    }
   },
   "types_to_exclude": [
    "module",
    "function",
    "builtin_function_or_method",
    "instance",
    "_Feature"
   ],
   "window_display": false
  }
 },
 "nbformat": 4,
 "nbformat_minor": 4
}
